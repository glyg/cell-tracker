{
 "metadata": {
  "name": "",
  "signature": "sha256:3c4d5c1f8a60be2d5aa0c438d8a5f8375dc4b159e5ce6c52a517f15c9fef1109"
 },
 "nbformat": 3,
 "nbformat_minor": 0,
 "worksheets": [
  {
   "cells": [
    {
     "cell_type": "heading",
     "level": 2,
     "metadata": {},
     "source": [
      "Start a notebook"
     ]
    },
    {
     "cell_type": "markdown",
     "metadata": {},
     "source": [
      "```\n",
      "activate py33\n",
      "ipython notebook\n",
      "```"
     ]
    },
    {
     "cell_type": "heading",
     "level": 2,
     "metadata": {},
     "source": [
      "Update the base libraries"
     ]
    },
    {
     "cell_type": "markdown",
     "metadata": {},
     "source": [
      "Execute the cell bellow, then restart the notebook server"
     ]
    },
    {
     "cell_type": "code",
     "collapsed": true,
     "input": [
      "%%bash\n",
      "\n",
      "conda update --yes matplotlib pandas\n"
     ],
     "language": "python",
     "metadata": {},
     "outputs": [
      {
       "output_type": "stream",
       "stream": "stdout",
       "text": [
        "Process is terminated.\n"
       ]
      }
     ],
     "prompt_number": 4
    },
    {
     "cell_type": "heading",
     "level": 2,
     "metadata": {},
     "source": [
      "Our source code"
     ]
    },
    {
     "cell_type": "code",
     "collapsed": false,
     "input": [
      "%%bash\n",
      "\n",
      "### Update scikit-tracker\n",
      "cd ~/src/scikit-tracker/\n",
      "git reset --hard\n",
      "git clean -df\n",
      "git pull origin\n",
      "python setup.py install\n",
      "cd\n"
     ],
     "language": "python",
     "metadata": {},
     "outputs": []
    },
    {
     "cell_type": "code",
     "collapsed": false,
     "input": [
      "%%bash\n",
      "### Update cell-tracker\n",
      "cd ~/src/cell-tracker/\n",
      "git reset --hard\n",
      "git clean -df\n",
      "git pull origin\n",
      "python setup.py install\n",
      "cd"
     ],
     "language": "python",
     "metadata": {},
     "outputs": []
    },
    {
     "cell_type": "heading",
     "level": 2,
     "metadata": {},
     "source": [
      "Open an issue on github"
     ]
    },
    {
     "cell_type": "markdown",
     "metadata": {},
     "source": [
      " If you have a problem, or want a new feature added to the code, or have a question, please _open an issue on github_\n",
      " by [clicking this link](https://github.com/glyg/cell-tracker/issues/new)"
     ]
    },
    {
     "cell_type": "code",
     "collapsed": false,
     "input": [],
     "language": "python",
     "metadata": {},
     "outputs": []
    }
   ],
   "metadata": {}
  }
 ]
}