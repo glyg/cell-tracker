{
 "metadata": {
  "name": "",
  "signature": "sha256:e64998c1ccc71423a135f33e865c29c19a4256c18d89306eb41856211a2ea575"
 },
 "nbformat": 3,
 "nbformat_minor": 0,
 "worksheets": [
  {
   "cells": [
    {
     "cell_type": "heading",
     "level": 2,
     "metadata": {},
     "source": [
      "Start a notebook"
     ]
    },
    {
     "cell_type": "code",
     "collapsed": false,
     "input": [
      "%%bash\n",
      "activate py33\n",
      "ipython notebook"
     ],
     "language": "python",
     "metadata": {},
     "outputs": []
    },
    {
     "cell_type": "heading",
     "level": 2,
     "metadata": {},
     "source": [
      "Update the code"
     ]
    },
    {
     "cell_type": "code",
     "collapsed": true,
     "input": [
      "%%bash\n",
      "\n",
      "conda --update"
     ],
     "language": "python",
     "metadata": {},
     "outputs": []
    },
    {
     "cell_type": "heading",
     "level": 2,
     "metadata": {},
     "source": [
      "Our source code"
     ]
    },
    {
     "cell_type": "code",
     "collapsed": false,
     "input": [
      "%%bash\n",
      "\n",
      "### Update scikit-tracker\n",
      "cd ~/Python/scikit-tracker/\n",
      "git pull origin\n",
      "python setup.py install\n",
      "cd\n",
      "\n",
      "### Update cell-tracker\n",
      "cd ~/Python/cell-tracker/\n",
      "git pull origin\n",
      "python setup.py install\n",
      "cd"
     ],
     "language": "python",
     "metadata": {},
     "outputs": []
    },
    {
     "cell_type": "heading",
     "level": 2,
     "metadata": {},
     "source": [
      "Open an issue on github"
     ]
    },
    {
     "cell_type": "markdown",
     "metadata": {},
     "source": [
      " If you have a problem, or want a new feature added to the code, or have a question, please _open an issue on github_\n",
      " by [clicking this link](https://github.com/glyg/cell-tracker/issues/new)"
     ]
    },
    {
     "cell_type": "code",
     "collapsed": false,
     "input": [],
     "language": "python",
     "metadata": {},
     "outputs": []
    }
   ],
   "metadata": {}
  }
 ]
}