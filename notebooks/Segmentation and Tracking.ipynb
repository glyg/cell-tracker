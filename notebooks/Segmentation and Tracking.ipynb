{
 "metadata": {
  "name": "",
  "signature": "sha256:f0ecea1f9eaa7a2bd2aa4c6aa40f8a2685fac867479b8debfc28723067b89d38"
 },
 "nbformat": 3,
 "nbformat_minor": 0,
 "worksheets": [
  {
   "cells": [
    {
     "cell_type": "heading",
     "level": 2,
     "metadata": {},
     "source": [
      "Initialize all we need"
     ]
    },
    {
     "cell_type": "code",
     "collapsed": false,
     "input": [
      "%matplotlib\n",
      "%run nb_init.py"
     ],
     "language": "python",
     "metadata": {},
     "outputs": [
      {
       "output_type": "stream",
       "stream": "stdout",
       "text": [
        "Using matplotlib backend: Qt4Agg\n"
       ]
      }
     ],
     "prompt_number": 1
    },
    {
     "cell_type": "heading",
     "level": 2,
     "metadata": {},
     "source": [
      "Choose the file(s) to work on"
     ]
    },
    {
     "cell_type": "code",
     "collapsed": false,
     "input": [
      "default_path = '/media/data/xiaobo'\n",
      "cluster = ct.ui.get_cluster(default_path, single_file=False)"
     ],
     "language": "python",
     "metadata": {},
     "outputs": [
      {
       "output_type": "stream",
       "stream": "stdout",
       "text": [
        "Choosen data path: /media/data/xiaobo/WT-IONOM-confocal_080613/dsRed/border_cell_dsRed-WTionomycin_080613-sample1__t000.tif\n",
        "Getting metadata from TIFF file\n"
       ]
      }
     ],
     "prompt_number": 2
    },
    {
     "cell_type": "heading",
     "level": 2,
     "metadata": {},
     "source": [
      "Set metadata correctly"
     ]
    },
    {
     "cell_type": "code",
     "collapsed": false,
     "input": [
      "ct.ui.set_metadata(cluster.oio.metadata)"
     ],
     "language": "python",
     "metadata": {},
     "outputs": [],
     "prompt_number": 3
    },
    {
     "cell_type": "heading",
     "level": 2,
     "metadata": {},
     "source": [
      "Look at the first image"
     ]
    },
    {
     "cell_type": "markdown",
     "metadata": {},
     "source": [
      "You can change at other ones by changing the `stack_num` in the function"
     ]
    },
    {
     "cell_type": "code",
     "collapsed": false,
     "input": [
      "im0 = ct.inspect_stack(cluster, stack_num=0, show=True)"
     ],
     "language": "python",
     "metadata": {},
     "outputs": [
      {
       "output_type": "stream",
       "stream": "stdout",
       "text": [
        "z stack shape: (29, 3, 1024, 1024)\n",
        "maximum value: 65280\n",
        "number of unique values: 256\n",
        "infered signal depth: 8\n"
       ]
      }
     ],
     "prompt_number": 5
    },
    {
     "cell_type": "markdown",
     "metadata": {},
     "source": [
      "Those are simple preprocessing functions that will move beyond the scene later on"
     ]
    },
    {
     "cell_type": "code",
     "collapsed": false,
     "input": [
      "from skimage import img_as_float\n",
      "from scipy import ndimage\n",
      "\n",
      "def preprocess_normalize(stack):\n",
      "    return stack / stack.max()\n",
      "\n",
      "def preprocess_highpass(stack):\n",
      "    \n",
      "    stack = img_as_float(stack/stack.max())\n",
      "    lowpass = ndimage.gaussian_filter(stack, 100)\n",
      "    f_stack = stack - lowpass\n",
      "    f_stack -= f_stack.min()\n",
      "    return f_stack #img_as_uint(f_stack)\n",
      "\n",
      "def preprocess_16to8(stack):\n",
      "    \n",
      "    out = stack[:, 0, :, :] // 256 \n",
      "    return out.astype(np.uint8)"
     ],
     "language": "python",
     "metadata": {},
     "outputs": [],
     "prompt_number": 4
    },
    {
     "cell_type": "heading",
     "level": 2,
     "metadata": {},
     "source": [
      "Cells nuclei detection"
     ]
    },
    {
     "cell_type": "heading",
     "level": 3,
     "metadata": {},
     "source": [
      "Some explanations on detection parameters"
     ]
    },
    {
     "cell_type": "markdown",
     "metadata": {},
     "source": [
      "TODO"
     ]
    },
    {
     "cell_type": "code",
     "collapsed": false,
     "input": [
      "preprocess = preprocess_16to8"
     ],
     "language": "python",
     "metadata": {},
     "outputs": [],
     "prompt_number": 5
    },
    {
     "cell_type": "code",
     "collapsed": false,
     "input": [
      "ct.ui.set_parameters()\n"
     ],
     "language": "python",
     "metadata": {},
     "outputs": [],
     "prompt_number": 6
    },
    {
     "cell_type": "heading",
     "level": 3,
     "metadata": {},
     "source": [
      "The detection itself"
     ]
    },
    {
     "cell_type": "heading",
     "level": 4,
     "metadata": {},
     "source": [
      "single stack detection"
     ]
    },
    {
     "cell_type": "code",
     "collapsed": false,
     "input": [
      "stack_num = 20\n",
      "stack, one_stack_output = ct.detection.single_stack_detection(cluster, stack_num, preprocess)\n",
      "ct.graphics.show_one_stack_output(stack, one_stack_output)"
     ],
     "language": "python",
     "metadata": {},
     "outputs": [],
     "prompt_number": 7
    },
    {
     "cell_type": "code",
     "collapsed": false,
     "input": [
      "cluster.detect_cells(preprocess=preprocess,\n",
      "                     parameters=parameters,\n",
      "                     parallael=False,\n",
      "                     mapper=None)\n"
     ],
     "language": "python",
     "metadata": {},
     "outputs": [],
     "prompt_number": 33
    },
    {
     "cell_type": "code",
     "collapsed": false,
     "input": [
      "### Ploting the results\n",
      "axes = draw.plot_stacked_coords(cluster.trajs,\n",
      "                                coords=('x', 'y'),\n",
      "                                text=False,\n",
      "                                ls='o',\n",
      "                                alpha=0.5)\n",
      "title = axes[0].set_title('After detection')\n"
     ],
     "language": "python",
     "metadata": {},
     "outputs": [],
     "prompt_number": 34
    },
    {
     "cell_type": "heading",
     "level": 1,
     "metadata": {},
     "source": [
      "Tracking"
     ]
    },
    {
     "cell_type": "heading",
     "level": 3,
     "metadata": {},
     "source": [
      "Some explanations on tracking parameters"
     ]
    },
    {
     "cell_type": "markdown",
     "metadata": {},
     "source": [
      "* `max_speed`: This parameter controls the maximum allowed speed for a nucleus\n",
      "  between to be tracked between two frames. So if you think that, for example, a 9 \u00b5m \n",
      "  displacement in 3 minutes is much too high, put `max_speed` to 3. It doesn't hurt if this is\n",
      "  high. If it's low, trajectories will be more fragmented\n",
      "\n",
      "* `cut_penalty`: This is usually comprized between 1 and 2. The higher it gets, the less fragmented the\n",
      "  trajectories will be\n",
      "\n",
      "* `max_gap`\n",
      " "
     ]
    },
    {
     "cell_type": "code",
     "collapsed": false,
     "input": [
      "max_speed = 1\n",
      "cut_penalty = 1.2\n",
      "max_gap = 3\n",
      "fragment = 2.\n",
      "coords = ['x', 'y', 'z']"
     ],
     "language": "python",
     "metadata": {},
     "outputs": [
      {
       "output_type": "stream",
       "stream": "stdout",
       "text": [
        "\n"
       ]
      }
     ],
     "prompt_number": 30
    },
    {
     "cell_type": "heading",
     "level": 2,
     "metadata": {},
     "source": [
      "Trajectory reconstruction"
     ]
    },
    {
     "cell_type": "code",
     "collapsed": false,
     "input": [
      "cluster.track_cells(coords=coords,\n",
      "                    max_speed=max_speed,\n",
      "                    cut_penalty=cut_penalty,\n",
      "                    max_gap=max_gap,\n",
      "                    fragment=fragment)\n",
      "### Plot the results\n",
      "axes = draw.plot_stacked_coords(cluster.trajs,\n",
      "                                coords=('x', 'y'),\n",
      "                                text=False,\n",
      "                                alpha=0.5)\n",
      "title = axes[0].set_title('After reconstruction')"
     ],
     "language": "python",
     "metadata": {},
     "outputs": [],
     "prompt_number": 31
    },
    {
     "cell_type": "code",
     "collapsed": false,
     "input": [
      "ct.ui.pick_border_cells(cluster)"
     ],
     "language": "python",
     "metadata": {},
     "outputs": [],
     "prompt_number": 23
    },
    {
     "cell_type": "heading",
     "level": 3,
     "metadata": {},
     "source": [
      "Another way to look at the detection"
     ]
    },
    {
     "cell_type": "code",
     "collapsed": false,
     "input": [
      "stack_num = 10 #Change here to look at a different time point\n",
      "\n",
      "ax = ct.graphics.show_overlayed(cluster, stack_num,\n",
      "                                preprocess=preprocess_16to8,\n",
      "                                xy_ROI=None, ax=None,\n",
      "                                c='r', alpha=0.5, s=100)"
     ],
     "language": "python",
     "metadata": {},
     "outputs": [],
     "prompt_number": 24
    },
    {
     "cell_type": "code",
     "collapsed": false,
     "input": [
      "%pdb"
     ],
     "language": "python",
     "metadata": {},
     "outputs": [
      {
       "output_type": "stream",
       "stream": "stdout",
       "text": [
        "Automatic pdb calling has been turned ON\n"
       ]
      }
     ],
     "prompt_number": 9
    },
    {
     "cell_type": "code",
     "collapsed": false,
     "input": [
      "cluster.thumbs = ct.graphics.load_thumbs(cluster, preprocess=preprocess,\n",
      "                                         reset_ROI=True)"
     ],
     "language": "python",
     "metadata": {},
     "outputs": [],
     "prompt_number": 28
    },
    {
     "cell_type": "code",
     "collapsed": false,
     "input": [
      "mt = ct.ui.ManualTracking(cluster, t0=0, trail_length=6,\n",
      "                          preprocess=None)"
     ],
     "language": "python",
     "metadata": {},
     "outputs": [],
     "prompt_number": 29
    },
    {
     "cell_type": "code",
     "collapsed": false,
     "input": [
      "### Plot the results\n",
      "axes = draw.plot_3coords(cluster.trajs,\n",
      "                         text=False,\n",
      "                         alpha=0.5)\n",
      "title = axes[0].set_title('After correction')"
     ],
     "language": "python",
     "metadata": {},
     "outputs": [
      {
       "output_type": "stream",
       "stream": "stdout",
       "text": [
        "\n"
       ]
      }
     ],
     "prompt_number": 131
    },
    {
     "cell_type": "code",
     "collapsed": false,
     "input": [
      "cluster.oio['trajs'] = cluster.trajs\n"
     ],
     "language": "python",
     "metadata": {},
     "outputs": [],
     "prompt_number": 14
    },
    {
     "cell_type": "code",
     "collapsed": false,
     "input": [],
     "language": "python",
     "metadata": {},
     "outputs": []
    }
   ],
   "metadata": {}
  }
 ]
}