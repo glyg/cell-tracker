{
 "metadata": {
  "name": "",
  "signature": "sha256:5f96a1cb55e5df67d2d36f66eee7ef82254baf93875487cc9843a33779976554"
 },
 "nbformat": 3,
 "nbformat_minor": 0,
 "worksheets": [
  {
   "cells": [
    {
     "cell_type": "heading",
     "level": 2,
     "metadata": {},
     "source": [
      "Initialize all we need"
     ]
    },
    {
     "cell_type": "code",
     "collapsed": false,
     "input": [
      "%load_ext autoreload\n",
      "%autoreload 2\n",
      "%matplotlib\n",
      "\n",
      "%run nb_init.py"
     ],
     "language": "python",
     "metadata": {},
     "outputs": [
      {
       "output_type": "stream",
       "stream": "stdout",
       "text": [
        "Using matplotlib backend: Qt4Agg\n"
       ]
      }
     ],
     "prompt_number": 1
    },
    {
     "cell_type": "heading",
     "level": 2,
     "metadata": {},
     "source": [
      "Choose the file(s) to work on"
     ]
    },
    {
     "cell_type": "code",
     "collapsed": false,
     "input": [
      "%pdb"
     ],
     "language": "python",
     "metadata": {},
     "outputs": [
      {
       "output_type": "stream",
       "stream": "stdout",
       "text": [
        "Automatic pdb calling has been turned ON\n"
       ]
      }
     ],
     "prompt_number": 2
    },
    {
     "cell_type": "code",
     "collapsed": false,
     "input": [
      "default_path = '/media/data/xiaobo'\n",
      "cluster = ct.ui.get_cluster(default_path)"
     ],
     "language": "python",
     "metadata": {},
     "outputs": [
      {
       "output_type": "stream",
       "stream": "stdout",
       "text": [
        "Choosen data path: /media/data/xiaobo/Nathalie/20130724-NLSDsRedUbCadhGFP-Deconv\n"
       ]
      }
     ],
     "prompt_number": 3
    },
    {
     "cell_type": "heading",
     "level": 2,
     "metadata": {},
     "source": [
      "Set metadata correctly"
     ]
    },
    {
     "cell_type": "code",
     "collapsed": false,
     "input": [
      "ct.ui.set_metadata(cluster.oio.metadata)"
     ],
     "language": "python",
     "metadata": {},
     "outputs": [],
     "prompt_number": 4
    },
    {
     "cell_type": "code",
     "collapsed": false,
     "input": [
      "cluster.oio.metadata"
     ],
     "language": "python",
     "metadata": {},
     "outputs": [
      {
       "metadata": {},
       "output_type": "pyout",
       "prompt_number": 22,
       "text": [
        "{'TimeIncrement': 3, 'Shape': [1, 1, 512, 512], 'PhysicalSizeX': 0.42, 'PhysicalSizeY': 0.42, 'FileName': '/media/data/xiaobo/Nathalie/20130724-NLSDsRedUbCadhGFP-Deconv/20130724-WT-S1DsRed-Deconv-00.tif', 'PhysicalSizeZ': 1.5, 'DimensionOrder': 'TZYX', 'SizeT': 32}"
       ]
      }
     ],
     "prompt_number": 22
    },
    {
     "cell_type": "heading",
     "level": 2,
     "metadata": {},
     "source": [
      "Look at the first image"
     ]
    },
    {
     "cell_type": "markdown",
     "metadata": {},
     "source": [
      "You can change at other ones by changinf the `stack_num` in the function"
     ]
    },
    {
     "cell_type": "code",
     "collapsed": false,
     "input": [
      "im0 = ct.inspect_stack(cluster.stackio, stack_num=0, show_hist=False)"
     ],
     "language": "python",
     "metadata": {},
     "outputs": [
      {
       "output_type": "stream",
       "stream": "stdout",
       "text": [
        "z stack shape: (18, 458, 406)\n",
        "maximum value: 68995.3984375\n",
        "number of unique values: 3136729\n",
        "infered signal depth: 22\n"
       ]
      }
     ],
     "prompt_number": 17
    },
    {
     "cell_type": "markdown",
     "metadata": {},
     "source": [
      "Those are simple preprocessing functions that will move beyond the scene later on"
     ]
    },
    {
     "cell_type": "code",
     "collapsed": false,
     "input": [
      "from skimage import img_as_float\n",
      "from scipy import ndimage\n",
      "\n",
      "def preprocess_normalize(stack):\n",
      "    return stack / stack.max()\n",
      "\n",
      "def preprocess_highpass(stack):\n",
      "    \n",
      "    stack = img_as_float(stack/stack.max())\n",
      "    lowpass = ndimage.gaussian_filter(stack, 100)\n",
      "    f_stack = stack - lowpass\n",
      "    f_stack -= f_stack.min()\n",
      "    return f_stack #img_as_uint(f_stack)\n"
     ],
     "language": "python",
     "metadata": {},
     "outputs": [],
     "prompt_number": 14
    },
    {
     "cell_type": "heading",
     "level": 2,
     "metadata": {},
     "source": [
      "Cells nuclei detection"
     ]
    },
    {
     "cell_type": "heading",
     "level": 3,
     "metadata": {},
     "source": [
      "Some explanations on detection parameters"
     ]
    },
    {
     "cell_type": "markdown",
     "metadata": {},
     "source": [
      "TODO"
     ]
    },
    {
     "cell_type": "code",
     "collapsed": false,
     "input": [
      "parameters = {'segment_method':'naive', #'otsu', ## either 'otsu' or 'naive'\n",
      "              'correction':0.2,\n",
      "              'min_z_size':1}"
     ],
     "language": "python",
     "metadata": {},
     "outputs": [],
     "prompt_number": 10
    },
    {
     "cell_type": "heading",
     "level": 3,
     "metadata": {},
     "source": [
      "The detection itself"
     ]
    },
    {
     "cell_type": "code",
     "collapsed": false,
     "input": [
      "cluster.detect_cells(preprocess_normalize,\n",
      "                     parameters=parameters,\n",
      "                     parallel=False,\n",
      "                     mapper=None)\n",
      "\n",
      "### Ploting the results\n",
      "axes = draw.plot_3coords(cluster.trajs,\n",
      "                         text=False,\n",
      "                         ls='o',\n",
      "                         alpha=0.5)\n",
      "title = axes[0].set_title('After detection')\n"
     ],
     "language": "python",
     "metadata": {},
     "outputs": [],
     "prompt_number": 18
    },
    {
     "cell_type": "heading",
     "level": 1,
     "metadata": {},
     "source": [
      "Tracking"
     ]
    },
    {
     "cell_type": "heading",
     "level": 3,
     "metadata": {},
     "source": [
      "Some explanations on tracking parameters"
     ]
    },
    {
     "cell_type": "code",
     "collapsed": false,
     "input": [
      "max_speed = 4\n",
      "cut_penalty = 1.2\n",
      "max_gap = 4\n",
      "fragment = 1.\n",
      "coords = ['x', 'y', 'z']"
     ],
     "language": "python",
     "metadata": {},
     "outputs": [],
     "prompt_number": 19
    },
    {
     "cell_type": "heading",
     "level": 2,
     "metadata": {},
     "source": [
      "Trajectory reconstruction"
     ]
    },
    {
     "cell_type": "code",
     "collapsed": false,
     "input": [
      "cluster.track_cells(coords=coords,\n",
      "                    max_speed=max_speed,\n",
      "                    cut_penalty=cut_penalty,\n",
      "                    max_gap=max_gap,\n",
      "                    fragment=fragment)\n",
      "### Plot the results\n",
      "axes = draw.plot_3coords(cluster.trajs,\n",
      "                         text=False,\n",
      "                         alpha=0.5)\n",
      "title = axes[0].set_title('After reconstruction')"
     ],
     "language": "python",
     "metadata": {},
     "outputs": [],
     "prompt_number": 20
    },
    {
     "cell_type": "heading",
     "level": 3,
     "metadata": {},
     "source": [
      "Another way to look at the detection"
     ]
    },
    {
     "cell_type": "code",
     "collapsed": false,
     "input": [
      "stack_num = 28 #Change here to look at a different time point\n",
      "\n",
      "ax = ct.graphics.show_overlayed(cluster, stack_num,\n",
      "                                xy_ROI=None, ax=None,\n",
      "                                c='r', alpha=0.5, s=100)"
     ],
     "language": "python",
     "metadata": {},
     "outputs": [],
     "prompt_number": 21
    },
    {
     "cell_type": "code",
     "collapsed": false,
     "input": [],
     "language": "python",
     "metadata": {},
     "outputs": []
    }
   ],
   "metadata": {}
  }
 ]
}