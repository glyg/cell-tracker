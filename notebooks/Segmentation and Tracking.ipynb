{
 "metadata": {
  "name": "",
  "signature": "sha256:f6fb1154bff589874cb52500977155b572cf261c0ee2ea0ae864f00911acf38d"
 },
 "nbformat": 3,
 "nbformat_minor": 0,
 "worksheets": [
  {
   "cells": [
    {
     "cell_type": "heading",
     "level": 2,
     "metadata": {},
     "source": [
      "Initialize all we need"
     ]
    },
    {
     "cell_type": "code",
     "collapsed": false,
     "input": [
      "%load_ext autoreload\n",
      "%autoreload 2\n",
      "%matplotlib\n",
      "\n",
      "%run nb_init.py"
     ],
     "language": "python",
     "metadata": {},
     "outputs": [
      {
       "output_type": "stream",
       "stream": "stdout",
       "text": [
        "Using matplotlib backend: Qt4Agg\n"
       ]
      }
     ],
     "prompt_number": 1
    },
    {
     "cell_type": "heading",
     "level": 2,
     "metadata": {},
     "source": [
      "Choose the file(s) to work on"
     ]
    },
    {
     "cell_type": "code",
     "collapsed": false,
     "input": [
      "default_path = '/media/data/xiaobo'\n",
      "cluster = ct.ui.get_cluster(default_path)"
     ],
     "language": "python",
     "metadata": {},
     "outputs": [
      {
       "output_type": "stream",
       "stream": "stdout",
       "text": [
        "Choosen data path: /media/data/xiaobo/confocal2/JNK inhib Ionomycin/DsRED\n"
       ]
      }
     ],
     "prompt_number": 2
    },
    {
     "cell_type": "heading",
     "level": 2,
     "metadata": {},
     "source": [
      "Set metadata correctly"
     ]
    },
    {
     "cell_type": "code",
     "collapsed": false,
     "input": [
      "ct.ui.set_metadata(cluster.oio.metadata)"
     ],
     "language": "python",
     "metadata": {},
     "outputs": [],
     "prompt_number": 3
    },
    {
     "cell_type": "heading",
     "level": 2,
     "metadata": {},
     "source": [
      "Look at the first image"
     ]
    },
    {
     "cell_type": "markdown",
     "metadata": {},
     "source": [
      "You can change at other ones by changinf the `stack_num` in the function"
     ]
    },
    {
     "cell_type": "code",
     "collapsed": false,
     "input": [
      "im0 = ct.inspect_stack(cluster.stackio, stack_num=0, show_hist=True)"
     ],
     "language": "python",
     "metadata": {},
     "outputs": [
      {
       "output_type": "stream",
       "stream": "stdout",
       "text": [
        "z stack shape: (30, 3, 512, 512)\n",
        "maximum value: 65280\n",
        "number of unique values: 255\n",
        "infered signal depth: 8\n"
       ]
      }
     ],
     "prompt_number": 4
    },
    {
     "cell_type": "markdown",
     "metadata": {},
     "source": [
      "Those are simple preprocessing functions that will move beyond the scene later on"
     ]
    },
    {
     "cell_type": "code",
     "collapsed": false,
     "input": [
      "from skimage import img_as_float\n",
      "from scipy import ndimage\n",
      "\n",
      "def preprocess_normalize(stack):\n",
      "    return stack / stack.max()\n",
      "\n",
      "def preprocess_highpass(stack):\n",
      "    \n",
      "    stack = img_as_float(stack/stack.max())\n",
      "    lowpass = ndimage.gaussian_filter(stack, 100)\n",
      "    f_stack = stack - lowpass\n",
      "    f_stack -= f_stack.min()\n",
      "    return f_stack #img_as_uint(f_stack)\n",
      "\n",
      "def preprocess_16to8(stack):\n",
      "    out = stack[:, 0, :, :] // 256 \n",
      "    return out.astype(np.uint8)"
     ],
     "language": "python",
     "metadata": {},
     "outputs": [],
     "prompt_number": 5
    },
    {
     "cell_type": "heading",
     "level": 2,
     "metadata": {},
     "source": [
      "Cells nuclei detection"
     ]
    },
    {
     "cell_type": "heading",
     "level": 3,
     "metadata": {},
     "source": [
      "Some explanations on detection parameters"
     ]
    },
    {
     "cell_type": "markdown",
     "metadata": {},
     "source": [
      "TODO"
     ]
    },
    {
     "cell_type": "code",
     "collapsed": false,
     "input": [
      "parameters = {'segment_method': 'naive', ## either 'otsu' or 'naive'\n",
      "              'correction': 0.2,\n",
      "              'min_z_size': 8}"
     ],
     "language": "python",
     "metadata": {},
     "outputs": [],
     "prompt_number": 6
    },
    {
     "cell_type": "heading",
     "level": 3,
     "metadata": {},
     "source": [
      "The detection itself"
     ]
    },
    {
     "cell_type": "code",
     "collapsed": false,
     "input": [
      "cluster.detect_cells(preprocess_16to8,\n",
      "                     parameters=parameters,\n",
      "                     parallel=False,\n",
      "                     mapper=None)\n",
      "\n",
      "### Ploting the results\n",
      "axes = draw.plot_3coords(cluster.trajs,\n",
      "                         text=False,\n",
      "                         ls='o',\n",
      "                         alpha=0.5)\n",
      "title = axes[0].set_title('After detection')\n"
     ],
     "language": "python",
     "metadata": {},
     "outputs": [],
     "prompt_number": 7
    },
    {
     "cell_type": "heading",
     "level": 1,
     "metadata": {},
     "source": [
      "Tracking"
     ]
    },
    {
     "cell_type": "heading",
     "level": 3,
     "metadata": {},
     "source": [
      "Some explanations on tracking parameters"
     ]
    },
    {
     "cell_type": "code",
     "collapsed": false,
     "input": [
      "max_speed = 1\n",
      "cut_penalty = 1.2\n",
      "max_gap = 3\n",
      "fragment = 1.\n",
      "coords = ['x', 'y', 'z']"
     ],
     "language": "python",
     "metadata": {},
     "outputs": [],
     "prompt_number": 8
    },
    {
     "cell_type": "heading",
     "level": 2,
     "metadata": {},
     "source": [
      "Trajectory reconstruction"
     ]
    },
    {
     "cell_type": "code",
     "collapsed": false,
     "input": [
      "cluster.track_cells(coords=coords,\n",
      "                    max_speed=max_speed,\n",
      "                    cut_penalty=cut_penalty,\n",
      "                    max_gap=max_gap,\n",
      "                    fragment=fragment)\n",
      "### Plot the results\n",
      "axes = draw.plot_3coords(cluster.trajs,\n",
      "                         text=False,\n",
      "                         alpha=0.5)\n",
      "title = axes[0].set_title('After reconstruction')"
     ],
     "language": "python",
     "metadata": {},
     "outputs": [],
     "prompt_number": 10
    },
    {
     "cell_type": "heading",
     "level": 3,
     "metadata": {},
     "source": [
      "Another way to look at the detection"
     ]
    },
    {
     "cell_type": "code",
     "collapsed": false,
     "input": [
      "stack_num = 28 #Change here to look at a different time point\n",
      "\n",
      "ax = ct.graphics.show_overlayed(cluster, stack_num,\n",
      "                                preprocess=preprocess_16to8,\n",
      "                                xy_ROI=None, ax=None,\n",
      "                                c='r', alpha=0.5, s=100)"
     ],
     "language": "python",
     "metadata": {},
     "outputs": [],
     "prompt_number": 6
    },
    {
     "cell_type": "code",
     "collapsed": false,
     "input": [
      "%pdb"
     ],
     "language": "python",
     "metadata": {},
     "outputs": [
      {
       "output_type": "stream",
       "stream": "stdout",
       "text": [
        "Automatic pdb calling has been turned ON\n"
       ]
      }
     ],
     "prompt_number": 9
    },
    {
     "cell_type": "code",
     "collapsed": false,
     "input": [
      "cluster.thumbs = ct.graphics.load_thumbs(cluster, preprocess=preprocess_16to8)\n",
      "fig, data_dict = ct.graphics.show_n_panels(cluster, cluster.thumbs, time0=0,\n",
      "                                           n_panels=3, trail_length=5, fig=None)"
     ],
     "language": "python",
     "metadata": {},
     "outputs": [],
     "prompt_number": 16
    },
    {
     "cell_type": "code",
     "collapsed": false,
     "input": [
      "mt = ct.ui.ManualTracking(cluster, t0=0, trail_length=4,\n",
      "                          preprocess=preprocess_16to8)"
     ],
     "language": "python",
     "metadata": {},
     "outputs": [],
     "prompt_number": 17
    },
    {
     "cell_type": "code",
     "collapsed": false,
     "input": [
      "ct.ui.pick_border_cells(cluster)"
     ],
     "language": "python",
     "metadata": {},
     "outputs": [
      {
       "output_type": "stream",
       "stream": "stdout",
       "text": [
        "Thank you for your help!\n"
       ]
      }
     ],
     "prompt_number": 13
    },
    {
     "cell_type": "code",
     "collapsed": false,
     "input": [
      "### Plot the results\n",
      "axes = draw.plot_3coords(cluster.trajs,\n",
      "                         text=False,\n",
      "                         alpha=0.5)\n",
      "title = axes[0].set_title('After correction')"
     ],
     "language": "python",
     "metadata": {},
     "outputs": [],
     "prompt_number": 25
    },
    {
     "cell_type": "code",
     "collapsed": false,
     "input": [
      "cluster.oio['trajs'] = cluster.trajs"
     ],
     "language": "python",
     "metadata": {},
     "outputs": [],
     "prompt_number": 34
    },
    {
     "cell_type": "code",
     "collapsed": false,
     "input": [
      "cluster.trajs.xs(4, level='label')"
     ],
     "language": "python",
     "metadata": {},
     "outputs": [
      {
       "html": [
        "<div style=\"max-height:1000px;max-width:1500px;overflow:auto;\">\n",
        "<table border=\"1\" class=\"dataframe\">\n",
        "  <thead>\n",
        "    <tr style=\"text-align: right;\">\n",
        "      <th></th>\n",
        "      <th>x</th>\n",
        "      <th>y</th>\n",
        "      <th>z</th>\n",
        "      <th>I</th>\n",
        "      <th>w</th>\n",
        "      <th>cluster_cells</th>\n",
        "      <th>t</th>\n",
        "    </tr>\n",
        "    <tr>\n",
        "      <th>t_stamp</th>\n",
        "      <th></th>\n",
        "      <th></th>\n",
        "      <th></th>\n",
        "      <th></th>\n",
        "      <th></th>\n",
        "      <th></th>\n",
        "      <th></th>\n",
        "    </tr>\n",
        "  </thead>\n",
        "  <tbody>\n",
        "    <tr>\n",
        "      <th>3</th>\n",
        "      <td> 92.925498</td>\n",
        "      <td> 100.368733</td>\n",
        "      <td> 26.707541</td>\n",
        "      <td> 0.683561</td>\n",
        "      <td> 4.673340</td>\n",
        "      <td> 1</td>\n",
        "      <td>  9</td>\n",
        "    </tr>\n",
        "    <tr>\n",
        "      <th>4</th>\n",
        "      <td> 91.688276</td>\n",
        "      <td> 101.153074</td>\n",
        "      <td> 25.096612</td>\n",
        "      <td> 0.819610</td>\n",
        "      <td> 4.470690</td>\n",
        "      <td> 1</td>\n",
        "      <td> 12</td>\n",
        "    </tr>\n",
        "    <tr>\n",
        "      <th>5</th>\n",
        "      <td> 90.881443</td>\n",
        "      <td> 103.177750</td>\n",
        "      <td> 23.458845</td>\n",
        "      <td> 0.351816</td>\n",
        "      <td> 3.876115</td>\n",
        "      <td> 1</td>\n",
        "      <td> 15</td>\n",
        "    </tr>\n",
        "    <tr>\n",
        "      <th>6</th>\n",
        "      <td> 92.273966</td>\n",
        "      <td> 104.187322</td>\n",
        "      <td> 22.585157</td>\n",
        "      <td> 0.361531</td>\n",
        "      <td> 3.852277</td>\n",
        "      <td> 1</td>\n",
        "      <td> 18</td>\n",
        "    </tr>\n",
        "    <tr>\n",
        "      <th>7</th>\n",
        "      <td> 92.427800</td>\n",
        "      <td> 105.847246</td>\n",
        "      <td> 22.703529</td>\n",
        "      <td> 0.415751</td>\n",
        "      <td> 3.757239</td>\n",
        "      <td> 1</td>\n",
        "      <td> 21</td>\n",
        "    </tr>\n",
        "    <tr>\n",
        "      <th>8</th>\n",
        "      <td> 93.712996</td>\n",
        "      <td> 105.614602</td>\n",
        "      <td> 23.238629</td>\n",
        "      <td> 0.445389</td>\n",
        "      <td> 3.878574</td>\n",
        "      <td> 1</td>\n",
        "      <td> 24</td>\n",
        "    </tr>\n",
        "  </tbody>\n",
        "</table>\n",
        "<p>6 rows \u00d7 7 columns</p>\n",
        "</div>"
       ],
       "metadata": {},
       "output_type": "pyout",
       "prompt_number": 35,
       "text": [
        "                 x           y          z         I         w  cluster_cells  \\\n",
        "t_stamp                                                                        \n",
        "3        92.925498  100.368733  26.707541  0.683561  4.673340              1   \n",
        "4        91.688276  101.153074  25.096612  0.819610  4.470690              1   \n",
        "5        90.881443  103.177750  23.458845  0.351816  3.876115              1   \n",
        "6        92.273966  104.187322  22.585157  0.361531  3.852277              1   \n",
        "7        92.427800  105.847246  22.703529  0.415751  3.757239              1   \n",
        "8        93.712996  105.614602  23.238629  0.445389  3.878574              1   \n",
        "\n",
        "          t  \n",
        "t_stamp      \n",
        "3         9  \n",
        "4        12  \n",
        "5        15  \n",
        "6        18  \n",
        "7        21  \n",
        "8        24  \n",
        "\n",
        "[6 rows x 7 columns]"
       ]
      }
     ],
     "prompt_number": 35
    },
    {
     "cell_type": "code",
     "collapsed": false,
     "input": [],
     "language": "python",
     "metadata": {},
     "outputs": []
    }
   ],
   "metadata": {}
  }
 ]
}