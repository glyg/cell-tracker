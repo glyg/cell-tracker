{
 "metadata": {
  "name": "",
  "signature": "sha256:03a9f0fb2fc25b46ee8aa6ba9811a9a7810344d648a687f4e1227e201e5ee530"
 },
 "nbformat": 3,
 "nbformat_minor": 0,
 "worksheets": [
  {
   "cells": [
    {
     "cell_type": "markdown",
     "metadata": {},
     "source": [
      "**Github Issues** : https://github.com/bnoi/cell-tracker/issues/new"
     ]
    },
    {
     "cell_type": "heading",
     "level": 4,
     "metadata": {},
     "source": [
      "Initialize everything"
     ]
    },
    {
     "cell_type": "code",
     "collapsed": false,
     "input": [
      "%load_ext autoreload\n",
      "%autoreload 2"
     ],
     "language": "python",
     "metadata": {},
     "outputs": [],
     "prompt_number": 1
    },
    {
     "cell_type": "code",
     "collapsed": false,
     "input": [
      "### The library used for plotting\n",
      "%matplotlib qt4\n",
      "\n",
      "### This imports various dependencies\n",
      "%run nb_init.py\n",
      "\n",
      "#### \n",
      "import cell_tracker as ct\n"
     ],
     "language": "python",
     "metadata": {},
     "outputs": [
      {
       "output_type": "stream",
       "stream": "stderr",
       "text": [
        "2014-09-08 10:47:04:INFO:sktracker.utils.mpl_loader: Matplotlib backend 'Qt4Agg' has been loaded.\n"
       ]
      }
     ],
     "prompt_number": 2
    },
    {
     "cell_type": "heading",
     "level": 1,
     "metadata": {},
     "source": [
      "1. Data loading and preparation"
     ]
    },
    {
     "cell_type": "heading",
     "level": 2,
     "metadata": {},
     "source": [
      "1.1 Pick the directory and get the relevant data"
     ]
    },
    {
     "cell_type": "markdown",
     "metadata": {},
     "source": [
      "Here you can pick either a TIFF or a `.h5` file or an excel file"
     ]
    },
    {
     "cell_type": "code",
     "collapsed": false,
     "input": [
      "## You can set this to the common path of all your data\n",
      "default_path = '/media/data/AnneHDFStores/'\n",
      "cluster = ct.ui.get_cluster(default_path)"
     ],
     "language": "python",
     "metadata": {},
     "outputs": [
      {
       "output_type": "stream",
       "stream": "stdout",
       "text": [
        "Choosen data path: /media/data/AnneHDFStores/JVM3_ROCK.h5\n"
       ]
      }
     ],
     "prompt_number": 3
    },
    {
     "cell_type": "code",
     "collapsed": false,
     "input": [
      "cluster.trajs.head()"
     ],
     "language": "python",
     "metadata": {},
     "outputs": [
      {
       "html": [
        "<div style=\"max-height:1000px;max-width:1500px;overflow:auto;\">\n",
        "<table border=\"1\" class=\"dataframe\">\n",
        "  <thead>\n",
        "    <tr style=\"text-align: right;\">\n",
        "      <th></th>\n",
        "      <th></th>\n",
        "      <th>x</th>\n",
        "      <th>y</th>\n",
        "      <th>z</th>\n",
        "      <th>t</th>\n",
        "      <th>x_c</th>\n",
        "      <th>y_c</th>\n",
        "      <th>z_c</th>\n",
        "      <th>x_r</th>\n",
        "      <th>y_r</th>\n",
        "      <th>z_r</th>\n",
        "      <th>theta</th>\n",
        "      <th>rho</th>\n",
        "    </tr>\n",
        "    <tr>\n",
        "      <th>t_stamp</th>\n",
        "      <th>label</th>\n",
        "      <th></th>\n",
        "      <th></th>\n",
        "      <th></th>\n",
        "      <th></th>\n",
        "      <th></th>\n",
        "      <th></th>\n",
        "      <th></th>\n",
        "      <th></th>\n",
        "      <th></th>\n",
        "      <th></th>\n",
        "      <th></th>\n",
        "      <th></th>\n",
        "    </tr>\n",
        "  </thead>\n",
        "  <tbody>\n",
        "    <tr>\n",
        "      <th rowspan=\"5\" valign=\"top\">0</th>\n",
        "      <th>1</th>\n",
        "      <td>  89.669</td>\n",
        "      <td> 136.164</td>\n",
        "      <td> 0</td>\n",
        "      <td> 0</td>\n",
        "      <td> 121.230831</td>\n",
        "      <td> 78.289016</td>\n",
        "      <td> 0</td>\n",
        "      <td>-31.561831</td>\n",
        "      <td> 57.874984</td>\n",
        "      <td> 0</td>\n",
        "      <td> 2.070059</td>\n",
        "      <td> 65.921642</td>\n",
        "    </tr>\n",
        "    <tr>\n",
        "      <th>2</th>\n",
        "      <td>  96.311</td>\n",
        "      <td> 117.344</td>\n",
        "      <td> 0</td>\n",
        "      <td> 0</td>\n",
        "      <td> 121.230831</td>\n",
        "      <td> 78.289016</td>\n",
        "      <td> 0</td>\n",
        "      <td>-24.919831</td>\n",
        "      <td> 39.054984</td>\n",
        "      <td> 0</td>\n",
        "      <td> 2.138739</td>\n",
        "      <td> 46.328066</td>\n",
        "    </tr>\n",
        "    <tr>\n",
        "      <th>3</th>\n",
        "      <td> 111.809</td>\n",
        "      <td> 101.292</td>\n",
        "      <td> 0</td>\n",
        "      <td> 0</td>\n",
        "      <td> 121.230831</td>\n",
        "      <td> 78.289016</td>\n",
        "      <td> 0</td>\n",
        "      <td> -9.421831</td>\n",
        "      <td> 23.002984</td>\n",
        "      <td> 0</td>\n",
        "      <td> 1.959544</td>\n",
        "      <td> 24.857758</td>\n",
        "    </tr>\n",
        "    <tr>\n",
        "      <th>4</th>\n",
        "      <td> 139.485</td>\n",
        "      <td>  85.794</td>\n",
        "      <td> 0</td>\n",
        "      <td> 0</td>\n",
        "      <td> 121.230831</td>\n",
        "      <td> 78.289016</td>\n",
        "      <td> 0</td>\n",
        "      <td> 18.254169</td>\n",
        "      <td>  7.504984</td>\n",
        "      <td> 0</td>\n",
        "      <td> 0.390071</td>\n",
        "      <td> 19.736754</td>\n",
        "    </tr>\n",
        "    <tr>\n",
        "      <th>5</th>\n",
        "      <td> 141.699</td>\n",
        "      <td>  14.945</td>\n",
        "      <td> 0</td>\n",
        "      <td> 0</td>\n",
        "      <td> 121.230831</td>\n",
        "      <td> 78.289016</td>\n",
        "      <td> 0</td>\n",
        "      <td> 20.468169</td>\n",
        "      <td>-63.344016</td>\n",
        "      <td> 0</td>\n",
        "      <td>-1.258259</td>\n",
        "      <td> 66.568839</td>\n",
        "    </tr>\n",
        "  </tbody>\n",
        "</table>\n",
        "</div>"
       ],
       "metadata": {},
       "output_type": "pyout",
       "prompt_number": 4,
       "text": [
        "                     x        y  z  t         x_c        y_c  z_c        x_r  \\\n",
        "t_stamp label                                                                  \n",
        "0       1       89.669  136.164  0  0  121.230831  78.289016    0 -31.561831   \n",
        "        2       96.311  117.344  0  0  121.230831  78.289016    0 -24.919831   \n",
        "        3      111.809  101.292  0  0  121.230831  78.289016    0  -9.421831   \n",
        "        4      139.485   85.794  0  0  121.230831  78.289016    0  18.254169   \n",
        "        5      141.699   14.945  0  0  121.230831  78.289016    0  20.468169   \n",
        "\n",
        "                     y_r  z_r     theta        rho  \n",
        "t_stamp label                                       \n",
        "0       1      57.874984    0  2.070059  65.921642  \n",
        "        2      39.054984    0  2.138739  46.328066  \n",
        "        3      23.002984    0  1.959544  24.857758  \n",
        "        4       7.504984    0  0.390071  19.736754  \n",
        "        5     -63.344016    0 -1.258259  66.568839  "
       ]
      }
     ],
     "prompt_number": 4
    },
    {
     "cell_type": "heading",
     "level": 4,
     "metadata": {},
     "source": [
      "Set metadata"
     ]
    },
    {
     "cell_type": "code",
     "collapsed": false,
     "input": [
      "smw = ct.ui.set_metadata(cluster.metadata)\n",
      "display.display(smw)"
     ],
     "language": "python",
     "metadata": {},
     "outputs": [],
     "prompt_number": 5
    },
    {
     "cell_type": "heading",
     "level": 2,
     "metadata": {},
     "source": [
      "1.2 Scaling and basic computations"
     ]
    },
    {
     "cell_type": "markdown",
     "metadata": {},
     "source": [
      "In the cell below, if you change `True` to `False`, the scale of the data will be changed form pixels to microns.\n",
      "\n",
      "**Change the value bellow ONLY if you haven't scaled the data before**"
     ]
    },
    {
     "cell_type": "code",
     "collapsed": false,
     "input": [
      "cluster.was_scaled = True ### Set this to False if you need to scale the data to physical size"
     ],
     "language": "python",
     "metadata": {},
     "outputs": [],
     "prompt_number": 6
    },
    {
     "cell_type": "heading",
     "level": 4,
     "metadata": {},
     "source": [
      "Basic computations"
     ]
    },
    {
     "cell_type": "code",
     "collapsed": false,
     "input": [
      "if not cluster.was_scaled:\n",
      "    cluster.scale_pix_to_physical()\n",
      "\n",
      "### Computes the position of the nuclei with respect to the cluster center\n",
      "### If the center was tracked manually and stored in the original data\n",
      "### with a label (like 100), replace center_label=None by center_label=100 bellow.\n",
      "cluster.get_center(smooth=10, center_label=None)\n",
      "    \n",
      "### Computes the angle of the nuclei with respect to the cluster center\n",
      "cluster.cumulative_angle()\n",
      "\n",
      "### Save the trajectories to the .h5 file\n",
      "cluster.save_trajs()\n",
      "print('''Trajectories for this experiment are stored in the file {}'''.format(cluster.oio.store_path))"
     ],
     "language": "python",
     "metadata": {},
     "outputs": [
      {
       "output_type": "stream",
       "stream": "stdout",
       "text": [
        "Trajectories for this experiment are stored in the file /media/data/AnneHDFStores/JVM3_ROCK.h5\n"
       ]
      }
     ],
     "prompt_number": 7
    },
    {
     "cell_type": "heading",
     "level": 4,
     "metadata": {},
     "source": [
      "Each nucleus trajectory is represented by a segment"
     ]
    },
    {
     "cell_type": "code",
     "collapsed": false,
     "input": [
      "## This means that we go over all the segments\n",
      "## contained in the cluster trajectories\n",
      "colors = cluster.trajs.get_colors()\n",
      "\n",
      "for label, segment in cluster.trajs.iter_segments:\n",
      "    print('Segment with label {} has {} time points and has color code {}'\n",
      "          .format(label, segment.shape[0], colors[label]))"
     ],
     "language": "python",
     "metadata": {},
     "outputs": [
      {
       "output_type": "stream",
       "stream": "stdout",
       "text": [
        "Segment with label 1 has 45 time points and has color code #FF0000\n",
        "Segment with label 2 has 45 time points and has color code #FFBD00\n",
        "Segment with label 3 has 45 time points and has color code #7EFF00\n",
        "Segment with label 4 has 45 time points and has color code #00FF45\n",
        "Segment with label 5 has 45 time points and has color code #00F6FF\n",
        "Segment with label 6 has 45 time points and has color code #0033FF\n",
        "Segment with label 7 has 45 time points and has color code #9000FF\n",
        "Segment with label 8 has 45 time points and has color code #FF00AC\n"
       ]
      }
     ],
     "prompt_number": 8
    },
    {
     "cell_type": "heading",
     "level": 1,
     "metadata": {},
     "source": [
      "2. Basic ploting functionalities"
     ]
    },
    {
     "cell_type": "heading",
     "level": 2,
     "metadata": {},
     "source": [
      "2.1 Plot the coordinates versus time"
     ]
    },
    {
     "cell_type": "code",
     "collapsed": false,
     "input": [
      "axes = draw.plot_stacked_coords(cluster.trajs, coords=['x', 'y', 'z'])"
     ],
     "language": "python",
     "metadata": {},
     "outputs": [],
     "prompt_number": 9
    },
    {
     "cell_type": "markdown",
     "metadata": {},
     "source": [
      "It is also possible to access a single segment"
     ]
    },
    {
     "cell_type": "heading",
     "level": 2,
     "metadata": {},
     "source": [
      "2.2 Plot a single segment (x versus y)"
     ]
    },
    {
     "cell_type": "code",
     "collapsed": false,
     "input": [
      "segments = cluster.trajs.get_segments() \n",
      "### We access a segment by giving it's label\n",
      "label = 2\n",
      "seg0 = segments[label]\n",
      "color = colors[label]\n",
      "\n",
      "fig, ax = plt.subplots()\n",
      "ax.plot(seg0.x, seg0.y, '-', c=color);\n",
      "ax.set_xlabel('x position')\n",
      "ax.set_xlabel('y position')"
     ],
     "language": "python",
     "metadata": {},
     "outputs": [
      {
       "metadata": {},
       "output_type": "pyout",
       "prompt_number": 11,
       "text": [
        "<matplotlib.text.Text at 0x7f45504f2e80>"
       ]
      }
     ],
     "prompt_number": 11
    },
    {
     "cell_type": "heading",
     "level": 2,
     "metadata": {},
     "source": [
      "2.3 Positions against time relative to the cluster center"
     ]
    },
    {
     "cell_type": "markdown",
     "metadata": {},
     "source": [
      "When we computed the center position, we created new columns in the data\n",
      "the position of the center is given by `x_c, y_c, z_c`, and the positions\n",
      "of the nuclei relative to the center by `x_r, y_r, z_r`."
     ]
    },
    {
     "cell_type": "code",
     "collapsed": false,
     "input": [
      "axes = draw.plot_stacked_coords(cluster.trajs,\n",
      "                                coords=['x_r', 'y_r', 'z_r'])"
     ],
     "language": "python",
     "metadata": {},
     "outputs": [],
     "prompt_number": 13
    },
    {
     "cell_type": "heading",
     "level": 2,
     "metadata": {},
     "source": [
      "2.4 Positions in 3D (absolute positions)"
     ]
    },
    {
     "cell_type": "heading",
     "level": 4,
     "metadata": {},
     "source": [
      "All in the same graph"
     ]
    },
    {
     "cell_type": "code",
     "collapsed": false,
     "input": [
      "\n",
      "### The coordinates to plot\n",
      "coords=['x', 'y', 'z']\n",
      "\n",
      "### Get the colors of the different trajectories\n",
      "colors = cluster.trajs.get_colors()\n",
      "\n",
      "### Get all the segments\n",
      "segments = cluster.trajs.get_segments()\n",
      "\n",
      "### The code below puts a all the trajectories on the same graph\n",
      "axes, ax_3d = None, None\n",
      "for label in cluster.trajs.labels:\n",
      "    segment = segments[label]\n",
      "    scatter_kw = {'c':segment.t.astype(np.float),\n",
      "                  'cmap':'spectral',\n",
      "                  's':40,\n",
      "                  'alpha':0.8,\n",
      "                  'edgecolors':'none'}\n",
      "    line_kw = {'c':'gray',#tracker.label_colors[label],\n",
      "               'ls':'-',\n",
      "               'alpha':0.8, 'lw':0.75}\n",
      "\n",
      "    axes, ax_3d = draw.show_4panels(cluster.trajs, label,\n",
      "                                    axes=axes, ax_3d=ax_3d,\n",
      "                                    scatter_kw=scatter_kw,\n",
      "                                    line_kw=line_kw,\n",
      "                                    coords=coords)\n",
      "\n",
      "### Setting axes limits\n",
      "ax = axes[0, 0]\n",
      "\n",
      "x_min, x_max = 50, 250\n",
      "y_min, y_max = 50, 250\n",
      "z_min, z_max = -60, 60\n",
      "\n",
      "\n",
      "ax.set_xlim(x_min, x_max)\n",
      "ax.set_ylim(y_min, y_max)\n",
      "ax_3d.set_xlim(x_min, x_max)\n",
      "ax_3d.set_zlim(y_min, y_max)\n",
      "ax_3d.set_zlim(z_min, z_max)"
     ],
     "language": "python",
     "metadata": {},
     "outputs": [
      {
       "metadata": {},
       "output_type": "pyout",
       "prompt_number": 13,
       "text": [
        "(-60, 60)"
       ]
      }
     ],
     "prompt_number": 13
    },
    {
     "cell_type": "heading",
     "level": 4,
     "metadata": {},
     "source": [
      "A single nucleus"
     ]
    },
    {
     "cell_type": "code",
     "collapsed": false,
     "input": [
      "### Choose the label\n",
      "label = 4\n",
      "\n",
      "### The coordinates to plot\n",
      "coords=['x', 'y', 'z']\n",
      "\n",
      "\n",
      "segment = segments[label]\n",
      "scatter_kw = {'c':segment.t.astype(np.float),\n",
      "              'cmap':'spectral',\n",
      "              's':40,\n",
      "              'alpha':0.8,\n",
      "              'edgecolors':'none'}\n",
      "line_kw = {'c':'gray',#tracker.label_colors[label],\n",
      "           'ls':'-',\n",
      "           'alpha':0.8, 'lw':0.75}\n",
      "\n",
      "\n",
      "axes, ax_3d = draw.show_4panels(cluster.trajs, label,\n",
      "                                axes=None, ax_3d=None,\n",
      "                                scatter_kw=scatter_kw,\n",
      "                                line_kw=line_kw,\n",
      "                                coords=coords)\n",
      "\n",
      "### Setting axes limits\n",
      "ax = axes[0, 0]\n",
      "\n",
      "x_min, x_max = 40, 140\n",
      "y_min, y_max = 20, 120\n",
      "z_min, z_max = -60, 60\n",
      "\n",
      "\n",
      "ax.set_xlim(x_min, x_max)\n",
      "ax.set_ylim(y_min, y_max)\n",
      "ax_3d.set_xlim(x_min, x_max)\n",
      "ax_3d.set_zlim(y_min, y_max)\n",
      "ax_3d.set_zlim(z_min, z_max)"
     ],
     "language": "python",
     "metadata": {},
     "outputs": []
    },
    {
     "cell_type": "heading",
     "level": 2,
     "metadata": {},
     "source": [
      "2.5 Positions in 3D relative to cluster center"
     ]
    },
    {
     "cell_type": "code",
     "collapsed": false,
     "input": [
      "### Choose the label\n",
      "label = 4\n",
      "\n",
      "### The coordinates to plot\n",
      "coords=['x_r', 'y_r', 'z_r']\n",
      "\n",
      "segment = segments[label]\n",
      "scatter_kw = {'c':segment.t.astype(np.float),\n",
      "              'cmap':'spectral',\n",
      "              's':40,\n",
      "              'alpha':0.8,\n",
      "              'edgecolors':'none'}\n",
      "line_kw = {'c':'gray',#tracker.label_colors[label],\n",
      "           'ls':'-',\n",
      "           'alpha':0.8, 'lw':0.75}\n",
      "\n",
      "\n",
      "axes, ax_3d = draw.show_4panels(cluster.trajs, label,\n",
      "                                axes=None, ax_3d=None,\n",
      "                                scatter_kw=scatter_kw,\n",
      "                                line_kw=line_kw,\n",
      "                                coords=coords)\n",
      "### Setting axes limits\n",
      "ax = axes[0, 0]\n",
      "\n",
      "x_min, x_max = -20, 20\n",
      "y_min, y_max = -20, 20\n",
      "z_min, z_max = -20, 20\n",
      "\n",
      "\n",
      "ax.set_xlim(x_min, x_max)\n",
      "ax.set_ylim(y_min, y_max)\n",
      "ax_3d.set_xlim(x_min, x_max)\n",
      "ax_3d.set_zlim(y_min, y_max)\n",
      "ax_3d.set_zlim(z_min, z_max)"
     ],
     "language": "python",
     "metadata": {},
     "outputs": [
      {
       "metadata": {},
       "output_type": "pyout",
       "prompt_number": 14,
       "text": [
        "(-20, 20)"
       ]
      }
     ],
     "prompt_number": 14
    },
    {
     "cell_type": "heading",
     "level": 2,
     "metadata": {},
     "source": [
      "2.6 Polar histogram"
     ]
    },
    {
     "cell_type": "code",
     "collapsed": false,
     "input": [
      "ax = ct.graphics.polar_histogram(cluster, ax=None, alpha=0.5)"
     ],
     "language": "python",
     "metadata": {},
     "outputs": [],
     "prompt_number": 15
    },
    {
     "cell_type": "heading",
     "level": 1,
     "metadata": {},
     "source": [
      "3. Ellipses and rotation detection"
     ]
    },
    {
     "cell_type": "heading",
     "level": 2,
     "metadata": {},
     "source": [
      "3.1 Fit ellipses of different sizes over the trajectories"
     ]
    },
    {
     "cell_type": "heading",
     "level": 4,
     "metadata": {},
     "source": [
      "Define the sizes"
     ]
    },
    {
     "cell_type": "markdown",
     "metadata": {},
     "source": [
      "The sizes of the fitting windows are given in minutes"
     ]
    },
    {
     "cell_type": "code",
     "collapsed": false,
     "input": [
      "sizes = np.arange(24, 66, 12)\n",
      "detection_method = 'polar' ### This must be 'polar' or 'cartesian'\n"
     ],
     "language": "python",
     "metadata": {},
     "outputs": [],
     "prompt_number": 16
    },
    {
     "cell_type": "heading",
     "level": 4,
     "metadata": {},
     "source": [
      "Do the computation (only if you didn't do it for this data set before)"
     ]
    },
    {
     "cell_type": "code",
     "collapsed": false,
     "input": [
      "\n",
      "### Fits ellipses and detect rotations\n",
      "### This might take some time\n",
      "for size in sizes:\n",
      "    print('Computing for a window of {} min'.format(size))\n",
      "    cluster.compute_ellipticity(size, method=detection_method)"
     ],
     "language": "python",
     "metadata": {},
     "outputs": []
    },
    {
     "cell_type": "heading",
     "level": 2,
     "metadata": {},
     "source": [
      "3.2 Rotation detection"
     ]
    },
    {
     "cell_type": "code",
     "collapsed": false,
     "input": [
      "display.SVG('ellipsis_detection.svg')\n"
     ],
     "language": "python",
     "metadata": {},
     "outputs": [
      {
       "metadata": {},
       "output_type": "pyout",
       "prompt_number": 17,
       "svg": [
        "<svg height=\"417.14081\" id=\"svg2\" inkscape:version=\"0.48.4 r9939\" sodipodi:docname=\"ellipsis_detection.svg\" version=\"1.1\" width=\"644.5921\" xmlns=\"http://www.w3.org/2000/svg\" xmlns:cc=\"http://creativecommons.org/ns#\" xmlns:dc=\"http://purl.org/dc/elements/1.1/\" xmlns:inkscape=\"http://www.inkscape.org/namespaces/inkscape\" xmlns:rdf=\"http://www.w3.org/1999/02/22-rdf-syntax-ns#\" xmlns:sodipodi=\"http://sodipodi.sourceforge.net/DTD/sodipodi-0.dtd\" xmlns:svg=\"http://www.w3.org/2000/svg\" xmlns:xlink=\"http://www.w3.org/1999/xlink\">\n",
        "  <defs id=\"defs4\" style=\"stroke-linecap:butt;stroke-linejoin:round\">\n",
        "    <marker id=\"Arrow1Lend\" inkscape:stockid=\"Arrow1Lend\" orient=\"auto\" refX=\"0\" refY=\"0\" style=\"stroke-linecap:butt;stroke-linejoin:round;overflow:visible\">\n",
        "      <path d=\"M 0,0 5,-5 -12.5,0 5,5 0,0 z\" id=\"path101973\" inkscape:connector-curvature=\"0\" style=\"fill-rule:evenodd;stroke:#000000;stroke-width:1pt;stroke-linecap:butt;stroke-linejoin:round\" transform=\"matrix(-0.8,0,0,-0.8,-10,0)\"/>\n",
        "    </marker>\n",
        "    <marker id=\"Arrow1Mend\" inkscape:stockid=\"Arrow1Mend\" orient=\"auto\" refX=\"0\" refY=\"0\" style=\"stroke-linecap:butt;stroke-linejoin:round;overflow:visible\">\n",
        "      <path d=\"M 0,0 5,-5 -12.5,0 5,5 0,0 z\" id=\"path101979\" inkscape:connector-curvature=\"0\" style=\"fill-rule:evenodd;stroke:#000000;stroke-width:1pt;stroke-linecap:butt;stroke-linejoin:round\" transform=\"matrix(-0.4,0,0,-0.4,-4,0)\"/>\n",
        "    </marker>\n",
        "    <marker id=\"Arrow1Mstart\" inkscape:stockid=\"Arrow1Mstart\" orient=\"auto\" refX=\"0\" refY=\"0\" style=\"overflow:visible\">\n",
        "      <path d=\"M 0,0 5,-5 -12.5,0 5,5 0,0 z\" id=\"path101976\" inkscape:connector-curvature=\"0\" style=\"fill-rule:evenodd;stroke:#000000;stroke-width:1pt;stroke-linecap:butt;stroke-linejoin:round\" transform=\"matrix(0.4,0,0,0.4,4,0)\"/>\n",
        "    </marker>\n",
        "    <clipPath id=\"p69c1cc7a4f\">\n",
        "      <rect height=\"334.39856\" id=\"rect10551\" width=\"497.72437\" x=\"56.831249\" y=\"382.71393\"/>\n",
        "    </clipPath>\n",
        "    <clipPath id=\"pfc597b25c1\">\n",
        "      <rect height=\"334.39856\" id=\"rect10548\" width=\"497.72437\" x=\"574.71564\" y=\"382.71393\"/>\n",
        "    </clipPath>\n",
        "    <clipPath id=\"p64bead7903\">\n",
        "      <rect height=\"334.39856\" id=\"rect10545\" width=\"497.72437\" x=\"56.831249\" y=\"18.741621\"/>\n",
        "    </clipPath>\n",
        "    <clipPath id=\"p8ef677df68\">\n",
        "      <rect height=\"334.39856\" id=\"rect10542\" width=\"497.72437\" x=\"574.71564\" y=\"18.741621\"/>\n",
        "    </clipPath>\n",
        "    <style id=\"style6794\" type=\"text/css\">\n",
        "*{stroke-linecap:butt;stroke-linejoin:round;}\n",
        "  </style>\n",
        "    <style id=\"style16441\" type=\"text/css\">\n",
        "*{stroke-linecap:butt;stroke-linejoin:round;}\n",
        "  </style>\n",
        "    <clipPath id=\"p4219eb7cb2\">\n",
        "      <rect height=\"334.58939\" id=\"rect18746\" style=\"stroke-linecap:butt;stroke-linejoin:round\" width=\"416.64749\" x=\"478.49249\" y=\"377.12314\"/>\n",
        "    </clipPath>\n",
        "    <clipPath id=\"p907e48cb16\">\n",
        "      <rect height=\"334.58939\" id=\"rect18749\" style=\"stroke-linecap:butt;stroke-linejoin:round\" width=\"416.64749\" x=\"478.49249\" y=\"12.96\"/>\n",
        "    </clipPath>\n",
        "    <clipPath id=\"pe0ed907c9d\">\n",
        "      <rect height=\"334.58939\" id=\"rect18752\" style=\"stroke-linecap:butt;stroke-linejoin:round\" width=\"416.64749\" x=\"48.884998\" y=\"377.12314\"/>\n",
        "    </clipPath>\n",
        "    <clipPath id=\"pcbb924fb54\">\n",
        "      <rect height=\"334.58939\" id=\"rect18755\" style=\"stroke-linecap:butt;stroke-linejoin:round\" width=\"416.64749\" x=\"48.884998\" y=\"12.96\"/>\n",
        "    </clipPath>\n",
        "    <style id=\"style54521\" type=\"text/css\">\n",
        "*{stroke-linecap:butt;stroke-linejoin:round;}\n",
        "  </style>\n",
        "    <clipPath id=\"p2c54c407b2\">\n",
        "      <rect height=\"290.93936\" id=\"rect56523\" style=\"stroke-linecap:butt;stroke-linejoin:round\" width=\"349.28668\" x=\"49.32\" y=\"12.96\"/>\n",
        "    </clipPath>\n",
        "    <clipPath id=\"p769b18af4b\">\n",
        "      <rect height=\"290.93936\" id=\"rect56526\" style=\"stroke-linecap:butt;stroke-linejoin:round\" width=\"349.28668\" x=\"414.45331\" y=\"333.47311\"/>\n",
        "    </clipPath>\n",
        "    <clipPath id=\"pe00d5f48e7\">\n",
        "      <rect height=\"290.93936\" id=\"rect56529\" style=\"stroke-linecap:butt;stroke-linejoin:round\" width=\"349.28668\" x=\"49.32\" y=\"333.47311\"/>\n",
        "    </clipPath>\n",
        "    <clipPath id=\"p001c192b9f\">\n",
        "      <rect height=\"290.93936\" id=\"rect56532\" style=\"stroke-linecap:butt;stroke-linejoin:round\" width=\"349.28668\" x=\"414.45331\" y=\"12.96\"/>\n",
        "    </clipPath>\n",
        "    <style id=\"style49654\" type=\"text/css\">\n",
        "*{stroke-linecap:butt;stroke-linejoin:round;}\n",
        "  </style>\n",
        "    <clipPath id=\"p5038960075\">\n",
        "      <rect height=\"318.38937\" id=\"rect51867\" style=\"stroke-linecap:butt;stroke-linejoin:round\" width=\"418.07437\" x=\"56.831249\" y=\"12.96\"/>\n",
        "    </clipPath>\n",
        "    <clipPath id=\"p8fe1474151\">\n",
        "      <rect height=\"318.38937\" id=\"rect51870\" style=\"stroke-linecap:butt;stroke-linejoin:round\" width=\"418.07437\" x=\"56.831249\" y=\"360.92313\"/>\n",
        "    </clipPath>\n",
        "    <clipPath id=\"p4910acfd80\">\n",
        "      <rect height=\"318.38937\" id=\"rect51873\" style=\"stroke-linecap:butt;stroke-linejoin:round\" width=\"418.07437\" x=\"487.86563\" y=\"12.96\"/>\n",
        "    </clipPath>\n",
        "    <clipPath id=\"pebdad752eb\">\n",
        "      <rect height=\"318.38937\" id=\"rect51876\" style=\"stroke-linecap:butt;stroke-linejoin:round\" width=\"418.07437\" x=\"487.86563\" y=\"360.92313\"/>\n",
        "    </clipPath>\n",
        "    <style id=\"style43223\" type=\"text/css\">\n",
        "*{stroke-linecap:butt;stroke-linejoin:round;}\n",
        "  </style>\n",
        "    <clipPath id=\"p75428f1daf\">\n",
        "      <rect height=\"304.88937\" id=\"rect45569\" style=\"stroke-linecap:butt;stroke-linejoin:round\" width=\"325.98001\" x=\"388.26001\" y=\"12.96\"/>\n",
        "    </clipPath>\n",
        "    <clipPath id=\"p26efd31ea8\">\n",
        "      <rect height=\"304.88937\" id=\"rect45572\" style=\"stroke-linecap:butt;stroke-linejoin:round\" width=\"325.98001\" x=\"388.26001\" y=\"347.42313\"/>\n",
        "    </clipPath>\n",
        "    <clipPath id=\"pe5b6a3f546\">\n",
        "      <rect height=\"304.88937\" id=\"rect45575\" style=\"stroke-linecap:butt;stroke-linejoin:round\" width=\"325.98001\" x=\"49.32\" y=\"347.42313\"/>\n",
        "    </clipPath>\n",
        "    <clipPath id=\"pab32517c29\">\n",
        "      <rect height=\"304.88937\" id=\"rect45578\" style=\"stroke-linecap:butt;stroke-linejoin:round\" width=\"325.98001\" x=\"49.32\" y=\"12.96\"/>\n",
        "    </clipPath>\n",
        "    <style id=\"style38513\" type=\"text/css\">\n",
        "*{stroke-linecap:butt;stroke-linejoin:round;}\n",
        "  </style>\n",
        "    <clipPath id=\"p2d0847d783\">\n",
        "      <rect height=\"284.63937\" id=\"rect40688\" style=\"stroke-linecap:butt;stroke-linejoin:round\" width=\"290.72437\" x=\"56.831249\" y=\"12.96\"/>\n",
        "    </clipPath>\n",
        "    <clipPath id=\"p8ca75097e2\">\n",
        "      <rect height=\"284.63937\" id=\"rect40691\" style=\"stroke-linecap:butt;stroke-linejoin:round\" width=\"290.72437\" x=\"360.51562\" y=\"12.96\"/>\n",
        "    </clipPath>\n",
        "    <clipPath id=\"p25f421be1b\">\n",
        "      <rect height=\"284.63937\" id=\"rect40694\" style=\"stroke-linecap:butt;stroke-linejoin:round\" width=\"290.72437\" x=\"56.831249\" y=\"327.17313\"/>\n",
        "    </clipPath>\n",
        "    <clipPath id=\"p5ddec70d5a\">\n",
        "      <rect height=\"284.63937\" id=\"rect40697\" style=\"stroke-linecap:butt;stroke-linejoin:round\" width=\"290.72437\" x=\"360.51562\" y=\"327.17313\"/>\n",
        "    </clipPath>\n",
        "    <style id=\"style31467\" type=\"text/css\">\n",
        "*{stroke-linecap:butt;stroke-linejoin:round;}\n",
        "  </style>\n",
        "    <clipPath id=\"pbd37f28c04\">\n",
        "      <rect height=\"318.83939\" id=\"rect33615\" style=\"stroke-linecap:butt;stroke-linejoin:round\" width=\"344.24438\" x=\"48.791248\" y=\"361.37314\"/>\n",
        "    </clipPath>\n",
        "    <clipPath id=\"p18a430608f\">\n",
        "      <rect height=\"318.83939\" id=\"rect33618\" style=\"stroke-linecap:butt;stroke-linejoin:round\" width=\"344.24438\" x=\"48.791248\" y=\"12.96\"/>\n",
        "    </clipPath>\n",
        "    <clipPath id=\"p4db847229d\">\n",
        "      <rect height=\"318.83939\" id=\"rect33621\" style=\"stroke-linecap:butt;stroke-linejoin:round\" width=\"344.24438\" x=\"405.99564\" y=\"12.96\"/>\n",
        "    </clipPath>\n",
        "    <clipPath id=\"pa3c0e8ba5d\">\n",
        "      <rect height=\"318.83939\" id=\"rect33624\" style=\"stroke-linecap:butt;stroke-linejoin:round\" width=\"344.24438\" x=\"405.99564\" y=\"361.37314\"/>\n",
        "    </clipPath>\n",
        "    <style id=\"style24330\" type=\"text/css\">\n",
        "*{stroke-linecap:butt;stroke-linejoin:round;}\n",
        "  </style>\n",
        "    <clipPath id=\"p70a1477c43\">\n",
        "      <rect height=\"252.68938\" id=\"rect26617\" style=\"stroke-linecap:butt;stroke-linejoin:round\" width=\"286.82999\" x=\"349.10999\" y=\"12.96\"/>\n",
        "    </clipPath>\n",
        "    <clipPath id=\"p2f369ebd9e\">\n",
        "      <rect height=\"252.68938\" id=\"rect26620\" style=\"stroke-linecap:butt;stroke-linejoin:round\" width=\"286.82999\" x=\"49.32\" y=\"295.22311\"/>\n",
        "    </clipPath>\n",
        "    <clipPath id=\"pc52674d6b8\">\n",
        "      <rect height=\"252.68938\" id=\"rect26623\" style=\"stroke-linecap:butt;stroke-linejoin:round\" width=\"286.82999\" x=\"349.10999\" y=\"295.22311\"/>\n",
        "    </clipPath>\n",
        "    <clipPath id=\"p72990397a8\">\n",
        "      <rect height=\"252.68938\" id=\"rect26626\" style=\"stroke-linecap:butt;stroke-linejoin:round\" width=\"286.82999\" x=\"49.32\" y=\"12.96\"/>\n",
        "    </clipPath>\n",
        "    <style id=\"style14174\" type=\"text/css\">\n",
        "*{stroke-linecap:butt;stroke-linejoin:round;}\n",
        "  </style>\n",
        "    <clipPath id=\"pe86011153b\">\n",
        "      <rect height=\"303.53937\" id=\"rect16426\" style=\"stroke-linecap:butt;stroke-linejoin:round\" width=\"394.38\" x=\"456.66\" y=\"12.96\"/>\n",
        "    </clipPath>\n",
        "    <clipPath id=\"p501e9cb373\">\n",
        "      <rect height=\"303.53937\" id=\"rect16429\" style=\"stroke-linecap:butt;stroke-linejoin:round\" width=\"394.38\" x=\"49.32\" y=\"346.07312\"/>\n",
        "    </clipPath>\n",
        "    <clipPath id=\"p063b47c935\">\n",
        "      <rect height=\"303.53937\" id=\"rect16432\" style=\"stroke-linecap:butt;stroke-linejoin:round\" width=\"394.38\" x=\"456.66\" y=\"346.07312\"/>\n",
        "    </clipPath>\n",
        "    <clipPath id=\"p79137038ec\">\n",
        "      <rect height=\"303.53937\" id=\"rect16435\" style=\"stroke-linecap:butt;stroke-linejoin:round\" width=\"394.38\" x=\"49.32\" y=\"12.96\"/>\n",
        "    </clipPath>\n",
        "    <style id=\"style2989\" type=\"text/css\">\n",
        "*{stroke-linecap:butt;stroke-linejoin:round;}\n",
        "  </style>\n",
        "    <clipPath id=\"p21eb643df2\">\n",
        "      <rect height=\"169.23593\" id=\"rect5315\" style=\"stroke-linecap:butt;stroke-linejoin:round\" width=\"178.38\" x=\"240.66\" y=\"217.57657\"/>\n",
        "    </clipPath>\n",
        "    <clipPath id=\"paec92990f6\">\n",
        "      <rect height=\"169.23593\" id=\"rect5318\" style=\"stroke-linecap:butt;stroke-linejoin:round\" width=\"178.38\" x=\"49.32\" y=\"217.57657\"/>\n",
        "    </clipPath>\n",
        "    <clipPath id=\"p7e3cdd4aa9\">\n",
        "      <rect height=\"169.23593\" id=\"rect5321\" style=\"stroke-linecap:butt;stroke-linejoin:round\" width=\"178.38\" x=\"240.66\" y=\"18.766874\"/>\n",
        "    </clipPath>\n",
        "    <clipPath id=\"p4bb20e0a95\">\n",
        "      <rect height=\"169.23593\" id=\"rect5324\" style=\"stroke-linecap:butt;stroke-linejoin:round\" width=\"178.38\" x=\"49.32\" y=\"18.766874\"/>\n",
        "    </clipPath>\n",
        "    <clipPath id=\"pbaa9ab6562\">\n",
        "      <rect height=\"386.78937\" id=\"rect97508\" style=\"stroke-linecap:butt;stroke-linejoin:round\" width=\"475.10812\" x=\"542.43188\" y=\"429.32312\"/>\n",
        "    </clipPath>\n",
        "    <clipPath id=\"p509ba47b41\">\n",
        "      <rect height=\"386.78937\" id=\"rect97505\" style=\"stroke-linecap:butt;stroke-linejoin:round\" width=\"475.10812\" x=\"54.36375\" y=\"429.32312\"/>\n",
        "    </clipPath>\n",
        "    <clipPath id=\"p88f29d8050\">\n",
        "      <rect height=\"386.78937\" id=\"rect97502\" style=\"stroke-linecap:butt;stroke-linejoin:round\" width=\"475.10812\" x=\"542.43188\" y=\"12.96\"/>\n",
        "    </clipPath>\n",
        "    <clipPath id=\"pf2e575ba20\">\n",
        "      <rect height=\"386.78937\" id=\"rect97499\" style=\"stroke-linecap:butt;stroke-linejoin:round\" width=\"475.10812\" x=\"54.36375\" y=\"12.96\"/>\n",
        "    </clipPath>\n",
        "    <style id=\"style95784\" type=\"text/css\">\n",
        "*{stroke-linecap:butt;stroke-linejoin:round;}\n",
        "  </style>\n",
        "    <clipPath id=\"p887e08e8d8\">\n",
        "      <rect height=\"178.29938\" id=\"rect123296\" style=\"stroke-linecap:butt;stroke-linejoin:round\" width=\"351.81375\" x=\"56.831249\" y=\"221.64\"/>\n",
        "    </clipPath>\n",
        "    <clipPath id=\"p2820ddb51f\">\n",
        "      <rect height=\"178.29938\" id=\"rect123293\" style=\"stroke-linecap:butt;stroke-linejoin:round\" width=\"351.81375\" x=\"56.831249\" y=\"424.51312\"/>\n",
        "    </clipPath>\n",
        "    <clipPath id=\"p6d715e6433\">\n",
        "      <rect height=\"178.29938\" id=\"rect123290\" style=\"stroke-linecap:butt;stroke-linejoin:round\" width=\"351.81375\" x=\"56.831249\" y=\"18.766874\"/>\n",
        "    </clipPath>\n",
        "    <style id=\"style120043\" type=\"text/css\">\n",
        "*{stroke-linecap:butt;stroke-linejoin:round;}\n",
        "  </style>\n",
        "    <defs id=\"defs120056\">\n",
        "      <path d=\"M 0,3 C 0.795609,3 1.55874,2.6839 2.12132,2.12132 2.6839,1.55874 3,0.795609 3,0 3,-0.795609 2.6839,-1.55874 2.12132,-2.12132 1.55874,-2.6839 0.795609,-3 0,-3 -0.795609,-3 -1.55874,-2.6839 -2.12132,-2.12132 -2.6839,-1.55874 -3,-0.795609 -3,0 -3,0.795609 -2.6839,1.55874 -2.12132,2.12132 -1.55874,2.6839 -0.795609,3 0,3 z\" id=\"md21b4ff0a3\" inkscape:connector-curvature=\"0\" style=\"stroke:#000000;stroke-width:0.5;stroke-linecap:butt;stroke-linejoin:round\"/>\n",
        "    </defs>\n",
        "  </defs>\n",
        "  <sodipodi:namedview bordercolor=\"#666666\" borderopacity=\"1.0\" fit-margin-bottom=\"10\" fit-margin-left=\"10\" fit-margin-right=\"10\" fit-margin-top=\"10\" id=\"base\" inkscape:current-layer=\"g141778\" inkscape:cx=\"509.67568\" inkscape:cy=\"175.32511\" inkscape:document-units=\"px\" inkscape:pageopacity=\"0.0\" inkscape:pageshadow=\"2\" inkscape:window-height=\"987\" inkscape:window-maximized=\"0\" inkscape:window-width=\"1349\" inkscape:window-x=\"565\" inkscape:window-y=\"21\" inkscape:zoom=\"0.93981333\" pagecolor=\"#ffffff\" showgrid=\"false\"/>\n",
        "  <metadata id=\"metadata7\">\n",
        "    <rdf:RDF>\n",
        "      <cc:Work rdf:about=\"\">\n",
        "        <dc:format>image/svg+xml</dc:format>\n",
        "        <dc:type rdf:resource=\"http://purl.org/dc/dcmitype/StillImage\"/>\n",
        "      </cc:Work>\n",
        "    </rdf:RDF>\n",
        "  </metadata>\n",
        "  <g id=\"layer1\" inkscape:groupmode=\"layer\" inkscape:label=\"Calque 1\" style=\"stroke-linecap:butt;stroke-linejoin:round\" transform=\"translate(-40.027853,-530.03754)\">\n",
        "    <g id=\"patch_2\" style=\"stroke-linecap:butt;stroke-linejoin:round\" transform=\"matrix(1.25,0,0,1.25,-151.22793,-74.026073)\"/>\n",
        "    <g id=\"patch_1\" style=\"stroke-linecap:butt;stroke-linejoin:round\" transform=\"matrix(1.25,0,0,1.25,-122.14285,-271.20925)\"/>\n",
        "    <g id=\"axes_4\" style=\"stroke-linecap:butt;stroke-linejoin:round\" transform=\"matrix(1.25,0,0,1.25,-151.22793,-74.026073)\"/>\n",
        "    <rect height=\"65.210442\" id=\"rect140783\" ry=\"2.5204077\" style=\"color:#000000;fill:none;stroke:#000000;stroke-width:2.16060352;stroke-linecap:square;stroke-linejoin:round;stroke-miterlimit:4;stroke-opacity:1;stroke-dasharray:none;stroke-dashoffset:0;marker:none;visibility:visible;display:inline;overflow:visible;enable-background:accumulate\" transform=\"matrix(0.87050251,0.49216398,-0.87050251,0.49216398,0,0)\" width=\"65.210442\" x=\"746.39307\" y=\"351.43716\"/>\n",
        "    <path d=\"m 404.52802,572.40654 76.50764,1e-5\" id=\"path140803\" inkscape:connector-curvature=\"0\" sodipodi:nodetypes=\"cc\" style=\"fill:none;stroke:#000000;stroke-width:1px;stroke-linecap:butt;stroke-linejoin:miter;stroke-opacity:1;marker-end:url(#Arrow1Lend)\"/>\n",
        "    <text id=\"text141363\" sodipodi:linespacing=\"122%\" style=\"font-size:14px;font-style:normal;font-variant:normal;font-weight:normal;font-stretch:normal;text-align:end;line-height:122.00000286%;letter-spacing:0px;word-spacing:0px;writing-mode:lr-tb;text-anchor:end;fill:#000000;fill-opacity:1;stroke:none;font-family:DejaVu Sans;-inkscape-font-specification:DejaVu Sans\" x=\"382.06616\" xml:space=\"preserve\" y=\"577.50275\"><tspan id=\"tspan141365\" sodipodi:role=\"line\" x=\"382.06616\" y=\"577.50275\">GOOD FIT?</tspan></text>\n",
        "    <path d=\"m 301.42285,577.08539 c 0,10.74352 -40.88138,19.45287 -91.31113,19.45287 -50.42974,0 -91.31112,-8.70935 -91.31112,-19.45287 0,-10.74352 40.88138,-19.45287 91.31112,-19.45287 50.42975,0 91.31113,8.70935 91.31113,19.45287 z\" id=\"path141439\" sodipodi:cx=\"210.11172\" sodipodi:cy=\"577.08539\" sodipodi:rx=\"91.311127\" sodipodi:ry=\"19.452869\" sodipodi:type=\"arc\" style=\"color:#000000;fill:#55d400;fill-opacity:0.54918033;fill-rule:nonzero;stroke:#000000;stroke-width:1;stroke-linecap:square;stroke-linejoin:round;stroke-miterlimit:4;stroke-opacity:1;stroke-dasharray:none;stroke-dashoffset:0;marker:none;visibility:visible;display:inline;overflow:visible;enable-background:accumulate\" transform=\"translate(372.69712,-4.678836)\"/>\n",
        "    <text id=\"text141367\" sodipodi:linespacing=\"122%\" style=\"font-size:14px;font-style:normal;font-variant:normal;font-weight:normal;font-stretch:normal;text-align:end;line-height:122.00000286%;letter-spacing:0px;word-spacing:0px;writing-mode:lr-tb;text-anchor:end;fill:#000000;fill-opacity:1;stroke:none;font-family:DejaVu Sans;-inkscape-font-specification:DejaVu Sans\" x=\"654.73737\" xml:space=\"preserve\" y=\"576.26044\"><tspan id=\"tspan141369\" sodipodi:role=\"line\" x=\"654.73737\" y=\"576.26044\">Rotation(t<tspan id=\"tspan141419\" style=\"font-size:65.00091553%;baseline-shift:sub\">0</tspan> ... t<tspan id=\"tspan141421\" style=\"font-size:65.00091553%;baseline-shift:sub\">1</tspan>) = 1</tspan></text>\n",
        "    <g id=\"g3599\" style=\"stroke-linecap:butt;stroke-linejoin:round\" transform=\"translate(-19.79899,38.183766)\">\n",
        "      <use height=\"1\" id=\"use137957\" style=\"stroke:#000000;stroke-width:0.5;stroke-linecap:butt;stroke-linejoin:round\" transform=\"matrix(1.1970616,0.35992158,-0.35992158,1.1970616,52.68568,344.99273)\" width=\"1\" x=\"103.73975\" xlink:href=\"#md21b4ff0a3\" y=\"159.46516\"/>\n",
        "      <use height=\"1\" id=\"use137959\" style=\"stroke:#000000;stroke-width:0.5;stroke-linecap:butt;stroke-linejoin:round\" transform=\"matrix(1.1970616,0.35992158,-0.35992158,1.1970616,52.30327,337.49397)\" width=\"1\" x=\"109.60331\" xlink:href=\"#md21b4ff0a3\" y=\"154.79056\"/>\n",
        "      <use height=\"1\" id=\"use137961\" style=\"stroke:#000000;stroke-width:0.5;stroke-linecap:butt;stroke-linejoin:round\" transform=\"matrix(1.1970616,0.35992158,-0.35992158,1.1970616,62.55871,338.46783)\" width=\"1\" x=\"115.46687\" xlink:href=\"#md21b4ff0a3\" y=\"153.91493\"/>\n",
        "      <use height=\"1\" id=\"use137963\" style=\"stroke:#000000;stroke-width:0.5;stroke-linecap:butt;stroke-linejoin:round\" transform=\"matrix(1.1970616,0.35992158,-0.35992158,1.1970616,68.80248,333.48879)\" width=\"1\" x=\"121.33044\" xlink:href=\"#md21b4ff0a3\" y=\"149.37953\"/>\n",
        "      <use height=\"1\" id=\"use137965\" style=\"stroke:#000000;stroke-width:0.5;stroke-linecap:butt;stroke-linejoin:round\" transform=\"matrix(1.1970616,0.35992158,-0.35992158,1.1970616,31.24508,360.17007)\" width=\"1\" x=\"127.194\" xlink:href=\"#md21b4ff0a3\" y=\"155.14859\"/>\n",
        "      <use height=\"1\" id=\"use137967\" style=\"stroke:#000000;stroke-width:0.5;stroke-linecap:butt;stroke-linejoin:round\" transform=\"matrix(1.1970616,0.35992158,-0.35992158,1.1970616,69.77309,328.5065)\" width=\"1\" x=\"133.05756\" xlink:href=\"#md21b4ff0a3\" y=\"149.6394\"/>\n",
        "      <use height=\"1\" id=\"use137969\" style=\"stroke:#000000;stroke-width:0.5;stroke-linecap:butt;stroke-linejoin:round\" transform=\"matrix(1.1970616,0.35992158,-0.35992158,1.1970616,65.16997,340.30779)\" width=\"1\" x=\"138.92113\" xlink:href=\"#md21b4ff0a3\" y=\"155.13899\"/>\n",
        "      <use height=\"1\" id=\"use137971\" style=\"stroke:#000000;stroke-width:0.5;stroke-linecap:butt;stroke-linejoin:round\" transform=\"matrix(1.1970616,0.35992158,-0.35992158,1.1970616,69.77309,328.5065)\" width=\"1\" x=\"144.78468\" xlink:href=\"#md21b4ff0a3\" y=\"152.99017\"/>\n",
        "      <use height=\"1\" id=\"use137973\" style=\"stroke:#000000;stroke-width:0.5;stroke-linecap:butt;stroke-linejoin:round\" transform=\"matrix(1.1970616,0.35992158,-0.35992158,1.1970616,62.12242,339.9189)\" width=\"1\" x=\"150.64825\" xlink:href=\"#md21b4ff0a3\" y=\"160.60689\"/>\n",
        "      <use height=\"1\" id=\"use137975\" style=\"stroke:#000000;stroke-width:0.5;stroke-linecap:butt;stroke-linejoin:round\" transform=\"matrix(1.1970616,0.35992158,-0.35992158,1.1970616,59.83969,354.52751)\" width=\"1\" x=\"156.51181\" xlink:href=\"#md21b4ff0a3\" y=\"160.88554\"/>\n",
        "      <use height=\"1\" id=\"use137977\" style=\"stroke:#000000;stroke-width:0.5;stroke-linecap:butt;stroke-linejoin:round\" transform=\"matrix(-0.91023203,0.85672501,-0.85672501,-0.91023203,481.10663,626.81896)\" width=\"1\" x=\"162.37538\" xlink:href=\"#md21b4ff0a3\" y=\"169.70523\"/>\n",
        "      <use height=\"1\" id=\"use137979\" style=\"stroke:#000000;stroke-width:0.5;stroke-linecap:butt;stroke-linejoin:round\" transform=\"matrix(-0.91023203,0.85672501,-0.85672501,-0.91023203,466.25008,638.10939)\" width=\"1\" x=\"168.23894\" xlink:href=\"#md21b4ff0a3\" y=\"163.40457\"/>\n",
        "      <use height=\"1\" id=\"use137981\" style=\"stroke:#000000;stroke-width:0.5;stroke-linecap:butt;stroke-linejoin:round\" transform=\"matrix(-0.91023203,0.85672501,-0.85672501,-0.91023203,489.71737,625.65048)\" width=\"1\" x=\"174.10249\" xlink:href=\"#md21b4ff0a3\" y=\"159.83852\"/>\n",
        "      <use height=\"1\" id=\"use137983\" style=\"stroke:#000000;stroke-width:0.5;stroke-linecap:butt;stroke-linejoin:round\" transform=\"matrix(-0.91023203,0.85672501,-0.85672501,-0.91023203,469.58527,634.45341)\" width=\"1\" x=\"179.96606\" xlink:href=\"#md21b4ff0a3\" y=\"156.47052\"/>\n",
        "      <path d=\"m 127.54681,592.50987 -10.82418,-20.13172 11.22371,-10.56393 16.80406,5.0525 15.76365,-10.32945 14.65927,-1.39392 15.42731,8.33042 -13.8912,11.11829 6.91054,12.09864 4.48887,16.64463 1.61212,9.16729 4.88986,15.51225 -21.54846,3.63514 -1.168,14.97152\" id=\"path137985\" inkscape:connector-curvature=\"0\" sodipodi:nodetypes=\"cccccccccccccc\" style=\"fill:none;stroke:#000000;stroke-width:1px;stroke-linecap:butt;stroke-linejoin:miter;stroke-opacity:1\"/>\n",
        "      <path d=\"m 97.23866,548.54898 0,111.11678 126.26907,0\" id=\"path138001\" inkscape:connector-curvature=\"0\" style=\"fill:none;stroke:#000000;stroke-width:1px;stroke-linecap:butt;stroke-linejoin:miter;stroke-opacity:1;marker-start:url(#Arrow1Mstart);marker-end:url(#Arrow1Mend)\"/>\n",
        "      <path d=\"m 420.49579,433.5373 c 9.66117,-23.83073 34.55708,-34.2826 55.60656,-23.34491 21.04949,10.93769 30.28154,39.12306 20.62036,62.95379 -6.2656,15.45505 -19.35387,25.93606 -34.31258,27.47732\" id=\"path140733\" sodipodi:cx=\"458.60925\" sodipodi:cy=\"453.34174\" sodipodi:end=\"7.7632224\" sodipodi:open=\"true\" sodipodi:rx=\"41.936195\" sodipodi:ry=\"47.477169\" sodipodi:start=\"3.5718845\" sodipodi:type=\"arc\" style=\"color:#000000;fill:none;stroke:#ff0000;stroke-width:2;stroke-linecap:square;stroke-linejoin:round;stroke-miterlimit:4;stroke-opacity:1;stroke-dasharray:none;stroke-dashoffset:0;marker:none;visibility:visible;display:inline;overflow:visible;enable-background:accumulate\" transform=\"translate(-304.91384,148.82091)\"/>\n",
        "      <text id=\"text140746\" sodipodi:linespacing=\"122%\" style=\"font-size:14px;font-style:normal;font-variant:normal;font-weight:normal;font-stretch:normal;text-align:start;line-height:122.00000286%;letter-spacing:0px;word-spacing:0px;writing-mode:lr-tb;text-anchor:start;fill:#000000;fill-opacity:1;stroke:none;font-family:DejaVu Sans;-inkscape-font-specification:DejaVu Sans\" x=\"112.78427\" xml:space=\"preserve\" y=\"516.59259\"><tspan id=\"tspan140750\" sodipodi:role=\"line\" x=\"112.78427\" y=\"516.59259\">Ellipsis fit</tspan></text>\n",
        "      <text id=\"text3519\" sodipodi:linespacing=\"122%\" style=\"font-size:14px;font-style:normal;font-variant:normal;font-weight:normal;font-stretch:normal;text-align:start;line-height:122.00000286%;letter-spacing:0px;word-spacing:0px;writing-mode:lr-tb;text-anchor:start;fill:#000000;fill-opacity:1;stroke:none;font-family:Arial;-inkscape-font-specification:Sans\" x=\"112.79719\" xml:space=\"preserve\" y=\"605.71576\"><tspan id=\"tspan3521\" sodipodi:role=\"line\" x=\"112.79719\" y=\"605.71576\">t<tspan id=\"tspan3533\" style=\"font-size:65.00091553%;baseline-shift:sub\">0</tspan></tspan></text>\n",
        "      <text id=\"text3525\" sodipodi:linespacing=\"122%\" style=\"font-size:14px;font-style:normal;font-variant:normal;font-weight:normal;font-stretch:normal;text-align:start;line-height:122.00000286%;letter-spacing:0px;word-spacing:0px;writing-mode:lr-tb;text-anchor:start;fill:#000000;fill-opacity:1;stroke:none;font-family:Arial;-inkscape-font-specification:Sans\" x=\"151.94797\" xml:space=\"preserve\" y=\"639.34137\"><tspan id=\"tspan3527\" sodipodi:role=\"line\" x=\"151.94797\" y=\"639.34137\">t<tspan id=\"tspan3535\" style=\"font-size:65.00091553%;baseline-shift:sub\">1</tspan></tspan></text>\n",
        "    </g>\n",
        "    <g id=\"g141443\" style=\"stroke-linecap:butt;stroke-linejoin:round\" transform=\"translate(231.24705,-55.898696)\">\n",
        "      <rect height=\"20.455589\" id=\"rect141375\" ry=\"0\" style=\"color:#000000;fill:#ffffff;stroke:#000000;stroke-width:1;stroke-linecap:square;stroke-linejoin:round;stroke-miterlimit:4;stroke-opacity:1;stroke-dasharray:none;stroke-dashoffset:0;marker:none;visibility:visible;display:inline;overflow:visible;enable-background:accumulate\" width=\"37.375645\" x=\"186.87398\" y=\"618.07745\"/>\n",
        "      <text id=\"text141371\" sodipodi:linespacing=\"122%\" style=\"font-size:14px;font-style:normal;font-variant:normal;font-weight:normal;font-stretch:normal;text-align:end;line-height:122.00000286%;letter-spacing:0px;word-spacing:0px;writing-mode:lr-tb;text-anchor:end;fill:#000000;fill-opacity:1;stroke:none;font-family:DejaVu Sans;-inkscape-font-specification:DejaVu Sans\" x=\"219.11746\" xml:space=\"preserve\" y=\"633.40143\"><tspan id=\"tspan141373\" sodipodi:role=\"line\" x=\"219.11746\" y=\"633.40143\">YES</tspan></text>\n",
        "    </g>\n",
        "    <path d=\"m 343.80884,608.88468 0,50.50763\" id=\"path141423\" inkscape:connector-curvature=\"0\" style=\"fill:none;stroke:#000000;stroke-width:1px;stroke-linecap:butt;stroke-linejoin:miter;stroke-opacity:1;marker-end:url(#Arrow1Lend)\"/>\n",
        "    <g id=\"g141448\" style=\"stroke-linecap:butt;stroke-linejoin:round\" transform=\"translate(138.24705,-113.89869)\">\n",
        "      <rect height=\"20.455589\" id=\"rect141425\" ry=\"0\" style=\"color:#000000;fill:#ffffff;stroke:#000000;stroke-width:1;stroke-linecap:square;stroke-linejoin:round;stroke-miterlimit:4;stroke-opacity:1;stroke-dasharray:none;stroke-dashoffset:0;marker:none;visibility:visible;display:inline;overflow:visible;enable-background:accumulate\" width=\"37.375645\" x=\"186.87398\" y=\"730.9455\"/>\n",
        "      <text id=\"text141427\" sodipodi:linespacing=\"122%\" style=\"font-size:14px;font-style:normal;font-variant:normal;font-weight:normal;font-stretch:normal;text-align:end;line-height:122.00000286%;letter-spacing:0px;word-spacing:0px;writing-mode:lr-tb;text-anchor:end;fill:#000000;fill-opacity:1;stroke:none;font-family:DejaVu Sans;-inkscape-font-specification:DejaVu Sans\" x=\"216.01395\" xml:space=\"preserve\" y=\"746.26947\"><tspan id=\"tspan141429\" sodipodi:role=\"line\" x=\"216.01395\" y=\"746.26947\">NO</tspan></text>\n",
        "    </g>\n",
        "    <path d=\"m 301.42285,577.08539 c 0,10.74352 -40.88138,19.45287 -91.31113,19.45287 -50.42974,0 -91.31112,-8.70935 -91.31112,-19.45287 0,-10.74352 40.88138,-19.45287 91.31112,-19.45287 50.42975,0 91.31113,8.70935 91.31113,19.45287 z\" id=\"path141441\" sodipodi:cx=\"210.11172\" sodipodi:cy=\"577.08539\" sodipodi:rx=\"91.311127\" sodipodi:ry=\"19.452869\" sodipodi:type=\"arc\" style=\"color:#000000;fill:#ff0000;fill-opacity:0.54918033;fill-rule:nonzero;stroke:#000000;stroke-width:1;stroke-linecap:square;stroke-linejoin:round;stroke-miterlimit:4;stroke-opacity:1;stroke-dasharray:none;stroke-dashoffset:0;marker:none;visibility:visible;display:inline;overflow:visible;enable-background:accumulate\" transform=\"translate(133.69711,109.03753)\"/>\n",
        "    <text id=\"text141431\" sodipodi:linespacing=\"122%\" style=\"font-size:14px;font-style:normal;font-variant:normal;font-weight:normal;font-stretch:normal;text-align:end;line-height:122.00000286%;letter-spacing:0px;word-spacing:0px;writing-mode:lr-tb;text-anchor:end;fill:#000000;fill-opacity:1;stroke:none;font-family:DejaVu Sans;-inkscape-font-specification:DejaVu Sans\" x=\"415.73734\" xml:space=\"preserve\" y=\"689.97687\"><tspan id=\"tspan141433\" sodipodi:role=\"line\" x=\"415.73734\" y=\"689.97687\">Rotation(t<tspan id=\"tspan141435\" style=\"font-size:65.00091553%;baseline-shift:sub\">0</tspan> ... t<tspan id=\"tspan141437\" style=\"font-size:65.00091553%;baseline-shift:sub\">1</tspan>) = 0</tspan></text>\n",
        "    <path d=\"m 233.53621,571.41472 38.50763,2e-5\" id=\"path141573\" inkscape:connector-curvature=\"0\" sodipodi:nodetypes=\"cc\" style=\"fill:none;stroke:#000000;stroke-width:1px;stroke-linecap:butt;stroke-linejoin:miter;stroke-opacity:1;marker-end:url(#Arrow1Lend)\"/>\n",
        "    <text id=\"text141575\" sodipodi:linespacing=\"122%\" style=\"font-size:14px;font-style:normal;font-variant:normal;font-weight:normal;font-stretch:normal;text-align:start;line-height:122.00000286%;letter-spacing:0px;word-spacing:0px;writing-mode:lr-tb;text-anchor:start;fill:#000000;fill-opacity:1;stroke:none;font-family:DejaVu Sans;-inkscape-font-specification:DejaVu Sans\" x=\"227.65533\" xml:space=\"preserve\" y=\"558.19055\"><tspan id=\"tspan141579\" sodipodi:role=\"line\" x=\"227.65533\" y=\"558.19055\">Fit data</tspan></text>\n",
        "    <g id=\"g141797\" style=\"stroke-linecap:butt;stroke-linejoin:round\" transform=\"translate(336.51419,-16.697772)\">\n",
        "      <rect height=\"23.614197\" id=\"rect141602\" ry=\"0\" style=\"color:#000000;fill:#ff0000;fill-opacity:0.54918033;fill-rule:nonzero;stroke:none;stroke-width:1;marker:none;visibility:visible;display:inline;overflow:visible;enable-background:accumulate\" width=\"67.59903\" x=\"129.87819\" y=\"770.83215\"/>\n",
        "      <rect height=\"23.614197\" id=\"rect141604\" ry=\"0\" style=\"color:#000000;fill:#55d400;fill-opacity:0.54918033;fill-rule:nonzero;stroke:none;stroke-width:1;marker:none;visibility:visible;display:inline;overflow:visible;enable-background:accumulate\" width=\"99.210976\" x=\"197.4846\" y=\"770.83215\"/>\n",
        "      <rect height=\"23.614197\" id=\"rect141606\" ry=\"0\" style=\"color:#000000;fill:#ff0000;fill-opacity:0.54918033;fill-rule:nonzero;stroke:none;stroke-width:1;marker:none;visibility:visible;display:inline;overflow:visible;enable-background:accumulate\" width=\"40.190205\" x=\"296.80063\" y=\"770.83215\"/>\n",
        "      <text id=\"text141625\" sodipodi:linespacing=\"122%\" style=\"font-size:14px;font-style:normal;font-variant:normal;font-weight:normal;font-stretch:normal;text-align:start;line-height:122.00000286%;letter-spacing:0px;word-spacing:0px;writing-mode:lr-tb;text-anchor:start;fill:#000000;fill-opacity:1;stroke:none;font-family:DejaVu Sans;-inkscape-font-specification:DejaVu Sans\" x=\"215.42831\" xml:space=\"preserve\" y=\"786.50153\"><tspan id=\"tspan141627\" sodipodi:role=\"line\" x=\"215.42831\" y=\"786.50153\">ellipticity</tspan></text>\n",
        "      <text id=\"text141629\" sodipodi:linespacing=\"122%\" style=\"font-size:14px;font-style:normal;font-variant:normal;font-weight:normal;font-stretch:normal;text-align:end;line-height:122.00000286%;letter-spacing:0px;word-spacing:0px;writing-mode:lr-tb;text-anchor:end;fill:#000000;fill-opacity:1;stroke:none;font-family:DejaVu Sans;-inkscape-font-specification:DejaVu Sans\" x=\"202.93468\" xml:space=\"preserve\" y=\"767.51569\"><tspan id=\"tspan141631\" sodipodi:role=\"line\" x=\"202.93468\" y=\"767.51569\">1</tspan></text>\n",
        "      <text id=\"text141633\" sodipodi:linespacing=\"122%\" style=\"font-size:14px;font-style:normal;font-variant:normal;font-weight:normal;font-stretch:normal;text-align:end;line-height:122.00000286%;letter-spacing:0px;word-spacing:0px;writing-mode:lr-tb;text-anchor:end;fill:#000000;fill-opacity:1;stroke:none;font-family:DejaVu Sans;-inkscape-font-specification:DejaVu Sans\" x=\"298.49844\" xml:space=\"preserve\" y=\"767.51569\"><tspan id=\"tspan141635\" sodipodi:role=\"line\" x=\"298.49844\" y=\"767.51569\">3</tspan></text>\n",
        "    </g>\n",
        "    <g id=\"g141789\" style=\"stroke-linecap:butt;stroke-linejoin:round\" transform=\"translate(336.51419,-18.454639)\">\n",
        "      <rect height=\"23.614197\" id=\"rect141645\" ry=\"0\" style=\"color:#000000;fill:#55d400;fill-opacity:0.54918033;fill-rule:nonzero;stroke:none;stroke-width:1;marker:none;visibility:visible;display:inline;overflow:visible;enable-background:accumulate\" width=\"141.06667\" x=\"196.74666\" y=\"824.46747\"/>\n",
        "      <text id=\"text141637\" sodipodi:linespacing=\"122%\" style=\"font-size:14px;font-style:normal;font-variant:normal;font-weight:normal;font-stretch:normal;text-align:start;line-height:122.00000286%;letter-spacing:0px;word-spacing:0px;writing-mode:lr-tb;text-anchor:start;fill:#000000;fill-opacity:1;stroke:none;font-family:DejaVu Sans;-inkscape-font-specification:DejaVu Sans\" x=\"215.42831\" xml:space=\"preserve\" y=\"840.13342\"><tspan id=\"tspan141641\" sodipodi:role=\"line\" x=\"215.42831\" y=\"840.13342\">- log(\u03c7\u00b2)</tspan></text>\n",
        "      <rect height=\"23.614197\" id=\"rect141643\" ry=\"0\" style=\"color:#000000;fill:#ff0000;fill-opacity:0.54918033;fill-rule:nonzero;stroke:none;stroke-width:1;marker:none;visibility:visible;display:inline;overflow:visible;enable-background:accumulate\" width=\"67.59903\" x=\"129.14024\" y=\"824.46747\"/>\n",
        "      <text id=\"text141691\" sodipodi:linespacing=\"122%\" style=\"font-size:14px;font-style:normal;font-variant:normal;font-weight:normal;font-stretch:normal;text-align:end;line-height:122.00000286%;letter-spacing:0px;word-spacing:0px;writing-mode:lr-tb;text-anchor:end;fill:#000000;fill-opacity:1;stroke:none;font-family:DejaVu Sans;-inkscape-font-specification:DejaVu Sans\" x=\"204.80634\" xml:space=\"preserve\" y=\"820.6806\"><tspan id=\"tspan141693\" sodipodi:role=\"line\" x=\"204.80634\" y=\"820.6806\">-3</tspan></text>\n",
        "    </g>\n",
        "    <g id=\"g141778\" style=\"stroke-linecap:butt;stroke-linejoin:round\" transform=\"translate(336.51419,-16.576206)\">\n",
        "      <rect height=\"23.614197\" id=\"rect141695\" ry=\"0\" style=\"color:#000000;fill:#55d400;fill-opacity:0.54918033;fill-rule:nonzero;stroke:none;stroke-width:1;marker:none;visibility:visible;display:inline;overflow:visible;enable-background:accumulate\" width=\"98.634872\" x=\"196.74666\" y=\"874.46747\"/>\n",
        "      <text id=\"text141697\" sodipodi:linespacing=\"122%\" style=\"font-size:14px;font-style:normal;font-variant:normal;font-weight:normal;font-stretch:normal;text-align:start;line-height:122.00000286%;letter-spacing:0px;word-spacing:0px;writing-mode:lr-tb;text-anchor:start;fill:#000000;fill-opacity:1;stroke:none;font-family:DejaVu Sans;-inkscape-font-specification:DejaVu Sans\" x=\"215.42831\" xml:space=\"preserve\" y=\"891.56897\"><tspan id=\"tspan141707\" sodipodi:role=\"line\" x=\"215.42831\" y=\"891.56897\">\u0394\u03b8</tspan></text>\n",
        "      <rect height=\"23.614197\" id=\"rect141701\" ry=\"0\" style=\"color:#000000;fill:#ff0000;fill-opacity:0.54918033;fill-rule:nonzero;stroke:none;stroke-width:1;marker:none;visibility:visible;display:inline;overflow:visible;enable-background:accumulate\" width=\"67.59903\" x=\"129.14024\" y=\"874.46747\"/>\n",
        "      <text id=\"text141703\" sodipodi:linespacing=\"122%\" style=\"font-size:14px;font-style:normal;font-variant:normal;font-weight:normal;font-stretch:normal;text-align:end;line-height:122.00000286%;letter-spacing:0px;word-spacing:0px;writing-mode:lr-tb;text-anchor:end;fill:#000000;fill-opacity:1;stroke:none;font-family:DejaVu Sans;-inkscape-font-specification:DejaVu Sans\" x=\"204.80634\" xml:space=\"preserve\" y=\"870.6806\"><tspan id=\"tspan141709\" sodipodi:role=\"line\" x=\"204.80634\" y=\"870.6806\">60\u00b0</tspan></text>\n",
        "      <rect height=\"23.614197\" id=\"rect141711\" ry=\"0\" style=\"color:#000000;fill:#ff0000;fill-opacity:0.54918033;fill-rule:nonzero;stroke:none;stroke-width:1;marker:none;visibility:visible;display:inline;overflow:visible;enable-background:accumulate\" width=\"40.190205\" x=\"295.3248\" y=\"874.46747\"/>\n",
        "      <text id=\"text141713\" sodipodi:linespacing=\"122%\" style=\"font-size:14px;font-style:normal;font-variant:normal;font-weight:normal;font-stretch:normal;text-align:end;line-height:122.00000286%;letter-spacing:0px;word-spacing:0px;writing-mode:lr-tb;text-anchor:end;fill:#000000;fill-opacity:1;stroke:none;font-family:DejaVu Sans;-inkscape-font-specification:DejaVu Sans\" x=\"304.80634\" xml:space=\"preserve\" y=\"870.6806\"><tspan id=\"tspan141715\" sodipodi:role=\"line\" x=\"304.80634\" y=\"870.6806\">720\u00b0</tspan></text>\n",
        "    </g>\n",
        "    <g id=\"g141767\" style=\"stroke-linecap:butt;stroke-linejoin:round\" transform=\"translate(336.51419,-16.697772)\">\n",
        "      <rect height=\"23.614197\" id=\"rect141717\" ry=\"0\" style=\"color:#000000;fill:#55d400;fill-opacity:0.54918033;fill-rule:nonzero;stroke:none;stroke-width:1;marker:none;visibility:visible;display:inline;overflow:visible;enable-background:accumulate\" width=\"98.634872\" x=\"196.74666\" y=\"926.46747\"/>\n",
        "      <rect height=\"23.614197\" id=\"rect141723\" ry=\"0\" style=\"color:#000000;fill:#ff0000;fill-opacity:0.54918033;fill-rule:nonzero;stroke:none;stroke-width:1;marker:none;visibility:visible;display:inline;overflow:visible;enable-background:accumulate\" width=\"67.59903\" x=\"129.14024\" y=\"926.46747\"/>\n",
        "      <text id=\"text141725\" sodipodi:linespacing=\"122%\" style=\"font-size:14px;font-style:normal;font-variant:normal;font-weight:normal;font-stretch:normal;text-align:end;line-height:122.00000286%;letter-spacing:0px;word-spacing:0px;writing-mode:lr-tb;text-anchor:end;fill:#000000;fill-opacity:1;stroke:none;font-family:DejaVu Sans;-inkscape-font-specification:DejaVu Sans\" x=\"214.80634\" xml:space=\"preserve\" y=\"922.6806\"><tspan id=\"tspan141727\" sodipodi:role=\"line\" x=\"214.80634\" y=\"922.6806\">3 \u00b5m</tspan></text>\n",
        "      <rect height=\"23.614197\" id=\"rect141729\" ry=\"0\" style=\"color:#000000;fill:#ff0000;fill-opacity:0.54918033;fill-rule:nonzero;stroke:none;stroke-width:1;marker:none;visibility:visible;display:inline;overflow:visible;enable-background:accumulate\" width=\"40.190205\" x=\"295.3248\" y=\"926.46747\"/>\n",
        "      <text id=\"text141747\" sodipodi:linespacing=\"122%\" style=\"font-size:14px;font-style:normal;font-variant:normal;font-weight:normal;font-stretch:normal;text-align:end;line-height:122.00000286%;letter-spacing:0px;word-spacing:0px;writing-mode:lr-tb;text-anchor:end;fill:#000000;fill-opacity:1;stroke:none;font-family:DejaVu Sans;-inkscape-font-specification:DejaVu Sans\" x=\"260.02744\" xml:space=\"preserve\" y=\"942.26123\"><tspan id=\"tspan141749\" sodipodi:role=\"line\" x=\"260.02744\" y=\"942.26123\">radius</tspan></text>\n",
        "      <text id=\"text141751\" sodipodi:linespacing=\"122%\" style=\"font-size:14px;font-style:normal;font-variant:normal;font-weight:normal;font-stretch:normal;text-align:end;line-height:122.00000286%;letter-spacing:0px;word-spacing:0px;writing-mode:lr-tb;text-anchor:end;fill:#000000;fill-opacity:1;stroke:none;font-family:DejaVu Sans;-inkscape-font-specification:DejaVu Sans\" x=\"318.80634\" xml:space=\"preserve\" y=\"922.6806\"><tspan id=\"tspan141753\" sodipodi:role=\"line\" x=\"318.80634\" y=\"922.6806\">30 \u00b5m</tspan></text>\n",
        "    </g>\n",
        "    <text id=\"text142431\" sodipodi:linespacing=\"122%\" style=\"font-size:14px;font-style:normal;font-variant:normal;font-weight:normal;font-stretch:normal;text-align:start;line-height:122.00000286%;letter-spacing:0px;word-spacing:0px;writing-mode:lr-tb;text-anchor:start;fill:#000000;fill-opacity:1;stroke:none;font-family:DejaVu Sans;-inkscape-font-specification:DejaVu Sans\" x=\"264.55884\" xml:space=\"preserve\" y=\"760.97113\"><tspan id=\"tspan142433\" sodipodi:role=\"line\" x=\"264.55884\" y=\"760.97113\">ellipticity = b/a</tspan></text>\n",
        "    <text id=\"text142435\" sodipodi:linespacing=\"122%\" style=\"font-size:14px;font-style:normal;font-variant:normal;font-weight:normal;font-stretch:normal;text-align:end;line-height:122.00000286%;letter-spacing:0px;word-spacing:0px;writing-mode:lr-tb;text-anchor:end;fill:#000000;fill-opacity:1;stroke:none;font-family:DejaVu Sans;-inkscape-font-specification:DejaVu Sans\" x=\"426.83682\" xml:space=\"preserve\" y=\"795.63391\"><tspan id=\"tspan142437\" sodipodi:role=\"line\" x=\"426.83682\" y=\"795.63391\"/></text>\n",
        "    <text id=\"text142439\" sodipodi:linespacing=\"122%\" style=\"font-size:14px;font-style:normal;font-variant:normal;font-weight:normal;font-stretch:normal;text-align:start;line-height:122.00000286%;letter-spacing:0px;word-spacing:0px;writing-mode:lr-tb;text-anchor:start;fill:#000000;fill-opacity:1;stroke:none;font-family:DejaVu Sans;-inkscape-font-specification:DejaVu Sans\" x=\"264.05981\" xml:space=\"preserve\" y=\"802.91296\"><tspan id=\"tspan142441\" sodipodi:role=\"line\" x=\"264.05981\" y=\"802.91296\">radius = (b + a) / 2</tspan></text>\n",
        "    <g id=\"g142518\" style=\"stroke-linecap:butt;stroke-linejoin:round\" transform=\"matrix(1.7600222,0,0,1.7600222,-505.85034,-577.8401)\">\n",
        "      <use height=\"1\" id=\"use142455\" style=\"stroke:#000000;stroke-width:0.5;stroke-linecap:butt;stroke-linejoin:round\" transform=\"matrix(-0.91023203,0.85672501,-0.85672501,-0.91023203,720.12336,838.09872)\" width=\"1\" x=\"174.10249\" xlink:href=\"#md21b4ff0a3\" y=\"159.83852\"/>\n",
        "      <use height=\"1\" id=\"use142457\" style=\"stroke:#000000;stroke-width:0.5;stroke-linecap:butt;stroke-linejoin:round\" transform=\"matrix(-0.91023203,0.85672501,-0.85672501,-0.91023203,688.29606,823.04169)\" width=\"1\" x=\"179.96606\" xlink:href=\"#md21b4ff0a3\" y=\"156.47052\"/>\n",
        "      <path d=\"m 420.49579,433.5373 c 9.66117,-23.83073 34.55708,-34.2826 55.60656,-23.34491 21.04949,10.93769 30.28154,39.12306 20.62036,62.95379 -6.2656,15.45505 -19.35387,25.93606 -34.31258,27.47732\" id=\"path140733-6\" sodipodi:cx=\"458.60925\" sodipodi:cy=\"453.34174\" sodipodi:end=\"7.7632224\" sodipodi:open=\"true\" sodipodi:rx=\"41.936195\" sodipodi:ry=\"47.477169\" sodipodi:start=\"3.5718845\" sodipodi:type=\"arc\" style=\"color:#000000;fill:none;stroke:#ff0000;stroke-width:2;stroke-linecap:square;stroke-linejoin:round;stroke-miterlimit:4;stroke-opacity:1;stroke-dasharray:none;stroke-dashoffset:0;marker:none;visibility:visible;display:inline;overflow:visible;enable-background:accumulate\" transform=\"translate(-80.13594,344.33454)\"/>\n",
        "      <path d=\"m 419.00337,798.61643 -40.17902,0 0,-49.04971\" id=\"path141826\" inkscape:connector-curvature=\"0\" style=\"fill:none;stroke:#000000;stroke-width:1px;stroke-linecap:butt;stroke-linejoin:miter;stroke-opacity:1\"/>\n",
        "      <text id=\"text141828\" sodipodi:linespacing=\"122%\" style=\"font-size:14px;font-style:normal;font-variant:normal;font-weight:normal;font-stretch:normal;text-align:end;line-height:122.00000286%;letter-spacing:0px;word-spacing:0px;writing-mode:lr-tb;text-anchor:end;fill:#000000;fill-opacity:1;stroke:none;font-family:DejaVu Sans;-inkscape-font-specification:DejaVu Sans\" x=\"407.26273\" xml:space=\"preserve\" y=\"808.79163\"><tspan id=\"tspan141830\" sodipodi:role=\"line\" x=\"407.26273\" y=\"808.79163\">a</tspan></text>\n",
        "      <text id=\"text141832\" sodipodi:linespacing=\"122%\" style=\"font-size:14px;font-style:normal;font-variant:normal;font-weight:normal;font-stretch:normal;text-align:end;line-height:122.00000286%;letter-spacing:0px;word-spacing:0px;writing-mode:lr-tb;text-anchor:end;fill:#000000;fill-opacity:1;stroke:none;font-family:DejaVu Sans;-inkscape-font-specification:DejaVu Sans\" x=\"376.2153\" xml:space=\"preserve\" y=\"774.87433\"><tspan id=\"tspan141834\" sodipodi:role=\"line\" x=\"376.2153\" y=\"774.87433\">b</tspan></text>\n",
        "      <path d=\"m 339.80347,778.05856 38.92656,20.57019 2.5828,46.58273\" id=\"path141836\" inkscape:connector-curvature=\"0\" sodipodi:nodetypes=\"ccc\" style=\"fill:none;stroke:#b3b3b3;stroke-width:1px;stroke-linecap:butt;stroke-linejoin:miter;stroke-opacity:1\"/>\n",
        "      <path d=\"m 420.49579,433.5373 c 9.66117,-23.83073 34.55708,-34.2826 55.60656,-23.34491 21.04949,10.93769 30.28154,39.12306 20.62036,62.95379 -6.2656,15.45505 -19.35387,25.93606 -34.31258,27.47732\" id=\"path141838\" sodipodi:cx=\"458.60925\" sodipodi:cy=\"453.34174\" sodipodi:end=\"7.7632224\" sodipodi:open=\"true\" sodipodi:rx=\"41.936195\" sodipodi:ry=\"47.477169\" sodipodi:start=\"3.5718845\" sodipodi:type=\"arc\" style=\"color:#000000;fill:none;stroke:#000000;stroke-width:4.03286505;stroke-linecap:square;stroke-linejoin:round;stroke-miterlimit:4;stroke-opacity:1;stroke-dasharray:none;stroke-dashoffset:0;marker:none;marker-start:url(#Arrow1Mstart);visibility:visible;display:inline;overflow:visible;enable-background:accumulate\" transform=\"matrix(0.24796267,0,0,0.24796267,266.19658,685.18665)\"/>\n",
        "      <text id=\"text141697-0\" sodipodi:linespacing=\"122%\" style=\"font-size:14px;font-style:normal;font-variant:normal;font-weight:normal;font-stretch:normal;text-align:start;line-height:122.00000286%;letter-spacing:0px;word-spacing:0px;writing-mode:lr-tb;text-anchor:start;fill:#000000;fill-opacity:1;stroke:none;font-family:DejaVu Sans;-inkscape-font-specification:DejaVu Sans\" x=\"387.62259\" xml:space=\"preserve\" y=\"787.55585\"><tspan id=\"tspan141707-1\" sodipodi:role=\"line\" x=\"387.62259\" y=\"787.55585\">\u0394\u03b8</tspan></text>\n",
        "      <path d=\"m 408.77374,830.43345 15.22976,11.12666\" id=\"path142459\" inkscape:connector-curvature=\"0\" sodipodi:nodetypes=\"cc\" style=\"fill:none;stroke:#000000;stroke-width:1px;stroke-linecap:butt;stroke-linejoin:miter;stroke-opacity:1\"/>\n",
        "      <text id=\"text142461\" sodipodi:linespacing=\"122%\" style=\"font-size:14px;font-style:normal;font-variant:normal;font-weight:normal;font-stretch:normal;text-align:start;line-height:122.00000286%;letter-spacing:0px;word-spacing:0px;writing-mode:lr-tb;text-anchor:start;fill:#000000;fill-opacity:1;stroke:none;font-family:DejaVu Sans;-inkscape-font-specification:DejaVu Sans\" x=\"416.93042\" xml:space=\"preserve\" y=\"830.57159\"><tspan id=\"tspan142465\" sodipodi:role=\"line\" x=\"416.93042\" y=\"830.57159\">\u03b5<tspan id=\"tspan142473\" style=\"font-size:65.00091553%;baseline-shift:sub\">i</tspan></tspan></text>\n",
        "      <path d=\"m 389.78287,835.99041 2.51741,7.25245\" id=\"path142467\" inkscape:connector-curvature=\"0\" sodipodi:nodetypes=\"cc\" style=\"fill:none;stroke:#000000;stroke-width:1px;stroke-linecap:butt;stroke-linejoin:miter;stroke-opacity:1\"/>\n",
        "      <text id=\"text142469\" sodipodi:linespacing=\"122%\" style=\"font-size:14px;font-style:normal;font-variant:normal;font-weight:normal;font-stretch:normal;text-align:start;line-height:122.00000286%;letter-spacing:0px;word-spacing:0px;writing-mode:lr-tb;text-anchor:start;fill:#000000;fill-opacity:1;stroke:none;font-family:DejaVu Sans;-inkscape-font-specification:DejaVu Sans\" x=\"396.0582\" xml:space=\"preserve\" y=\"850.66113\"><tspan id=\"tspan142471\" sodipodi:role=\"line\" x=\"396.0582\" y=\"850.66113\">\u03b5<tspan id=\"tspan142475\" style=\"font-size:65.00091553%;baseline-shift:sub\">j</tspan></tspan></text>\n",
        "    </g>\n",
        "    <text id=\"text142477\" sodipodi:linespacing=\"122%\" style=\"font-size:14px;font-style:normal;font-variant:normal;font-weight:normal;font-stretch:normal;text-align:start;line-height:122.00000286%;letter-spacing:0px;word-spacing:0px;writing-mode:lr-tb;text-anchor:start;fill:#000000;fill-opacity:1;stroke:none;font-family:DejaVu Sans;-inkscape-font-specification:DejaVu Sans\" x=\"264.92798\" xml:space=\"preserve\" y=\"844.85486\"><tspan id=\"tspan142483\" sodipodi:role=\"line\" x=\"264.92798\" y=\"844.85486\">\u03c7\u00b2 = \u03a3\u03b5<tspan id=\"tspan3515\" style=\"font-size:14px;baseline-shift:sub\">k</tspan><tspan id=\"tspan3517\" style=\"font-size:14px;baseline-shift:super\">2</tspan></tspan></text>\n",
        "  </g>\n",
        "</svg>"
       ],
       "text": [
        "<IPython.core.display.SVG at 0x7eff577264a8>"
       ]
      }
     ],
     "prompt_number": 17
    },
    {
     "cell_type": "heading",
     "level": 3,
     "metadata": {},
     "source": [
      "3.2.1 Setting rotation detection cutoffs"
     ]
    },
    {
     "cell_type": "code",
     "collapsed": false,
     "input": [
      "### You can change the name of the file bellow if you're using other cutoffs\n",
      "settings_json = 'ellipsis_cutoffs.json'\n",
      "\n",
      "setter_widget = ct.ui.ipy_widgets.set_ellipsis_limits(jsonfile=settings_json)\n",
      "ellipsis_cutoffs = setter_widget.settings\n",
      "display.display(setter_widget)"
     ],
     "language": "python",
     "metadata": {},
     "outputs": [],
     "prompt_number": 18
    },
    {
     "cell_type": "heading",
     "level": 3,
     "metadata": {},
     "source": [
      "3.2.2 Detection (redo if you change the cutoffs)"
     ]
    },
    {
     "cell_type": "code",
     "collapsed": false,
     "input": [
      "cluster.detect_rotations(ellipsis_cutoffs, sizes, method='binary')"
     ],
     "language": "python",
     "metadata": {},
     "outputs": [],
     "prompt_number": 19
    },
    {
     "cell_type": "heading",
     "level": 3,
     "metadata": {},
     "source": [
      "3.2.3 Plot rotation events"
     ]
    },
    {
     "cell_type": "code",
     "collapsed": false,
     "input": [
      "#ct.graphics.show_ellipses_clusters(cluster, sizes, ellipsis_cutoffs)\n",
      "ax, total_rot, n_detected = ct.graphics.plot_rotation_events(cluster, ax=None,\n",
      "                                                             show_segments=True)"
     ],
     "language": "python",
     "metadata": {},
     "outputs": [],
     "prompt_number": 20
    },
    {
     "cell_type": "heading",
     "level": 3,
     "metadata": {},
     "source": [
      "3.2.4  Save the rotation index to a `csv` file"
     ]
    },
    {
     "cell_type": "code",
     "collapsed": false,
     "input": [
      "csv_fname = cluster.oio.store_path.replace('.h5', '_rotation_index.csv')\n",
      "total_rot.to_csv(csv_fname)\n",
      "print('Rotation index saved to {}'.format(csv_fname))"
     ],
     "language": "python",
     "metadata": {},
     "outputs": []
    },
    {
     "cell_type": "heading",
     "level": 3,
     "metadata": {},
     "source": [
      "3.2.3 Basic stats on the rotation index"
     ]
    },
    {
     "cell_type": "code",
     "collapsed": false,
     "input": [
      "### If you want to compute the rotation index average between\n",
      "### two stacks, set here the number of the first and last ones\n",
      "start_frame = 1\n",
      "end_frame = 7\n",
      "\n",
      "print('Average value of the rotation index between frame {} and {}:'.format(start_frame, end_frame))\n",
      "print('\\t {0:.3f}'.format(total_rot.loc[start_frame: end_frame].mean()))\n",
      "\n",
      "print('Global average of the rotation index: ')\n",
      "print('\\t {0:.3f}'.format(total_rot.mean()))"
     ],
     "language": "python",
     "metadata": {},
     "outputs": []
    },
    {
     "cell_type": "heading",
     "level": 2,
     "metadata": {},
     "source": [
      "3.3 Four panels views of the trajectories and the detected ellipses"
     ]
    },
    {
     "cell_type": "heading",
     "level": 4,
     "metadata": {},
     "source": [
      "Single segment"
     ]
    },
    {
     "cell_type": "code",
     "collapsed": false,
     "input": [
      "cluster.trajs.get_colors()"
     ],
     "language": "python",
     "metadata": {},
     "outputs": []
    },
    {
     "cell_type": "code",
     "collapsed": false,
     "input": [
      "### Get segments and their colors \n",
      "colors = cluster.trajs.get_colors()\n",
      "segments = cluster.trajs.get_segments()\n",
      "\n",
      "### Choose the label\n",
      "label = 3\n",
      "\n",
      "\n",
      "### Grab the corresponding segment\n",
      "segment = segments[label]\n",
      "\n",
      "## Paramters for the scatter plot (the bullets) \n",
      "scatter_kw = {'c':segment.t.astype(np.float),\n",
      "              'cmap':'spectral',\n",
      "              's':40,\n",
      "              'alpha':0.8,\n",
      "              'edgecolors':'none'}\n",
      "\n",
      "## Paramters for the line plot \n",
      "line_kw = {'c': 'gray',\n",
      "           'ls': '-',\n",
      "           'alpha': 0.8,\n",
      "           'lw': 0.75}\n",
      "\n",
      "## Parameters for the ellipses\n",
      "ellipsis_kw = {'c':'k', 'alpha':1., 'lw':0.2}\n",
      "\n",
      "axes, ax_3d = ct.graphics.show_4panel_ellipses(cluster,\n",
      "                                               label,\n",
      "                                               sizes,\n",
      "                                               ellipsis_cutoffs,\n",
      "                                               method=detection_method,\n",
      "                                               scatter_kw=scatter_kw,\n",
      "                                               line_kw=line_kw,\n",
      "                                               ellipsis_kw=ellipsis_kw,\n",
      "                                               axes=None, ax_3d=None)\n",
      "\n",
      "### Setting axes limits\n",
      "ax = axes[0, 0]\n",
      "\n",
      "x_min, x_max = -20, 20\n",
      "y_min, y_max = -20, 20\n",
      "z_min, z_max = -20, 20\n",
      "\n",
      "\n",
      "ax.set_xlim(x_min, x_max)\n",
      "ax.set_ylim(y_min, y_max)\n",
      "ax_3d.set_xlim(x_min, x_max)\n",
      "ax_3d.set_zlim(y_min, y_max)\n",
      "ax_3d.set_zlim(z_min, z_max)\n"
     ],
     "language": "python",
     "metadata": {},
     "outputs": []
    },
    {
     "cell_type": "heading",
     "level": 4,
     "metadata": {},
     "source": [
      "All the segments at once"
     ]
    },
    {
     "cell_type": "code",
     "collapsed": false,
     "input": [
      "axes, ax_3d = None, None\n",
      "\n",
      "### Get segments and their colors \n",
      "colors = cluster.trajs.get_colors()\n",
      "segments = cluster.trajs.get_segments()\n",
      "\n",
      "### Choose the label\n",
      "label = 4\n",
      "\n",
      "for label in cluster.trajs.labels:\n",
      "\n",
      "    ### Grab the corresponding segment\n",
      "    segment = segments[label]\n",
      "\n",
      "\n",
      "    ## Paramters for the scatter plot (the bullets) \n",
      "    scatter_kw = {'c':segment.t.astype(np.float),\n",
      "                  'cmap':'spectral',\n",
      "                  's':40,\n",
      "                  'alpha':0.8,\n",
      "                  'edgecolors':'none'}\n",
      "\n",
      "    ## Paramters for the line plot \n",
      "    line_kw = {'c': 'gray',\n",
      "               'ls': '-',\n",
      "               'alpha': 0.8,\n",
      "               'lw': 0.75}\n",
      "\n",
      "    ## Parameters for the ellipses\n",
      "    ellipsis_kw = {'c':'r', 'alpha':0.5, 'lw':1}\n",
      "\n",
      "    axes, ax_3d = ct.graphics.show_4panel_ellipses(cluster,\n",
      "                                                   label,\n",
      "                                                   sizes,\n",
      "                                                   ellipsis_cutoffs,\n",
      "                                                   scatter_kw=scatter_kw,\n",
      "                                                   line_kw=line_kw,\n",
      "                                                   ellipsis_kw=ellipsis_kw,\n",
      "                                                   axes=axes, ax_3d=ax_3d)\n",
      "\n",
      "### Setting axes limits\n",
      "ax = axes[0, 0]\n",
      "\n",
      "x_min, x_max = -20, 20\n",
      "y_min, y_max = -20, 20\n",
      "z_min, z_max = -20, 20\n",
      "\n",
      "\n",
      "ax.set_xlim(x_min, x_max)\n",
      "ax.set_ylim(y_min, y_max)\n",
      "ax_3d.set_xlim(x_min, x_max)\n",
      "ax_3d.set_zlim(y_min, y_max)\n",
      "ax_3d.set_zlim(z_min, z_max)\n"
     ],
     "language": "python",
     "metadata": {},
     "outputs": [
      {
       "metadata": {},
       "output_type": "pyout",
       "prompt_number": 21,
       "text": [
        "(-20, 20)"
       ]
      }
     ],
     "prompt_number": 21
    },
    {
     "cell_type": "heading",
     "level": 2,
     "metadata": {},
     "source": [
      "3.4 Rotation quantification"
     ]
    },
    {
     "cell_type": "code",
     "collapsed": false,
     "input": [
      "display.SVG('measure_rotation.svg')"
     ],
     "language": "python",
     "metadata": {},
     "outputs": [
      {
       "metadata": {},
       "output_type": "pyout",
       "prompt_number": 24,
       "svg": [
        "<svg height=\"210.78433\" id=\"svg8277\" inkscape:version=\"0.48.4 r9939\" sodipodi:docname=\"measure_rotation.svg\" version=\"1.1\" width=\"741.37073\" xmlns=\"http://www.w3.org/2000/svg\" xmlns:cc=\"http://creativecommons.org/ns#\" xmlns:dc=\"http://purl.org/dc/elements/1.1/\" xmlns:inkscape=\"http://www.inkscape.org/namespaces/inkscape\" xmlns:rdf=\"http://www.w3.org/1999/02/22-rdf-syntax-ns#\" xmlns:sodipodi=\"http://sodipodi.sourceforge.net/DTD/sodipodi-0.dtd\" xmlns:svg=\"http://www.w3.org/2000/svg\">\n",
        "  <defs id=\"defs8279\">\n",
        "    <marker id=\"Arrow1Mend\" inkscape:stockid=\"Arrow1Mend\" orient=\"auto\" refX=\"0\" refY=\"0\" style=\"overflow:visible\">\n",
        "      <path d=\"M 0,0 5,-5 -12.5,0 5,5 0,0 z\" id=\"path3982\" inkscape:connector-curvature=\"0\" style=\"fill-rule:evenodd;stroke:#000000;stroke-width:1pt\" transform=\"matrix(-0.4,0,0,-0.4,-4,0)\"/>\n",
        "    </marker>\n",
        "    <marker id=\"marker8297\" inkscape:stockid=\"Arrow1Mend\" orient=\"auto\" refX=\"0\" refY=\"0\" style=\"overflow:visible\">\n",
        "      <path d=\"M 0,0 5,-5 -12.5,0 5,5 0,0 z\" id=\"path8299\" inkscape:connector-curvature=\"0\" style=\"fill-rule:evenodd;stroke:#000000;stroke-width:1pt\" transform=\"matrix(-0.4,0,0,-0.4,-4,0)\"/>\n",
        "    </marker>\n",
        "    <marker id=\"marker8301\" inkscape:stockid=\"Arrow1Mend\" orient=\"auto\" refX=\"0\" refY=\"0\" style=\"overflow:visible\">\n",
        "      <path d=\"M 0,0 5,-5 -12.5,0 5,5 0,0 z\" id=\"path8303\" inkscape:connector-curvature=\"0\" style=\"fill-rule:evenodd;stroke:#000000;stroke-width:1pt\" transform=\"matrix(-0.4,0,0,-0.4,-4,0)\"/>\n",
        "    </marker>\n",
        "    <marker id=\"Arrow1Mstart\" inkscape:stockid=\"Arrow1Mstart\" orient=\"auto\" refX=\"0\" refY=\"0\" style=\"overflow:visible\">\n",
        "      <path d=\"M 0,0 5,-5 -12.5,0 5,5 0,0 z\" id=\"path3979\" inkscape:connector-curvature=\"0\" style=\"fill-rule:evenodd;stroke:#000000;stroke-width:1pt\" transform=\"matrix(0.4,0,0,0.4,4,0)\"/>\n",
        "    </marker>\n",
        "    <marker id=\"marker8307\" inkscape:stockid=\"Arrow1Mend\" orient=\"auto\" refX=\"0\" refY=\"0\" style=\"overflow:visible\">\n",
        "      <path d=\"M 0,0 5,-5 -12.5,0 5,5 0,0 z\" id=\"path8309\" inkscape:connector-curvature=\"0\" style=\"fill-rule:evenodd;stroke:#000000;stroke-width:1pt\" transform=\"matrix(-0.4,0,0,-0.4,-4,0)\"/>\n",
        "    </marker>\n",
        "    <marker id=\"Arrow1Mstart-2\" inkscape:stockid=\"Arrow1Mstart\" orient=\"auto\" refX=\"0\" refY=\"0\" style=\"overflow:visible\">\n",
        "      <path d=\"M 0,0 5,-5 -12.5,0 5,5 0,0 z\" id=\"path3979-9\" inkscape:connector-curvature=\"0\" style=\"fill-rule:evenodd;stroke:#000000;stroke-width:1pt\" transform=\"matrix(0.4,0,0,0.4,4,0)\"/>\n",
        "    </marker>\n",
        "    <marker id=\"Arrow1Mend-8\" inkscape:stockid=\"Arrow1Mend\" orient=\"auto\" refX=\"0\" refY=\"0\" style=\"overflow:visible\">\n",
        "      <path d=\"M 0,0 5,-5 -12.5,0 5,5 0,0 z\" id=\"path3982-1\" inkscape:connector-curvature=\"0\" style=\"fill-rule:evenodd;stroke:#000000;stroke-width:1pt\" transform=\"matrix(-0.4,0,0,-0.4,-4,0)\"/>\n",
        "    </marker>\n",
        "    <marker id=\"marker8437\" inkscape:stockid=\"Arrow1Mstart\" orient=\"auto\" refX=\"0\" refY=\"0\" style=\"overflow:visible\">\n",
        "      <path d=\"M 0,0 5,-5 -12.5,0 5,5 0,0 z\" id=\"path8439\" inkscape:connector-curvature=\"0\" style=\"fill-rule:evenodd;stroke:#000000;stroke-width:1pt\" transform=\"matrix(0.4,0,0,0.4,4,0)\"/>\n",
        "    </marker>\n",
        "    <marker id=\"marker8441\" inkscape:stockid=\"Arrow1Mstart\" orient=\"auto\" refX=\"0\" refY=\"0\" style=\"overflow:visible\">\n",
        "      <path d=\"M 0,0 5,-5 -12.5,0 5,5 0,0 z\" id=\"path8443\" inkscape:connector-curvature=\"0\" style=\"fill-rule:evenodd;stroke:#000000;stroke-width:1pt\" transform=\"matrix(0.4,0,0,0.4,4,0)\"/>\n",
        "    </marker>\n",
        "    <marker id=\"marker8445\" inkscape:stockid=\"Arrow1Mstart\" orient=\"auto\" refX=\"0\" refY=\"0\" style=\"overflow:visible\">\n",
        "      <path d=\"M 0,0 5,-5 -12.5,0 5,5 0,0 z\" id=\"path8447\" inkscape:connector-curvature=\"0\" style=\"fill-rule:evenodd;stroke:#000000;stroke-width:1pt\" transform=\"matrix(0.4,0,0,0.4,4,0)\"/>\n",
        "    </marker>\n",
        "    <marker id=\"marker8449\" inkscape:stockid=\"Arrow1Mend\" orient=\"auto\" refX=\"0\" refY=\"0\" style=\"overflow:visible\">\n",
        "      <path d=\"M 0,0 5,-5 -12.5,0 5,5 0,0 z\" id=\"path8451\" inkscape:connector-curvature=\"0\" style=\"fill-rule:evenodd;stroke:#000000;stroke-width:1pt\" transform=\"matrix(-0.4,0,0,-0.4,-4,0)\"/>\n",
        "    </marker>\n",
        "    <marker id=\"marker8453\" inkscape:stockid=\"Arrow1Mend\" orient=\"auto\" refX=\"0\" refY=\"0\" style=\"overflow:visible\">\n",
        "      <path d=\"M 0,0 5,-5 -12.5,0 5,5 0,0 z\" id=\"path8455\" inkscape:connector-curvature=\"0\" style=\"fill-rule:evenodd;stroke:#000000;stroke-width:1pt\" transform=\"matrix(-0.4,0,0,-0.4,-4,0)\"/>\n",
        "    </marker>\n",
        "    <marker id=\"marker8457\" inkscape:stockid=\"Arrow1Mend\" orient=\"auto\" refX=\"0\" refY=\"0\" style=\"overflow:visible\">\n",
        "      <path d=\"M 0,0 5,-5 -12.5,0 5,5 0,0 z\" id=\"path8459\" inkscape:connector-curvature=\"0\" style=\"fill-rule:evenodd;stroke:#000000;stroke-width:1pt\" transform=\"matrix(-0.4,0,0,-0.4,-4,0)\"/>\n",
        "    </marker>\n",
        "    <marker id=\"marker8461\" inkscape:stockid=\"Arrow1Mend\" orient=\"auto\" refX=\"0\" refY=\"0\" style=\"overflow:visible\">\n",
        "      <path d=\"M 0,0 5,-5 -12.5,0 5,5 0,0 z\" id=\"path8463\" inkscape:connector-curvature=\"0\" style=\"fill-rule:evenodd;stroke:#000000;stroke-width:1pt\" transform=\"matrix(-0.4,0,0,-0.4,-4,0)\"/>\n",
        "    </marker>\n",
        "    <marker id=\"marker8465\" inkscape:stockid=\"Arrow1Mstart\" orient=\"auto\" refX=\"0\" refY=\"0\" style=\"overflow:visible\">\n",
        "      <path d=\"M 0,0 5,-5 -12.5,0 5,5 0,0 z\" id=\"path8467\" inkscape:connector-curvature=\"0\" style=\"fill-rule:evenodd;stroke:#000000;stroke-width:1pt\" transform=\"matrix(0.4,0,0,0.4,4,0)\"/>\n",
        "    </marker>\n",
        "    <marker id=\"marker8469\" inkscape:stockid=\"Arrow1Mend\" orient=\"auto\" refX=\"0\" refY=\"0\" style=\"overflow:visible\">\n",
        "      <path d=\"M 0,0 5,-5 -12.5,0 5,5 0,0 z\" id=\"path8471\" inkscape:connector-curvature=\"0\" style=\"fill-rule:evenodd;stroke:#000000;stroke-width:1pt\" transform=\"matrix(-0.4,0,0,-0.4,-4,0)\"/>\n",
        "    </marker>\n",
        "    <marker id=\"marker8473\" inkscape:stockid=\"Arrow1Mstart\" orient=\"auto\" refX=\"0\" refY=\"0\" style=\"overflow:visible\">\n",
        "      <path d=\"M 0,0 5,-5 -12.5,0 5,5 0,0 z\" id=\"path8475\" inkscape:connector-curvature=\"0\" style=\"fill-rule:evenodd;stroke:#000000;stroke-width:1pt\" transform=\"matrix(0.4,0,0,0.4,4,0)\"/>\n",
        "    </marker>\n",
        "    <marker id=\"marker8477\" inkscape:stockid=\"Arrow1Mstart\" orient=\"auto\" refX=\"0\" refY=\"0\" style=\"overflow:visible\">\n",
        "      <path d=\"M 0,0 5,-5 -12.5,0 5,5 0,0 z\" id=\"path8479\" inkscape:connector-curvature=\"0\" style=\"fill-rule:evenodd;stroke:#000000;stroke-width:1pt\" transform=\"matrix(0.4,0,0,0.4,4,0)\"/>\n",
        "    </marker>\n",
        "    <marker id=\"marker8481\" inkscape:stockid=\"Arrow1Mend\" orient=\"auto\" refX=\"0\" refY=\"0\" style=\"overflow:visible\">\n",
        "      <path d=\"M 0,0 5,-5 -12.5,0 5,5 0,0 z\" id=\"path8483\" inkscape:connector-curvature=\"0\" style=\"fill-rule:evenodd;stroke:#000000;stroke-width:1pt\" transform=\"matrix(-0.4,0,0,-0.4,-4,0)\"/>\n",
        "    </marker>\n",
        "    <marker id=\"Arrow1Mstart-6\" inkscape:stockid=\"Arrow1Mstart\" orient=\"auto\" refX=\"0\" refY=\"0\" style=\"overflow:visible\">\n",
        "      <path d=\"M 0,0 5,-5 -12.5,0 5,5 0,0 z\" id=\"path3979-4\" inkscape:connector-curvature=\"0\" style=\"fill-rule:evenodd;stroke:#000000;stroke-width:1pt\" transform=\"matrix(0.4,0,0,0.4,4,0)\"/>\n",
        "    </marker>\n",
        "  </defs>\n",
        "  <sodipodi:namedview bordercolor=\"#666666\" borderopacity=\"1.0\" fit-margin-bottom=\"10\" fit-margin-left=\"10\" fit-margin-right=\"10\" fit-margin-top=\"10\" id=\"base\" inkscape:current-layer=\"layer1\" inkscape:cx=\"224.1605\" inkscape:cy=\"86.753301\" inkscape:document-units=\"px\" inkscape:guide-bbox=\"true\" inkscape:object-nodes=\"true\" inkscape:pageopacity=\"0.0\" inkscape:pageshadow=\"2\" inkscape:snap-object-midpoints=\"true\" inkscape:window-height=\"1038\" inkscape:window-maximized=\"0\" inkscape:window-width=\"1671\" inkscape:window-x=\"1934\" inkscape:window-y=\"9\" inkscape:zoom=\"2.8\" pagecolor=\"#ffffff\" showgrid=\"false\" showguides=\"true\">\n",
        "    <sodipodi:guide id=\"guide9124\" orientation=\"0,1\" position=\"207.4865,28.38939\"/>\n",
        "  </sodipodi:namedview>\n",
        "  <metadata id=\"metadata8282\">\n",
        "    <rdf:RDF>\n",
        "      <cc:Work rdf:about=\"\">\n",
        "        <dc:format>image/svg+xml</dc:format>\n",
        "        <dc:type rdf:resource=\"http://purl.org/dc/dcmitype/StillImage\"/>\n",
        "        <dc:title/>\n",
        "      </cc:Work>\n",
        "    </rdf:RDF>\n",
        "  </metadata>\n",
        "  <g id=\"layer1\" inkscape:groupmode=\"layer\" inkscape:label=\"Calque 1\" transform=\"translate(-7.6759922,-6.28681)\">\n",
        "    <path d=\"m 26.44115,71.705152 56.08614,4.21099 54.20929,-17.90997 21.70981,46.765788 37.68697,57.92263\" id=\"path7119\" inkscape:connector-curvature=\"0\" sodipodi:nodetypes=\"ccccc\" style=\"fill:none;stroke:#bc2122;stroke-width:2;stroke-linecap:butt;stroke-linejoin:miter;stroke-miterlimit:4;stroke-opacity:1;stroke-dasharray:none\"/>\n",
        "    <text id=\"text7141\" sodipodi:linespacing=\"122%\" style=\"font-size:12px;font-style:normal;font-variant:normal;font-weight:normal;font-stretch:normal;text-align:start;line-height:122.00000286%;letter-spacing:0px;word-spacing:0px;writing-mode:lr-tb;text-anchor:start;fill:#000000;fill-opacity:1;stroke:none;font-family:Arial;-inkscape-font-specification:Sans\" x=\"69.715485\" xml:space=\"preserve\" y=\"31.933596\"><tspan id=\"tspan7143\" sodipodi:role=\"line\" x=\"69.715485\" y=\"31.933596\">y'</tspan></text>\n",
        "    <path d=\"m 220,169.50504 a 10,10 0 1 1 -20,0 10,10 0 1 1 20,0 z\" id=\"path8271\" sodipodi:cx=\"210\" sodipodi:cy=\"169.50504\" sodipodi:rx=\"10\" sodipodi:ry=\"10\" sodipodi:type=\"arc\" style=\"color:#000000;fill:#dd2a2b;fill-opacity:1;fill-rule:nonzero;stroke:none;stroke-width:1;marker:none;visibility:visible;display:inline;overflow:visible;enable-background:accumulate\" transform=\"matrix(0.57560973,-0.91622496,0.99698526,0.52898273,-154.32377,160.87574)\"/>\n",
        "    <path d=\"m 220,169.50504 a 10,10 0 1 1 -20,0 10,10 0 1 1 20,0 z\" id=\"path7121\" sodipodi:cx=\"210\" sodipodi:cy=\"169.50504\" sodipodi:rx=\"10\" sodipodi:ry=\"10\" sodipodi:type=\"arc\" style=\"color:#000000;fill:#dd2a2b;fill-opacity:1;fill-rule:nonzero;stroke:none;stroke-width:1;marker:none;visibility:visible;display:inline;overflow:visible;enable-background:accumulate\" transform=\"matrix(0.57560973,-0.91622496,0.99698526,0.52898273,-263.43092,174.44716)\"/>\n",
        "    <path d=\"m 215.16249,188.68175 -158.52292,0 m 8,8 0,-169.368788\" id=\"path7139\" inkscape:connector-curvature=\"0\" sodipodi:nodetypes=\"cccc\" style=\"fill:none;stroke:#000000;stroke-width:1px;stroke-linecap:butt;stroke-linejoin:miter;stroke-opacity:1;marker-start:url(#Arrow1Mstart);marker-end:url(#Arrow1Mend)\"/>\n",
        "    <text id=\"text7145\" sodipodi:linespacing=\"122%\" style=\"font-size:12px;font-style:normal;font-variant:normal;font-weight:normal;font-stretch:normal;text-align:start;line-height:122.00000286%;letter-spacing:0px;word-spacing:0px;writing-mode:lr-tb;text-anchor:start;fill:#000000;fill-opacity:1;stroke:none;font-family:Arial;-inkscape-font-specification:Sans\" x=\"201.77182\" xml:space=\"preserve\" y=\"207.01639\"><tspan id=\"tspan7147\" sodipodi:role=\"line\" x=\"201.77182\" y=\"207.01639\">x'</tspan></text>\n",
        "    <path d=\"M 136.73658,58.006172 64.48277,188.627\" id=\"path7151\" inkscape:connector-curvature=\"0\" sodipodi:nodetypes=\"cc\" style=\"fill:#a8a8a8;stroke:#999999;stroke-width:1px;stroke-linecap:butt;stroke-linejoin:miter;stroke-opacity:1\"/>\n",
        "    <path d=\"m 136.47586,57.793242 50.42573,26.25581\" id=\"path7413\" inkscape:connector-curvature=\"0\" sodipodi:nodetypes=\"cc\" style=\"fill:#a8a8a8;stroke:#999999;stroke-width:1px;stroke-linecap:butt;stroke-linejoin:miter;stroke-opacity:1\"/>\n",
        "    <path d=\"m 136.47586,57.793242 20.63919,-39.42602\" id=\"path7415\" inkscape:connector-curvature=\"0\" sodipodi:nodetypes=\"cc\" style=\"fill:none;stroke:#000000;stroke-width:1px;stroke-linecap:butt;stroke-linejoin:miter;stroke-opacity:1;marker-end:url(#Arrow1Mend)\"/>\n",
        "    <path d=\"m 157.89192,16.732062 46.40929,24.163 -21.74791,40.40431\" id=\"path7417\" inkscape:connector-curvature=\"0\" sodipodi:nodetypes=\"ccc\" style=\"fill:none;stroke:#999999;stroke-width:1px;stroke-linecap:butt;stroke-linejoin:miter;stroke-opacity:1\"/>\n",
        "    <path d=\"m 136.47586,57.793242 44.87525,23.37165\" id=\"path7419\" inkscape:connector-curvature=\"0\" sodipodi:nodetypes=\"cc\" style=\"fill:none;stroke:#000000;stroke-width:1px;stroke-linecap:butt;stroke-linejoin:miter;stroke-opacity:1;marker-end:url(#Arrow1Mend)\"/>\n",
        "    <path d=\"m 136.47586,57.793242 66.84879,-16.63181\" id=\"path7223\" inkscape:connector-curvature=\"0\" sodipodi:nodetypes=\"cc\" style=\"fill:none;stroke:#000000;stroke-width:1px;stroke-linecap:butt;stroke-linejoin:miter;stroke-opacity:1;marker-end:url(#Arrow1Mend)\"/>\n",
        "    <text id=\"text7422\" sodipodi:linespacing=\"122%\" style=\"font-size:16.46768951px;font-style:normal;font-variant:normal;font-weight:normal;font-stretch:normal;text-align:start;line-height:122.00000286%;letter-spacing:0px;word-spacing:0px;writing-mode:lr-tb;text-anchor:start;fill:#000000;fill-opacity:1;stroke:none;font-family:Arial;-inkscape-font-specification:Sans\" transform=\"scale(1.0000618,0.99993821)\" x=\"204.2886\" xml:space=\"preserve\" y=\"40.897587\"><tspan id=\"tspan7424\" sodipodi:role=\"line\" x=\"204.2886\" y=\"40.897587\">v<tspan id=\"tspan7426\" style=\"font-size:10.70414829px;baseline-shift:sub\">t</tspan></tspan></text>\n",
        "    <text id=\"text7428\" sodipodi:linespacing=\"122%\" style=\"font-size:16.46667099px;font-style:normal;font-variant:normal;font-weight:normal;font-stretch:normal;text-align:start;line-height:122.00000286%;letter-spacing:0px;word-spacing:0px;writing-mode:lr-tb;text-anchor:start;fill:#000000;fill-opacity:1;stroke:none;font-family:Arial;-inkscape-font-specification:Sans\" x=\"129.76511\" xml:space=\"preserve\" y=\"38.642876\"><tspan id=\"tspan7430\" sodipodi:role=\"line\" x=\"129.76511\" y=\"38.642876\">v<tspan id=\"tspan7432\" style=\"font-size:10.70348644px;baseline-shift:sub\">t</tspan><tspan id=\"tspan7436\" style=\"font-size:8.23333549px;baseline-shift:super\">\u2534</tspan></tspan></text>\n",
        "    <text id=\"text7438\" sodipodi:linespacing=\"122%\" style=\"font-size:16.46667099px;font-style:normal;font-variant:normal;font-weight:normal;font-stretch:normal;text-align:start;line-height:122.00000286%;letter-spacing:0px;word-spacing:0px;writing-mode:lr-tb;text-anchor:start;fill:#000000;fill-opacity:1;stroke:none;font-family:Arial;-inkscape-font-specification:Sans\" x=\"151.46957\" xml:space=\"preserve\" y=\"87.460419\"><tspan id=\"tspan7440\" sodipodi:role=\"line\" x=\"151.46957\" y=\"87.460419\">v<tspan id=\"tspan7442\" style=\"font-size:10.70348644px;baseline-shift:sub\">t</tspan><tspan id=\"tspan7450\" style=\"font-size:10.70348644px;baseline-shift:super\">\u05f0</tspan></tspan></text>\n",
        "    <path d=\"m 220,169.50504 a 10,10 0 1 1 -20,0 10,10 0 1 1 20,0 z\" id=\"path8265\" sodipodi:cx=\"210\" sodipodi:cy=\"169.50504\" sodipodi:rx=\"10\" sodipodi:ry=\"10\" sodipodi:type=\"arc\" style=\"color:#000000;fill:#dd2a2b;fill-opacity:1;fill-rule:nonzero;stroke:none;stroke-width:1;marker:none;visibility:visible;display:inline;overflow:visible;enable-background:accumulate\" transform=\"matrix(0.57560973,-0.91622496,0.99698526,0.52898273,-208.78806,178.73288)\"/>\n",
        "    <path d=\"m 220,169.50504 a 10,10 0 1 1 -20,0 10,10 0 1 1 20,0 z\" id=\"path8273\" sodipodi:cx=\"210\" sodipodi:cy=\"169.50504\" sodipodi:rx=\"10\" sodipodi:ry=\"10\" sodipodi:type=\"arc\" style=\"color:#000000;fill:#dd2a2b;fill-opacity:1;fill-rule:nonzero;stroke:none;stroke-width:1;marker:none;visibility:visible;display:inline;overflow:visible;enable-background:accumulate\" transform=\"matrix(0.57560973,-0.91622496,0.99698526,0.52898273,-131.46663,208.91146)\"/>\n",
        "    <path d=\"m 220,169.50504 a 10,10 0 1 1 -20,0 10,10 0 1 1 20,0 z\" id=\"path8275\" sodipodi:cx=\"210\" sodipodi:cy=\"169.50504\" sodipodi:rx=\"10\" sodipodi:ry=\"10\" sodipodi:type=\"arc\" style=\"color:#000000;fill:#dd2a2b;fill-opacity:1;fill-rule:nonzero;stroke:none;stroke-width:1;marker:none;visibility:visible;display:inline;overflow:visible;enable-background:accumulate\" transform=\"matrix(0.57560973,-0.91622496,0.99698526,0.52898273,-96.11129,262.95463)\"/>\n",
        "    <g id=\"g9539\" transform=\"translate(437.71429,-0.65714772)\">\n",
        "      <path d=\"m 220,169.50504 c 0,5.52284 -4.47715,10 -10,10 -5.52285,0 -10,-4.47716 -10,-10 0,-5.52285 4.47715,-10 10,-10 5.52285,0 10,4.47715 10,10 z\" id=\"path8810\" sodipodi:cx=\"210\" sodipodi:cy=\"169.50504\" sodipodi:rx=\"10\" sodipodi:ry=\"10\" sodipodi:type=\"arc\" style=\"color:#000000;fill:#dd2a2b;fill-opacity:1;fill-rule:nonzero;stroke:none;stroke-width:1;marker:none;visibility:visible;display:inline;overflow:visible;enable-background:accumulate\" transform=\"matrix(0.57560973,-0.91622496,0.99698526,0.52898273,-174.77477,233.97971)\"/>\n",
        "      <path d=\"m 220,169.50504 c 0,5.52284 -4.47715,10 -10,10 -5.52285,0 -10,-4.47716 -10,-10 0,-5.52285 4.47715,-10 10,-10 5.52285,0 10,4.47715 10,10 z\" id=\"path8812\" sodipodi:cx=\"210\" sodipodi:cy=\"169.50504\" sodipodi:rx=\"10\" sodipodi:ry=\"10\" sodipodi:type=\"arc\" style=\"color:#000000;fill:#dd2a2b;fill-opacity:1;fill-rule:nonzero;stroke:none;stroke-width:1;marker:none;visibility:visible;display:inline;overflow:visible;enable-background:accumulate\" transform=\"matrix(0.57560973,-0.91622496,0.99698526,0.52898273,-145.45406,189.92603)\"/>\n",
        "      <path d=\"m 220,169.50504 c 0,5.52284 -4.47715,10 -10,10 -5.52285,0 -10,-4.47716 -10,-10 0,-5.52285 4.47715,-10 10,-10 5.52285,0 10,4.47715 10,10 z\" id=\"path8814\" sodipodi:cx=\"210\" sodipodi:cy=\"169.50504\" sodipodi:rx=\"10\" sodipodi:ry=\"10\" sodipodi:type=\"arc\" style=\"color:#000000;fill:#dd2a2b;fill-opacity:1;fill-rule:nonzero;stroke:none;stroke-width:1;marker:none;visibility:visible;display:inline;overflow:visible;enable-background:accumulate\" transform=\"matrix(0.57560973,-0.91622496,0.99698526,0.52898273,-89.895671,158.86384)\"/>\n",
        "      <path d=\"m 220,169.50504 c 0,5.52284 -4.47715,10 -10,10 -5.52285,0 -10,-4.47716 -10,-10 0,-5.52285 4.47715,-10 10,-10 5.52285,0 10,4.47715 10,10 z\" id=\"path8816\" sodipodi:cx=\"210\" sodipodi:cy=\"169.50504\" sodipodi:rx=\"10\" sodipodi:ry=\"10\" sodipodi:type=\"arc\" style=\"color:#000000;fill:#dd2a2b;fill-opacity:1;fill-rule:nonzero;stroke:none;stroke-width:1;marker:none;visibility:visible;display:inline;overflow:visible;enable-background:accumulate\" transform=\"matrix(0.57560973,-0.91622496,0.99698526,0.52898273,-77.77384,189.79977)\"/>\n",
        "      <path d=\"m 44.891704,141.8443 69.682576,-9.32114 27.14058,-46.202661 58.71125,-30.74571 11.59778,31.4884 69.45535,81.576401\" id=\"path4900\" inkscape:connector-curvature=\"0\" sodipodi:nodetypes=\"cccccc\" style=\"fill:none;stroke:#bc2122;stroke-width:2;stroke-linecap:butt;stroke-linejoin:miter;stroke-miterlimit:4;stroke-opacity:1;stroke-dasharray:none\"/>\n",
        "      <path d=\"m 220,169.50504 c 0,5.52284 -4.47715,10 -10,10 -5.52285,0 -10,-4.47716 -10,-10 0,-5.52285 4.47715,-10 10,-10 5.52285,0 10,4.47715 10,10 z\" id=\"path4902\" sodipodi:cx=\"210\" sodipodi:cy=\"169.50504\" sodipodi:rx=\"10\" sodipodi:ry=\"10\" sodipodi:type=\"arc\" style=\"color:#000000;fill:#dd2a2b;fill-opacity:1;fill-rule:nonzero;stroke:none;stroke-width:1;marker:none;visibility:visible;display:inline;overflow:visible;enable-background:accumulate\" transform=\"matrix(0.57560973,-0.91622496,0.99698526,0.52898273,-244.98037,244.58631)\"/>\n",
        "      <path d=\"m 294.59175,189.3389 -264.522925,0 0,-131.368791\" id=\"path4976\" inkscape:connector-curvature=\"0\" sodipodi:nodetypes=\"ccc\" style=\"fill:none;stroke:#000000;stroke-width:1px;stroke-linecap:butt;stroke-linejoin:miter;stroke-opacity:1;marker-start:url(#Arrow1Mstart);marker-end:url(#Arrow1Mend)\"/>\n",
        "      <text id=\"text4978\" sodipodi:linespacing=\"122%\" style=\"font-size:12px;font-style:normal;font-variant:normal;font-weight:normal;font-stretch:normal;text-align:start;line-height:122.00000286%;letter-spacing:0px;word-spacing:0px;writing-mode:lr-tb;text-anchor:start;fill:#000000;fill-opacity:1;stroke:none;font-family:Arial;-inkscape-font-specification:Sans\" x=\"273.48264\" xml:space=\"preserve\" y=\"203.78972\"><tspan id=\"tspan4980\" sodipodi:role=\"line\" x=\"273.48264\" y=\"203.78972\">x</tspan></text>\n",
        "      <text id=\"text4982\" sodipodi:linespacing=\"122%\" style=\"font-size:12px;font-style:normal;font-variant:normal;font-weight:normal;font-stretch:normal;text-align:start;line-height:122.00000286%;letter-spacing:0px;word-spacing:0px;writing-mode:lr-tb;text-anchor:start;fill:#000000;fill-opacity:1;stroke:none;font-family:Arial;-inkscape-font-specification:Sans\" x=\"17.482634\" xml:space=\"preserve\" y=\"73.789688\"><tspan id=\"tspan4984\" sodipodi:role=\"line\" x=\"17.482634\" y=\"73.789688\">y</tspan></text>\n",
        "      <path d=\"m 44.891694,141.8443 69.810176,-9.57337\" id=\"path6124\" inkscape:connector-curvature=\"0\" style=\"fill:none;stroke:#000000;stroke-width:1px;stroke-linecap:butt;stroke-linejoin:miter;stroke-opacity:1\"/>\n",
        "      <path d=\"m 114.70187,132.27093 52.59325,-7.21234\" id=\"path5129\" inkscape:connector-curvature=\"0\" style=\"fill:none;stroke:#828282;stroke-width:1px;stroke-linecap:butt;stroke-linejoin:miter;stroke-opacity:1\"/>\n",
        "      <path d=\"M 114.57428,132.52316 141.71484,86.320469\" id=\"path5131\" inkscape:connector-curvature=\"0\" sodipodi:nodetypes=\"cc\" style=\"fill:none;stroke:#000000;stroke-width:1px;stroke-linecap:butt;stroke-linejoin:miter;stroke-opacity:1\"/>\n",
        "      <path d=\"m 135.94838,99.234199 c 15.03478,8.680361 14.00131,17.487641 14.00131,27.883491\" id=\"path5135\" inkscape:connector-curvature=\"0\" sodipodi:nodetypes=\"cc\" style=\"color:#000000;fill:none;stroke:#000000;stroke-width:1;stroke-linecap:butt;stroke-linejoin:miter;stroke-miterlimit:4;stroke-opacity:1;stroke-dashoffset:0;marker:none;marker-start:url(#Arrow1Mstart);visibility:visible;display:inline;overflow:visible;enable-background:accumulate\"/>\n",
        "      <path d=\"M 212.52894,88.073309 200.42609,55.574759\" id=\"path6116\" inkscape:connector-curvature=\"0\" sodipodi:nodetypes=\"cc\" style=\"fill:none;stroke:#000000;stroke-width:1px;stroke-linecap:butt;stroke-linejoin:miter;stroke-opacity:1\"/>\n",
        "      <path d=\"m 209.34153,74.456969 c 10.92762,-4.75179 14.44774,-10.96978 13.28703,-21.72277\" id=\"path6120\" inkscape:connector-curvature=\"0\" sodipodi:nodetypes=\"cc\" style=\"color:#000000;fill:none;stroke:#000000;stroke-width:1;stroke-linecap:butt;stroke-linejoin:miter;stroke-miterlimit:4;stroke-opacity:1;stroke-dashoffset:0;marker:none;marker-start:url(#Arrow1Mstart);visibility:visible;display:inline;overflow:visible;enable-background:accumulate\"/>\n",
        "      <path d=\"m 200.42609,55.574759 52.59325,-7.21234\" id=\"path6137\" inkscape:connector-curvature=\"0\" sodipodi:nodetypes=\"cc\" style=\"fill:none;stroke:#828282;stroke-width:1px;stroke-linecap:butt;stroke-linejoin:miter;stroke-opacity:1\"/>\n",
        "      <text id=\"text6139\" sodipodi:linespacing=\"122%\" style=\"font-size:12px;font-style:normal;font-variant:normal;font-weight:normal;font-stretch:normal;text-align:start;line-height:122.00000286%;letter-spacing:0px;word-spacing:0px;writing-mode:lr-tb;text-anchor:start;fill:#000000;fill-opacity:1;stroke:none;font-family:Arial;-inkscape-font-specification:Sans\" x=\"152.3087\" xml:space=\"preserve\" y=\"111.57909\"><tspan id=\"tspan6145\" sodipodi:role=\"line\" x=\"152.3087\" y=\"111.57909\">\u0394\u03c6<tspan id=\"tspan6147\" style=\"font-size:65.00091553%;baseline-shift:sub\">t,t+1</tspan></tspan></text>\n",
        "      <text id=\"text6149\" sodipodi:linespacing=\"122%\" style=\"font-size:12px;font-style:normal;font-variant:normal;font-weight:normal;font-stretch:normal;text-align:start;line-height:122.00000286%;letter-spacing:0px;word-spacing:0px;writing-mode:lr-tb;text-anchor:start;fill:#000000;fill-opacity:1;stroke:none;font-family:Arial;-inkscape-font-specification:Sans\" x=\"228.07013\" xml:space=\"preserve\" y=\"68.900131\"><tspan id=\"tspan6151\" sodipodi:role=\"line\" x=\"228.07013\" y=\"68.900131\">\u0394\u03c6<tspan id=\"tspan6153\" style=\"font-size:65.00091553%;baseline-shift:sub\">t,t+4</tspan></tspan></text>\n",
        "      <path d=\"M 137.47,122.6938 C 69.835024,29.3976 198.94041,9.244819 227.48348,43.511379\" id=\"path6522\" inkscape:connector-curvature=\"0\" sodipodi:nodetypes=\"cc\" style=\"fill:none;stroke:#000000;stroke-width:1;stroke-linecap:butt;stroke-linejoin:miter;stroke-miterlimit:4;stroke-opacity:1;stroke-dasharray:none;marker-end:url(#Arrow1Mend)\"/>\n",
        "      <path d=\"m 220,169.50504 c 0,5.52284 -4.47715,10 -10,10 -5.52285,0 -10,-4.47716 -10,-10 0,-5.52285 4.47715,-10 10,-10 5.52285,0 10,4.47715 10,10 z\" id=\"path8818\" sodipodi:cx=\"210\" sodipodi:cy=\"169.50504\" sodipodi:rx=\"10\" sodipodi:ry=\"10\" sodipodi:type=\"arc\" style=\"color:#000000;fill:#dd2a2b;fill-opacity:1;fill-rule:nonzero;stroke:none;stroke-width:1;marker:none;visibility:visible;display:inline;overflow:visible;enable-background:accumulate\" transform=\"matrix(0.57560973,-0.91622496,0.99698526,0.52898273,-8.830929,268.33913)\"/>\n",
        "    </g>\n",
        "    <g id=\"g9515\" transform=\"translate(-82,2.2753906e-6)\">\n",
        "      <path d=\"m 301.20005,92.01244 96.71747,-16.04155 51.17884,27.92571 41.16883,-4.06989 21.2584,62.92263\" id=\"path6223\" inkscape:connector-curvature=\"0\" sodipodi:nodetypes=\"ccccc\" style=\"fill:none;stroke:#bc2122;stroke-width:2;stroke-linecap:butt;stroke-linejoin:miter;stroke-miterlimit:4;stroke-opacity:1;stroke-dasharray:none\"/>\n",
        "      <path d=\"m 220,169.50504 c 0,5.52284 -4.47715,10 -10,10 -5.52285,0 -10,-4.47716 -10,-10 0,-5.52285 4.47715,-10 10,-10 5.52285,0 10,4.47715 10,10 z\" id=\"path6225\" sodipodi:cx=\"210\" sodipodi:cy=\"169.50504\" sodipodi:rx=\"10\" sodipodi:ry=\"10\" sodipodi:type=\"arc\" style=\"color:#000000;fill:#dd2a2b;fill-opacity:1;fill-rule:nonzero;stroke:none;stroke-width:1;marker:none;visibility:visible;display:inline;overflow:visible;enable-background:accumulate\" transform=\"matrix(0.57560973,-0.91622496,0.99698526,0.52898273,11.32797,194.75445)\"/>\n",
        "      <path d=\"m 530.55272,188.7365 -158.52293,0 m 8,8 0,-169.36879\" id=\"path6245\" inkscape:connector-curvature=\"0\" sodipodi:nodetypes=\"cccc\" style=\"fill:none;stroke:#000000;stroke-width:1px;stroke-linecap:butt;stroke-linejoin:miter;stroke-opacity:1;marker-start:url(#Arrow1Mstart);marker-end:url(#Arrow1Mend)\"/>\n",
        "      <text id=\"text6251\" sodipodi:linespacing=\"122%\" style=\"font-size:12px;font-style:normal;font-variant:normal;font-weight:normal;font-stretch:normal;text-align:start;line-height:122.00000286%;letter-spacing:0px;word-spacing:0px;writing-mode:lr-tb;text-anchor:start;fill:#000000;fill-opacity:1;stroke:none;font-family:Arial;-inkscape-font-specification:Sans\" x=\"361.87219\" xml:space=\"preserve\" y=\"32.825893\"><tspan id=\"tspan6253\" sodipodi:role=\"line\" x=\"361.87219\" y=\"32.825893\">y'</tspan></text>\n",
        "      <text id=\"text6251-0\" sodipodi:linespacing=\"122%\" style=\"font-size:12px;font-style:normal;font-variant:normal;font-weight:normal;font-stretch:normal;text-align:start;line-height:122.00000286%;letter-spacing:0px;word-spacing:0px;writing-mode:lr-tb;text-anchor:start;fill:#000000;fill-opacity:1;stroke:none;font-family:Arial;-inkscape-font-specification:Sans\" x=\"517.16205\" xml:space=\"preserve\" y=\"207.07114\"><tspan id=\"tspan6253-0\" sodipodi:role=\"line\" x=\"517.16205\" y=\"207.07114\">x'</tspan></text>\n",
        "      <path d=\"m 301.20004,92.01244 78.67295,96.66931\" id=\"path6478\" inkscape:connector-curvature=\"0\" sodipodi:nodetypes=\"cc\" style=\"fill:#a8a8a8;stroke:#999999;stroke-width:1px;stroke-linecap:butt;stroke-linejoin:miter;stroke-opacity:1\"/>\n",
        "      <path d=\"M 397.91752,75.97089 379.87299,188.68175\" id=\"path6480\" inkscape:connector-curvature=\"0\" sodipodi:nodetypes=\"cc\" style=\"fill:#a8a8a8;stroke:#999999;stroke-width:1px;stroke-linecap:butt;stroke-linejoin:miter;stroke-opacity:1\"/>\n",
        "      <path d=\"m 511.52359,162.74934 -131.6506,25.93241\" id=\"path6482\" inkscape:connector-curvature=\"0\" sodipodi:nodetypes=\"cc\" style=\"fill:#a8a8a8;stroke:#999999;stroke-width:1px;stroke-linecap:butt;stroke-linejoin:miter;stroke-opacity:1\"/>\n",
        "      <text id=\"text6484\" sodipodi:linespacing=\"122%\" style=\"font-size:12px;font-style:normal;font-variant:normal;font-weight:normal;font-stretch:normal;text-align:start;line-height:122.00000286%;letter-spacing:0px;word-spacing:0px;writing-mode:lr-tb;text-anchor:start;fill:#000000;fill-opacity:1;stroke:none;font-family:Arial;-inkscape-font-specification:Sans\" x=\"342.69516\" xml:space=\"preserve\" y=\"128.4026\"><tspan id=\"tspan6486\" sodipodi:role=\"line\" x=\"342.69516\" y=\"128.4026\">\u0394\u03b8<tspan id=\"tspan6512\" style=\"font-size:65.00091553%;baseline-shift:sub\">t, t+1</tspan></tspan></text>\n",
        "      <path d=\"m 386.23362,140.03078 c -26.5194,-7.10581 -35.8663,10.03232 -35.8663,10.03232\" id=\"path5135-6\" inkscape:connector-curvature=\"0\" sodipodi:nodetypes=\"cc\" style=\"color:#000000;fill:none;stroke:#000000;stroke-width:1;stroke-linecap:butt;stroke-linejoin:miter;stroke-miterlimit:4;stroke-opacity:1;stroke-dashoffset:0;marker:none;marker-start:url(#Arrow1Mstart);visibility:visible;display:inline;overflow:visible;enable-background:accumulate\"/>\n",
        "      <text id=\"text6514\" sodipodi:linespacing=\"122%\" style=\"font-size:12px;font-style:normal;font-variant:normal;font-weight:normal;font-stretch:normal;text-align:start;line-height:122.00000286%;letter-spacing:0px;word-spacing:0px;writing-mode:lr-tb;text-anchor:start;fill:#000000;fill-opacity:1;stroke:none;font-family:Arial;-inkscape-font-specification:Sans\" x=\"410.39639\" xml:space=\"preserve\" y=\"155.76341\"><tspan id=\"tspan6516\" sodipodi:role=\"line\" x=\"410.39639\" y=\"155.76341\">\u0394\u03b8<tspan id=\"tspan6518\" style=\"font-size:65.00091553%;baseline-shift:sub\">t, t+4</tspan></tspan></text>\n",
        "      <path d=\"m 426.23753,178.92165 c -19.76971,-27.44396 -48.4359,-29.19279 -64.65565,-11.68596\" id=\"path6520\" inkscape:connector-curvature=\"0\" sodipodi:nodetypes=\"cc\" style=\"color:#000000;fill:none;stroke:#000000;stroke-width:1;stroke-linecap:butt;stroke-linejoin:miter;stroke-miterlimit:4;stroke-opacity:1;stroke-dashoffset:0;marker:none;marker-start:url(#Arrow1Mstart);visibility:visible;display:inline;overflow:visible;enable-background:accumulate\"/>\n",
        "      <path d=\"m 220,169.50504 c 0,5.52284 -4.47715,10 -10,10 -5.52285,0 -10,-4.47716 -10,-10 0,-5.52285 4.47715,-10 10,-10 5.52285,0 10,4.47715 10,10 z\" id=\"path8828\" sodipodi:cx=\"210\" sodipodi:cy=\"169.50504\" sodipodi:rx=\"10\" sodipodi:ry=\"10\" sodipodi:type=\"arc\" style=\"color:#000000;fill:#dd2a2b;fill-opacity:1;fill-rule:nonzero;stroke:none;stroke-width:1;marker:none;visibility:visible;display:inline;overflow:visible;enable-background:accumulate\" transform=\"matrix(0.57560973,-0.91622496,0.99698526,0.52898273,108.19552,180.48402)\"/>\n",
        "      <path d=\"m 220,169.50504 c 0,5.52284 -4.47715,10 -10,10 -5.52285,0 -10,-4.47716 -10,-10 0,-5.52285 4.47715,-10 10,-10 5.52285,0 10,4.47715 10,10 z\" id=\"path8870\" sodipodi:cx=\"210\" sodipodi:cy=\"169.50504\" sodipodi:rx=\"10\" sodipodi:ry=\"10\" sodipodi:type=\"arc\" style=\"color:#000000;fill:#dd2a2b;fill-opacity:1;fill-rule:nonzero;stroke:none;stroke-width:1;marker:none;visibility:visible;display:inline;overflow:visible;enable-background:accumulate\" transform=\"matrix(0.57560973,-0.91622496,0.99698526,0.52898273,159.46076,205.99037)\"/>\n",
        "      <path d=\"m 220,169.50504 c 0,5.52284 -4.47715,10 -10,10 -5.52285,0 -10,-4.47716 -10,-10 0,-5.52285 4.47715,-10 10,-10 5.52285,0 10,4.47715 10,10 z\" id=\"path8872\" sodipodi:cx=\"210\" sodipodi:cy=\"169.50504\" sodipodi:rx=\"10\" sodipodi:ry=\"10\" sodipodi:type=\"arc\" style=\"color:#000000;fill:#dd2a2b;fill-opacity:1;fill-rule:nonzero;stroke:none;stroke-width:1;marker:none;visibility:visible;display:inline;overflow:visible;enable-background:accumulate\" transform=\"matrix(0.57560973,-0.91622496,0.99698526,0.52898273,199.36179,202.70737)\"/>\n",
        "      <path d=\"m 220,169.50504 c 0,5.52284 -4.47715,10 -10,10 -5.52285,0 -10,-4.47716 -10,-10 0,-5.52285 4.47715,-10 10,-10 5.52285,0 10,4.47715 10,10 z\" id=\"path8874\" sodipodi:cx=\"210\" sodipodi:cy=\"169.50504\" sodipodi:rx=\"10\" sodipodi:ry=\"10\" sodipodi:type=\"arc\" style=\"color:#000000;fill:#dd2a2b;fill-opacity:1;fill-rule:nonzero;stroke:none;stroke-width:1;marker:none;visibility:visible;display:inline;overflow:visible;enable-background:accumulate\" transform=\"matrix(0.57560973,-0.91622496,0.99698526,0.52898273,220.32246,263.8216)\"/>\n",
        "    </g>\n",
        "    <path d=\"m 70.670356,160.91852 a 26.769043,26.769043 0 0 1 13.674675,22.96873\" id=\"path9626\" sodipodi:cx=\"57.578693\" sodipodi:cy=\"184.26782\" sodipodi:end=\"6.2689678\" sodipodi:open=\"true\" sodipodi:rx=\"26.769043\" sodipodi:ry=\"26.769043\" sodipodi:start=\"5.2234005\" sodipodi:type=\"arc\" style=\"color:#000000;fill:none;stroke:#000000;stroke-width:1;stroke-linecap:butt;stroke-linejoin:miter;stroke-miterlimit:4;stroke-opacity:1;stroke-dasharray:none;stroke-dashoffset:0;marker:none;visibility:visible;display:inline;overflow:visible;enable-background:accumulate;marker-start:url(#Arrow1Mstart)\" transform=\"translate(6.9040766,4.35918)\"/>\n",
        "    <text id=\"text9698\" sodipodi:linespacing=\"122%\" style=\"font-size:16.97909164px;font-style:normal;font-variant:normal;font-weight:normal;font-stretch:normal;text-align:start;line-height:122.00000286%;letter-spacing:0px;word-spacing:0px;writing-mode:lr-tb;text-anchor:start;fill:#000000;fill-opacity:1;stroke:none;font-family:Arial;-inkscape-font-specification:Sans\" x=\"90.191055\" xml:space=\"preserve\" y=\"174.36742\"><tspan id=\"tspan9700\" sodipodi:role=\"line\" x=\"90.191055\" y=\"174.36742\">\u03b8<tspan id=\"tspan9775\" style=\"font-size:11.03656483px;baseline-shift:sub\">t</tspan></tspan></text>\n",
        "    <text id=\"text9777\" sodipodi:linespacing=\"122%\" style=\"font-size:12px;font-style:normal;font-variant:normal;font-weight:normal;font-stretch:normal;text-align:start;line-height:122.00000286%;letter-spacing:0px;word-spacing:0px;writing-mode:lr-tb;text-anchor:start;fill:#000000;fill-opacity:1;stroke:none;font-family:Arial;-inkscape-font-specification:Sans\" x=\"106.24742\" xml:space=\"preserve\" y=\"129.57115\"><tspan id=\"tspan9779\" sodipodi:role=\"line\" style=\"font-size:16px\" x=\"106.24742\" y=\"129.57115\">\u03c1<tspan id=\"tspan9783\" style=\"font-size:65.00091553%;baseline-shift:sub\">t</tspan></tspan></text>\n",
        "  </g>\n",
        "</svg>"
       ],
       "text": [
        "<IPython.core.display.SVG at 0x7eff567f0438>"
       ]
      }
     ],
     "prompt_number": 24
    },
    {
     "cell_type": "markdown",
     "metadata": {},
     "source": [
      "To quantify rotation, we measure look at the speed $V_t$ of the nuclei (for the cluster center corrected trajectories) and decompose it in two component: \n",
      "\n",
      "* the radial velocity (corresponding to a movement toward or away from the cluster center), called\n",
      "  $V_t^{||}$\n",
      "* the ortho-radial velocity (corresponding to the circular movement, called $V_t^{\\perp}$"
     ]
    },
    {
     "cell_type": "code",
     "collapsed": false,
     "input": [
      "cluster.cumulative_angle()\n",
      "rotation_speeds = rotation.radial_speed(cluster.trajs, smooth=2)\n",
      "rotation_speeds['t'] = cluster.trajs.t\n",
      "rotation_speeds['ratio'] = np.abs(rotation_speeds['v_orad']/rotation_speeds['v_rad'])\n",
      "\n"
     ],
     "language": "python",
     "metadata": {},
     "outputs": [],
     "prompt_number": 25
    },
    {
     "cell_type": "code",
     "collapsed": false,
     "input": [
      "axes = ct.graphics.show_measure(cluster.trajs, rotation_speeds, axes=None,\n",
      "                                errorbar=True,\n",
      "                                show_segments=False, lw=2, alpha=0.6)\n",
      "\n",
      "axes[0].set_ylabel('Ortho radial\\n speed (\u00b5m/min)')\n",
      "axes[1].set_ylabel('Radial speed\\n (\u00b5m/min)')\n",
      "axes[2].set_ylabel('Ortho radial\\n over radial ratio')"
     ],
     "language": "python",
     "metadata": {},
     "outputs": [
      {
       "metadata": {},
       "output_type": "pyout",
       "prompt_number": 35,
       "text": [
        "<matplotlib.text.Text at 0x7eff55a89588>"
       ]
      }
     ],
     "prompt_number": 35
    },
    {
     "cell_type": "heading",
     "level": 1,
     "metadata": {},
     "source": [
      "4. Translation detection\n"
     ]
    },
    {
     "cell_type": "heading",
     "level": 2,
     "metadata": {},
     "source": [
      "4.1 Definitions"
     ]
    },
    {
     "cell_type": "code",
     "collapsed": false,
     "input": [
      "display.SVG('measure_translation.svg')"
     ],
     "language": "python",
     "metadata": {},
     "outputs": [
      {
       "metadata": {},
       "output_type": "pyout",
       "prompt_number": 12,
       "svg": [
        "<svg height=\"246.04454\" id=\"svg6772\" inkscape:export-filename=\"/home/guillaume/Python/cell-tracker/notebooks/measure_translation.png\" inkscape:export-xdpi=\"300\" inkscape:export-ydpi=\"300\" inkscape:version=\"0.48.4 r9939\" sodipodi:docname=\"measure_translation.svg\" version=\"1.1\" width=\"390.87778\" xmlns=\"http://www.w3.org/2000/svg\" xmlns:cc=\"http://creativecommons.org/ns#\" xmlns:dc=\"http://purl.org/dc/elements/1.1/\" xmlns:inkscape=\"http://www.inkscape.org/namespaces/inkscape\" xmlns:rdf=\"http://www.w3.org/1999/02/22-rdf-syntax-ns#\" xmlns:sodipodi=\"http://sodipodi.sourceforge.net/DTD/sodipodi-0.dtd\" xmlns:svg=\"http://www.w3.org/2000/svg\" xmlns:xlink=\"http://www.w3.org/1999/xlink\">\n",
        "  <defs id=\"defs6774\">\n",
        "    <marker id=\"Arrow1Mend\" inkscape:stockid=\"Arrow1Mend\" orient=\"auto\" refX=\"0\" refY=\"0\" style=\"overflow:visible\">\n",
        "      <path d=\"M 0,0 5,-5 -12.5,0 5,5 0,0 z\" id=\"path3982\" inkscape:connector-curvature=\"0\" style=\"fill-rule:evenodd;stroke:#000000;stroke-width:1pt\" transform=\"matrix(-0.4,0,0,-0.4,-4,0)\"/>\n",
        "    </marker>\n",
        "    <marker id=\"marker6867\" inkscape:stockid=\"Arrow1Mend\" orient=\"auto\" refX=\"0\" refY=\"0\" style=\"overflow:visible\">\n",
        "      <path d=\"M 0,0 5,-5 -12.5,0 5,5 0,0 z\" id=\"path6869\" inkscape:connector-curvature=\"0\" style=\"fill-rule:evenodd;stroke:#000000;stroke-width:1pt\" transform=\"matrix(-0.4,0,0,-0.4,-4,0)\"/>\n",
        "    </marker>\n",
        "    <marker id=\"marker6871\" inkscape:stockid=\"Arrow1Mend\" orient=\"auto\" refX=\"0\" refY=\"0\" style=\"overflow:visible\">\n",
        "      <path d=\"M 0,0 5,-5 -12.5,0 5,5 0,0 z\" id=\"path6873\" inkscape:connector-curvature=\"0\" style=\"fill-rule:evenodd;stroke:#000000;stroke-width:1pt\" transform=\"matrix(-0.4,0,0,-0.4,-4,0)\"/>\n",
        "    </marker>\n",
        "    <marker id=\"marker6875\" inkscape:stockid=\"Arrow1Mend\" orient=\"auto\" refX=\"0\" refY=\"0\" style=\"overflow:visible\">\n",
        "      <path d=\"M 0,0 5,-5 -12.5,0 5,5 0,0 z\" id=\"path6877\" inkscape:connector-curvature=\"0\" style=\"fill-rule:evenodd;stroke:#000000;stroke-width:1pt\" transform=\"matrix(-0.4,0,0,-0.4,-4,0)\"/>\n",
        "    </marker>\n",
        "    <marker id=\"Arrow1Mstart\" inkscape:stockid=\"Arrow1Mstart\" orient=\"auto\" refX=\"0\" refY=\"0\" style=\"overflow:visible\">\n",
        "      <path d=\"M 0,0 5,-5 -12.5,0 5,5 0,0 z\" id=\"path3979\" inkscape:connector-curvature=\"0\" style=\"fill-rule:evenodd;stroke:#000000;stroke-width:1pt\" transform=\"matrix(0.4,0,0,0.4,4,0)\"/>\n",
        "    </marker>\n",
        "    <marker id=\"marker6881\" inkscape:stockid=\"Arrow1Mend\" orient=\"auto\" refX=\"0\" refY=\"0\" style=\"overflow:visible\">\n",
        "      <path d=\"M 0,0 5,-5 -12.5,0 5,5 0,0 z\" id=\"path6883\" inkscape:connector-curvature=\"0\" style=\"fill-rule:evenodd;stroke:#000000;stroke-width:1pt\" transform=\"matrix(-0.4,0,0,-0.4,-4,0)\"/>\n",
        "    </marker>\n",
        "  </defs>\n",
        "  <sodipodi:namedview bordercolor=\"#666666\" borderopacity=\"1.0\" fit-margin-bottom=\"10\" fit-margin-left=\"10\" fit-margin-right=\"10\" fit-margin-top=\"10\" id=\"base\" inkscape:current-layer=\"layer1\" inkscape:cx=\"126.77433\" inkscape:cy=\"1.5069095\" inkscape:document-units=\"px\" inkscape:pageopacity=\"0.0\" inkscape:pageshadow=\"2\" inkscape:window-height=\"569\" inkscape:window-maximized=\"0\" inkscape:window-width=\"669\" inkscape:window-x=\"87\" inkscape:window-y=\"270\" inkscape:zoom=\"0.7\" pagecolor=\"#ffffff\" showborder=\"true\" showgrid=\"false\"/>\n",
        "  <metadata id=\"metadata6777\">\n",
        "    <rdf:RDF>\n",
        "      <cc:Work rdf:about=\"\">\n",
        "        <dc:format>image/svg+xml</dc:format>\n",
        "        <dc:type rdf:resource=\"http://purl.org/dc/dcmitype/StillImage\"/>\n",
        "        <dc:title/>\n",
        "      </cc:Work>\n",
        "    </rdf:RDF>\n",
        "  </metadata>\n",
        "  <g id=\"layer1\" inkscape:groupmode=\"layer\" inkscape:label=\"Calque 1\" transform=\"translate(-47.418256,-37.91134)\">\n",
        "    <g id=\"g6799\" transform=\"translate(51.628339,46.252276)\">\n",
        "      <path d=\"m 59.005629,139.2643 69.682571,-9.32114 27.14059,-46.202657 58.71124,-30.745709 11.59778,31.488396 69.45535,81.5764 34.94428,-34.33615 31.25056,3.6962 -15.47987,-72.26111 18.84546,-14.873984\" id=\"path3077\" inkscape:connector-curvature=\"0\" sodipodi:nodetypes=\"cccccccccc\" style=\"fill:none;stroke:#bc2122;stroke-width:2;stroke-linecap:butt;stroke-linejoin:miter;stroke-miterlimit:4;stroke-opacity:1;stroke-dasharray:none\"/>\n",
        "      <path d=\"m 220,169.50504 c 0,5.52284 -4.47715,10 -10,10 -5.52285,0 -10,-4.47716 -10,-10 0,-5.52285 4.47715,-10 10,-10 5.52285,0 10,4.47715 10,10 z\" id=\"path2985\" sodipodi:cx=\"210\" sodipodi:cy=\"169.50504\" sodipodi:rx=\"10\" sodipodi:ry=\"10\" sodipodi:type=\"arc\" style=\"color:#000000;fill:#dd2a2b;fill-opacity:1;fill-rule:nonzero;stroke:none;stroke-width:1;marker:none;visibility:visible;display:inline;overflow:visible;enable-background:accumulate\" transform=\"matrix(0.57560973,-0.91622496,0.99698526,0.52898273,-230.86645,242.00631)\"/>\n",
        "      <use height=\"1052.3622\" id=\"use2987\" transform=\"translate(69.682584,-9.3211441)\" width=\"744.09448\" x=\"0\" xlink:href=\"#path2985\" y=\"0\"/>\n",
        "      <use height=\"1052.3622\" id=\"use2989\" transform=\"translate(96.823157,-55.52383)\" width=\"744.09448\" x=\"0\" xlink:href=\"#path2985\" y=\"0\"/>\n",
        "      <use height=\"1052.3622\" id=\"use3055\" transform=\"translate(155.5344,-86.269539)\" width=\"744.09448\" x=\"0\" xlink:href=\"#path2985\" y=\"0\"/>\n",
        "      <use height=\"1052.3622\" id=\"use3057\" transform=\"translate(167.13217,-54.781143)\" width=\"744.09448\" x=\"0\" xlink:href=\"#path2985\" y=\"0\"/>\n",
        "      <use height=\"1052.3622\" id=\"use3059\" transform=\"translate(236.58752,26.795264)\" width=\"744.09448\" x=\"0\" xlink:href=\"#path2985\" y=\"0\"/>\n",
        "      <use height=\"1052.3622\" id=\"use3061\" transform=\"translate(271.53181,-7.540898)\" width=\"744.09448\" x=\"0\" xlink:href=\"#path2985\" y=\"0\"/>\n",
        "      <use height=\"1052.3622\" id=\"use3063\" transform=\"translate(302.78237,-3.844695)\" width=\"744.09448\" x=\"0\" xlink:href=\"#path2985\" y=\"0\"/>\n",
        "      <use height=\"1052.3622\" id=\"use3065\" transform=\"translate(287.30249,-76.105798)\" width=\"744.09448\" x=\"0\" xlink:href=\"#path2985\" y=\"0\"/>\n",
        "      <use height=\"1052.3622\" id=\"use3067\" transform=\"translate(306.14796,-90.979787)\" width=\"744.09448\" x=\"0\" xlink:href=\"#path2985\" y=\"0\"/>\n",
        "      <path d=\"M 59.005615,139.2643 226.13779,84.483162\" id=\"path3860\" inkscape:connector-curvature=\"0\" sodipodi:nodetypes=\"cc\" style=\"fill:none;stroke:#000000;stroke-width:1px;stroke-linecap:butt;stroke-linejoin:miter;stroke-opacity:1\"/>\n",
        "      <text id=\"text3862\" sodipodi:linespacing=\"122%\" style=\"font-size:12px;font-style:normal;font-variant:normal;font-weight:bold;font-stretch:normal;text-align:start;line-height:122.00000286%;letter-spacing:0px;word-spacing:0px;writing-mode:lr-tb;text-anchor:start;fill:#000000;fill-opacity:1;stroke:none;font-family:Arial;-inkscape-font-specification:Sans Bold\" x=\"50.565605\" xml:space=\"preserve\" y=\"162.91696\"><tspan id=\"tspan3864\" sodipodi:role=\"line\" style=\"font-weight:normal;-inkscape-font-specification:Arial\" x=\"50.565605\" y=\"162.91696\">P<tspan id=\"tspan3874\" style=\"font-size:65.00091553%;baseline-shift:sub\">t</tspan></tspan></text>\n",
        "      <text id=\"text3868\" sodipodi:linespacing=\"122%\" style=\"font-size:12px;font-style:normal;font-variant:normal;font-weight:bold;font-stretch:normal;text-align:start;line-height:122.00000286%;letter-spacing:0px;word-spacing:0px;writing-mode:lr-tb;text-anchor:start;fill:#000000;fill-opacity:1;stroke:none;font-family:Arial;-inkscape-font-specification:Sans Bold\" x=\"125.44306\" xml:space=\"preserve\" y=\"162.91696\"><tspan id=\"tspan3870\" sodipodi:role=\"line\" style=\"font-weight:normal;-inkscape-font-specification:Arial\" x=\"125.44306\" y=\"162.91696\">P<tspan id=\"tspan3876\" style=\"font-size:65.00091553%;baseline-shift:sub\">t</tspan><tspan id=\"tspan3872\" style=\"font-size:65.00091553%;baseline-shift:sub\">+1</tspan></tspan></text>\n",
        "      <text id=\"text3888\" sodipodi:linespacing=\"122%\" style=\"font-size:12px;font-style:normal;font-variant:normal;font-weight:normal;font-stretch:normal;text-align:start;line-height:122.00000286%;letter-spacing:0px;word-spacing:0px;writing-mode:lr-tb;text-anchor:start;fill:#000000;fill-opacity:1;stroke:none;font-family:Arial;-inkscape-font-specification:Sans\" x=\"84.939491\" xml:space=\"preserve\" y=\"159.18826\"><tspan id=\"tspan3890\" sodipodi:role=\"line\" x=\"84.939491\" y=\"159.18826\">d<tspan id=\"tspan3892\" style=\"font-size:65.00091553%;baseline-shift:sub\">t, t+1</tspan></tspan></text>\n",
        "      <text id=\"text3868-7\" sodipodi:linespacing=\"122%\" style=\"font-size:12px;font-style:normal;font-variant:normal;font-weight:bold;font-stretch:normal;text-align:start;line-height:122.00000286%;letter-spacing:0px;word-spacing:0px;writing-mode:lr-tb;text-anchor:start;fill:#000000;fill-opacity:1;stroke:none;font-family:Arial;-inkscape-font-specification:Sans Bold\" x=\"241.23491\" xml:space=\"preserve\" y=\"84.673851\"><tspan id=\"tspan3870-1\" sodipodi:role=\"line\" style=\"font-weight:normal;-inkscape-font-specification:Arial\" x=\"241.23491\" y=\"84.673851\">P<tspan id=\"tspan3876-5\" style=\"font-size:65.00091553%;baseline-shift:sub\">t</tspan><tspan id=\"tspan3872-9\" style=\"font-size:65.00091553%;baseline-shift:sub\">+4</tspan></tspan></text>\n",
        "      <text id=\"text3888-6\" sodipodi:linespacing=\"122%\" style=\"font-size:12px;font-style:normal;font-variant:normal;font-weight:normal;font-stretch:normal;text-align:start;line-height:122.00000286%;letter-spacing:0px;word-spacing:0px;writing-mode:lr-tb;text-anchor:start;fill:#000000;fill-opacity:1;stroke:none;font-family:Arial;-inkscape-font-specification:Sans\" x=\"164.66949\" xml:space=\"preserve\" y=\"117.98836\"><tspan id=\"tspan3890-2\" sodipodi:role=\"line\" x=\"164.66949\" y=\"117.98836\">d<tspan id=\"tspan3892-4\" style=\"font-size:65.00091553%;baseline-shift:sub\">t, t+4</tspan></tspan></text>\n",
        "      <path d=\"m 29.883167,22.00434 71.825443,-0.0354 m 0,-2 60.85829,0.34275 m 0,2 66.27449,-0.0198 m 0,-2 33.55518,-0.27918\" id=\"path3963\" inkscape:connector-curvature=\"0\" sodipodi:nodetypes=\"cccccccc\" style=\"fill:none;stroke:#999999;stroke-width:2;stroke-linecap:butt;stroke-linejoin:miter;stroke-miterlimit:4;stroke-opacity:1;stroke-dasharray:none\"/>\n",
        "      <path d=\"m 229.8097,67.463451 c 12.89624,-8.397357 19.65233,-20.019942 21.47173,-41.537665\" id=\"path3967\" inkscape:connector-curvature=\"0\" sodipodi:nodetypes=\"cc\" style=\"fill:none;stroke:#000000;stroke-width:1px;stroke-linecap:butt;stroke-linejoin:miter;stroke-opacity:1;marker-end:url(#Arrow1Mend)\"/>\n",
        "      <path d=\"M 193.71829,62.412689 C 185.40132,48.459493 185.08634,45.928281 188.92605,27.946091\" id=\"path4413\" inkscape:connector-curvature=\"0\" sodipodi:nodetypes=\"cc\" style=\"fill:none;stroke:#000000;stroke-width:1px;stroke-linecap:butt;stroke-linejoin:miter;stroke-opacity:1;marker-end:url(#Arrow1Mend)\"/>\n",
        "      <path d=\"M 134.95452,102.81879 C 120.59381,87.747758 112.28294,58.790917 126.1097,24.410558\" id=\"path4415\" inkscape:connector-curvature=\"0\" sodipodi:nodetypes=\"cc\" style=\"fill:none;stroke:#000000;stroke-width:1px;stroke-linecap:butt;stroke-linejoin:miter;stroke-opacity:1;marker-end:url(#Arrow1Mend)\"/>\n",
        "      <path d=\"M 99.440325,131.35203 C 74.455846,110.83284 68.573818,57.780764 74.445033,29.966397\" id=\"path4417\" inkscape:connector-curvature=\"0\" sodipodi:nodetypes=\"cc\" style=\"fill:none;stroke:#000000;stroke-width:1px;stroke-linecap:butt;stroke-linejoin:miter;stroke-opacity:1;marker-end:url(#Arrow1Mend)\"/>\n",
        "      <text id=\"text4419\" sodipodi:linespacing=\"122%\" style=\"line-height:122.00000286%\" x=\"128.304\" xml:space=\"preserve\" y=\"10.407111\"><tspan id=\"tspan4421\" sodipodi:role=\"line\" x=\"128.304\" y=\"10.407111\">D<tspan id=\"tspan4425\" style=\"font-size:65.00091553%;baseline-shift:sub\">t, t+4</tspan></tspan></text>\n",
        "      <path d=\"m 364.66507,204.7589 -346.482324,0 0,-149.368786\" id=\"path4460\" inkscape:connector-curvature=\"0\" sodipodi:nodetypes=\"ccc\" style=\"fill:none;stroke:#000000;stroke-width:1px;stroke-linecap:butt;stroke-linejoin:miter;stroke-opacity:1;marker-start:url(#Arrow1Mstart);marker-end:url(#Arrow1Mend)\"/>\n",
        "      <text id=\"text4834\" sodipodi:linespacing=\"122%\" style=\"font-size:12px;font-style:normal;font-variant:normal;font-weight:normal;font-stretch:normal;text-align:start;line-height:122.00000286%;letter-spacing:0px;word-spacing:0px;writing-mode:lr-tb;text-anchor:start;fill:#000000;fill-opacity:1;stroke:none;font-family:Arial;-inkscape-font-specification:Sans\" x=\"347.59656\" xml:space=\"preserve\" y=\"221.20969\"><tspan id=\"tspan4836\" sodipodi:role=\"line\" x=\"347.59656\" y=\"221.20969\">x</tspan></text>\n",
        "      <text id=\"text4838\" sodipodi:linespacing=\"122%\" style=\"font-size:12px;font-style:normal;font-variant:normal;font-weight:normal;font-stretch:normal;text-align:start;line-height:122.00000286%;letter-spacing:0px;word-spacing:0px;writing-mode:lr-tb;text-anchor:start;fill:#000000;fill-opacity:1;stroke:none;font-family:Arial;-inkscape-font-specification:Sans\" x=\"5.5965576\" xml:space=\"preserve\" y=\"71.209686\"><tspan id=\"tspan4840\" sodipodi:role=\"line\" x=\"5.5965576\" y=\"71.209686\">y</tspan></text>\n",
        "      <path d=\"m 58.588848,200.50156 0,11.61676\" id=\"path4842\" inkscape:connector-curvature=\"0\" style=\"fill:none;stroke:#000000;stroke-width:1px;stroke-linecap:butt;stroke-linejoin:miter;stroke-opacity:1\"/>\n",
        "      <text id=\"text4844\" sodipodi:linespacing=\"122%\" style=\"font-size:12px;font-style:normal;font-variant:normal;font-weight:normal;font-stretch:normal;text-align:start;line-height:122.00000286%;letter-spacing:0px;word-spacing:0px;writing-mode:lr-tb;text-anchor:start;fill:#000000;fill-opacity:1;stroke:none;font-family:Arial;-inkscape-font-specification:Sans\" x=\"55.053314\" xml:space=\"preserve\" y=\"225.25029\"><tspan id=\"tspan4846\" sodipodi:role=\"line\" x=\"55.053314\" y=\"225.25029\">x<tspan id=\"tspan4848\" style=\"font-size:65.00091553%;baseline-shift:sub\">t</tspan></tspan></text>\n",
        "      <path d=\"m 226.05914,200.50156 0,11.61676\" id=\"path4856\" inkscape:connector-curvature=\"0\" style=\"fill:none;stroke:#000000;stroke-width:1px;stroke-linecap:butt;stroke-linejoin:miter;stroke-opacity:1\"/>\n",
        "      <text id=\"text4864\" sodipodi:linespacing=\"122%\" style=\"font-size:12px;font-style:normal;font-variant:normal;font-weight:normal;font-stretch:normal;text-align:start;line-height:122.00000286%;letter-spacing:0px;word-spacing:0px;writing-mode:lr-tb;text-anchor:start;fill:#000000;fill-opacity:1;stroke:none;font-family:Arial;-inkscape-font-specification:Sans\" x=\"217.75412\" xml:space=\"preserve\" y=\"225.25029\"><tspan id=\"tspan4866\" sodipodi:role=\"line\" x=\"217.75412\" y=\"225.25029\">x<tspan id=\"tspan4870\" style=\"font-size:65.00091553%;baseline-shift:sub\">t+4</tspan></tspan></text>\n",
        "      <path d=\"m 58.588848,194.30994 167.548942,0\" id=\"path4898\" inkscape:connector-curvature=\"0\" style=\"fill:none;stroke:#000000;stroke-width:1px;stroke-linecap:butt;stroke-linejoin:miter;stroke-opacity:1\"/>\n",
        "      <text id=\"text6155\" sodipodi:linespacing=\"122%\" style=\"font-size:12px;font-style:normal;font-variant:normal;font-weight:normal;font-stretch:normal;text-align:start;line-height:122.00000286%;letter-spacing:0px;word-spacing:0px;writing-mode:lr-tb;text-anchor:start;fill:#000000;fill-opacity:1;stroke:none;font-family:Arial;-inkscape-font-specification:Sans\" x=\"118.87239\" xml:space=\"preserve\" y=\"185.74231\"><tspan id=\"tspan6157\" sodipodi:role=\"line\" x=\"118.87239\" y=\"185.74231\">\u0394x<tspan id=\"tspan6159\" style=\"font-size:65.00091553%;baseline-shift:sub\">t, t+4</tspan></tspan></text>\n",
        "    </g>\n",
        "  </g>\n",
        "</svg>"
       ],
       "text": [
        "<IPython.core.display.SVG at 0x7f0dfc069160>"
       ]
      }
     ],
     "prompt_number": 12
    },
    {
     "cell_type": "markdown",
     "metadata": {},
     "source": [
      "### Position\n",
      "Let $P(t) = \\left(x(t), y(t), z(t)\\right)$ be the position in space of a nuclei at time $t$\n",
      "\n",
      "### Apparent displacement\n",
      "\n",
      "We note $d(t, t+w)$ the **apparent displacement** between two time points, that is the distance between those two points, independently of the movement between them:\n",
      "\n",
      "$$\n",
      "d(t, t+w) = ||P(t+w) - P(t)||\n",
      "$$\n",
      "\n",
      "\n",
      "### Cumulated displacement\n",
      "\n",
      "For each nuclei, the **cumulated displacement**, between time $t$ and time $t + w$  noted $D(t, t+w)$ is the total distance traveled by a nucleus between $t$ and $t+w$.  It is the sum of the individual displacements between every time point and the next:\n",
      "\n",
      "$$\n",
      "D(t, t+w) = \\sum_{i=t+1}^{t+w} ||P(i) - P(i - 1)||\n",
      "$$\n",
      "\n",
      "### Processivity\n",
      "\n",
      "We call processivity the ratio of the apparent displacement with the cumulated displacement for a given window $w$:\n",
      "$$\n",
      "\\Pi(t, t+w) = d(t, t+w) / D(t, t+w)\n",
      "$$\n",
      "\n",
      "\n",
      "### Directionality\n",
      "\n",
      "The $x$ axis is defined as the principal axis of the displacement (defined by a principal component analysis computed on the original 3D positions for the whole trajectory).\n",
      "\n",
      "We define **directionality** as the ratio between the difference of position on the principal axis $x$ and the apparent displacement:\n",
      "\n",
      "$$\n",
      "\\mbox{dir}(t, t+w) = \\frac{x(t+w) - x(t)}{d(t, t+w)}\n",
      "$$\n",
      "\n",
      "### Cumulated directionality\n",
      "\n",
      "In this measure, instead of dividing the displacement along $x$ by the apparent displacement, we devide it by the cumulated displacement:\n",
      "\n",
      "$$\n",
      "\\mbox{dir}_c(t, t+w) = \\frac{x(t+w) - x(t)}{D(t, t+w)}\n",
      "$$\n",
      "\n"
     ]
    },
    {
     "cell_type": "heading",
     "level": 2,
     "metadata": {},
     "source": [
      "4.2 Do the computations"
     ]
    },
    {
     "cell_type": "code",
     "collapsed": false,
     "input": [
      "### Some initialisations\n",
      "\n",
      "measures = {}\n",
      "\n",
      "### Set this to True if you want processivity to be negative for a backward moving nuclei\n",
      "signed=True"
     ],
     "language": "python",
     "metadata": {},
     "outputs": [],
     "prompt_number": 36
    },
    {
     "cell_type": "heading",
     "level": 3,
     "metadata": {},
     "source": [
      "4.2.1 For a sliding window of a given size"
     ]
    },
    {
     "cell_type": "code",
     "collapsed": false,
     "input": [
      "### Set here the width of the window (in number of frames)\n",
      "window = 6\n",
      "\n",
      "\n",
      "processivity = translation.sld_processivity(cluster.trajs, window, signed=signed)\n",
      "directionality = translation.sld_dir(cluster.trajs, window)\n",
      "cum_dir = translation.sld_cum_dir(cluster.trajs, window)\n",
      "\n",
      "measures[('processivity', window)] = processivity\n",
      "measures[('directionality', window)] = directionality\n",
      "measures[('cumulated directionality', window)] = cum_dir"
     ],
     "language": "python",
     "metadata": {},
     "outputs": [],
     "prompt_number": 37
    },
    {
     "cell_type": "heading",
     "level": 4,
     "metadata": {},
     "source": [
      "Plotting the resulting curves"
     ]
    },
    {
     "cell_type": "code",
     "collapsed": false,
     "input": [
      "colors = {'processivity': 'r',\n",
      "          'directionality': 'b',\n",
      "          'cumulated directionality': 'g'}\n",
      "\n",
      "### You can change the value of errorbar and show_segments to change the behaviour of the \n",
      "### plot below\n",
      "\n",
      "fig, ax = plt.subplots()\n",
      "for (name, w), measure in measures.items():\n",
      "    #if w != window:\n",
      "    #    continue\n",
      "    label = '{} for a {} minutes window'.format(name, w * cluster.metadata['TimeIncrement'])\n",
      "    ct.graphics.show_measure(cluster.trajs, measure, axes=[ax,],\n",
      "                             errorbar=True,\n",
      "                             show_segments=False,\n",
      "                             c=colors[name],\n",
      "                             label=label, lw=2, alpha=0.6)\n",
      "ax.set_ylim(-1, 1);\n",
      "ax.legend(loc='lower_left')\n"
     ],
     "language": "python",
     "metadata": {},
     "outputs": [
      {
       "metadata": {},
       "output_type": "pyout",
       "prompt_number": 40,
       "text": [
        "<matplotlib.legend.Legend at 0x7eff575022e8>"
       ]
      }
     ],
     "prompt_number": 40
    },
    {
     "cell_type": "heading",
     "level": 4,
     "metadata": {},
     "source": [
      "Statistics"
     ]
    },
    {
     "cell_type": "code",
     "collapsed": false,
     "input": [
      "### average between\n",
      "### two stacks, set here the number of the first and last ones\n",
      "start_frame = 1\n",
      "end_frame = 7\n",
      "\n",
      "for (name, w), measure in measures.items():\n",
      "    #if w!= window:\n",
      "    #    continue\n",
      "    win_size = w * cluster.metadata['TimeIncrement']\n",
      "    print('Average value of {} between frame {} and {} for a {} minutes window:'\n",
      "          .format(name, start_frame, end_frame, win_size))\n",
      "    data_cols = [col for col in measure if col != 't']\n",
      "    for col in data_cols:    \n",
      "    \n",
      "        print('\\t {0:.3f}'.format(measure[col].loc[start_frame: end_frame].mean()))\n",
      "\n",
      "        print('Global average of {} for a {} minutes window: '.format(name, win_size))\n",
      "        print('\\t {0:.3f}'.format(measure[col].mean()))"
     ],
     "language": "python",
     "metadata": {},
     "outputs": [
      {
       "output_type": "stream",
       "stream": "stdout",
       "text": [
        "Average value of directionality between frame 1 and 7 for a 18.0 minutes window:\n",
        "\t 0.344\n",
        "Global average of directionality for a 18.0 minutes window: \n",
        "\t 0.389\n",
        "Average value of processivity between frame 1 and 7 for a 18.0 minutes window:\n",
        "\t 0.698\n",
        "Global average of processivity for a 18.0 minutes window: \n",
        "\t 0.503\n",
        "Average value of cumulated directionality between frame 1 and 7 for a 18.0 minutes window:\n",
        "\t 0.277\n",
        "Global average of cumulated directionality for a 18.0 minutes window: \n",
        "\t 0.294\n"
       ]
      }
     ],
     "prompt_number": 12
    },
    {
     "cell_type": "heading",
     "level": 4,
     "metadata": {},
     "source": [
      "Automated computation for a range of window sizes"
     ]
    },
    {
     "cell_type": "code",
     "collapsed": false,
     "input": [
      "windows = [3, 4, 5, 6, 7]\n",
      "for window in windows:\n",
      "    processivity = translation.sld_processivity(cluster.trajs, window, signed=signed)\n",
      "    directionality = translation.sld_dir(cluster.trajs, window)\n",
      "    cum_dir = translation.sld_cum_dir(cluster.trajs, window)\n",
      "\n",
      "    measures[('processivity', window)] = processivity\n",
      "    measures[('directionality', window)] = directionality\n",
      "    measures[('cumulated directionality', window)] = cum_dir\n",
      "    "
     ],
     "language": "python",
     "metadata": {},
     "outputs": [],
     "prompt_number": 14
    },
    {
     "cell_type": "heading",
     "level": 4,
     "metadata": {},
     "source": [
      "Save the average (over the nuclei) data for each window to a `csv` file"
     ]
    },
    {
     "cell_type": "code",
     "collapsed": false,
     "input": [
      "%pdb"
     ],
     "language": "python",
     "metadata": {},
     "outputs": []
    },
    {
     "cell_type": "code",
     "collapsed": false,
     "input": [
      "measures_df = pd.DataFrame(index=cluster.trajs.t_stamps)\n",
      "for key, meas in measures.items():\n",
      "    window = key[1]\n",
      "    for col in meas.columns:\n",
      "        if col not in measures_df.columns:\n",
      "            measures_df[col+str(window)] = meas[col].mean(level='t_stamp')\n"
     ],
     "language": "python",
     "metadata": {},
     "outputs": [],
     "prompt_number": 15
    },
    {
     "cell_type": "code",
     "collapsed": false,
     "input": [
      "csv_name = cluster.oio.store_path.replace('.h5', 'translation_measures.csv')\n",
      "measures_df.to_csv(csv_name)\n",
      "print('Saved measures to ', csv_name)"
     ],
     "language": "python",
     "metadata": {},
     "outputs": [
      {
       "output_type": "stream",
       "stream": "stdout",
       "text": [
        "Saved measures to  /media/data/AnneHDFStores/wt_240812translation_measures.csv\n"
       ]
      }
     ],
     "prompt_number": 16
    },
    {
     "cell_type": "heading",
     "level": 3,
     "metadata": {},
     "source": [
      "4.2.2 For a specific pair of time points"
     ]
    },
    {
     "cell_type": "code",
     "collapsed": false,
     "input": [
      "frame0 = 1\n",
      "frame1 = 10\n",
      "p2p_measures = {}\n",
      "\n",
      "p2p_measures['processivity'] = translation.p2p_processivity(cluster.trajs, frame0, frame1, signed=signed)\n",
      "p2p_measures['directionality'] = translation.p2p_directionality(cluster.trajs, frame0, frame1)\n",
      "p2p_measures['cumulated directionality'] = translation.p2p_cum_dir(cluster.trajs, frame0, frame1)\n",
      "\n",
      "p2p_measures = pd.DataFrame.from_dict(p2p_measures).dropna()\n"
     ],
     "language": "python",
     "metadata": {},
     "outputs": [],
     "prompt_number": 17
    },
    {
     "cell_type": "code",
     "collapsed": false,
     "input": [
      "print('''Averaged over all the nuclei:\\n''')\n",
      "\n",
      "print(p2p_measures.mean(axis=0), '\\n')\n",
      "\n",
      "p2p_measures"
     ],
     "language": "python",
     "metadata": {},
     "outputs": [
      {
       "output_type": "stream",
       "stream": "stdout",
       "text": [
        "Averaged over all the nuclei:\n",
        "\n",
        "cumulated directionality    0.207890\n",
        "directionality              0.291832\n",
        "processivity                0.687642\n",
        "dtype: float64 \n",
        "\n"
       ]
      },
      {
       "html": [
        "<div style=\"max-height:1000px;max-width:1500px;overflow:auto;\">\n",
        "<table border=\"1\" class=\"dataframe\">\n",
        "  <thead>\n",
        "    <tr style=\"text-align: right;\">\n",
        "      <th></th>\n",
        "      <th>cumulated directionality</th>\n",
        "      <th>directionality</th>\n",
        "      <th>processivity</th>\n",
        "    </tr>\n",
        "    <tr>\n",
        "      <th>label</th>\n",
        "      <th></th>\n",
        "      <th></th>\n",
        "      <th></th>\n",
        "    </tr>\n",
        "  </thead>\n",
        "  <tbody>\n",
        "    <tr>\n",
        "      <th>1</th>\n",
        "      <td> 0.255490</td>\n",
        "      <td> 0.345983</td>\n",
        "      <td> 0.738447</td>\n",
        "    </tr>\n",
        "    <tr>\n",
        "      <th>2</th>\n",
        "      <td> 0.065858</td>\n",
        "      <td> 0.135321</td>\n",
        "      <td> 0.486683</td>\n",
        "    </tr>\n",
        "    <tr>\n",
        "      <th>3</th>\n",
        "      <td> 0.239752</td>\n",
        "      <td> 0.299680</td>\n",
        "      <td> 0.800029</td>\n",
        "    </tr>\n",
        "    <tr>\n",
        "      <th>4</th>\n",
        "      <td> 0.288284</td>\n",
        "      <td> 0.336433</td>\n",
        "      <td> 0.856886</td>\n",
        "    </tr>\n",
        "    <tr>\n",
        "      <th>5</th>\n",
        "      <td> 0.190066</td>\n",
        "      <td> 0.341743</td>\n",
        "      <td> 0.556167</td>\n",
        "    </tr>\n",
        "  </tbody>\n",
        "</table>\n",
        "</div>"
       ],
       "metadata": {},
       "output_type": "pyout",
       "prompt_number": 18,
       "text": [
        "       cumulated directionality  directionality  processivity\n",
        "label                                                        \n",
        "1                      0.255490        0.345983      0.738447\n",
        "2                      0.065858        0.135321      0.486683\n",
        "3                      0.239752        0.299680      0.800029\n",
        "4                      0.288284        0.336433      0.856886\n",
        "5                      0.190066        0.341743      0.556167"
       ]
      }
     ],
     "prompt_number": 18
    },
    {
     "cell_type": "heading",
     "level": 3,
     "metadata": {},
     "source": [
      "4.1.4 Mean Square Displacement"
     ]
    },
    {
     "cell_type": "markdown",
     "metadata": {},
     "source": [
      "The mean square displacement for a time difference $\\Delta t$ is computed as the squared distance between the position of the particle at time $t$ and its position at time $t + \\Delta t$ averaged over each successive time $t$:\n",
      "\n",
      "\n",
      "$$\n",
      "\\begin{aligned}\n",
      "\\mbox{MSD}(\\Delta t) &=  \\frac{\\sum_0^{T - \\Delta t} \\left(\\mathbf{r}(t + \\Delta t)  - \\mathbf{r}(t) \\right)^2}{(T - \\Delta t) / \\delta t}\n",
      "\\end{aligned}\n",
      "$$"
     ]
    },
    {
     "cell_type": "code",
     "collapsed": false,
     "input": [
      "MSD = translation.get_MSD(cluster.trajs)"
     ],
     "language": "python",
     "metadata": {},
     "outputs": []
    },
    {
     "cell_type": "code",
     "collapsed": false,
     "input": [
      "fig, ax = plt.subplots()\n",
      "ax.set_title('Mean Square Displacement')\n",
      "ax.set_xlabel('Delay (minutes)')\n",
      "ax.set_ylabel('MSD (\u00b5m\u00b2)')\n",
      "\n",
      "for label in cluster.trajs.labels:\n",
      "        seg_msd = MSD.xs(label, level='label')\n",
      "        ax.errorbar(seg_msd.Dt, seg_msd.MSD, yerr= seg_msd.MSD_std, alpha=0.4) \n",
      "\n",
      "ax.errorbar(MSD.Dt.mean(level='Dt_stamp'),\n",
      "            MSD.MSD.mean(level='Dt_stamp'), \n",
      "            yerr=MSD.MSD_std.mean(level='Dt_stamp'), fmt='k-', lw=2);"
     ],
     "language": "python",
     "metadata": {},
     "outputs": []
    },
    {
     "cell_type": "heading",
     "level": 4,
     "metadata": {},
     "source": [
      "Exponent of the MSD function"
     ]
    },
    {
     "cell_type": "markdown",
     "metadata": {},
     "source": [
      "For a purely linear movement, the mean square displacement is growing like $\\Delta t^2$, wheras for a purely random walk or Brownian motion, it is growing _linearly_ with time (and the slope of the linear function is proportional to the diffusion coefficient).\n",
      "\n",
      "Here we compute the exponent $\\alpha$ of the MSD function: $\\textrm{MSD}(\\Delta t) = \\Delta t^\\alpha$.\n",
      "\n",
      "It will be 2 for a purely processive motion, and 1 for a purely Brownian motion."
     ]
    },
    {
     "cell_type": "code",
     "collapsed": false,
     "input": [
      "log_t = np.log(MSD.Dt.mean(level='Dt_stamp'))\n",
      "log_msd = np.log(MSD.MSD.mean(level='Dt_stamp'))\n",
      "#### Restrict the fits to the first points\n",
      "start = 1\n",
      "stop = 10\n",
      "\n",
      "ps = np.polyfit(log_t[start:stop], log_msd[start:stop], deg=1,\n",
      "                w=1/MSD.Dt.mean(level='Dt_stamp').iloc[start:stop])\n",
      "\n",
      "print('Estimated exponent of the mean square displacement:')\n",
      "print('\\t {0:.3f}'.format(ps[0]))\n"
     ],
     "language": "python",
     "metadata": {},
     "outputs": []
    },
    {
     "cell_type": "code",
     "collapsed": false,
     "input": [],
     "language": "python",
     "metadata": {},
     "outputs": []
    }
   ],
   "metadata": {}
  }
 ]
}