{
 "metadata": {
  "name": "",
  "signature": "sha256:83eaa51cb290cbc2087facc93ae1846e6090859f1ada2900d9b15b96f0b9f74f"
 },
 "nbformat": 3,
 "nbformat_minor": 0,
 "worksheets": [
  {
   "cells": [
    {
     "cell_type": "code",
     "collapsed": false,
     "input": [
      "%load_ext autoreload\n",
      "%autoreload 2\n",
      "%matplotlib\n",
      "\n",
      "%run nb_init.py"
     ],
     "language": "python",
     "metadata": {},
     "outputs": [
      {
       "output_type": "stream",
       "stream": "stdout",
       "text": [
        "Using matplotlib backend: Qt4Agg\n"
       ]
      }
     ],
     "prompt_number": 1
    },
    {
     "cell_type": "heading",
     "level": 2,
     "metadata": {},
     "source": [
      "Pick the directory and get the relevant data"
     ]
    },
    {
     "cell_type": "markdown",
     "metadata": {},
     "source": [
      "It will only work if the movi has allready been analysed"
     ]
    },
    {
     "cell_type": "code",
     "collapsed": false,
     "input": [
      "cluster = ct.ui.get_from_excel('/media/data/xiaobo')"
     ],
     "language": "python",
     "metadata": {},
     "outputs": [
      {
       "output_type": "stream",
       "stream": "stdout",
       "text": [
        "No data loaded\n"
       ]
      }
     ],
     "prompt_number": 3
    },
    {
     "cell_type": "code",
     "collapsed": false,
     "input": [
      "default_path = '/media/data/xiaobo'\n",
      "\n",
      "cluster = ct.ui.get_cluster(default_path)"
     ],
     "language": "python",
     "metadata": {},
     "outputs": [
      {
       "output_type": "stream",
       "stream": "stdout",
       "text": [
        "Choosen data path: /media/data/xiaobo/confocal2/JNK inhib Ionomycin/DsRED\n"
       ]
      }
     ],
     "prompt_number": 110
    },
    {
     "cell_type": "heading",
     "level": 3,
     "metadata": {},
     "source": [
      "Run the analyses"
     ]
    },
    {
     "cell_type": "code",
     "collapsed": false,
     "input": [
      "### Computes the postition of the cluster center\n",
      "cluster.get_center()\n",
      "\n",
      "### Get the value of the angle w/r to the cluster center\n",
      "#cluster.cumulative_angle()\n",
      "\n",
      "### Fits ellipses and detect rotations\n",
      "#for size in [8, 12, 16, 24, 28, 32]:\n",
      "#    cluster.compute_ellipticity(size)\n"
     ],
     "language": "python",
     "metadata": {},
     "outputs": [],
     "prompt_number": 116
    },
    {
     "cell_type": "heading",
     "level": 3,
     "metadata": {},
     "source": [
      "Polar histogram"
     ]
    },
    {
     "cell_type": "code",
     "collapsed": false,
     "input": [
      "def continuous_theta(segment):\n",
      "    '''\n",
      "    Computes a continuous angle from a 2*np.pi periodic one\n",
      "    '''\n",
      "    if segment.shape[0] == 1:\n",
      "        return None\n",
      "    theta0 =  segment['theta'].iloc[0]\n",
      "    segment['dtheta'] = segment['theta'].diff()\n",
      "    segment['dtheta'].iloc[0] = 0\n",
      "    segment['dtheta'][segment['dtheta'] > np.pi] -= 2 * np.pi\n",
      "    segment['dtheta'][segment['dtheta'] < - np.pi] += 2 * np.pi\n",
      "    segment['theta'] = segment['dtheta'].cumsum() + theta0\n",
      "    #segment['theta'].iloc[0] = theta0\n",
      "\n",
      "    return segment\n"
     ],
     "language": "python",
     "metadata": {},
     "outputs": [],
     "prompt_number": 127
    },
    {
     "cell_type": "code",
     "collapsed": false,
     "input": [
      "cluster.do_pca(coords=['x_c', 'y_c', 'z_c'])\n",
      "cluster.trajs['theta'] = np.arctan2(cluster.trajs['y_c_pca'],\n",
      "                                    cluster.trajs['x_c_pca'])\n",
      "cluster.trajs['rho'] = np.hypot(cluster.trajs['y_c_pca'],\n",
      "                                cluster.trajs['x_c_pca'])\n",
      "\n",
      "\n",
      "grouped = cluster.trajs.groupby(level='label')\n",
      "tmp_trajs = grouped.apply(continuous_theta)\n",
      "#tmp_trajs.index.set_names(['label', 't_stamp'],\n",
      "#                           inplace=True)\n",
      "#tmp_trajs = tmp_trajs.swaplevel('label', 't_stamp')\n",
      "#tmp_trajs = tmp_trajs.sortlevel('t_stamp')"
     ],
     "language": "python",
     "metadata": {},
     "outputs": [],
     "prompt_number": 128
    },
    {
     "cell_type": "code",
     "collapsed": false,
     "input": [
      "tmp_trajs.head()"
     ],
     "language": "python",
     "metadata": {},
     "outputs": [
      {
       "html": [
        "<div style=\"max-height:1000px;max-width:1500px;overflow:auto;\">\n",
        "<table border=\"1\" class=\"dataframe\">\n",
        "  <thead>\n",
        "    <tr style=\"text-align: right;\">\n",
        "      <th></th>\n",
        "      <th></th>\n",
        "      <th></th>\n",
        "      <th>x</th>\n",
        "      <th>y</th>\n",
        "      <th>z</th>\n",
        "      <th>I</th>\n",
        "      <th>w</th>\n",
        "      <th>cluster_cells</th>\n",
        "      <th>t</th>\n",
        "      <th>x_c</th>\n",
        "      <th>y_c</th>\n",
        "      <th>z_c</th>\n",
        "      <th>x_c_pca</th>\n",
        "      <th>y_c_pca</th>\n",
        "      <th>z_c_pca</th>\n",
        "      <th>theta</th>\n",
        "      <th>rho</th>\n",
        "      <th>dtheta</th>\n",
        "    </tr>\n",
        "    <tr>\n",
        "      <th>label</th>\n",
        "      <th>t_stamp</th>\n",
        "      <th>label</th>\n",
        "      <th></th>\n",
        "      <th></th>\n",
        "      <th></th>\n",
        "      <th></th>\n",
        "      <th></th>\n",
        "      <th></th>\n",
        "      <th></th>\n",
        "      <th></th>\n",
        "      <th></th>\n",
        "      <th></th>\n",
        "      <th></th>\n",
        "      <th></th>\n",
        "      <th></th>\n",
        "      <th></th>\n",
        "      <th></th>\n",
        "      <th></th>\n",
        "    </tr>\n",
        "  </thead>\n",
        "  <tbody>\n",
        "    <tr>\n",
        "      <th rowspan=\"5\" valign=\"top\">0</th>\n",
        "      <th>0</th>\n",
        "      <th>0</th>\n",
        "      <td> 70.949539</td>\n",
        "      <td> 79.824157</td>\n",
        "      <td> 27.832122</td>\n",
        "      <td> 0.594135</td>\n",
        "      <td> 3.928353</td>\n",
        "      <td> 1</td>\n",
        "      <td>  0</td>\n",
        "      <td> 77.812505</td>\n",
        "      <td> 89.360721</td>\n",
        "      <td> 27.645290</td>\n",
        "      <td>-26.521601</td>\n",
        "      <td>-0.881290</td>\n",
        "      <td>-3.273054</td>\n",
        "      <td>-3.108376</td>\n",
        "      <td> 26.536239</td>\n",
        "      <td> 0.000000</td>\n",
        "    </tr>\n",
        "    <tr>\n",
        "      <th>1</th>\n",
        "      <th>0</th>\n",
        "      <td> 72.011144</td>\n",
        "      <td> 81.852992</td>\n",
        "      <td> 27.971712</td>\n",
        "      <td> 0.588674</td>\n",
        "      <td> 3.852440</td>\n",
        "      <td> 1</td>\n",
        "      <td>  3</td>\n",
        "      <td> 78.659192</td>\n",
        "      <td> 90.826608</td>\n",
        "      <td> 27.419457</td>\n",
        "      <td>-24.827798</td>\n",
        "      <td>-0.852503</td>\n",
        "      <td>-3.056470</td>\n",
        "      <td>-3.107270</td>\n",
        "      <td> 24.842429</td>\n",
        "      <td> 0.001106</td>\n",
        "    </tr>\n",
        "    <tr>\n",
        "      <th>2</th>\n",
        "      <th>0</th>\n",
        "      <td> 72.833074</td>\n",
        "      <td> 83.300006</td>\n",
        "      <td> 27.691790</td>\n",
        "      <td> 0.611740</td>\n",
        "      <td> 3.751586</td>\n",
        "      <td> 1</td>\n",
        "      <td>  6</td>\n",
        "      <td> 79.558717</td>\n",
        "      <td> 92.320560</td>\n",
        "      <td> 26.691067</td>\n",
        "      <td>-23.065370</td>\n",
        "      <td>-1.097323</td>\n",
        "      <td>-2.419680</td>\n",
        "      <td>-3.094054</td>\n",
        "      <td> 23.091458</td>\n",
        "      <td> 0.013216</td>\n",
        "    </tr>\n",
        "    <tr>\n",
        "      <th>3</th>\n",
        "      <th>0</th>\n",
        "      <td> 72.798663</td>\n",
        "      <td> 85.789265</td>\n",
        "      <td> 27.313698</td>\n",
        "      <td> 0.591949</td>\n",
        "      <td> 3.780520</td>\n",
        "      <td> 1</td>\n",
        "      <td>  9</td>\n",
        "      <td> 80.966821</td>\n",
        "      <td> 94.065460</td>\n",
        "      <td> 27.253052</td>\n",
        "      <td>-20.916234</td>\n",
        "      <td>-0.267445</td>\n",
        "      <td>-2.608830</td>\n",
        "      <td>-3.128807</td>\n",
        "      <td> 20.917944</td>\n",
        "      <td>-0.034753</td>\n",
        "    </tr>\n",
        "    <tr>\n",
        "      <th>4</th>\n",
        "      <th>0</th>\n",
        "      <td> 73.955922</td>\n",
        "      <td> 88.088217</td>\n",
        "      <td> 27.482138</td>\n",
        "      <td> 0.604695</td>\n",
        "      <td> 3.894694</td>\n",
        "      <td> 1</td>\n",
        "      <td> 12</td>\n",
        "      <td> 81.235694</td>\n",
        "      <td> 95.906469</td>\n",
        "      <td> 26.734678</td>\n",
        "      <td>-19.112045</td>\n",
        "      <td>-0.955982</td>\n",
        "      <td>-2.575075</td>\n",
        "      <td>-3.091614</td>\n",
        "      <td> 19.135939</td>\n",
        "      <td> 0.037192</td>\n",
        "    </tr>\n",
        "  </tbody>\n",
        "</table>\n",
        "<p>5 rows \u00d7 16 columns</p>\n",
        "</div>"
       ],
       "metadata": {},
       "output_type": "pyout",
       "prompt_number": 131,
       "text": [
        "                             x          y          z         I         w  \\\n",
        "label t_stamp label                                                        \n",
        "0     0       0      70.949539  79.824157  27.832122  0.594135  3.928353   \n",
        "      1       0      72.011144  81.852992  27.971712  0.588674  3.852440   \n",
        "      2       0      72.833074  83.300006  27.691790  0.611740  3.751586   \n",
        "      3       0      72.798663  85.789265  27.313698  0.591949  3.780520   \n",
        "      4       0      73.955922  88.088217  27.482138  0.604695  3.894694   \n",
        "\n",
        "                     cluster_cells   t        x_c        y_c        z_c  \\\n",
        "label t_stamp label                                                       \n",
        "0     0       0                  1   0  77.812505  89.360721  27.645290   \n",
        "      1       0                  1   3  78.659192  90.826608  27.419457   \n",
        "      2       0                  1   6  79.558717  92.320560  26.691067   \n",
        "      3       0                  1   9  80.966821  94.065460  27.253052   \n",
        "      4       0                  1  12  81.235694  95.906469  26.734678   \n",
        "\n",
        "                       x_c_pca   y_c_pca   z_c_pca     theta        rho  \\\n",
        "label t_stamp label                                                       \n",
        "0     0       0     -26.521601 -0.881290 -3.273054 -3.108376  26.536239   \n",
        "      1       0     -24.827798 -0.852503 -3.056470 -3.107270  24.842429   \n",
        "      2       0     -23.065370 -1.097323 -2.419680 -3.094054  23.091458   \n",
        "      3       0     -20.916234 -0.267445 -2.608830 -3.128807  20.917944   \n",
        "      4       0     -19.112045 -0.955982 -2.575075 -3.091614  19.135939   \n",
        "\n",
        "                       dtheta  \n",
        "label t_stamp label            \n",
        "0     0       0      0.000000  \n",
        "      1       0      0.001106  \n",
        "      2       0      0.013216  \n",
        "      3       0     -0.034753  \n",
        "      4       0      0.037192  \n",
        "\n",
        "[5 rows x 16 columns]"
       ]
      }
     ],
     "prompt_number": 131
    },
    {
     "cell_type": "code",
     "collapsed": false,
     "input": [
      "ax = ct.graphics.polar_histogram(cluster, ax=None)"
     ],
     "language": "python",
     "metadata": {},
     "outputs": [],
     "prompt_number": 58
    },
    {
     "cell_type": "heading",
     "level": 3,
     "metadata": {},
     "source": [
      "Detect rotations"
     ]
    },
    {
     "cell_type": "code",
     "collapsed": false,
     "input": [
      "ellipsis_cutoffs = {'min_dtheta': np.pi / 4,\n",
      "                    'max_dtheta': 2 * np.pi,\n",
      "                    'min_radius': 3,\n",
      "                    'max_radius': 30,\n",
      "                    'max_ellipticity': 3,\n",
      "                    'min_gof': -1}"
     ],
     "language": "python",
     "metadata": {},
     "outputs": [],
     "prompt_number": 71
    },
    {
     "cell_type": "code",
     "collapsed": false,
     "input": [
      "%pdb"
     ],
     "language": "python",
     "metadata": {},
     "outputs": [
      {
       "output_type": "stream",
       "stream": "stdout",
       "text": [
        "Automatic pdb calling has been turned OFF\n"
       ]
      }
     ],
     "prompt_number": 60
    },
    {
     "cell_type": "code",
     "collapsed": false,
     "input": [
      "cluster.detect_rotations(ellipsis_cutoffs)"
     ],
     "language": "python",
     "metadata": {},
     "outputs": [],
     "prompt_number": 72
    },
    {
     "cell_type": "heading",
     "level": 3,
     "metadata": {},
     "source": [
      "Rotation events"
     ]
    },
    {
     "cell_type": "code",
     "collapsed": false,
     "input": [
      "ax, total_rot, n_detected = ct.graphics.plot_rotation_events(cluster, ax=None,\n",
      "                                                             show_segments=True)"
     ],
     "language": "python",
     "metadata": {},
     "outputs": [],
     "prompt_number": 73
    },
    {
     "cell_type": "code",
     "collapsed": false,
     "input": [
      "axes = draw.plot_stacked_coords(cluster.trajs, coords=['x', 'y', 'z'])"
     ],
     "language": "python",
     "metadata": {},
     "outputs": [],
     "prompt_number": 63
    },
    {
     "cell_type": "code",
     "collapsed": false,
     "input": [
      "axes, ax_3d = None, None\n",
      "colors = cluster.trajs.get_colors()\n",
      "coords = ['x', 'y', 'z']\n",
      "\n",
      "for label in cluster.trajs.labels:\n",
      "    axes, ax_3d = ct.graphics.show_4panel_ellipses(cluster, label,\n",
      "                                                   ellipsis_cutoffs,\n",
      "                                                   list(cluster.ellipses.keys()),\n",
      "                                                   axes=axes, ax_3d=ax_3d)\n",
      "    #segment = cluster.trajs.get_segments()[label]\n",
      "    #scatter_kw = {'c':segment.t.astype(np.float),\n",
      "    #              'cmap':'spectral',\n",
      "    #              's':40,\n",
      "    #              'alpha':0.8,\n",
      "    #              'edgecolors':'none'}\n",
      "    #line_kw = {'c':'gray',#tracker.label_colors[label],\n",
      "    #           'ls':'-',\n",
      "    #           'alpha':0.8, 'lw':0.75}\n",
      "    #coords=['x_c', 'y_c', 'z_c']\n",
      "\n",
      "    #axes, ax_3d = draw.show_4panels(cluster.trajs, label,\n",
      "    #                                axes=axes, ax_3d=ax_3d,\n",
      "    #                                scatter_kw=scatter_kw,\n",
      "    #                                line_kw=line_kw,\n",
      "    #                                coords=coords)\n"
     ],
     "language": "python",
     "metadata": {},
     "outputs": [
      {
       "output_type": "stream",
       "stream": "stdout",
       "text": [
        "0\n",
        "1"
       ]
      },
      {
       "output_type": "stream",
       "stream": "stdout",
       "text": [
        "\n",
        "2"
       ]
      },
      {
       "output_type": "stream",
       "stream": "stdout",
       "text": [
        "\n",
        "3"
       ]
      },
      {
       "output_type": "stream",
       "stream": "stdout",
       "text": [
        "\n",
        "4"
       ]
      },
      {
       "output_type": "stream",
       "stream": "stdout",
       "text": [
        "\n",
        "5"
       ]
      },
      {
       "output_type": "stream",
       "stream": "stdout",
       "text": [
        "\n",
        "6"
       ]
      },
      {
       "output_type": "stream",
       "stream": "stdout",
       "text": [
        "\n",
        "9"
       ]
      },
      {
       "output_type": "stream",
       "stream": "stdout",
       "text": [
        "\n"
       ]
      }
     ],
     "prompt_number": 75
    },
    {
     "cell_type": "code",
     "collapsed": false,
     "input": [
      "def remove_shorts(trajs, min_length=3):\n",
      "    out_trajs = trajs.copy()\n",
      "    for lbl, segment in trajs.iter_segments:\n",
      "        if segment.shape[0] < min_length:\n",
      "            out_trajs = out_trajs.drop([lbl, ], level=1)\n",
      "\n",
      "    return Trajectories(out_trajs)"
     ],
     "language": "python",
     "metadata": {},
     "outputs": [],
     "prompt_number": 68
    },
    {
     "cell_type": "code",
     "collapsed": false,
     "input": [
      "cluster.trajs = remove_shorts(cluster.trajs, min_length=4)\n"
     ],
     "language": "python",
     "metadata": {},
     "outputs": [],
     "prompt_number": 22
    },
    {
     "cell_type": "code",
     "collapsed": false,
     "input": [
      "cluster.trajs = cluster.trajs.relabel_fromzero('label', inplace=True)"
     ],
     "language": "python",
     "metadata": {},
     "outputs": [],
     "prompt_number": 27
    },
    {
     "cell_type": "code",
     "collapsed": false,
     "input": [
      "cluster.trajs.labels"
     ],
     "language": "python",
     "metadata": {},
     "outputs": [
      {
       "metadata": {},
       "output_type": "pyout",
       "prompt_number": 90,
       "text": [
        "array([0, 1, 2, 3, 4, 5, 6, 9])"
       ]
      }
     ],
     "prompt_number": 90
    },
    {
     "cell_type": "code",
     "collapsed": false,
     "input": [
      "cluster.trajs.xs(4, level='label')"
     ],
     "language": "python",
     "metadata": {},
     "outputs": [
      {
       "html": [
        "<div style=\"max-height:1000px;max-width:1500px;overflow:auto;\">\n",
        "<table border=\"1\" class=\"dataframe\">\n",
        "  <thead>\n",
        "    <tr style=\"text-align: right;\">\n",
        "      <th></th>\n",
        "      <th>x</th>\n",
        "      <th>y</th>\n",
        "      <th>z</th>\n",
        "      <th>I</th>\n",
        "      <th>w</th>\n",
        "      <th>cluster_cells</th>\n",
        "      <th>t</th>\n",
        "      <th>x_c</th>\n",
        "      <th>y_c</th>\n",
        "      <th>z_c</th>\n",
        "      <th>x_c_pca</th>\n",
        "      <th>y_c_pca</th>\n",
        "      <th>z_c_pca</th>\n",
        "      <th>theta</th>\n",
        "      <th>rho</th>\n",
        "      <th>dtheta</th>\n",
        "    </tr>\n",
        "    <tr>\n",
        "      <th>t_stamp</th>\n",
        "      <th></th>\n",
        "      <th></th>\n",
        "      <th></th>\n",
        "      <th></th>\n",
        "      <th></th>\n",
        "      <th></th>\n",
        "      <th></th>\n",
        "      <th></th>\n",
        "      <th></th>\n",
        "      <th></th>\n",
        "      <th></th>\n",
        "      <th></th>\n",
        "      <th></th>\n",
        "      <th></th>\n",
        "      <th></th>\n",
        "      <th></th>\n",
        "    </tr>\n",
        "  </thead>\n",
        "  <tbody>\n",
        "    <tr>\n",
        "      <th>0</th>\n",
        "      <td> 92.925498</td>\n",
        "      <td> 100.368733</td>\n",
        "      <td> 26.707541</td>\n",
        "      <td> 0.683561</td>\n",
        "      <td> 4.673340</td>\n",
        "      <td> 1</td>\n",
        "      <td>  9</td>\n",
        "      <td> 80.966821</td>\n",
        "      <td>  94.065460</td>\n",
        "      <td> 27.253052</td>\n",
        "      <td>-20.916234</td>\n",
        "      <td>-0.267445</td>\n",
        "      <td>-2.608830</td>\n",
        "      <td>-3.128807</td>\n",
        "      <td> 20.917944</td>\n",
        "      <td>      NaN</td>\n",
        "    </tr>\n",
        "    <tr>\n",
        "      <th>1</th>\n",
        "      <td> 91.688276</td>\n",
        "      <td> 101.153074</td>\n",
        "      <td> 25.096612</td>\n",
        "      <td> 0.819610</td>\n",
        "      <td> 4.470690</td>\n",
        "      <td> 1</td>\n",
        "      <td> 12</td>\n",
        "      <td> 81.235694</td>\n",
        "      <td>  95.906469</td>\n",
        "      <td> 26.734678</td>\n",
        "      <td>-19.112045</td>\n",
        "      <td>-0.955982</td>\n",
        "      <td>-2.575075</td>\n",
        "      <td>-3.091614</td>\n",
        "      <td> 19.135939</td>\n",
        "      <td> 0.037192</td>\n",
        "    </tr>\n",
        "    <tr>\n",
        "      <th>2</th>\n",
        "      <td> 90.881443</td>\n",
        "      <td> 103.177750</td>\n",
        "      <td> 23.458845</td>\n",
        "      <td> 0.351816</td>\n",
        "      <td> 3.876115</td>\n",
        "      <td> 1</td>\n",
        "      <td> 15</td>\n",
        "      <td> 85.865425</td>\n",
        "      <td>  98.152380</td>\n",
        "      <td> 25.372818</td>\n",
        "      <td>-15.078127</td>\n",
        "      <td> 0.919175</td>\n",
        "      <td> 0.348019</td>\n",
        "      <td>-3.202478</td>\n",
        "      <td> 15.106118</td>\n",
        "      <td>-0.110864</td>\n",
        "    </tr>\n",
        "    <tr>\n",
        "      <th>3</th>\n",
        "      <td> 92.273966</td>\n",
        "      <td> 104.187322</td>\n",
        "      <td> 22.585157</td>\n",
        "      <td> 0.361531</td>\n",
        "      <td> 3.852277</td>\n",
        "      <td> 1</td>\n",
        "      <td> 18</td>\n",
        "      <td> 83.386427</td>\n",
        "      <td>  97.996988</td>\n",
        "      <td> 24.602108</td>\n",
        "      <td>-16.225506</td>\n",
        "      <td>-1.316822</td>\n",
        "      <td>-0.320866</td>\n",
        "      <td>-3.060613</td>\n",
        "      <td> 16.278853</td>\n",
        "      <td> 0.141866</td>\n",
        "    </tr>\n",
        "    <tr>\n",
        "      <th>4</th>\n",
        "      <td> 92.427800</td>\n",
        "      <td> 105.847246</td>\n",
        "      <td> 22.703529</td>\n",
        "      <td> 0.415751</td>\n",
        "      <td> 3.757239</td>\n",
        "      <td> 1</td>\n",
        "      <td> 21</td>\n",
        "      <td> 87.629088</td>\n",
        "      <td> 100.597753</td>\n",
        "      <td> 24.792696</td>\n",
        "      <td>-12.096873</td>\n",
        "      <td> 1.101984</td>\n",
        "      <td> 1.059078</td>\n",
        "      <td>-3.232439</td>\n",
        "      <td> 12.146963</td>\n",
        "      <td>-0.171826</td>\n",
        "    </tr>\n",
        "    <tr>\n",
        "      <th>5</th>\n",
        "      <td> 93.712996</td>\n",
        "      <td> 105.614602</td>\n",
        "      <td> 23.238629</td>\n",
        "      <td> 0.445389</td>\n",
        "      <td> 3.878574</td>\n",
        "      <td> 1</td>\n",
        "      <td> 24</td>\n",
        "      <td> 88.891518</td>\n",
        "      <td> 100.951599</td>\n",
        "      <td> 25.189932</td>\n",
        "      <td>-11.263599</td>\n",
        "      <td> 2.158096</td>\n",
        "      <td> 1.317948</td>\n",
        "      <td>-3.330898</td>\n",
        "      <td> 11.468480</td>\n",
        "      <td>-0.098459</td>\n",
        "    </tr>\n",
        "  </tbody>\n",
        "</table>\n",
        "<p>6 rows \u00d7 16 columns</p>\n",
        "</div>"
       ],
       "metadata": {},
       "output_type": "pyout",
       "prompt_number": 97,
       "text": [
        "                 x           y          z         I         w  cluster_cells  \\\n",
        "t_stamp                                                                        \n",
        "0        92.925498  100.368733  26.707541  0.683561  4.673340              1   \n",
        "1        91.688276  101.153074  25.096612  0.819610  4.470690              1   \n",
        "2        90.881443  103.177750  23.458845  0.351816  3.876115              1   \n",
        "3        92.273966  104.187322  22.585157  0.361531  3.852277              1   \n",
        "4        92.427800  105.847246  22.703529  0.415751  3.757239              1   \n",
        "5        93.712996  105.614602  23.238629  0.445389  3.878574              1   \n",
        "\n",
        "          t        x_c         y_c        z_c    x_c_pca   y_c_pca   z_c_pca  \\\n",
        "t_stamp                                                                        \n",
        "0         9  80.966821   94.065460  27.253052 -20.916234 -0.267445 -2.608830   \n",
        "1        12  81.235694   95.906469  26.734678 -19.112045 -0.955982 -2.575075   \n",
        "2        15  85.865425   98.152380  25.372818 -15.078127  0.919175  0.348019   \n",
        "3        18  83.386427   97.996988  24.602108 -16.225506 -1.316822 -0.320866   \n",
        "4        21  87.629088  100.597753  24.792696 -12.096873  1.101984  1.059078   \n",
        "5        24  88.891518  100.951599  25.189932 -11.263599  2.158096  1.317948   \n",
        "\n",
        "            theta        rho    dtheta  \n",
        "t_stamp                                 \n",
        "0       -3.128807  20.917944       NaN  \n",
        "1       -3.091614  19.135939  0.037192  \n",
        "2       -3.202478  15.106118 -0.110864  \n",
        "3       -3.060613  16.278853  0.141866  \n",
        "4       -3.232439  12.146963 -0.171826  \n",
        "5       -3.330898  11.468480 -0.098459  \n",
        "\n",
        "[6 rows x 16 columns]"
       ]
      }
     ],
     "prompt_number": 97
    },
    {
     "cell_type": "code",
     "collapsed": false,
     "input": [
      "cluster.detected_rotations.xs(9, level='label')"
     ],
     "language": "python",
     "metadata": {},
     "outputs": [
      {
       "metadata": {},
       "output_type": "pyout",
       "prompt_number": 88,
       "text": [
        "t_stamp\n",
        "0          0\n",
        "1          0\n",
        "2          0\n",
        "3          0\n",
        "4          0\n",
        "Name: detected_rotations, dtype: int64"
       ]
      }
     ],
     "prompt_number": 88
    },
    {
     "cell_type": "code",
     "collapsed": false,
     "input": [
      "sub_dr = cluster.detected_rotations.loc[6]\n",
      "sub_dr"
     ],
     "language": "python",
     "metadata": {},
     "outputs": [
      {
       "metadata": {},
       "output_type": "pyout",
       "prompt_number": 80,
       "text": [
        "t_stamp\n",
        "0          0\n",
        "1          0\n",
        "2          0\n",
        "3          0\n",
        "4          0\n",
        "5          0\n",
        "6          0\n",
        "7          0\n",
        "8          1\n",
        "9          1\n",
        "10         1\n",
        "11         1\n",
        "12         1\n",
        "13         1\n",
        "14         1\n",
        "15         1\n",
        "16         1\n",
        "17         1\n",
        "18         1\n",
        "19         1\n",
        "20         1\n",
        "21         1\n",
        "22         1\n",
        "23         1\n",
        "24         1\n",
        "25         0\n",
        "26         0\n",
        "27         0\n",
        "28         0\n",
        "29         0\n",
        "30         0\n",
        "31         0\n",
        "32         0\n",
        "33         0\n",
        "34         0\n",
        "35         0\n",
        "36         0\n",
        "Name: detected_rotations, dtype: int64"
       ]
      }
     ],
     "prompt_number": 80
    },
    {
     "cell_type": "code",
     "collapsed": false,
     "input": [
      "### Plot the results\n",
      "axes = draw.plot_3coords(cluster.trajs,\n",
      "                         text=False,\n",
      "                         alpha=0.5)\n",
      "title = axes[0].set_title('After correction')"
     ],
     "language": "python",
     "metadata": {},
     "outputs": [],
     "prompt_number": 91
    },
    {
     "cell_type": "code",
     "collapsed": false,
     "input": [],
     "language": "python",
     "metadata": {},
     "outputs": []
    }
   ],
   "metadata": {}
  }
 ]
}