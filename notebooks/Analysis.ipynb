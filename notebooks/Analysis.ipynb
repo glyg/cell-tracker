{
 "metadata": {
  "name": "",
  "signature": "sha256:bd3d8c3bb2e1c354d7af03c256f1713b00e4c2eb6a41fe2af4d6bef5fb92f19d"
 },
 "nbformat": 3,
 "nbformat_minor": 0,
 "worksheets": [
  {
   "cells": [
    {
     "cell_type": "markdown",
     "metadata": {},
     "source": [
      "**Github Issues** : https://github.com/bnoi/cell-tracker/issues/new"
     ]
    },
    {
     "cell_type": "heading",
     "level": 4,
     "metadata": {},
     "source": [
      "Initialize everything"
     ]
    },
    {
     "cell_type": "code",
     "collapsed": false,
     "input": [
      "%load_ext autoreload\n",
      "%autoreload 2"
     ],
     "language": "python",
     "metadata": {},
     "outputs": [],
     "prompt_number": 1
    },
    {
     "cell_type": "code",
     "collapsed": false,
     "input": [
      "### The library used for plotting\n",
      "%matplotlib qt4\n",
      "\n",
      "### This imports various dependencies\n",
      "%run nb_init.py\n",
      "\n",
      "#### \n",
      "import cell_tracker as ct\n"
     ],
     "language": "python",
     "metadata": {},
     "outputs": [],
     "prompt_number": 2
    },
    {
     "cell_type": "heading",
     "level": 1,
     "metadata": {},
     "source": [
      "1. Data loading and preparation"
     ]
    },
    {
     "cell_type": "heading",
     "level": 2,
     "metadata": {},
     "source": [
      "1.1 Pick the directory and get the relevant data"
     ]
    },
    {
     "cell_type": "markdown",
     "metadata": {},
     "source": [
      "Here you can pick either a TIFF or a `.h5` file or an excel file"
     ]
    },
    {
     "cell_type": "code",
     "collapsed": false,
     "input": [
      "## You can set this to the common path of all your data\n",
      "default_path = '/media/data/AnneHDFStores/'\n",
      "cluster = ct.ui.get_cluster(default_path)"
     ],
     "language": "python",
     "metadata": {},
     "outputs": [
      {
       "output_type": "stream",
       "stream": "stdout",
       "text": [
        "Choosen data path: /media/data/AnneHDFStores/wt_240812.h5\n"
       ]
      }
     ],
     "prompt_number": 3
    },
    {
     "cell_type": "code",
     "collapsed": false,
     "input": [
      "cluster.trajs.head()"
     ],
     "language": "python",
     "metadata": {},
     "outputs": [
      {
       "html": [
        "<div style=\"max-height:1000px;max-width:1500px;overflow:auto;\">\n",
        "<table border=\"1\" class=\"dataframe\">\n",
        "  <thead>\n",
        "    <tr style=\"text-align: right;\">\n",
        "      <th></th>\n",
        "      <th></th>\n",
        "      <th>x</th>\n",
        "      <th>y</th>\n",
        "      <th>z</th>\n",
        "      <th>t</th>\n",
        "      <th>x_c</th>\n",
        "      <th>y_c</th>\n",
        "      <th>z_c</th>\n",
        "      <th>x_r</th>\n",
        "      <th>y_r</th>\n",
        "      <th>z_r</th>\n",
        "      <th>x_r_pca</th>\n",
        "      <th>y_r_pca</th>\n",
        "      <th>z_r_pca</th>\n",
        "      <th>theta</th>\n",
        "      <th>rho</th>\n",
        "      <th>dtheta</th>\n",
        "    </tr>\n",
        "    <tr>\n",
        "      <th>t_stamp</th>\n",
        "      <th>label</th>\n",
        "      <th></th>\n",
        "      <th></th>\n",
        "      <th></th>\n",
        "      <th></th>\n",
        "      <th></th>\n",
        "      <th></th>\n",
        "      <th></th>\n",
        "      <th></th>\n",
        "      <th></th>\n",
        "      <th></th>\n",
        "      <th></th>\n",
        "      <th></th>\n",
        "      <th></th>\n",
        "      <th></th>\n",
        "      <th></th>\n",
        "      <th></th>\n",
        "    </tr>\n",
        "  </thead>\n",
        "  <tbody>\n",
        "    <tr>\n",
        "      <th rowspan=\"5\" valign=\"top\">1</th>\n",
        "      <th>1</th>\n",
        "      <td> 66.654</td>\n",
        "      <td> 49.910</td>\n",
        "      <td> 9.0</td>\n",
        "      <td> 0</td>\n",
        "      <td> 62.287623</td>\n",
        "      <td> 42.843221</td>\n",
        "      <td> 6.701917</td>\n",
        "      <td> 4.366377</td>\n",
        "      <td>  7.066779</td>\n",
        "      <td> 2.298083</td>\n",
        "      <td> -3.867995</td>\n",
        "      <td>-1.449636</td>\n",
        "      <td> 1.476316</td>\n",
        "      <td> 1.017338</td>\n",
        "      <td>  8.306901</td>\n",
        "      <td> 0</td>\n",
        "    </tr>\n",
        "    <tr>\n",
        "      <th>2</th>\n",
        "      <td> 57.477</td>\n",
        "      <td> 50.393</td>\n",
        "      <td> 7.5</td>\n",
        "      <td> 0</td>\n",
        "      <td> 62.287623</td>\n",
        "      <td> 42.843221</td>\n",
        "      <td> 6.701917</td>\n",
        "      <td>-4.810623</td>\n",
        "      <td>  7.549779</td>\n",
        "      <td> 0.798083</td>\n",
        "      <td> -8.218758</td>\n",
        "      <td> 6.615880</td>\n",
        "      <td>-0.172601</td>\n",
        "      <td> 2.138112</td>\n",
        "      <td>  8.952165</td>\n",
        "      <td> 0</td>\n",
        "    </tr>\n",
        "    <tr>\n",
        "      <th>3</th>\n",
        "      <td> 60.697</td>\n",
        "      <td> 32.361</td>\n",
        "      <td> 6.0</td>\n",
        "      <td> 0</td>\n",
        "      <td> 62.287623</td>\n",
        "      <td> 42.843221</td>\n",
        "      <td> 6.701917</td>\n",
        "      <td>-1.590623</td>\n",
        "      <td>-10.482221</td>\n",
        "      <td>-0.701917</td>\n",
        "      <td>-21.986221</td>\n",
        "      <td>-5.506419</td>\n",
        "      <td>-1.303194</td>\n",
        "      <td>-1.721392</td>\n",
        "      <td> 10.602219</td>\n",
        "      <td> 0</td>\n",
        "    </tr>\n",
        "    <tr>\n",
        "      <th>4</th>\n",
        "      <td> 64.722</td>\n",
        "      <td> 40.572</td>\n",
        "      <td> 6.0</td>\n",
        "      <td> 0</td>\n",
        "      <td> 62.287623</td>\n",
        "      <td> 42.843221</td>\n",
        "      <td> 6.701917</td>\n",
        "      <td> 2.434377</td>\n",
        "      <td> -2.271221</td>\n",
        "      <td>-0.701917</td>\n",
        "      <td>-12.877929</td>\n",
        "      <td>-4.698246</td>\n",
        "      <td>-1.386987</td>\n",
        "      <td>-0.750739</td>\n",
        "      <td>  3.329360</td>\n",
        "      <td> 0</td>\n",
        "    </tr>\n",
        "    <tr>\n",
        "      <th>5</th>\n",
        "      <td> 61.341</td>\n",
        "      <td> 41.538</td>\n",
        "      <td> 6.0</td>\n",
        "      <td> 0</td>\n",
        "      <td> 62.287623</td>\n",
        "      <td> 42.843221</td>\n",
        "      <td> 6.701917</td>\n",
        "      <td>-0.946623</td>\n",
        "      <td> -1.305221</td>\n",
        "      <td>-0.701917</td>\n",
        "      <td>-13.802760</td>\n",
        "      <td>-1.306455</td>\n",
        "      <td>-1.455970</td>\n",
        "      <td>-2.198274</td>\n",
        "      <td>  1.612358</td>\n",
        "      <td> 0</td>\n",
        "    </tr>\n",
        "  </tbody>\n",
        "</table>\n",
        "</div>"
       ],
       "metadata": {},
       "output_type": "pyout",
       "prompt_number": 4,
       "text": [
        "                    x       y    z  t        x_c        y_c       z_c  \\\n",
        "t_stamp label                                                           \n",
        "1       1      66.654  49.910  9.0  0  62.287623  42.843221  6.701917   \n",
        "        2      57.477  50.393  7.5  0  62.287623  42.843221  6.701917   \n",
        "        3      60.697  32.361  6.0  0  62.287623  42.843221  6.701917   \n",
        "        4      64.722  40.572  6.0  0  62.287623  42.843221  6.701917   \n",
        "        5      61.341  41.538  6.0  0  62.287623  42.843221  6.701917   \n",
        "\n",
        "                    x_r        y_r       z_r    x_r_pca   y_r_pca   z_r_pca  \\\n",
        "t_stamp label                                                                 \n",
        "1       1      4.366377   7.066779  2.298083  -3.867995 -1.449636  1.476316   \n",
        "        2     -4.810623   7.549779  0.798083  -8.218758  6.615880 -0.172601   \n",
        "        3     -1.590623 -10.482221 -0.701917 -21.986221 -5.506419 -1.303194   \n",
        "        4      2.434377  -2.271221 -0.701917 -12.877929 -4.698246 -1.386987   \n",
        "        5     -0.946623  -1.305221 -0.701917 -13.802760 -1.306455 -1.455970   \n",
        "\n",
        "                  theta        rho  dtheta  \n",
        "t_stamp label                               \n",
        "1       1      1.017338   8.306901       0  \n",
        "        2      2.138112   8.952165       0  \n",
        "        3     -1.721392  10.602219       0  \n",
        "        4     -0.750739   3.329360       0  \n",
        "        5     -2.198274   1.612358       0  "
       ]
      }
     ],
     "prompt_number": 4
    },
    {
     "cell_type": "heading",
     "level": 4,
     "metadata": {},
     "source": [
      "Set metadata"
     ]
    },
    {
     "cell_type": "code",
     "collapsed": false,
     "input": [
      "smw = ct.ui.set_metadata(cluster.metadata)\n",
      "display.display(smw)"
     ],
     "language": "python",
     "metadata": {},
     "outputs": [],
     "prompt_number": 5
    },
    {
     "cell_type": "heading",
     "level": 2,
     "metadata": {},
     "source": [
      "1.2 Scaling and basic computations"
     ]
    },
    {
     "cell_type": "markdown",
     "metadata": {},
     "source": [
      "In the cell below, if you change `True` to `False`, the scale of the data will be changed form pixels to microns.\n",
      "\n",
      "**Change the value bellow ONLY if you haven't scaled the data before**"
     ]
    },
    {
     "cell_type": "code",
     "collapsed": false,
     "input": [
      "cluster.was_scaled = True ### Set this to False if you need to scale the data to physical size"
     ],
     "language": "python",
     "metadata": {},
     "outputs": [],
     "prompt_number": 6
    },
    {
     "cell_type": "heading",
     "level": 4,
     "metadata": {},
     "source": [
      "Basic computations"
     ]
    },
    {
     "cell_type": "code",
     "collapsed": false,
     "input": [
      "if not cluster.was_scaled:\n",
      "    cluster.scale_pix_to_physical()\n",
      "\n",
      "### Computes the position of the nuclei with respect to the cluster center\n",
      "cluster.get_center(smooth=10)\n",
      "    \n",
      "### Computes the angle of the nuclei with respect to the cluster center\n",
      "cluster.cumulative_angle()\n",
      "\n",
      "### Save the trajectories to the .h5 file\n",
      "cluster.save_trajs()\n",
      "print('''Trajectories for this experiment are stored in the file {}'''.format(cluster.oio.store_path))"
     ],
     "language": "python",
     "metadata": {},
     "outputs": [
      {
       "output_type": "stream",
       "stream": "stdout",
       "text": [
        "Trajectories for this experiment are stored in the file /media/data/AnneHDFStores/wt_240812.h5\n"
       ]
      }
     ],
     "prompt_number": 7
    },
    {
     "cell_type": "heading",
     "level": 4,
     "metadata": {},
     "source": [
      "Each nucleus trajectory is represented by a segment"
     ]
    },
    {
     "cell_type": "code",
     "collapsed": false,
     "input": [
      "## This means that we go over all the segments\n",
      "## contained in the cluster trajectories\n",
      "colors = cluster.trajs.get_colors()\n",
      "\n",
      "for label, segment in cluster.trajs.iter_segments:\n",
      "    print('Segment with label {} has {} time points and has color code {}'\n",
      "          .format(label, segment.shape[0], colors[label]))"
     ],
     "language": "python",
     "metadata": {},
     "outputs": [
      {
       "output_type": "stream",
       "stream": "stdout",
       "text": [
        "Segment with label 1 has 35 time points and has color code g\n",
        "Segment with label 2 has 35 time points and has color code r\n",
        "Segment with label 3 has 35 time points and has color code c\n",
        "Segment with label 4 has 35 time points and has color code m\n",
        "Segment with label 5 has 35 time points and has color code y\n"
       ]
      }
     ],
     "prompt_number": 8
    },
    {
     "cell_type": "heading",
     "level": 1,
     "metadata": {},
     "source": [
      "2. Basic ploting functionalities"
     ]
    },
    {
     "cell_type": "heading",
     "level": 2,
     "metadata": {},
     "source": [
      "2.1 Plot the coordinates versus time"
     ]
    },
    {
     "cell_type": "code",
     "collapsed": false,
     "input": [
      "axes = draw.plot_stacked_coords(cluster.trajs, coords=['x', 'y', 'z'])"
     ],
     "language": "python",
     "metadata": {},
     "outputs": [],
     "prompt_number": 9
    },
    {
     "cell_type": "markdown",
     "metadata": {},
     "source": [
      "It is also possible to access a single segment"
     ]
    },
    {
     "cell_type": "heading",
     "level": 2,
     "metadata": {},
     "source": [
      "2.2 Plot a single segment (x versus y)"
     ]
    },
    {
     "cell_type": "code",
     "collapsed": false,
     "input": [
      "segments = cluster.trajs.get_segments() \n",
      "### We access a segment by giving it's label\n",
      "seg0 = segments[2]\n",
      "\n",
      "fig, ax = plt.subplots()\n",
      "ax.plot(seg0.x, seg0.y, 'k-');\n",
      "ax.set_xlabel('x position')\n",
      "ax.set_xlabel('y position')"
     ],
     "language": "python",
     "metadata": {},
     "outputs": [
      {
       "metadata": {},
       "output_type": "pyout",
       "prompt_number": 9,
       "text": [
        "<matplotlib.text.Text at 0x7f87a8133390>"
       ]
      }
     ],
     "prompt_number": 9
    },
    {
     "cell_type": "heading",
     "level": 2,
     "metadata": {},
     "source": [
      "2.3 Positions against time relative to the cluster center"
     ]
    },
    {
     "cell_type": "markdown",
     "metadata": {},
     "source": [
      "When we computed the center position, we created new columns in the data\n",
      "the position of the center is given by `x_c, y_c, z_c`, and the positions\n",
      "of the nuclei relative to the center by `x_r, y_r, z_r`."
     ]
    },
    {
     "cell_type": "code",
     "collapsed": false,
     "input": [
      "axes = draw.plot_stacked_coords(cluster.trajs,\n",
      "                                coords=['x_r', 'y_r', 'z_r'])"
     ],
     "language": "python",
     "metadata": {},
     "outputs": [],
     "prompt_number": 10
    },
    {
     "cell_type": "heading",
     "level": 2,
     "metadata": {},
     "source": [
      "2.4 Positions in 3D (absolute positions)"
     ]
    },
    {
     "cell_type": "heading",
     "level": 4,
     "metadata": {},
     "source": [
      "All in the same graph"
     ]
    },
    {
     "cell_type": "code",
     "collapsed": false,
     "input": [
      "\n",
      "### The coordinates to plot\n",
      "coords=['x', 'y', 'z']\n",
      "\n",
      "### Get the colors of the different trajectories\n",
      "colors = cluster.trajs.get_colors()\n",
      "\n",
      "### Get all the segments\n",
      "segments = cluster.trajs.get_segments()\n",
      "\n",
      "### The code below puts a all the trajectories on the same graph\n",
      "axes, ax_3d = None, None\n",
      "for label in cluster.trajs.labels:\n",
      "    segment = segments[label]\n",
      "    scatter_kw = {'c':segment.t.astype(np.float),\n",
      "                  'cmap':'spectral',\n",
      "                  's':40,\n",
      "                  'alpha':0.8,\n",
      "                  'edgecolors':'none'}\n",
      "    line_kw = {'c':'gray',#tracker.label_colors[label],\n",
      "               'ls':'-',\n",
      "               'alpha':0.8, 'lw':0.75}\n",
      "\n",
      "    axes, ax_3d = draw.show_4panels(cluster.trajs, label,\n",
      "                                    axes=axes, ax_3d=ax_3d,\n",
      "                                    scatter_kw=scatter_kw,\n",
      "                                    line_kw=line_kw,\n",
      "                                    coords=coords)\n",
      "\n",
      "### Setting axes limits\n",
      "ax = axes[0, 0]\n",
      "\n",
      "x_min, x_max = 0, 120\n",
      "y_min, y_max = 0, 120\n",
      "z_min, z_max = -60, 60\n",
      "\n",
      "\n",
      "ax.set_xlim(x_min, x_max)\n",
      "ax.set_ylim(y_min, y_max)\n",
      "ax_3d.set_xlim(x_min, x_max)\n",
      "ax_3d.set_zlim(y_min, y_max)\n",
      "ax_3d.set_zlim(z_min, z_max)"
     ],
     "language": "python",
     "metadata": {},
     "outputs": [
      {
       "metadata": {},
       "output_type": "pyout",
       "prompt_number": 10,
       "text": [
        "(-60, 60)"
       ]
      }
     ],
     "prompt_number": 10
    },
    {
     "cell_type": "heading",
     "level": 4,
     "metadata": {},
     "source": [
      "A single nucleus"
     ]
    },
    {
     "cell_type": "code",
     "collapsed": false,
     "input": [
      "### Choose the label\n",
      "label = 4\n",
      "\n",
      "### The coordinates to plot\n",
      "coords=['x', 'y', 'z']\n",
      "\n",
      "\n",
      "segment = segments[label]\n",
      "scatter_kw = {'c':segment.t.astype(np.float),\n",
      "              'cmap':'spectral',\n",
      "              's':40,\n",
      "              'alpha':0.8,\n",
      "              'edgecolors':'none'}\n",
      "line_kw = {'c':'gray',#tracker.label_colors[label],\n",
      "           'ls':'-',\n",
      "           'alpha':0.8, 'lw':0.75}\n",
      "\n",
      "\n",
      "axes, ax_3d = draw.show_4panels(cluster.trajs, label,\n",
      "                                axes=None, ax_3d=None,\n",
      "                                scatter_kw=scatter_kw,\n",
      "                                line_kw=line_kw,\n",
      "                                coords=coords)\n",
      "\n",
      "### Setting axes limits\n",
      "ax = axes[0, 0]\n",
      "\n",
      "x_min, x_max = 40, 140\n",
      "y_min, y_max = 20, 120\n",
      "z_min, z_max = -60, 60\n",
      "\n",
      "\n",
      "ax.set_xlim(x_min, x_max)\n",
      "ax.set_ylim(y_min, y_max)\n",
      "ax_3d.set_xlim(x_min, x_max)\n",
      "ax_3d.set_zlim(y_min, y_max)\n",
      "ax_3d.set_zlim(z_min, z_max)"
     ],
     "language": "python",
     "metadata": {},
     "outputs": [
      {
       "metadata": {},
       "output_type": "pyout",
       "prompt_number": 11,
       "text": [
        "(-60, 60)"
       ]
      }
     ],
     "prompt_number": 11
    },
    {
     "cell_type": "heading",
     "level": 2,
     "metadata": {},
     "source": [
      "2.5 Positions in 3D relative to cluster center"
     ]
    },
    {
     "cell_type": "code",
     "collapsed": false,
     "input": [
      "### Choose the label\n",
      "label = 4\n",
      "\n",
      "### The coordinates to plot\n",
      "coords=['x_r', 'y_r', 'z_r']\n",
      "\n",
      "segment = segments[label]\n",
      "scatter_kw = {'c':segment.t.astype(np.float),\n",
      "              'cmap':'spectral',\n",
      "              's':40,\n",
      "              'alpha':0.8,\n",
      "              'edgecolors':'none'}\n",
      "line_kw = {'c':'gray',#tracker.label_colors[label],\n",
      "           'ls':'-',\n",
      "           'alpha':0.8, 'lw':0.75}\n",
      "\n",
      "\n",
      "axes, ax_3d = draw.show_4panels(cluster.trajs, label,\n",
      "                                axes=None, ax_3d=None,\n",
      "                                scatter_kw=scatter_kw,\n",
      "                                line_kw=line_kw,\n",
      "                                coords=coords)\n",
      "### Setting axes limits\n",
      "ax = axes[0, 0]\n",
      "\n",
      "x_min, x_max = -20, 20\n",
      "y_min, y_max = -20, 20\n",
      "z_min, z_max = -20, 20\n",
      "\n",
      "\n",
      "ax.set_xlim(x_min, x_max)\n",
      "ax.set_ylim(y_min, y_max)\n",
      "ax_3d.set_xlim(x_min, x_max)\n",
      "ax_3d.set_zlim(y_min, y_max)\n",
      "ax_3d.set_zlim(z_min, z_max)"
     ],
     "language": "python",
     "metadata": {},
     "outputs": [
      {
       "metadata": {},
       "output_type": "pyout",
       "prompt_number": 12,
       "text": [
        "(-20, 20)"
       ]
      }
     ],
     "prompt_number": 12
    },
    {
     "cell_type": "heading",
     "level": 2,
     "metadata": {},
     "source": [
      "2.6 Polar histogram"
     ]
    },
    {
     "cell_type": "code",
     "collapsed": false,
     "input": [
      "ax = ct.graphics.polar_histogram(cluster, ax=None, alpha=0.5)"
     ],
     "language": "python",
     "metadata": {},
     "outputs": [],
     "prompt_number": 13
    },
    {
     "cell_type": "heading",
     "level": 1,
     "metadata": {},
     "source": [
      "3. Ellipses and rotation detection"
     ]
    },
    {
     "cell_type": "heading",
     "level": 2,
     "metadata": {},
     "source": [
      "3.1 Fit ellipses of different sizes over the trajectories"
     ]
    },
    {
     "cell_type": "heading",
     "level": 4,
     "metadata": {},
     "source": [
      "Define the sizes"
     ]
    },
    {
     "cell_type": "markdown",
     "metadata": {},
     "source": [
      "The sizes of the fitting windows are given in minutes"
     ]
    },
    {
     "cell_type": "code",
     "collapsed": false,
     "input": [
      "sizes = np.arange(24, 66, 12)\n",
      "detection_method = 'polar' ### This must be 'polar' or 'cartesian'\n"
     ],
     "language": "python",
     "metadata": {},
     "outputs": [],
     "prompt_number": 7
    },
    {
     "cell_type": "heading",
     "level": 4,
     "metadata": {},
     "source": [
      "Do the computation (only if you didn't do it for this data set before)"
     ]
    },
    {
     "cell_type": "code",
     "collapsed": false,
     "input": [
      "\n",
      "### Fits ellipses and detect rotations\n",
      "### This might take some time\n",
      "for size in sizes:\n",
      "    print('Computing for a window of {} min'.format(size))\n",
      "    cluster.compute_ellipticity(size, method=detection_method)"
     ],
     "language": "python",
     "metadata": {},
     "outputs": [
      {
       "output_type": "stream",
       "stream": "stdout",
       "text": [
        "Computing for a window of 24 min\n",
        "Computing for a window of 36 min"
       ]
      },
      {
       "output_type": "stream",
       "stream": "stdout",
       "text": [
        "\n",
        "Computing for a window of 48 min"
       ]
      },
      {
       "output_type": "stream",
       "stream": "stdout",
       "text": [
        "\n",
        "Computing for a window of 60 min"
       ]
      },
      {
       "output_type": "stream",
       "stream": "stdout",
       "text": [
        "\n"
       ]
      }
     ],
     "prompt_number": 15
    },
    {
     "cell_type": "heading",
     "level": 2,
     "metadata": {},
     "source": [
      "3.2 Rotation detection"
     ]
    },
    {
     "cell_type": "code",
     "collapsed": false,
     "input": [
      "display.SVG('ellipsis_detection.svg')\n"
     ],
     "language": "python",
     "metadata": {},
     "outputs": [
      {
       "metadata": {},
       "output_type": "pyout",
       "prompt_number": 28,
       "svg": [
        "<svg height=\"417.14081\" id=\"svg2\" inkscape:version=\"0.48.4 r9939\" sodipodi:docname=\"ellipsis_detection.svg\" version=\"1.1\" width=\"644.5921\" xmlns=\"http://www.w3.org/2000/svg\" xmlns:cc=\"http://creativecommons.org/ns#\" xmlns:dc=\"http://purl.org/dc/elements/1.1/\" xmlns:inkscape=\"http://www.inkscape.org/namespaces/inkscape\" xmlns:rdf=\"http://www.w3.org/1999/02/22-rdf-syntax-ns#\" xmlns:sodipodi=\"http://sodipodi.sourceforge.net/DTD/sodipodi-0.dtd\" xmlns:svg=\"http://www.w3.org/2000/svg\" xmlns:xlink=\"http://www.w3.org/1999/xlink\">\n",
        "  <defs id=\"defs4\" style=\"stroke-linecap:butt;stroke-linejoin:round\">\n",
        "    <marker id=\"Arrow1Lend\" inkscape:stockid=\"Arrow1Lend\" orient=\"auto\" refX=\"0\" refY=\"0\" style=\"stroke-linecap:butt;stroke-linejoin:round;overflow:visible\">\n",
        "      <path d=\"M 0,0 5,-5 -12.5,0 5,5 0,0 z\" id=\"path101973\" inkscape:connector-curvature=\"0\" style=\"fill-rule:evenodd;stroke:#000000;stroke-width:1pt;stroke-linecap:butt;stroke-linejoin:round\" transform=\"matrix(-0.8,0,0,-0.8,-10,0)\"/>\n",
        "    </marker>\n",
        "    <marker id=\"Arrow1Mend\" inkscape:stockid=\"Arrow1Mend\" orient=\"auto\" refX=\"0\" refY=\"0\" style=\"stroke-linecap:butt;stroke-linejoin:round;overflow:visible\">\n",
        "      <path d=\"M 0,0 5,-5 -12.5,0 5,5 0,0 z\" id=\"path101979\" inkscape:connector-curvature=\"0\" style=\"fill-rule:evenodd;stroke:#000000;stroke-width:1pt;stroke-linecap:butt;stroke-linejoin:round\" transform=\"matrix(-0.4,0,0,-0.4,-4,0)\"/>\n",
        "    </marker>\n",
        "    <marker id=\"Arrow1Mstart\" inkscape:stockid=\"Arrow1Mstart\" orient=\"auto\" refX=\"0\" refY=\"0\" style=\"overflow:visible\">\n",
        "      <path d=\"M 0,0 5,-5 -12.5,0 5,5 0,0 z\" id=\"path101976\" inkscape:connector-curvature=\"0\" style=\"fill-rule:evenodd;stroke:#000000;stroke-width:1pt;stroke-linecap:butt;stroke-linejoin:round\" transform=\"matrix(0.4,0,0,0.4,4,0)\"/>\n",
        "    </marker>\n",
        "    <clipPath id=\"p69c1cc7a4f\">\n",
        "      <rect height=\"334.39856\" id=\"rect10551\" width=\"497.72437\" x=\"56.831249\" y=\"382.71393\"/>\n",
        "    </clipPath>\n",
        "    <clipPath id=\"pfc597b25c1\">\n",
        "      <rect height=\"334.39856\" id=\"rect10548\" width=\"497.72437\" x=\"574.71564\" y=\"382.71393\"/>\n",
        "    </clipPath>\n",
        "    <clipPath id=\"p64bead7903\">\n",
        "      <rect height=\"334.39856\" id=\"rect10545\" width=\"497.72437\" x=\"56.831249\" y=\"18.741621\"/>\n",
        "    </clipPath>\n",
        "    <clipPath id=\"p8ef677df68\">\n",
        "      <rect height=\"334.39856\" id=\"rect10542\" width=\"497.72437\" x=\"574.71564\" y=\"18.741621\"/>\n",
        "    </clipPath>\n",
        "    <style id=\"style6794\" type=\"text/css\">\n",
        "*{stroke-linecap:butt;stroke-linejoin:round;}\n",
        "  </style>\n",
        "    <style id=\"style16441\" type=\"text/css\">\n",
        "*{stroke-linecap:butt;stroke-linejoin:round;}\n",
        "  </style>\n",
        "    <clipPath id=\"p4219eb7cb2\">\n",
        "      <rect height=\"334.58939\" id=\"rect18746\" style=\"stroke-linecap:butt;stroke-linejoin:round\" width=\"416.64749\" x=\"478.49249\" y=\"377.12314\"/>\n",
        "    </clipPath>\n",
        "    <clipPath id=\"p907e48cb16\">\n",
        "      <rect height=\"334.58939\" id=\"rect18749\" style=\"stroke-linecap:butt;stroke-linejoin:round\" width=\"416.64749\" x=\"478.49249\" y=\"12.96\"/>\n",
        "    </clipPath>\n",
        "    <clipPath id=\"pe0ed907c9d\">\n",
        "      <rect height=\"334.58939\" id=\"rect18752\" style=\"stroke-linecap:butt;stroke-linejoin:round\" width=\"416.64749\" x=\"48.884998\" y=\"377.12314\"/>\n",
        "    </clipPath>\n",
        "    <clipPath id=\"pcbb924fb54\">\n",
        "      <rect height=\"334.58939\" id=\"rect18755\" style=\"stroke-linecap:butt;stroke-linejoin:round\" width=\"416.64749\" x=\"48.884998\" y=\"12.96\"/>\n",
        "    </clipPath>\n",
        "    <style id=\"style54521\" type=\"text/css\">\n",
        "*{stroke-linecap:butt;stroke-linejoin:round;}\n",
        "  </style>\n",
        "    <clipPath id=\"p2c54c407b2\">\n",
        "      <rect height=\"290.93936\" id=\"rect56523\" style=\"stroke-linecap:butt;stroke-linejoin:round\" width=\"349.28668\" x=\"49.32\" y=\"12.96\"/>\n",
        "    </clipPath>\n",
        "    <clipPath id=\"p769b18af4b\">\n",
        "      <rect height=\"290.93936\" id=\"rect56526\" style=\"stroke-linecap:butt;stroke-linejoin:round\" width=\"349.28668\" x=\"414.45331\" y=\"333.47311\"/>\n",
        "    </clipPath>\n",
        "    <clipPath id=\"pe00d5f48e7\">\n",
        "      <rect height=\"290.93936\" id=\"rect56529\" style=\"stroke-linecap:butt;stroke-linejoin:round\" width=\"349.28668\" x=\"49.32\" y=\"333.47311\"/>\n",
        "    </clipPath>\n",
        "    <clipPath id=\"p001c192b9f\">\n",
        "      <rect height=\"290.93936\" id=\"rect56532\" style=\"stroke-linecap:butt;stroke-linejoin:round\" width=\"349.28668\" x=\"414.45331\" y=\"12.96\"/>\n",
        "    </clipPath>\n",
        "    <style id=\"style49654\" type=\"text/css\">\n",
        "*{stroke-linecap:butt;stroke-linejoin:round;}\n",
        "  </style>\n",
        "    <clipPath id=\"p5038960075\">\n",
        "      <rect height=\"318.38937\" id=\"rect51867\" style=\"stroke-linecap:butt;stroke-linejoin:round\" width=\"418.07437\" x=\"56.831249\" y=\"12.96\"/>\n",
        "    </clipPath>\n",
        "    <clipPath id=\"p8fe1474151\">\n",
        "      <rect height=\"318.38937\" id=\"rect51870\" style=\"stroke-linecap:butt;stroke-linejoin:round\" width=\"418.07437\" x=\"56.831249\" y=\"360.92313\"/>\n",
        "    </clipPath>\n",
        "    <clipPath id=\"p4910acfd80\">\n",
        "      <rect height=\"318.38937\" id=\"rect51873\" style=\"stroke-linecap:butt;stroke-linejoin:round\" width=\"418.07437\" x=\"487.86563\" y=\"12.96\"/>\n",
        "    </clipPath>\n",
        "    <clipPath id=\"pebdad752eb\">\n",
        "      <rect height=\"318.38937\" id=\"rect51876\" style=\"stroke-linecap:butt;stroke-linejoin:round\" width=\"418.07437\" x=\"487.86563\" y=\"360.92313\"/>\n",
        "    </clipPath>\n",
        "    <style id=\"style43223\" type=\"text/css\">\n",
        "*{stroke-linecap:butt;stroke-linejoin:round;}\n",
        "  </style>\n",
        "    <clipPath id=\"p75428f1daf\">\n",
        "      <rect height=\"304.88937\" id=\"rect45569\" style=\"stroke-linecap:butt;stroke-linejoin:round\" width=\"325.98001\" x=\"388.26001\" y=\"12.96\"/>\n",
        "    </clipPath>\n",
        "    <clipPath id=\"p26efd31ea8\">\n",
        "      <rect height=\"304.88937\" id=\"rect45572\" style=\"stroke-linecap:butt;stroke-linejoin:round\" width=\"325.98001\" x=\"388.26001\" y=\"347.42313\"/>\n",
        "    </clipPath>\n",
        "    <clipPath id=\"pe5b6a3f546\">\n",
        "      <rect height=\"304.88937\" id=\"rect45575\" style=\"stroke-linecap:butt;stroke-linejoin:round\" width=\"325.98001\" x=\"49.32\" y=\"347.42313\"/>\n",
        "    </clipPath>\n",
        "    <clipPath id=\"pab32517c29\">\n",
        "      <rect height=\"304.88937\" id=\"rect45578\" style=\"stroke-linecap:butt;stroke-linejoin:round\" width=\"325.98001\" x=\"49.32\" y=\"12.96\"/>\n",
        "    </clipPath>\n",
        "    <style id=\"style38513\" type=\"text/css\">\n",
        "*{stroke-linecap:butt;stroke-linejoin:round;}\n",
        "  </style>\n",
        "    <clipPath id=\"p2d0847d783\">\n",
        "      <rect height=\"284.63937\" id=\"rect40688\" style=\"stroke-linecap:butt;stroke-linejoin:round\" width=\"290.72437\" x=\"56.831249\" y=\"12.96\"/>\n",
        "    </clipPath>\n",
        "    <clipPath id=\"p8ca75097e2\">\n",
        "      <rect height=\"284.63937\" id=\"rect40691\" style=\"stroke-linecap:butt;stroke-linejoin:round\" width=\"290.72437\" x=\"360.51562\" y=\"12.96\"/>\n",
        "    </clipPath>\n",
        "    <clipPath id=\"p25f421be1b\">\n",
        "      <rect height=\"284.63937\" id=\"rect40694\" style=\"stroke-linecap:butt;stroke-linejoin:round\" width=\"290.72437\" x=\"56.831249\" y=\"327.17313\"/>\n",
        "    </clipPath>\n",
        "    <clipPath id=\"p5ddec70d5a\">\n",
        "      <rect height=\"284.63937\" id=\"rect40697\" style=\"stroke-linecap:butt;stroke-linejoin:round\" width=\"290.72437\" x=\"360.51562\" y=\"327.17313\"/>\n",
        "    </clipPath>\n",
        "    <style id=\"style31467\" type=\"text/css\">\n",
        "*{stroke-linecap:butt;stroke-linejoin:round;}\n",
        "  </style>\n",
        "    <clipPath id=\"pbd37f28c04\">\n",
        "      <rect height=\"318.83939\" id=\"rect33615\" style=\"stroke-linecap:butt;stroke-linejoin:round\" width=\"344.24438\" x=\"48.791248\" y=\"361.37314\"/>\n",
        "    </clipPath>\n",
        "    <clipPath id=\"p18a430608f\">\n",
        "      <rect height=\"318.83939\" id=\"rect33618\" style=\"stroke-linecap:butt;stroke-linejoin:round\" width=\"344.24438\" x=\"48.791248\" y=\"12.96\"/>\n",
        "    </clipPath>\n",
        "    <clipPath id=\"p4db847229d\">\n",
        "      <rect height=\"318.83939\" id=\"rect33621\" style=\"stroke-linecap:butt;stroke-linejoin:round\" width=\"344.24438\" x=\"405.99564\" y=\"12.96\"/>\n",
        "    </clipPath>\n",
        "    <clipPath id=\"pa3c0e8ba5d\">\n",
        "      <rect height=\"318.83939\" id=\"rect33624\" style=\"stroke-linecap:butt;stroke-linejoin:round\" width=\"344.24438\" x=\"405.99564\" y=\"361.37314\"/>\n",
        "    </clipPath>\n",
        "    <style id=\"style24330\" type=\"text/css\">\n",
        "*{stroke-linecap:butt;stroke-linejoin:round;}\n",
        "  </style>\n",
        "    <clipPath id=\"p70a1477c43\">\n",
        "      <rect height=\"252.68938\" id=\"rect26617\" style=\"stroke-linecap:butt;stroke-linejoin:round\" width=\"286.82999\" x=\"349.10999\" y=\"12.96\"/>\n",
        "    </clipPath>\n",
        "    <clipPath id=\"p2f369ebd9e\">\n",
        "      <rect height=\"252.68938\" id=\"rect26620\" style=\"stroke-linecap:butt;stroke-linejoin:round\" width=\"286.82999\" x=\"49.32\" y=\"295.22311\"/>\n",
        "    </clipPath>\n",
        "    <clipPath id=\"pc52674d6b8\">\n",
        "      <rect height=\"252.68938\" id=\"rect26623\" style=\"stroke-linecap:butt;stroke-linejoin:round\" width=\"286.82999\" x=\"349.10999\" y=\"295.22311\"/>\n",
        "    </clipPath>\n",
        "    <clipPath id=\"p72990397a8\">\n",
        "      <rect height=\"252.68938\" id=\"rect26626\" style=\"stroke-linecap:butt;stroke-linejoin:round\" width=\"286.82999\" x=\"49.32\" y=\"12.96\"/>\n",
        "    </clipPath>\n",
        "    <style id=\"style14174\" type=\"text/css\">\n",
        "*{stroke-linecap:butt;stroke-linejoin:round;}\n",
        "  </style>\n",
        "    <clipPath id=\"pe86011153b\">\n",
        "      <rect height=\"303.53937\" id=\"rect16426\" style=\"stroke-linecap:butt;stroke-linejoin:round\" width=\"394.38\" x=\"456.66\" y=\"12.96\"/>\n",
        "    </clipPath>\n",
        "    <clipPath id=\"p501e9cb373\">\n",
        "      <rect height=\"303.53937\" id=\"rect16429\" style=\"stroke-linecap:butt;stroke-linejoin:round\" width=\"394.38\" x=\"49.32\" y=\"346.07312\"/>\n",
        "    </clipPath>\n",
        "    <clipPath id=\"p063b47c935\">\n",
        "      <rect height=\"303.53937\" id=\"rect16432\" style=\"stroke-linecap:butt;stroke-linejoin:round\" width=\"394.38\" x=\"456.66\" y=\"346.07312\"/>\n",
        "    </clipPath>\n",
        "    <clipPath id=\"p79137038ec\">\n",
        "      <rect height=\"303.53937\" id=\"rect16435\" style=\"stroke-linecap:butt;stroke-linejoin:round\" width=\"394.38\" x=\"49.32\" y=\"12.96\"/>\n",
        "    </clipPath>\n",
        "    <style id=\"style2989\" type=\"text/css\">\n",
        "*{stroke-linecap:butt;stroke-linejoin:round;}\n",
        "  </style>\n",
        "    <clipPath id=\"p21eb643df2\">\n",
        "      <rect height=\"169.23593\" id=\"rect5315\" style=\"stroke-linecap:butt;stroke-linejoin:round\" width=\"178.38\" x=\"240.66\" y=\"217.57657\"/>\n",
        "    </clipPath>\n",
        "    <clipPath id=\"paec92990f6\">\n",
        "      <rect height=\"169.23593\" id=\"rect5318\" style=\"stroke-linecap:butt;stroke-linejoin:round\" width=\"178.38\" x=\"49.32\" y=\"217.57657\"/>\n",
        "    </clipPath>\n",
        "    <clipPath id=\"p7e3cdd4aa9\">\n",
        "      <rect height=\"169.23593\" id=\"rect5321\" style=\"stroke-linecap:butt;stroke-linejoin:round\" width=\"178.38\" x=\"240.66\" y=\"18.766874\"/>\n",
        "    </clipPath>\n",
        "    <clipPath id=\"p4bb20e0a95\">\n",
        "      <rect height=\"169.23593\" id=\"rect5324\" style=\"stroke-linecap:butt;stroke-linejoin:round\" width=\"178.38\" x=\"49.32\" y=\"18.766874\"/>\n",
        "    </clipPath>\n",
        "    <clipPath id=\"pbaa9ab6562\">\n",
        "      <rect height=\"386.78937\" id=\"rect97508\" style=\"stroke-linecap:butt;stroke-linejoin:round\" width=\"475.10812\" x=\"542.43188\" y=\"429.32312\"/>\n",
        "    </clipPath>\n",
        "    <clipPath id=\"p509ba47b41\">\n",
        "      <rect height=\"386.78937\" id=\"rect97505\" style=\"stroke-linecap:butt;stroke-linejoin:round\" width=\"475.10812\" x=\"54.36375\" y=\"429.32312\"/>\n",
        "    </clipPath>\n",
        "    <clipPath id=\"p88f29d8050\">\n",
        "      <rect height=\"386.78937\" id=\"rect97502\" style=\"stroke-linecap:butt;stroke-linejoin:round\" width=\"475.10812\" x=\"542.43188\" y=\"12.96\"/>\n",
        "    </clipPath>\n",
        "    <clipPath id=\"pf2e575ba20\">\n",
        "      <rect height=\"386.78937\" id=\"rect97499\" style=\"stroke-linecap:butt;stroke-linejoin:round\" width=\"475.10812\" x=\"54.36375\" y=\"12.96\"/>\n",
        "    </clipPath>\n",
        "    <style id=\"style95784\" type=\"text/css\">\n",
        "*{stroke-linecap:butt;stroke-linejoin:round;}\n",
        "  </style>\n",
        "    <clipPath id=\"p887e08e8d8\">\n",
        "      <rect height=\"178.29938\" id=\"rect123296\" style=\"stroke-linecap:butt;stroke-linejoin:round\" width=\"351.81375\" x=\"56.831249\" y=\"221.64\"/>\n",
        "    </clipPath>\n",
        "    <clipPath id=\"p2820ddb51f\">\n",
        "      <rect height=\"178.29938\" id=\"rect123293\" style=\"stroke-linecap:butt;stroke-linejoin:round\" width=\"351.81375\" x=\"56.831249\" y=\"424.51312\"/>\n",
        "    </clipPath>\n",
        "    <clipPath id=\"p6d715e6433\">\n",
        "      <rect height=\"178.29938\" id=\"rect123290\" style=\"stroke-linecap:butt;stroke-linejoin:round\" width=\"351.81375\" x=\"56.831249\" y=\"18.766874\"/>\n",
        "    </clipPath>\n",
        "    <style id=\"style120043\" type=\"text/css\">\n",
        "*{stroke-linecap:butt;stroke-linejoin:round;}\n",
        "  </style>\n",
        "    <defs id=\"defs120056\">\n",
        "      <path d=\"M 0,3 C 0.795609,3 1.55874,2.6839 2.12132,2.12132 2.6839,1.55874 3,0.795609 3,0 3,-0.795609 2.6839,-1.55874 2.12132,-2.12132 1.55874,-2.6839 0.795609,-3 0,-3 -0.795609,-3 -1.55874,-2.6839 -2.12132,-2.12132 -2.6839,-1.55874 -3,-0.795609 -3,0 -3,0.795609 -2.6839,1.55874 -2.12132,2.12132 -1.55874,2.6839 -0.795609,3 0,3 z\" id=\"md21b4ff0a3\" inkscape:connector-curvature=\"0\" style=\"stroke:#000000;stroke-width:0.5;stroke-linecap:butt;stroke-linejoin:round\"/>\n",
        "    </defs>\n",
        "  </defs>\n",
        "  <sodipodi:namedview bordercolor=\"#666666\" borderopacity=\"1.0\" fit-margin-bottom=\"10\" fit-margin-left=\"10\" fit-margin-right=\"10\" fit-margin-top=\"10\" id=\"base\" inkscape:current-layer=\"g141778\" inkscape:cx=\"509.67568\" inkscape:cy=\"175.32511\" inkscape:document-units=\"px\" inkscape:pageopacity=\"0.0\" inkscape:pageshadow=\"2\" inkscape:window-height=\"987\" inkscape:window-maximized=\"0\" inkscape:window-width=\"1349\" inkscape:window-x=\"565\" inkscape:window-y=\"21\" inkscape:zoom=\"0.93981333\" pagecolor=\"#ffffff\" showgrid=\"false\"/>\n",
        "  <metadata id=\"metadata7\">\n",
        "    <rdf:RDF>\n",
        "      <cc:Work rdf:about=\"\">\n",
        "        <dc:format>image/svg+xml</dc:format>\n",
        "        <dc:type rdf:resource=\"http://purl.org/dc/dcmitype/StillImage\"/>\n",
        "      </cc:Work>\n",
        "    </rdf:RDF>\n",
        "  </metadata>\n",
        "  <g id=\"layer1\" inkscape:groupmode=\"layer\" inkscape:label=\"Calque 1\" style=\"stroke-linecap:butt;stroke-linejoin:round\" transform=\"translate(-40.027853,-530.03754)\">\n",
        "    <g id=\"patch_2\" style=\"stroke-linecap:butt;stroke-linejoin:round\" transform=\"matrix(1.25,0,0,1.25,-151.22793,-74.026073)\"/>\n",
        "    <g id=\"patch_1\" style=\"stroke-linecap:butt;stroke-linejoin:round\" transform=\"matrix(1.25,0,0,1.25,-122.14285,-271.20925)\"/>\n",
        "    <g id=\"axes_4\" style=\"stroke-linecap:butt;stroke-linejoin:round\" transform=\"matrix(1.25,0,0,1.25,-151.22793,-74.026073)\"/>\n",
        "    <rect height=\"65.210442\" id=\"rect140783\" ry=\"2.5204077\" style=\"color:#000000;fill:none;stroke:#000000;stroke-width:2.16060352;stroke-linecap:square;stroke-linejoin:round;stroke-miterlimit:4;stroke-opacity:1;stroke-dasharray:none;stroke-dashoffset:0;marker:none;visibility:visible;display:inline;overflow:visible;enable-background:accumulate\" transform=\"matrix(0.87050251,0.49216398,-0.87050251,0.49216398,0,0)\" width=\"65.210442\" x=\"746.39307\" y=\"351.43716\"/>\n",
        "    <path d=\"m 404.52802,572.40654 76.50764,1e-5\" id=\"path140803\" inkscape:connector-curvature=\"0\" sodipodi:nodetypes=\"cc\" style=\"fill:none;stroke:#000000;stroke-width:1px;stroke-linecap:butt;stroke-linejoin:miter;stroke-opacity:1;marker-end:url(#Arrow1Lend)\"/>\n",
        "    <text id=\"text141363\" sodipodi:linespacing=\"122%\" style=\"font-size:14px;font-style:normal;font-variant:normal;font-weight:normal;font-stretch:normal;text-align:end;line-height:122.00000286%;letter-spacing:0px;word-spacing:0px;writing-mode:lr-tb;text-anchor:end;fill:#000000;fill-opacity:1;stroke:none;font-family:DejaVu Sans;-inkscape-font-specification:DejaVu Sans\" x=\"382.06616\" xml:space=\"preserve\" y=\"577.50275\"><tspan id=\"tspan141365\" sodipodi:role=\"line\" x=\"382.06616\" y=\"577.50275\">GOOD FIT?</tspan></text>\n",
        "    <path d=\"m 301.42285,577.08539 c 0,10.74352 -40.88138,19.45287 -91.31113,19.45287 -50.42974,0 -91.31112,-8.70935 -91.31112,-19.45287 0,-10.74352 40.88138,-19.45287 91.31112,-19.45287 50.42975,0 91.31113,8.70935 91.31113,19.45287 z\" id=\"path141439\" sodipodi:cx=\"210.11172\" sodipodi:cy=\"577.08539\" sodipodi:rx=\"91.311127\" sodipodi:ry=\"19.452869\" sodipodi:type=\"arc\" style=\"color:#000000;fill:#55d400;fill-opacity:0.54918033;fill-rule:nonzero;stroke:#000000;stroke-width:1;stroke-linecap:square;stroke-linejoin:round;stroke-miterlimit:4;stroke-opacity:1;stroke-dasharray:none;stroke-dashoffset:0;marker:none;visibility:visible;display:inline;overflow:visible;enable-background:accumulate\" transform=\"translate(372.69712,-4.678836)\"/>\n",
        "    <text id=\"text141367\" sodipodi:linespacing=\"122%\" style=\"font-size:14px;font-style:normal;font-variant:normal;font-weight:normal;font-stretch:normal;text-align:end;line-height:122.00000286%;letter-spacing:0px;word-spacing:0px;writing-mode:lr-tb;text-anchor:end;fill:#000000;fill-opacity:1;stroke:none;font-family:DejaVu Sans;-inkscape-font-specification:DejaVu Sans\" x=\"654.73737\" xml:space=\"preserve\" y=\"576.26044\"><tspan id=\"tspan141369\" sodipodi:role=\"line\" x=\"654.73737\" y=\"576.26044\">Rotation(t<tspan id=\"tspan141419\" style=\"font-size:65.00091553%;baseline-shift:sub\">0</tspan> ... t<tspan id=\"tspan141421\" style=\"font-size:65.00091553%;baseline-shift:sub\">1</tspan>) = 1</tspan></text>\n",
        "    <g id=\"g3599\" style=\"stroke-linecap:butt;stroke-linejoin:round\" transform=\"translate(-19.79899,38.183766)\">\n",
        "      <use height=\"1\" id=\"use137957\" style=\"stroke:#000000;stroke-width:0.5;stroke-linecap:butt;stroke-linejoin:round\" transform=\"matrix(1.1970616,0.35992158,-0.35992158,1.1970616,52.68568,344.99273)\" width=\"1\" x=\"103.73975\" xlink:href=\"#md21b4ff0a3\" y=\"159.46516\"/>\n",
        "      <use height=\"1\" id=\"use137959\" style=\"stroke:#000000;stroke-width:0.5;stroke-linecap:butt;stroke-linejoin:round\" transform=\"matrix(1.1970616,0.35992158,-0.35992158,1.1970616,52.30327,337.49397)\" width=\"1\" x=\"109.60331\" xlink:href=\"#md21b4ff0a3\" y=\"154.79056\"/>\n",
        "      <use height=\"1\" id=\"use137961\" style=\"stroke:#000000;stroke-width:0.5;stroke-linecap:butt;stroke-linejoin:round\" transform=\"matrix(1.1970616,0.35992158,-0.35992158,1.1970616,62.55871,338.46783)\" width=\"1\" x=\"115.46687\" xlink:href=\"#md21b4ff0a3\" y=\"153.91493\"/>\n",
        "      <use height=\"1\" id=\"use137963\" style=\"stroke:#000000;stroke-width:0.5;stroke-linecap:butt;stroke-linejoin:round\" transform=\"matrix(1.1970616,0.35992158,-0.35992158,1.1970616,68.80248,333.48879)\" width=\"1\" x=\"121.33044\" xlink:href=\"#md21b4ff0a3\" y=\"149.37953\"/>\n",
        "      <use height=\"1\" id=\"use137965\" style=\"stroke:#000000;stroke-width:0.5;stroke-linecap:butt;stroke-linejoin:round\" transform=\"matrix(1.1970616,0.35992158,-0.35992158,1.1970616,31.24508,360.17007)\" width=\"1\" x=\"127.194\" xlink:href=\"#md21b4ff0a3\" y=\"155.14859\"/>\n",
        "      <use height=\"1\" id=\"use137967\" style=\"stroke:#000000;stroke-width:0.5;stroke-linecap:butt;stroke-linejoin:round\" transform=\"matrix(1.1970616,0.35992158,-0.35992158,1.1970616,69.77309,328.5065)\" width=\"1\" x=\"133.05756\" xlink:href=\"#md21b4ff0a3\" y=\"149.6394\"/>\n",
        "      <use height=\"1\" id=\"use137969\" style=\"stroke:#000000;stroke-width:0.5;stroke-linecap:butt;stroke-linejoin:round\" transform=\"matrix(1.1970616,0.35992158,-0.35992158,1.1970616,65.16997,340.30779)\" width=\"1\" x=\"138.92113\" xlink:href=\"#md21b4ff0a3\" y=\"155.13899\"/>\n",
        "      <use height=\"1\" id=\"use137971\" style=\"stroke:#000000;stroke-width:0.5;stroke-linecap:butt;stroke-linejoin:round\" transform=\"matrix(1.1970616,0.35992158,-0.35992158,1.1970616,69.77309,328.5065)\" width=\"1\" x=\"144.78468\" xlink:href=\"#md21b4ff0a3\" y=\"152.99017\"/>\n",
        "      <use height=\"1\" id=\"use137973\" style=\"stroke:#000000;stroke-width:0.5;stroke-linecap:butt;stroke-linejoin:round\" transform=\"matrix(1.1970616,0.35992158,-0.35992158,1.1970616,62.12242,339.9189)\" width=\"1\" x=\"150.64825\" xlink:href=\"#md21b4ff0a3\" y=\"160.60689\"/>\n",
        "      <use height=\"1\" id=\"use137975\" style=\"stroke:#000000;stroke-width:0.5;stroke-linecap:butt;stroke-linejoin:round\" transform=\"matrix(1.1970616,0.35992158,-0.35992158,1.1970616,59.83969,354.52751)\" width=\"1\" x=\"156.51181\" xlink:href=\"#md21b4ff0a3\" y=\"160.88554\"/>\n",
        "      <use height=\"1\" id=\"use137977\" style=\"stroke:#000000;stroke-width:0.5;stroke-linecap:butt;stroke-linejoin:round\" transform=\"matrix(-0.91023203,0.85672501,-0.85672501,-0.91023203,481.10663,626.81896)\" width=\"1\" x=\"162.37538\" xlink:href=\"#md21b4ff0a3\" y=\"169.70523\"/>\n",
        "      <use height=\"1\" id=\"use137979\" style=\"stroke:#000000;stroke-width:0.5;stroke-linecap:butt;stroke-linejoin:round\" transform=\"matrix(-0.91023203,0.85672501,-0.85672501,-0.91023203,466.25008,638.10939)\" width=\"1\" x=\"168.23894\" xlink:href=\"#md21b4ff0a3\" y=\"163.40457\"/>\n",
        "      <use height=\"1\" id=\"use137981\" style=\"stroke:#000000;stroke-width:0.5;stroke-linecap:butt;stroke-linejoin:round\" transform=\"matrix(-0.91023203,0.85672501,-0.85672501,-0.91023203,489.71737,625.65048)\" width=\"1\" x=\"174.10249\" xlink:href=\"#md21b4ff0a3\" y=\"159.83852\"/>\n",
        "      <use height=\"1\" id=\"use137983\" style=\"stroke:#000000;stroke-width:0.5;stroke-linecap:butt;stroke-linejoin:round\" transform=\"matrix(-0.91023203,0.85672501,-0.85672501,-0.91023203,469.58527,634.45341)\" width=\"1\" x=\"179.96606\" xlink:href=\"#md21b4ff0a3\" y=\"156.47052\"/>\n",
        "      <path d=\"m 127.54681,592.50987 -10.82418,-20.13172 11.22371,-10.56393 16.80406,5.0525 15.76365,-10.32945 14.65927,-1.39392 15.42731,8.33042 -13.8912,11.11829 6.91054,12.09864 4.48887,16.64463 1.61212,9.16729 4.88986,15.51225 -21.54846,3.63514 -1.168,14.97152\" id=\"path137985\" inkscape:connector-curvature=\"0\" sodipodi:nodetypes=\"cccccccccccccc\" style=\"fill:none;stroke:#000000;stroke-width:1px;stroke-linecap:butt;stroke-linejoin:miter;stroke-opacity:1\"/>\n",
        "      <path d=\"m 97.23866,548.54898 0,111.11678 126.26907,0\" id=\"path138001\" inkscape:connector-curvature=\"0\" style=\"fill:none;stroke:#000000;stroke-width:1px;stroke-linecap:butt;stroke-linejoin:miter;stroke-opacity:1;marker-start:url(#Arrow1Mstart);marker-end:url(#Arrow1Mend)\"/>\n",
        "      <path d=\"m 420.49579,433.5373 c 9.66117,-23.83073 34.55708,-34.2826 55.60656,-23.34491 21.04949,10.93769 30.28154,39.12306 20.62036,62.95379 -6.2656,15.45505 -19.35387,25.93606 -34.31258,27.47732\" id=\"path140733\" sodipodi:cx=\"458.60925\" sodipodi:cy=\"453.34174\" sodipodi:end=\"7.7632224\" sodipodi:open=\"true\" sodipodi:rx=\"41.936195\" sodipodi:ry=\"47.477169\" sodipodi:start=\"3.5718845\" sodipodi:type=\"arc\" style=\"color:#000000;fill:none;stroke:#ff0000;stroke-width:2;stroke-linecap:square;stroke-linejoin:round;stroke-miterlimit:4;stroke-opacity:1;stroke-dasharray:none;stroke-dashoffset:0;marker:none;visibility:visible;display:inline;overflow:visible;enable-background:accumulate\" transform=\"translate(-304.91384,148.82091)\"/>\n",
        "      <text id=\"text140746\" sodipodi:linespacing=\"122%\" style=\"font-size:14px;font-style:normal;font-variant:normal;font-weight:normal;font-stretch:normal;text-align:start;line-height:122.00000286%;letter-spacing:0px;word-spacing:0px;writing-mode:lr-tb;text-anchor:start;fill:#000000;fill-opacity:1;stroke:none;font-family:DejaVu Sans;-inkscape-font-specification:DejaVu Sans\" x=\"112.78427\" xml:space=\"preserve\" y=\"516.59259\"><tspan id=\"tspan140750\" sodipodi:role=\"line\" x=\"112.78427\" y=\"516.59259\">Ellipsis fit</tspan></text>\n",
        "      <text id=\"text3519\" sodipodi:linespacing=\"122%\" style=\"font-size:14px;font-style:normal;font-variant:normal;font-weight:normal;font-stretch:normal;text-align:start;line-height:122.00000286%;letter-spacing:0px;word-spacing:0px;writing-mode:lr-tb;text-anchor:start;fill:#000000;fill-opacity:1;stroke:none;font-family:Arial;-inkscape-font-specification:Sans\" x=\"112.79719\" xml:space=\"preserve\" y=\"605.71576\"><tspan id=\"tspan3521\" sodipodi:role=\"line\" x=\"112.79719\" y=\"605.71576\">t<tspan id=\"tspan3533\" style=\"font-size:65.00091553%;baseline-shift:sub\">0</tspan></tspan></text>\n",
        "      <text id=\"text3525\" sodipodi:linespacing=\"122%\" style=\"font-size:14px;font-style:normal;font-variant:normal;font-weight:normal;font-stretch:normal;text-align:start;line-height:122.00000286%;letter-spacing:0px;word-spacing:0px;writing-mode:lr-tb;text-anchor:start;fill:#000000;fill-opacity:1;stroke:none;font-family:Arial;-inkscape-font-specification:Sans\" x=\"151.94797\" xml:space=\"preserve\" y=\"639.34137\"><tspan id=\"tspan3527\" sodipodi:role=\"line\" x=\"151.94797\" y=\"639.34137\">t<tspan id=\"tspan3535\" style=\"font-size:65.00091553%;baseline-shift:sub\">1</tspan></tspan></text>\n",
        "    </g>\n",
        "    <g id=\"g141443\" style=\"stroke-linecap:butt;stroke-linejoin:round\" transform=\"translate(231.24705,-55.898696)\">\n",
        "      <rect height=\"20.455589\" id=\"rect141375\" ry=\"0\" style=\"color:#000000;fill:#ffffff;stroke:#000000;stroke-width:1;stroke-linecap:square;stroke-linejoin:round;stroke-miterlimit:4;stroke-opacity:1;stroke-dasharray:none;stroke-dashoffset:0;marker:none;visibility:visible;display:inline;overflow:visible;enable-background:accumulate\" width=\"37.375645\" x=\"186.87398\" y=\"618.07745\"/>\n",
        "      <text id=\"text141371\" sodipodi:linespacing=\"122%\" style=\"font-size:14px;font-style:normal;font-variant:normal;font-weight:normal;font-stretch:normal;text-align:end;line-height:122.00000286%;letter-spacing:0px;word-spacing:0px;writing-mode:lr-tb;text-anchor:end;fill:#000000;fill-opacity:1;stroke:none;font-family:DejaVu Sans;-inkscape-font-specification:DejaVu Sans\" x=\"219.11746\" xml:space=\"preserve\" y=\"633.40143\"><tspan id=\"tspan141373\" sodipodi:role=\"line\" x=\"219.11746\" y=\"633.40143\">YES</tspan></text>\n",
        "    </g>\n",
        "    <path d=\"m 343.80884,608.88468 0,50.50763\" id=\"path141423\" inkscape:connector-curvature=\"0\" style=\"fill:none;stroke:#000000;stroke-width:1px;stroke-linecap:butt;stroke-linejoin:miter;stroke-opacity:1;marker-end:url(#Arrow1Lend)\"/>\n",
        "    <g id=\"g141448\" style=\"stroke-linecap:butt;stroke-linejoin:round\" transform=\"translate(138.24705,-113.89869)\">\n",
        "      <rect height=\"20.455589\" id=\"rect141425\" ry=\"0\" style=\"color:#000000;fill:#ffffff;stroke:#000000;stroke-width:1;stroke-linecap:square;stroke-linejoin:round;stroke-miterlimit:4;stroke-opacity:1;stroke-dasharray:none;stroke-dashoffset:0;marker:none;visibility:visible;display:inline;overflow:visible;enable-background:accumulate\" width=\"37.375645\" x=\"186.87398\" y=\"730.9455\"/>\n",
        "      <text id=\"text141427\" sodipodi:linespacing=\"122%\" style=\"font-size:14px;font-style:normal;font-variant:normal;font-weight:normal;font-stretch:normal;text-align:end;line-height:122.00000286%;letter-spacing:0px;word-spacing:0px;writing-mode:lr-tb;text-anchor:end;fill:#000000;fill-opacity:1;stroke:none;font-family:DejaVu Sans;-inkscape-font-specification:DejaVu Sans\" x=\"216.01395\" xml:space=\"preserve\" y=\"746.26947\"><tspan id=\"tspan141429\" sodipodi:role=\"line\" x=\"216.01395\" y=\"746.26947\">NO</tspan></text>\n",
        "    </g>\n",
        "    <path d=\"m 301.42285,577.08539 c 0,10.74352 -40.88138,19.45287 -91.31113,19.45287 -50.42974,0 -91.31112,-8.70935 -91.31112,-19.45287 0,-10.74352 40.88138,-19.45287 91.31112,-19.45287 50.42975,0 91.31113,8.70935 91.31113,19.45287 z\" id=\"path141441\" sodipodi:cx=\"210.11172\" sodipodi:cy=\"577.08539\" sodipodi:rx=\"91.311127\" sodipodi:ry=\"19.452869\" sodipodi:type=\"arc\" style=\"color:#000000;fill:#ff0000;fill-opacity:0.54918033;fill-rule:nonzero;stroke:#000000;stroke-width:1;stroke-linecap:square;stroke-linejoin:round;stroke-miterlimit:4;stroke-opacity:1;stroke-dasharray:none;stroke-dashoffset:0;marker:none;visibility:visible;display:inline;overflow:visible;enable-background:accumulate\" transform=\"translate(133.69711,109.03753)\"/>\n",
        "    <text id=\"text141431\" sodipodi:linespacing=\"122%\" style=\"font-size:14px;font-style:normal;font-variant:normal;font-weight:normal;font-stretch:normal;text-align:end;line-height:122.00000286%;letter-spacing:0px;word-spacing:0px;writing-mode:lr-tb;text-anchor:end;fill:#000000;fill-opacity:1;stroke:none;font-family:DejaVu Sans;-inkscape-font-specification:DejaVu Sans\" x=\"415.73734\" xml:space=\"preserve\" y=\"689.97687\"><tspan id=\"tspan141433\" sodipodi:role=\"line\" x=\"415.73734\" y=\"689.97687\">Rotation(t<tspan id=\"tspan141435\" style=\"font-size:65.00091553%;baseline-shift:sub\">0</tspan> ... t<tspan id=\"tspan141437\" style=\"font-size:65.00091553%;baseline-shift:sub\">1</tspan>) = 0</tspan></text>\n",
        "    <path d=\"m 233.53621,571.41472 38.50763,2e-5\" id=\"path141573\" inkscape:connector-curvature=\"0\" sodipodi:nodetypes=\"cc\" style=\"fill:none;stroke:#000000;stroke-width:1px;stroke-linecap:butt;stroke-linejoin:miter;stroke-opacity:1;marker-end:url(#Arrow1Lend)\"/>\n",
        "    <text id=\"text141575\" sodipodi:linespacing=\"122%\" style=\"font-size:14px;font-style:normal;font-variant:normal;font-weight:normal;font-stretch:normal;text-align:start;line-height:122.00000286%;letter-spacing:0px;word-spacing:0px;writing-mode:lr-tb;text-anchor:start;fill:#000000;fill-opacity:1;stroke:none;font-family:DejaVu Sans;-inkscape-font-specification:DejaVu Sans\" x=\"227.65533\" xml:space=\"preserve\" y=\"558.19055\"><tspan id=\"tspan141579\" sodipodi:role=\"line\" x=\"227.65533\" y=\"558.19055\">Fit data</tspan></text>\n",
        "    <g id=\"g141797\" style=\"stroke-linecap:butt;stroke-linejoin:round\" transform=\"translate(336.51419,-16.697772)\">\n",
        "      <rect height=\"23.614197\" id=\"rect141602\" ry=\"0\" style=\"color:#000000;fill:#ff0000;fill-opacity:0.54918033;fill-rule:nonzero;stroke:none;stroke-width:1;marker:none;visibility:visible;display:inline;overflow:visible;enable-background:accumulate\" width=\"67.59903\" x=\"129.87819\" y=\"770.83215\"/>\n",
        "      <rect height=\"23.614197\" id=\"rect141604\" ry=\"0\" style=\"color:#000000;fill:#55d400;fill-opacity:0.54918033;fill-rule:nonzero;stroke:none;stroke-width:1;marker:none;visibility:visible;display:inline;overflow:visible;enable-background:accumulate\" width=\"99.210976\" x=\"197.4846\" y=\"770.83215\"/>\n",
        "      <rect height=\"23.614197\" id=\"rect141606\" ry=\"0\" style=\"color:#000000;fill:#ff0000;fill-opacity:0.54918033;fill-rule:nonzero;stroke:none;stroke-width:1;marker:none;visibility:visible;display:inline;overflow:visible;enable-background:accumulate\" width=\"40.190205\" x=\"296.80063\" y=\"770.83215\"/>\n",
        "      <text id=\"text141625\" sodipodi:linespacing=\"122%\" style=\"font-size:14px;font-style:normal;font-variant:normal;font-weight:normal;font-stretch:normal;text-align:start;line-height:122.00000286%;letter-spacing:0px;word-spacing:0px;writing-mode:lr-tb;text-anchor:start;fill:#000000;fill-opacity:1;stroke:none;font-family:DejaVu Sans;-inkscape-font-specification:DejaVu Sans\" x=\"215.42831\" xml:space=\"preserve\" y=\"786.50153\"><tspan id=\"tspan141627\" sodipodi:role=\"line\" x=\"215.42831\" y=\"786.50153\">ellipticity</tspan></text>\n",
        "      <text id=\"text141629\" sodipodi:linespacing=\"122%\" style=\"font-size:14px;font-style:normal;font-variant:normal;font-weight:normal;font-stretch:normal;text-align:end;line-height:122.00000286%;letter-spacing:0px;word-spacing:0px;writing-mode:lr-tb;text-anchor:end;fill:#000000;fill-opacity:1;stroke:none;font-family:DejaVu Sans;-inkscape-font-specification:DejaVu Sans\" x=\"202.93468\" xml:space=\"preserve\" y=\"767.51569\"><tspan id=\"tspan141631\" sodipodi:role=\"line\" x=\"202.93468\" y=\"767.51569\">1</tspan></text>\n",
        "      <text id=\"text141633\" sodipodi:linespacing=\"122%\" style=\"font-size:14px;font-style:normal;font-variant:normal;font-weight:normal;font-stretch:normal;text-align:end;line-height:122.00000286%;letter-spacing:0px;word-spacing:0px;writing-mode:lr-tb;text-anchor:end;fill:#000000;fill-opacity:1;stroke:none;font-family:DejaVu Sans;-inkscape-font-specification:DejaVu Sans\" x=\"298.49844\" xml:space=\"preserve\" y=\"767.51569\"><tspan id=\"tspan141635\" sodipodi:role=\"line\" x=\"298.49844\" y=\"767.51569\">3</tspan></text>\n",
        "    </g>\n",
        "    <g id=\"g141789\" style=\"stroke-linecap:butt;stroke-linejoin:round\" transform=\"translate(336.51419,-18.454639)\">\n",
        "      <rect height=\"23.614197\" id=\"rect141645\" ry=\"0\" style=\"color:#000000;fill:#55d400;fill-opacity:0.54918033;fill-rule:nonzero;stroke:none;stroke-width:1;marker:none;visibility:visible;display:inline;overflow:visible;enable-background:accumulate\" width=\"141.06667\" x=\"196.74666\" y=\"824.46747\"/>\n",
        "      <text id=\"text141637\" sodipodi:linespacing=\"122%\" style=\"font-size:14px;font-style:normal;font-variant:normal;font-weight:normal;font-stretch:normal;text-align:start;line-height:122.00000286%;letter-spacing:0px;word-spacing:0px;writing-mode:lr-tb;text-anchor:start;fill:#000000;fill-opacity:1;stroke:none;font-family:DejaVu Sans;-inkscape-font-specification:DejaVu Sans\" x=\"215.42831\" xml:space=\"preserve\" y=\"840.13342\"><tspan id=\"tspan141641\" sodipodi:role=\"line\" x=\"215.42831\" y=\"840.13342\">- log(\u03c7\u00b2)</tspan></text>\n",
        "      <rect height=\"23.614197\" id=\"rect141643\" ry=\"0\" style=\"color:#000000;fill:#ff0000;fill-opacity:0.54918033;fill-rule:nonzero;stroke:none;stroke-width:1;marker:none;visibility:visible;display:inline;overflow:visible;enable-background:accumulate\" width=\"67.59903\" x=\"129.14024\" y=\"824.46747\"/>\n",
        "      <text id=\"text141691\" sodipodi:linespacing=\"122%\" style=\"font-size:14px;font-style:normal;font-variant:normal;font-weight:normal;font-stretch:normal;text-align:end;line-height:122.00000286%;letter-spacing:0px;word-spacing:0px;writing-mode:lr-tb;text-anchor:end;fill:#000000;fill-opacity:1;stroke:none;font-family:DejaVu Sans;-inkscape-font-specification:DejaVu Sans\" x=\"204.80634\" xml:space=\"preserve\" y=\"820.6806\"><tspan id=\"tspan141693\" sodipodi:role=\"line\" x=\"204.80634\" y=\"820.6806\">-3</tspan></text>\n",
        "    </g>\n",
        "    <g id=\"g141778\" style=\"stroke-linecap:butt;stroke-linejoin:round\" transform=\"translate(336.51419,-16.576206)\">\n",
        "      <rect height=\"23.614197\" id=\"rect141695\" ry=\"0\" style=\"color:#000000;fill:#55d400;fill-opacity:0.54918033;fill-rule:nonzero;stroke:none;stroke-width:1;marker:none;visibility:visible;display:inline;overflow:visible;enable-background:accumulate\" width=\"98.634872\" x=\"196.74666\" y=\"874.46747\"/>\n",
        "      <text id=\"text141697\" sodipodi:linespacing=\"122%\" style=\"font-size:14px;font-style:normal;font-variant:normal;font-weight:normal;font-stretch:normal;text-align:start;line-height:122.00000286%;letter-spacing:0px;word-spacing:0px;writing-mode:lr-tb;text-anchor:start;fill:#000000;fill-opacity:1;stroke:none;font-family:DejaVu Sans;-inkscape-font-specification:DejaVu Sans\" x=\"215.42831\" xml:space=\"preserve\" y=\"891.56897\"><tspan id=\"tspan141707\" sodipodi:role=\"line\" x=\"215.42831\" y=\"891.56897\">\u0394\u03b8</tspan></text>\n",
        "      <rect height=\"23.614197\" id=\"rect141701\" ry=\"0\" style=\"color:#000000;fill:#ff0000;fill-opacity:0.54918033;fill-rule:nonzero;stroke:none;stroke-width:1;marker:none;visibility:visible;display:inline;overflow:visible;enable-background:accumulate\" width=\"67.59903\" x=\"129.14024\" y=\"874.46747\"/>\n",
        "      <text id=\"text141703\" sodipodi:linespacing=\"122%\" style=\"font-size:14px;font-style:normal;font-variant:normal;font-weight:normal;font-stretch:normal;text-align:end;line-height:122.00000286%;letter-spacing:0px;word-spacing:0px;writing-mode:lr-tb;text-anchor:end;fill:#000000;fill-opacity:1;stroke:none;font-family:DejaVu Sans;-inkscape-font-specification:DejaVu Sans\" x=\"204.80634\" xml:space=\"preserve\" y=\"870.6806\"><tspan id=\"tspan141709\" sodipodi:role=\"line\" x=\"204.80634\" y=\"870.6806\">60\u00b0</tspan></text>\n",
        "      <rect height=\"23.614197\" id=\"rect141711\" ry=\"0\" style=\"color:#000000;fill:#ff0000;fill-opacity:0.54918033;fill-rule:nonzero;stroke:none;stroke-width:1;marker:none;visibility:visible;display:inline;overflow:visible;enable-background:accumulate\" width=\"40.190205\" x=\"295.3248\" y=\"874.46747\"/>\n",
        "      <text id=\"text141713\" sodipodi:linespacing=\"122%\" style=\"font-size:14px;font-style:normal;font-variant:normal;font-weight:normal;font-stretch:normal;text-align:end;line-height:122.00000286%;letter-spacing:0px;word-spacing:0px;writing-mode:lr-tb;text-anchor:end;fill:#000000;fill-opacity:1;stroke:none;font-family:DejaVu Sans;-inkscape-font-specification:DejaVu Sans\" x=\"304.80634\" xml:space=\"preserve\" y=\"870.6806\"><tspan id=\"tspan141715\" sodipodi:role=\"line\" x=\"304.80634\" y=\"870.6806\">720\u00b0</tspan></text>\n",
        "    </g>\n",
        "    <g id=\"g141767\" style=\"stroke-linecap:butt;stroke-linejoin:round\" transform=\"translate(336.51419,-16.697772)\">\n",
        "      <rect height=\"23.614197\" id=\"rect141717\" ry=\"0\" style=\"color:#000000;fill:#55d400;fill-opacity:0.54918033;fill-rule:nonzero;stroke:none;stroke-width:1;marker:none;visibility:visible;display:inline;overflow:visible;enable-background:accumulate\" width=\"98.634872\" x=\"196.74666\" y=\"926.46747\"/>\n",
        "      <rect height=\"23.614197\" id=\"rect141723\" ry=\"0\" style=\"color:#000000;fill:#ff0000;fill-opacity:0.54918033;fill-rule:nonzero;stroke:none;stroke-width:1;marker:none;visibility:visible;display:inline;overflow:visible;enable-background:accumulate\" width=\"67.59903\" x=\"129.14024\" y=\"926.46747\"/>\n",
        "      <text id=\"text141725\" sodipodi:linespacing=\"122%\" style=\"font-size:14px;font-style:normal;font-variant:normal;font-weight:normal;font-stretch:normal;text-align:end;line-height:122.00000286%;letter-spacing:0px;word-spacing:0px;writing-mode:lr-tb;text-anchor:end;fill:#000000;fill-opacity:1;stroke:none;font-family:DejaVu Sans;-inkscape-font-specification:DejaVu Sans\" x=\"214.80634\" xml:space=\"preserve\" y=\"922.6806\"><tspan id=\"tspan141727\" sodipodi:role=\"line\" x=\"214.80634\" y=\"922.6806\">3 \u00b5m</tspan></text>\n",
        "      <rect height=\"23.614197\" id=\"rect141729\" ry=\"0\" style=\"color:#000000;fill:#ff0000;fill-opacity:0.54918033;fill-rule:nonzero;stroke:none;stroke-width:1;marker:none;visibility:visible;display:inline;overflow:visible;enable-background:accumulate\" width=\"40.190205\" x=\"295.3248\" y=\"926.46747\"/>\n",
        "      <text id=\"text141747\" sodipodi:linespacing=\"122%\" style=\"font-size:14px;font-style:normal;font-variant:normal;font-weight:normal;font-stretch:normal;text-align:end;line-height:122.00000286%;letter-spacing:0px;word-spacing:0px;writing-mode:lr-tb;text-anchor:end;fill:#000000;fill-opacity:1;stroke:none;font-family:DejaVu Sans;-inkscape-font-specification:DejaVu Sans\" x=\"260.02744\" xml:space=\"preserve\" y=\"942.26123\"><tspan id=\"tspan141749\" sodipodi:role=\"line\" x=\"260.02744\" y=\"942.26123\">radius</tspan></text>\n",
        "      <text id=\"text141751\" sodipodi:linespacing=\"122%\" style=\"font-size:14px;font-style:normal;font-variant:normal;font-weight:normal;font-stretch:normal;text-align:end;line-height:122.00000286%;letter-spacing:0px;word-spacing:0px;writing-mode:lr-tb;text-anchor:end;fill:#000000;fill-opacity:1;stroke:none;font-family:DejaVu Sans;-inkscape-font-specification:DejaVu Sans\" x=\"318.80634\" xml:space=\"preserve\" y=\"922.6806\"><tspan id=\"tspan141753\" sodipodi:role=\"line\" x=\"318.80634\" y=\"922.6806\">30 \u00b5m</tspan></text>\n",
        "    </g>\n",
        "    <text id=\"text142431\" sodipodi:linespacing=\"122%\" style=\"font-size:14px;font-style:normal;font-variant:normal;font-weight:normal;font-stretch:normal;text-align:start;line-height:122.00000286%;letter-spacing:0px;word-spacing:0px;writing-mode:lr-tb;text-anchor:start;fill:#000000;fill-opacity:1;stroke:none;font-family:DejaVu Sans;-inkscape-font-specification:DejaVu Sans\" x=\"264.55884\" xml:space=\"preserve\" y=\"760.97113\"><tspan id=\"tspan142433\" sodipodi:role=\"line\" x=\"264.55884\" y=\"760.97113\">ellipticity = b/a</tspan></text>\n",
        "    <text id=\"text142435\" sodipodi:linespacing=\"122%\" style=\"font-size:14px;font-style:normal;font-variant:normal;font-weight:normal;font-stretch:normal;text-align:end;line-height:122.00000286%;letter-spacing:0px;word-spacing:0px;writing-mode:lr-tb;text-anchor:end;fill:#000000;fill-opacity:1;stroke:none;font-family:DejaVu Sans;-inkscape-font-specification:DejaVu Sans\" x=\"426.83682\" xml:space=\"preserve\" y=\"795.63391\"><tspan id=\"tspan142437\" sodipodi:role=\"line\" x=\"426.83682\" y=\"795.63391\"/></text>\n",
        "    <text id=\"text142439\" sodipodi:linespacing=\"122%\" style=\"font-size:14px;font-style:normal;font-variant:normal;font-weight:normal;font-stretch:normal;text-align:start;line-height:122.00000286%;letter-spacing:0px;word-spacing:0px;writing-mode:lr-tb;text-anchor:start;fill:#000000;fill-opacity:1;stroke:none;font-family:DejaVu Sans;-inkscape-font-specification:DejaVu Sans\" x=\"264.05981\" xml:space=\"preserve\" y=\"802.91296\"><tspan id=\"tspan142441\" sodipodi:role=\"line\" x=\"264.05981\" y=\"802.91296\">radius = (b + a) / 2</tspan></text>\n",
        "    <g id=\"g142518\" style=\"stroke-linecap:butt;stroke-linejoin:round\" transform=\"matrix(1.7600222,0,0,1.7600222,-505.85034,-577.8401)\">\n",
        "      <use height=\"1\" id=\"use142455\" style=\"stroke:#000000;stroke-width:0.5;stroke-linecap:butt;stroke-linejoin:round\" transform=\"matrix(-0.91023203,0.85672501,-0.85672501,-0.91023203,720.12336,838.09872)\" width=\"1\" x=\"174.10249\" xlink:href=\"#md21b4ff0a3\" y=\"159.83852\"/>\n",
        "      <use height=\"1\" id=\"use142457\" style=\"stroke:#000000;stroke-width:0.5;stroke-linecap:butt;stroke-linejoin:round\" transform=\"matrix(-0.91023203,0.85672501,-0.85672501,-0.91023203,688.29606,823.04169)\" width=\"1\" x=\"179.96606\" xlink:href=\"#md21b4ff0a3\" y=\"156.47052\"/>\n",
        "      <path d=\"m 420.49579,433.5373 c 9.66117,-23.83073 34.55708,-34.2826 55.60656,-23.34491 21.04949,10.93769 30.28154,39.12306 20.62036,62.95379 -6.2656,15.45505 -19.35387,25.93606 -34.31258,27.47732\" id=\"path140733-6\" sodipodi:cx=\"458.60925\" sodipodi:cy=\"453.34174\" sodipodi:end=\"7.7632224\" sodipodi:open=\"true\" sodipodi:rx=\"41.936195\" sodipodi:ry=\"47.477169\" sodipodi:start=\"3.5718845\" sodipodi:type=\"arc\" style=\"color:#000000;fill:none;stroke:#ff0000;stroke-width:2;stroke-linecap:square;stroke-linejoin:round;stroke-miterlimit:4;stroke-opacity:1;stroke-dasharray:none;stroke-dashoffset:0;marker:none;visibility:visible;display:inline;overflow:visible;enable-background:accumulate\" transform=\"translate(-80.13594,344.33454)\"/>\n",
        "      <path d=\"m 419.00337,798.61643 -40.17902,0 0,-49.04971\" id=\"path141826\" inkscape:connector-curvature=\"0\" style=\"fill:none;stroke:#000000;stroke-width:1px;stroke-linecap:butt;stroke-linejoin:miter;stroke-opacity:1\"/>\n",
        "      <text id=\"text141828\" sodipodi:linespacing=\"122%\" style=\"font-size:14px;font-style:normal;font-variant:normal;font-weight:normal;font-stretch:normal;text-align:end;line-height:122.00000286%;letter-spacing:0px;word-spacing:0px;writing-mode:lr-tb;text-anchor:end;fill:#000000;fill-opacity:1;stroke:none;font-family:DejaVu Sans;-inkscape-font-specification:DejaVu Sans\" x=\"407.26273\" xml:space=\"preserve\" y=\"808.79163\"><tspan id=\"tspan141830\" sodipodi:role=\"line\" x=\"407.26273\" y=\"808.79163\">a</tspan></text>\n",
        "      <text id=\"text141832\" sodipodi:linespacing=\"122%\" style=\"font-size:14px;font-style:normal;font-variant:normal;font-weight:normal;font-stretch:normal;text-align:end;line-height:122.00000286%;letter-spacing:0px;word-spacing:0px;writing-mode:lr-tb;text-anchor:end;fill:#000000;fill-opacity:1;stroke:none;font-family:DejaVu Sans;-inkscape-font-specification:DejaVu Sans\" x=\"376.2153\" xml:space=\"preserve\" y=\"774.87433\"><tspan id=\"tspan141834\" sodipodi:role=\"line\" x=\"376.2153\" y=\"774.87433\">b</tspan></text>\n",
        "      <path d=\"m 339.80347,778.05856 38.92656,20.57019 2.5828,46.58273\" id=\"path141836\" inkscape:connector-curvature=\"0\" sodipodi:nodetypes=\"ccc\" style=\"fill:none;stroke:#b3b3b3;stroke-width:1px;stroke-linecap:butt;stroke-linejoin:miter;stroke-opacity:1\"/>\n",
        "      <path d=\"m 420.49579,433.5373 c 9.66117,-23.83073 34.55708,-34.2826 55.60656,-23.34491 21.04949,10.93769 30.28154,39.12306 20.62036,62.95379 -6.2656,15.45505 -19.35387,25.93606 -34.31258,27.47732\" id=\"path141838\" sodipodi:cx=\"458.60925\" sodipodi:cy=\"453.34174\" sodipodi:end=\"7.7632224\" sodipodi:open=\"true\" sodipodi:rx=\"41.936195\" sodipodi:ry=\"47.477169\" sodipodi:start=\"3.5718845\" sodipodi:type=\"arc\" style=\"color:#000000;fill:none;stroke:#000000;stroke-width:4.03286505;stroke-linecap:square;stroke-linejoin:round;stroke-miterlimit:4;stroke-opacity:1;stroke-dasharray:none;stroke-dashoffset:0;marker:none;marker-start:url(#Arrow1Mstart);visibility:visible;display:inline;overflow:visible;enable-background:accumulate\" transform=\"matrix(0.24796267,0,0,0.24796267,266.19658,685.18665)\"/>\n",
        "      <text id=\"text141697-0\" sodipodi:linespacing=\"122%\" style=\"font-size:14px;font-style:normal;font-variant:normal;font-weight:normal;font-stretch:normal;text-align:start;line-height:122.00000286%;letter-spacing:0px;word-spacing:0px;writing-mode:lr-tb;text-anchor:start;fill:#000000;fill-opacity:1;stroke:none;font-family:DejaVu Sans;-inkscape-font-specification:DejaVu Sans\" x=\"387.62259\" xml:space=\"preserve\" y=\"787.55585\"><tspan id=\"tspan141707-1\" sodipodi:role=\"line\" x=\"387.62259\" y=\"787.55585\">\u0394\u03b8</tspan></text>\n",
        "      <path d=\"m 408.77374,830.43345 15.22976,11.12666\" id=\"path142459\" inkscape:connector-curvature=\"0\" sodipodi:nodetypes=\"cc\" style=\"fill:none;stroke:#000000;stroke-width:1px;stroke-linecap:butt;stroke-linejoin:miter;stroke-opacity:1\"/>\n",
        "      <text id=\"text142461\" sodipodi:linespacing=\"122%\" style=\"font-size:14px;font-style:normal;font-variant:normal;font-weight:normal;font-stretch:normal;text-align:start;line-height:122.00000286%;letter-spacing:0px;word-spacing:0px;writing-mode:lr-tb;text-anchor:start;fill:#000000;fill-opacity:1;stroke:none;font-family:DejaVu Sans;-inkscape-font-specification:DejaVu Sans\" x=\"416.93042\" xml:space=\"preserve\" y=\"830.57159\"><tspan id=\"tspan142465\" sodipodi:role=\"line\" x=\"416.93042\" y=\"830.57159\">\u03b5<tspan id=\"tspan142473\" style=\"font-size:65.00091553%;baseline-shift:sub\">i</tspan></tspan></text>\n",
        "      <path d=\"m 389.78287,835.99041 2.51741,7.25245\" id=\"path142467\" inkscape:connector-curvature=\"0\" sodipodi:nodetypes=\"cc\" style=\"fill:none;stroke:#000000;stroke-width:1px;stroke-linecap:butt;stroke-linejoin:miter;stroke-opacity:1\"/>\n",
        "      <text id=\"text142469\" sodipodi:linespacing=\"122%\" style=\"font-size:14px;font-style:normal;font-variant:normal;font-weight:normal;font-stretch:normal;text-align:start;line-height:122.00000286%;letter-spacing:0px;word-spacing:0px;writing-mode:lr-tb;text-anchor:start;fill:#000000;fill-opacity:1;stroke:none;font-family:DejaVu Sans;-inkscape-font-specification:DejaVu Sans\" x=\"396.0582\" xml:space=\"preserve\" y=\"850.66113\"><tspan id=\"tspan142471\" sodipodi:role=\"line\" x=\"396.0582\" y=\"850.66113\">\u03b5<tspan id=\"tspan142475\" style=\"font-size:65.00091553%;baseline-shift:sub\">j</tspan></tspan></text>\n",
        "    </g>\n",
        "    <text id=\"text142477\" sodipodi:linespacing=\"122%\" style=\"font-size:14px;font-style:normal;font-variant:normal;font-weight:normal;font-stretch:normal;text-align:start;line-height:122.00000286%;letter-spacing:0px;word-spacing:0px;writing-mode:lr-tb;text-anchor:start;fill:#000000;fill-opacity:1;stroke:none;font-family:DejaVu Sans;-inkscape-font-specification:DejaVu Sans\" x=\"264.92798\" xml:space=\"preserve\" y=\"844.85486\"><tspan id=\"tspan142483\" sodipodi:role=\"line\" x=\"264.92798\" y=\"844.85486\">\u03c7\u00b2 = \u03a3\u03b5<tspan id=\"tspan3515\" style=\"font-size:14px;baseline-shift:sub\">k</tspan><tspan id=\"tspan3517\" style=\"font-size:14px;baseline-shift:super\">2</tspan></tspan></text>\n",
        "  </g>\n",
        "</svg>"
       ],
       "text": [
        "<IPython.core.display.SVG at 0x7f87a80faed0>"
       ]
      }
     ],
     "prompt_number": 28
    },
    {
     "cell_type": "heading",
     "level": 3,
     "metadata": {},
     "source": [
      "3.2.1 Setting rotation detection cutoffs"
     ]
    },
    {
     "cell_type": "code",
     "collapsed": false,
     "input": [
      "### You can change the name of the file bellow if you're using other cutoffs\n",
      "settings_json = 'ellipsis_cutoffs.json'\n",
      "\n",
      "setter_widget = ct.ui.ipy_widgets.set_ellipsis_limits(jsonfile=settings_json)\n",
      "ellipsis_cutoffs = setter_widget.settings\n",
      "display.display(setter_widget)"
     ],
     "language": "python",
     "metadata": {},
     "outputs": [],
     "prompt_number": 8
    },
    {
     "cell_type": "heading",
     "level": 3,
     "metadata": {},
     "source": [
      "3.2.2 Detection (redo if you change the cutoffs)"
     ]
    },
    {
     "cell_type": "code",
     "collapsed": false,
     "input": [
      "cluster.detect_rotations(ellipsis_cutoffs, sizes, method='binary')"
     ],
     "language": "python",
     "metadata": {},
     "outputs": [],
     "prompt_number": 9
    },
    {
     "cell_type": "heading",
     "level": 3,
     "metadata": {},
     "source": [
      "3.2.3 Plot rotation events"
     ]
    },
    {
     "cell_type": "code",
     "collapsed": false,
     "input": [
      "#ct.graphics.show_ellipses_clusters(cluster, sizes, ellipsis_cutoffs)\n",
      "ax, total_rot, n_detected = ct.graphics.plot_rotation_events(cluster, ax=None,\n",
      "                                                             show_segments=True)"
     ],
     "language": "python",
     "metadata": {},
     "outputs": [],
     "prompt_number": 10
    },
    {
     "cell_type": "heading",
     "level": 3,
     "metadata": {},
     "source": [
      "3.2.4  Save the rotation index to a `csv` file"
     ]
    },
    {
     "cell_type": "code",
     "collapsed": false,
     "input": [
      "csv_fname = cluster.oio.store_path.replace('.h5', '_rotation_index.csv')\n",
      "total_rot.to_csv(csv_fname)\n",
      "print('Rotation index saved to {}'.format(csv_fname))"
     ],
     "language": "python",
     "metadata": {},
     "outputs": [
      {
       "output_type": "stream",
       "stream": "stdout",
       "text": [
        "Rotation index saved to /media/data/AnneHDFStores/wt_240812_rotation_index.csv\n"
       ]
      }
     ],
     "prompt_number": 11
    },
    {
     "cell_type": "heading",
     "level": 3,
     "metadata": {},
     "source": [
      "3.2.3 Basic stats on the rotation index"
     ]
    },
    {
     "cell_type": "code",
     "collapsed": false,
     "input": [
      "### If you want to compute the rotation index average between\n",
      "### two stacks, set here the number of the first and last ones\n",
      "start_frame = 1\n",
      "end_frame = 7\n",
      "\n",
      "print('Average value of the rotation index between frame {} and {}:'.format(start_frame, end_frame))\n",
      "print('\\t {0:.3f}'.format(total_rot.loc[start_frame: end_frame].mean()))\n",
      "\n",
      "print('Global average of the rotation index: ')\n",
      "print('\\t {0:.3f}'.format(total_rot.mean()))"
     ],
     "language": "python",
     "metadata": {},
     "outputs": [
      {
       "output_type": "stream",
       "stream": "stdout",
       "text": [
        "Average value of the rotation index between frame 1 and 7:\n",
        "\t 0.257\n",
        "Global average of the rotation index: \n",
        "\t 0.424\n"
       ]
      }
     ],
     "prompt_number": 12
    },
    {
     "cell_type": "heading",
     "level": 2,
     "metadata": {},
     "source": [
      "3.3 Four panels views of the trajectories and the detected ellipses"
     ]
    },
    {
     "cell_type": "heading",
     "level": 4,
     "metadata": {},
     "source": [
      "Single segment"
     ]
    },
    {
     "cell_type": "code",
     "collapsed": false,
     "input": [
      "cluster.trajs.get_colors()"
     ],
     "language": "python",
     "metadata": {},
     "outputs": [
      {
       "metadata": {},
       "output_type": "pyout",
       "prompt_number": 13,
       "text": [
        "{1: 'g', 2: 'r', 3: 'c', 4: 'm', 5: 'y'}"
       ]
      }
     ],
     "prompt_number": 13
    },
    {
     "cell_type": "code",
     "collapsed": false,
     "input": [
      "### Get segments and their colors \n",
      "colors = cluster.trajs.get_colors()\n",
      "segments = cluster.trajs.get_segments()\n",
      "\n",
      "### Choose the label\n",
      "label = 3\n",
      "\n",
      "\n",
      "### Grab the corresponding segment\n",
      "segment = segments[label]\n",
      "\n",
      "## Paramters for the scatter plot (the bullets) \n",
      "scatter_kw = {'c':segment.t.astype(np.float),\n",
      "              'cmap':'spectral',\n",
      "              's':40,\n",
      "              'alpha':0.8,\n",
      "              'edgecolors':'none'}\n",
      "\n",
      "## Paramters for the line plot \n",
      "line_kw = {'c': 'gray',\n",
      "           'ls': '-',\n",
      "           'alpha': 0.8,\n",
      "           'lw': 0.75}\n",
      "\n",
      "## Parameters for the ellipses\n",
      "ellipsis_kw = {'c':'k', 'alpha':1., 'lw':0.2}\n",
      "\n",
      "axes, ax_3d = ct.graphics.show_4panel_ellipses(cluster,\n",
      "                                               label,\n",
      "                                               sizes,\n",
      "                                               ellipsis_cutoffs,\n",
      "                                               method=detection_method,\n",
      "                                               scatter_kw=scatter_kw,\n",
      "                                               line_kw=line_kw,\n",
      "                                               ellipsis_kw=ellipsis_kw,\n",
      "                                               axes=None, ax_3d=None)\n",
      "\n",
      "### Setting axes limits\n",
      "ax = axes[0, 0]\n",
      "\n",
      "x_min, x_max = -20, 20\n",
      "y_min, y_max = -20, 20\n",
      "z_min, z_max = -20, 20\n",
      "\n",
      "\n",
      "ax.set_xlim(x_min, x_max)\n",
      "ax.set_ylim(y_min, y_max)\n",
      "ax_3d.set_xlim(x_min, x_max)\n",
      "ax_3d.set_zlim(y_min, y_max)\n",
      "ax_3d.set_zlim(z_min, z_max)\n"
     ],
     "language": "python",
     "metadata": {},
     "outputs": [
      {
       "metadata": {},
       "output_type": "pyout",
       "prompt_number": 14,
       "text": [
        "(-20, 20)"
       ]
      }
     ],
     "prompt_number": 14
    },
    {
     "cell_type": "heading",
     "level": 4,
     "metadata": {},
     "source": [
      "All the segments at once"
     ]
    },
    {
     "cell_type": "code",
     "collapsed": false,
     "input": [
      "axes, ax_3d = None, None\n",
      "\n",
      "### Get segments and their colors \n",
      "colors = cluster.trajs.get_colors()\n",
      "segments = cluster.trajs.get_segments()\n",
      "\n",
      "### Choose the label\n",
      "label = 4\n",
      "\n",
      "for label in cluster.trajs.labels:\n",
      "\n",
      "    ### Grab the corresponding segment\n",
      "    segment = segments[label]\n",
      "\n",
      "\n",
      "    ## Paramters for the scatter plot (the bullets) \n",
      "    scatter_kw = {'c':segment.t.astype(np.float),\n",
      "                  'cmap':'spectral',\n",
      "                  's':40,\n",
      "                  'alpha':0.8,\n",
      "                  'edgecolors':'none'}\n",
      "\n",
      "    ## Paramters for the line plot \n",
      "    line_kw = {'c': 'gray',\n",
      "               'ls': '-',\n",
      "               'alpha': 0.8,\n",
      "               'lw': 0.75}\n",
      "\n",
      "    ## Parameters for the ellipses\n",
      "    ellipsis_kw = {'c':'r', 'alpha':0.5, 'lw':1}\n",
      "\n",
      "    axes, ax_3d = ct.graphics.show_4panel_ellipses(cluster,\n",
      "                                                   label,\n",
      "                                                   sizes,\n",
      "                                                   ellipsis_cutoffs,\n",
      "                                                   scatter_kw=scatter_kw,\n",
      "                                                   line_kw=line_kw,\n",
      "                                                   ellipsis_kw=ellipsis_kw,\n",
      "                                                   axes=axes, ax_3d=ax_3d)\n",
      "\n",
      "### Setting axes limits\n",
      "ax = axes[0, 0]\n",
      "\n",
      "x_min, x_max = -20, 20\n",
      "y_min, y_max = -20, 20\n",
      "z_min, z_max = -20, 20\n",
      "\n",
      "\n",
      "ax.set_xlim(x_min, x_max)\n",
      "ax.set_ylim(y_min, y_max)\n",
      "ax_3d.set_xlim(x_min, x_max)\n",
      "ax_3d.set_zlim(y_min, y_max)\n",
      "ax_3d.set_zlim(z_min, z_max)\n"
     ],
     "language": "python",
     "metadata": {},
     "outputs": [
      {
       "metadata": {},
       "output_type": "pyout",
       "prompt_number": 15,
       "text": [
        "(-20, 20)"
       ]
      }
     ],
     "prompt_number": 15
    },
    {
     "cell_type": "heading",
     "level": 2,
     "metadata": {},
     "source": [
      "3.4 Rotation quantification"
     ]
    },
    {
     "cell_type": "code",
     "collapsed": false,
     "input": [
      "cluster.cumulative_angle()\n",
      "rotation_speeds = rotation.radial_speed(cluster.trajs, smooth=2)\n",
      "rotation_speeds['t'] = cluster.trajs.t\n",
      "rotation_speeds['ratio'] = np.abs(rotation_speeds['v_orad']/rotation_speeds['v_rad'])\n"
     ],
     "language": "python",
     "metadata": {},
     "outputs": [],
     "prompt_number": 10
    },
    {
     "cell_type": "code",
     "collapsed": false,
     "input": [
      "ct.graphics.show_measure(cluster.trajs, rotation_speeds, ax=None,\n",
      "                         errorbar=False,\n",
      "                         show_segments=False, lw=2, alpha=0.6)"
     ],
     "language": "python",
     "metadata": {},
     "outputs": [
      {
       "metadata": {},
       "output_type": "pyout",
       "prompt_number": 62,
       "text": [
        "<matplotlib.axes._subplots.AxesSubplot at 0x7fd92d20c810>"
       ]
      }
     ],
     "prompt_number": 62
    },
    {
     "cell_type": "heading",
     "level": 1,
     "metadata": {},
     "source": [
      "4. Translation detection\n"
     ]
    },
    {
     "cell_type": "heading",
     "level": 2,
     "metadata": {},
     "source": [
      "4.1 Definitions"
     ]
    },
    {
     "cell_type": "markdown",
     "metadata": {},
     "source": [
      "### Position\n",
      "Let $P(t) = \\left(x(t), y(t), z(t)\\right)$ be the position in space of a nuclei at time $t$\n",
      "\n",
      "### Apparent displacement\n",
      "\n",
      "We note $d(t, t+w)$ the **apparent displacement** between two time points, that is the distance between those two points, independently of the movement between them:\n",
      "\n",
      "$$\n",
      "d(t, t+w) = ||P(t+w) - P(t)||\n",
      "$$\n",
      "\n",
      "\n",
      "### Cumulated displacement\n",
      "\n",
      "For each nuclei, the **cumulated displacement**, between time $t$ and time $t + w$  noted $D(t, t+w)$ is the total distance traveled by a nucleus between $t$ and $t+w$.  It is the sum of the individual displacements between every time point and the next:\n",
      "\n",
      "$$\n",
      "D(t, t+w) = \\sum_{i=t+1}^{t+w} ||P(i) - P(i - 1)||\n",
      "$$\n",
      "\n",
      "### Processivity\n",
      "\n",
      "We call processivity the ratio of the apparent displacement with the cumulated displacement for a given window $w$:\n",
      "$$\n",
      "\\Pi(t, t+w) = d(t, t+w) / D(t, t+w)\n",
      "$$\n",
      "\n",
      "\n",
      "### Directionality\n",
      "\n",
      "The $x$ axis is defined as the principal axis of the displacement (defined by a principal component analysis computed on the original 3D positions for the whole trajectory).\n",
      "\n",
      "We define **directionality** as the ratio between the difference of position on the principal axis $x$ and the apparent displacement:\n",
      "\n",
      "$$\n",
      "\\mbox{dir}(t, t+w) = \\frac{x(t+w) - x(t)}{d(t, t+w)}\n",
      "$$\n",
      "\n",
      "### Cumulated directionality\n",
      "\n",
      "In this measure, instead of dividing the displacement along $x$ by the apparent displacement, we devide it by the cumulated displacement:\n",
      "\n",
      "$$\n",
      "\\mbox{dir}_c(t, t+w) = \\frac{x(t+w) - x(t)}{D(t, t+w)}\n",
      "$$\n",
      "\n"
     ]
    },
    {
     "cell_type": "heading",
     "level": 2,
     "metadata": {},
     "source": [
      "4.2 Do the computations"
     ]
    },
    {
     "cell_type": "code",
     "collapsed": false,
     "input": [
      "### Some initialisations\n",
      "\n",
      "measures = {}\n",
      "\n",
      "### Set this to True if you want processivity to be negative for a backward moving nuclei\n",
      "signed=True"
     ],
     "language": "python",
     "metadata": {},
     "outputs": [],
     "prompt_number": 12
    },
    {
     "cell_type": "heading",
     "level": 3,
     "metadata": {},
     "source": [
      "4.2.1 For a sliding window of a given size"
     ]
    },
    {
     "cell_type": "code",
     "collapsed": false,
     "input": [
      "### Set here the width of the window (in number of frames)\n",
      "window = 6\n",
      "\n",
      "\n",
      "processivity = translation.sld_processivity(cluster.trajs, window, signed=signed)\n",
      "directionality = translation.sld_dir(cluster.trajs, window)\n",
      "cum_dir = translation.sld_cum_dir(cluster.trajs, window)\n",
      "\n",
      "measures[('processivity', window)] = processivity\n",
      "measures[('directionality', window)] = directionality\n",
      "measures[('cumulated directionality', window)] = cum_dir"
     ],
     "language": "python",
     "metadata": {},
     "outputs": [],
     "prompt_number": 13
    },
    {
     "cell_type": "heading",
     "level": 4,
     "metadata": {},
     "source": [
      "Plotting the resulting curves"
     ]
    },
    {
     "cell_type": "code",
     "collapsed": false,
     "input": [
      "fig, ax = plt.subplots()\n",
      "\n",
      "cluster.trajs.show(xaxis='t', yaxis='cum_disp')"
     ],
     "language": "python",
     "metadata": {},
     "outputs": [
      {
       "metadata": {},
       "output_type": "pyout",
       "prompt_number": 14,
       "text": [
        "<matplotlib.axes._subplots.AxesSubplot at 0x7fd94808ee10>"
       ]
      }
     ],
     "prompt_number": 14
    },
    {
     "cell_type": "code",
     "collapsed": false,
     "input": [
      "colors = {'processivity': 'r',\n",
      "          'directionality': 'b',\n",
      "          'cumulated directionality': 'g'}\n",
      "\n",
      "fig, ax = plt.subplots()\n",
      "for (name, w), measure in measures.items():\n",
      "    if w != window:\n",
      "        continue\n",
      "    label = '{} for a {} minutes window'.format(name, w * cluster.metadata['TimeIncrement'])\n",
      "    ct.graphics.show_measure(cluster.trajs, measure, ax=ax,\n",
      "                             errorbar=False,\n",
      "                             show_segments=False,\n",
      "                             c=colors[name],\n",
      "                             label=label, lw=2, alpha=0.6)\n",
      "ax.set_ylim(-1, 1);\n",
      "ax.legend(loc='lower_left')\n"
     ],
     "language": "python",
     "metadata": {},
     "outputs": [
      {
       "metadata": {},
       "output_type": "pyout",
       "prompt_number": 56,
       "text": [
        "<matplotlib.legend.Legend at 0x7fd92d50f510>"
       ]
      }
     ],
     "prompt_number": 56
    },
    {
     "cell_type": "heading",
     "level": 4,
     "metadata": {},
     "source": [
      "Statistics"
     ]
    },
    {
     "cell_type": "code",
     "collapsed": false,
     "input": [
      "### average between\n",
      "### two stacks, set here the number of the first and last ones\n",
      "start_frame = 1\n",
      "end_frame = 7\n",
      "\n",
      "for (name, w), measure in measures.items():\n",
      "    if w!= window:\n",
      "        continue\n",
      "    win_size = w * cluster.metadata['TimeIncrement']\n",
      "    print('Average value of {} between frame {} and {} for a {} minutes window:'\n",
      "          .format(name, start_frame, end_frame, win_size))\n",
      "    data_cols = [col for col in measure if col != 't']\n",
      "    for col in data_cols:    \n",
      "    \n",
      "        print('\\t {0:.3f}'.format(measure[col].loc[start_frame: end_frame].mean()))\n",
      "\n",
      "        print('Global average of {} for a {} minutes window: '.format(name, win_size))\n",
      "        print('\\t {0:.3f}'.format(measure[col].mean()))"
     ],
     "language": "python",
     "metadata": {},
     "outputs": [
      {
       "output_type": "stream",
       "stream": "stdout",
       "text": [
        "Average value of cumulated directionality between frame 1 and 7 for a 21.0 minutes window:\n",
        "\t 0.267\n",
        "Global average of cumulated directionality for a 21.0 minutes window: \n",
        "\t 0.292\n",
        "Average value of processivity between frame 1 and 7 for a 21.0 minutes window:\n",
        "\t 0.671\n",
        "Global average of processivity for a 21.0 minutes window: \n",
        "\t 0.521\n",
        "Average value of directionality between frame 1 and 7 for a 21.0 minutes window:\n",
        "\t 0.346\n",
        "Global average of directionality for a 21.0 minutes window: \n",
        "\t 0.396\n"
       ]
      }
     ],
     "prompt_number": 64
    },
    {
     "cell_type": "heading",
     "level": 4,
     "metadata": {},
     "source": [
      "Automated computation for a range of window sizes"
     ]
    },
    {
     "cell_type": "code",
     "collapsed": false,
     "input": [
      "windows = [3, 4, 5, 6, 7]\n",
      "for window in windows:\n",
      "    processivity = translation.sld_processivity(cluster.trajs, window, signed=signed)\n",
      "    directionality = translation.sld_dir(cluster.trajs, window)\n",
      "    cum_dir = translation.sld_cum_dir(cluster.trajs, window)\n",
      "\n",
      "    measures[('processivity', window)] = processivity\n",
      "    measures[('directionality', window)] = directionality\n",
      "    measures[('cumulated directionality', window)] = cum_dir\n",
      "    "
     ],
     "language": "python",
     "metadata": {},
     "outputs": [],
     "prompt_number": 65
    },
    {
     "cell_type": "heading",
     "level": 4,
     "metadata": {},
     "source": [
      "Save the average (over the nuclei) data for each window to a `csv` file"
     ]
    },
    {
     "cell_type": "code",
     "collapsed": false,
     "input": [
      "%pdb"
     ],
     "language": "python",
     "metadata": {},
     "outputs": [
      {
       "output_type": "stream",
       "stream": "stdout",
       "text": [
        "Automatic pdb calling has been turned ON\n"
       ]
      }
     ],
     "prompt_number": 24
    },
    {
     "cell_type": "code",
     "collapsed": false,
     "input": [
      "measures_df = pd.DataFrame(index=cluster.trajs.t_stamps)\n",
      "for key, meas in measures.items():\n",
      "    window = key[1]\n",
      "    for col in meas.columns:\n",
      "        if col not in measures_df.columns:\n",
      "            measures_df[col+str(window)] = meas[col].mean(level='t_stamp')\n"
     ],
     "language": "python",
     "metadata": {},
     "outputs": [],
     "prompt_number": 77
    },
    {
     "cell_type": "code",
     "collapsed": false,
     "input": [
      "csv_name = cluster.oio.store_path.replace('.h5', 'translation_measures.csv')\n",
      "measures_df.to_csv(csv_name)\n",
      "print('Saved measures to ', csv_name)"
     ],
     "language": "python",
     "metadata": {},
     "outputs": [
      {
       "output_type": "stream",
       "stream": "stdout",
       "text": [
        "Saved measures to  /media/data/AnneHDFStores/wt_240812translation_measures.csv\n"
       ]
      }
     ],
     "prompt_number": 72
    },
    {
     "cell_type": "heading",
     "level": 3,
     "metadata": {},
     "source": [
      "4.2.2 For a specific pair of time points"
     ]
    },
    {
     "cell_type": "code",
     "collapsed": false,
     "input": [
      "frame0 = 1\n",
      "frame1 = 10\n",
      "p2p_measures = {}\n",
      "\n",
      "p2p_measures['processivity'] = translation.p2p_processivity(cluster.trajs, frame0, frame1, signed=signed)\n",
      "p2p_measures['directionality'] = translation.p2p_directionality(cluster.trajs, frame0, frame1)\n",
      "p2p_measures['cumulated directionality'] = translation.p2p_cum_dir(cluster.trajs, frame0, frame1)\n",
      "\n",
      "p2p_measures = pd.DataFrame.from_dict(p2p_measures).dropna()\n"
     ],
     "language": "python",
     "metadata": {},
     "outputs": [],
     "prompt_number": 81
    },
    {
     "cell_type": "code",
     "collapsed": false,
     "input": [
      "print('''Averaged over all the nuclei:\\n''')\n",
      "\n",
      "print(p2p_measures.mean(axis=0), '\\n')\n",
      "\n",
      "p2p_measures"
     ],
     "language": "python",
     "metadata": {},
     "outputs": [
      {
       "output_type": "stream",
       "stream": "stdout",
       "text": [
        "Averaged over all the nuclei:\n",
        "\n",
        "cumulated directionality    0.207890\n",
        "directionality              0.291832\n",
        "processivity                0.687642\n",
        "dtype: float64 \n",
        "\n"
       ]
      },
      {
       "html": [
        "<div style=\"max-height:1000px;max-width:1500px;overflow:auto;\">\n",
        "<table border=\"1\" class=\"dataframe\">\n",
        "  <thead>\n",
        "    <tr style=\"text-align: right;\">\n",
        "      <th></th>\n",
        "      <th>cumulated directionality</th>\n",
        "      <th>directionality</th>\n",
        "      <th>processivity</th>\n",
        "    </tr>\n",
        "    <tr>\n",
        "      <th>label</th>\n",
        "      <th></th>\n",
        "      <th></th>\n",
        "      <th></th>\n",
        "    </tr>\n",
        "  </thead>\n",
        "  <tbody>\n",
        "    <tr>\n",
        "      <th>1</th>\n",
        "      <td> 0.255490</td>\n",
        "      <td> 0.345983</td>\n",
        "      <td> 0.738447</td>\n",
        "    </tr>\n",
        "    <tr>\n",
        "      <th>2</th>\n",
        "      <td> 0.065858</td>\n",
        "      <td> 0.135321</td>\n",
        "      <td> 0.486683</td>\n",
        "    </tr>\n",
        "    <tr>\n",
        "      <th>3</th>\n",
        "      <td> 0.239752</td>\n",
        "      <td> 0.299680</td>\n",
        "      <td> 0.800029</td>\n",
        "    </tr>\n",
        "    <tr>\n",
        "      <th>4</th>\n",
        "      <td> 0.288284</td>\n",
        "      <td> 0.336433</td>\n",
        "      <td> 0.856886</td>\n",
        "    </tr>\n",
        "    <tr>\n",
        "      <th>5</th>\n",
        "      <td> 0.190066</td>\n",
        "      <td> 0.341743</td>\n",
        "      <td> 0.556167</td>\n",
        "    </tr>\n",
        "  </tbody>\n",
        "</table>\n",
        "</div>"
       ],
       "metadata": {},
       "output_type": "pyout",
       "prompt_number": 82,
       "text": [
        "       cumulated directionality  directionality  processivity\n",
        "label                                                        \n",
        "1                      0.255490        0.345983      0.738447\n",
        "2                      0.065858        0.135321      0.486683\n",
        "3                      0.239752        0.299680      0.800029\n",
        "4                      0.288284        0.336433      0.856886\n",
        "5                      0.190066        0.341743      0.556167"
       ]
      }
     ],
     "prompt_number": 82
    },
    {
     "cell_type": "heading",
     "level": 3,
     "metadata": {},
     "source": [
      "4.1.4 Mean Square Displacement"
     ]
    },
    {
     "cell_type": "markdown",
     "metadata": {},
     "source": [
      "The mean square displacement for a time difference $\\Delta t$ is computed as the squared distance between the position of the particle at time $t$ and its position at time $t + \\Delta t$ averaged over each successive time $t$:\n",
      "\n",
      "\n",
      "$$\n",
      "\\begin{aligned}\n",
      "\\mbox{MSD}(\\Delta t) &=  \\frac{\\sum_0^{T - \\Delta t} \\left(\\mathbf{r}(t + \\Delta t)  - \\mathbf{r}(t) \\right)^2}{(T - \\Delta t) / \\delta t}\n",
      "\\end{aligned}\n",
      "$$"
     ]
    },
    {
     "cell_type": "code",
     "collapsed": false,
     "input": [
      "MSD = translation.get_MSD(cluster.trajs)"
     ],
     "language": "python",
     "metadata": {},
     "outputs": [],
     "prompt_number": 101
    },
    {
     "cell_type": "code",
     "collapsed": false,
     "input": [
      "fig, ax = plt.subplots()\n",
      "ax.set_title('Mean Square Displacement')\n",
      "ax.set_xlabel('Delay (minutes)')\n",
      "ax.set_ylabel('MSD (\u00b5m\u00b2)')\n",
      "\n",
      "for label in cluster.trajs.labels:\n",
      "        seg_msd = MSD.xs(label, level='label')\n",
      "        ax.errorbar(seg_msd.Dt, seg_msd.MSD, yerr= seg_msd.MSD_std, alpha=0.4) \n",
      "\n",
      "ax.errorbar(MSD.Dt.mean(level='Dt_stamp'),\n",
      "            MSD.MSD.mean(level='Dt_stamp'), \n",
      "            yerr=MSD.MSD_std.mean(level='Dt_stamp'), fmt='k-', lw=2);"
     ],
     "language": "python",
     "metadata": {},
     "outputs": [],
     "prompt_number": 102
    },
    {
     "cell_type": "heading",
     "level": 4,
     "metadata": {},
     "source": [
      "Exponent of the MSD function"
     ]
    },
    {
     "cell_type": "markdown",
     "metadata": {},
     "source": [
      "For a purely linear movement, the mean square displacement is growing like $\\Delta t^2$, wheras for a purely random walk or Brownian motion, it is growing _linearly_ with time (and the slope of the linear function is proportional to the diffusion coefficient).\n",
      "\n",
      "Here we compute the exponent $\\alpha$ of the MSD function: $\\textrm{MSD}(\\Delta t) = \\Delta t^\\alpha$.\n",
      "\n",
      "It will be 2 for a purely processive motion, and 1 for a purely Brownian motion."
     ]
    },
    {
     "cell_type": "code",
     "collapsed": false,
     "input": [
      "log_t = np.log(MSD.Dt.mean(level='Dt_stamp'))\n",
      "log_msd = np.log(MSD.MSD.mean(level='Dt_stamp'))\n",
      "#### Restrict the fits to the first points\n",
      "start = 1\n",
      "stop = 10\n",
      "\n",
      "ps = np.polyfit(log_t[start:stop], log_msd[start:stop], deg=1,\n",
      "                w=1/MSD.Dt.mean(level='Dt_stamp').iloc[start:stop])\n",
      "\n",
      "print('Estimated exponent of the mean square displacement:')\n",
      "print('\\t {0:.3f}'.format(ps[0]))\n"
     ],
     "language": "python",
     "metadata": {},
     "outputs": [
      {
       "output_type": "stream",
       "stream": "stdout",
       "text": [
        "Estimated exponent of the mean square displacement:\n",
        "\t 1.583\n"
       ]
      }
     ],
     "prompt_number": 103
    },
    {
     "cell_type": "code",
     "collapsed": false,
     "input": [],
     "language": "python",
     "metadata": {},
     "outputs": []
    }
   ],
   "metadata": {}
  }
 ]
}