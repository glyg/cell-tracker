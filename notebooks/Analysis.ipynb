{
 "metadata": {
  "name": "",
  "signature": "sha256:5dfd467889bc5abf2cbb08d964057d4e73641016f4d8623cd9a3c805fa922021"
 },
 "nbformat": 3,
 "nbformat_minor": 0,
 "worksheets": [
  {
   "cells": [
    {
     "cell_type": "heading",
     "level": 4,
     "metadata": {},
     "source": [
      "Initialize everything"
     ]
    },
    {
     "cell_type": "code",
     "collapsed": false,
     "input": [
      "### The library used for plotting\n",
      "%matplotlib qt4\n",
      "\n",
      "### This imports various dependencies module\n",
      "%run nb_init.py\n",
      "\n",
      "#### \n",
      "import cell_tracker as ct\n"
     ],
     "language": "python",
     "metadata": {},
     "outputs": [],
     "prompt_number": 1
    },
    {
     "cell_type": "heading",
     "level": 2,
     "metadata": {},
     "source": [
      "Pick the directory and get the relevant data"
     ]
    },
    {
     "cell_type": "markdown",
     "metadata": {},
     "source": [
      "Here you can pick either a TIFF or a `.h5` file or an excel file"
     ]
    },
    {
     "cell_type": "code",
     "collapsed": false,
     "input": [
      "default_path = '/media/data/xiaobo'\n",
      "\n",
      "cluster = ct.ui.get_cluster(default_path)"
     ],
     "language": "python",
     "metadata": {},
     "outputs": [
      {
       "output_type": "stream",
       "stream": "stdout",
       "text": [
        "Choosen data path: /home/guillaume/Python/cell-tracker/cell_tracker/data/excel_trajs_example.xlsx\n"
       ]
      }
     ],
     "prompt_number": 2
    },
    {
     "cell_type": "code",
     "collapsed": false,
     "input": [
      "ct.ui.set_metadata()"
     ],
     "language": "python",
     "metadata": {},
     "outputs": [],
     "prompt_number": 3
    },
    {
     "cell_type": "heading",
     "level": 3,
     "metadata": {},
     "source": [
      "Plot the data"
     ]
    },
    {
     "cell_type": "code",
     "collapsed": false,
     "input": [
      "axes = draw.plot_stacked_coords(cluster.trajs, coords=['x', 'y', 'z'])"
     ],
     "language": "python",
     "metadata": {},
     "outputs": [],
     "prompt_number": 4
    },
    {
     "cell_type": "markdown",
     "metadata": {},
     "source": [
      "### A segment is a single (maybe partial) trajectory\n",
      "\n",
      "Each segment is labeled"
     ]
    },
    {
     "cell_type": "code",
     "collapsed": false,
     "input": [
      "## This means that we go over all the segments\n",
      "## contained in the cluster trajectories\n",
      "for label, segment in cluster.trajs.iter_segments:\n",
      "    print('Segment {} has {} time points'\n",
      "          .format(label, segment.shape[0]))"
     ],
     "language": "python",
     "metadata": {},
     "outputs": [
      {
       "output_type": "stream",
       "stream": "stdout",
       "text": [
        "Segment 0 has 8 time points\n",
        "Segment 1 has 8 time points\n",
        "Segment 2 has 8 time points\n",
        "Segment 3 has 8 time points\n",
        "Segment 4 has 8 time points\n"
       ]
      }
     ],
     "prompt_number": 5
    },
    {
     "cell_type": "markdown",
     "metadata": {},
     "source": [
      "It is also possible to access a single segment"
     ]
    },
    {
     "cell_type": "code",
     "collapsed": false,
     "input": [
      "segments = cluster.trajs.get_segments() \n",
      "seg0 = segments[0]\n",
      "\n",
      "fig, ax = plt.subplots()\n",
      "ax.plot(seg0.x, seg0.y, 'k-');"
     ],
     "language": "python",
     "metadata": {},
     "outputs": [],
     "prompt_number": 6
    },
    {
     "cell_type": "heading",
     "level": 2,
     "metadata": {},
     "source": [
      "Analyses"
     ]
    },
    {
     "cell_type": "heading",
     "level": 3,
     "metadata": {},
     "source": [
      "Postition of the cluster center\n"
     ]
    },
    {
     "cell_type": "code",
     "collapsed": false,
     "input": [
      "cluster.get_center(smooth=3)"
     ],
     "language": "python",
     "metadata": {},
     "outputs": [],
     "prompt_number": 4
    },
    {
     "cell_type": "markdown",
     "metadata": {},
     "source": [
      "When we compute the center position, we create new columns in the data\n",
      "the position of the center is given by `x_c, y_c, z_c`, and the positions\n",
      "of the nuclei relative to the center by `x_r, y_r, z_r`."
     ]
    },
    {
     "cell_type": "code",
     "collapsed": false,
     "input": [
      "axes = draw.plot_stacked_coords(cluster.trajs,\n",
      "                                coords=['x_r', 'y_r', 'z_r'])"
     ],
     "language": "python",
     "metadata": {},
     "outputs": [],
     "prompt_number": 7
    },
    {
     "cell_type": "heading",
     "level": 3,
     "metadata": {},
     "source": [
      "Value of the angle w/r to the cluster center"
     ]
    },
    {
     "cell_type": "code",
     "collapsed": false,
     "input": [
      "cluster.cumulative_angle()"
     ],
     "language": "python",
     "metadata": {},
     "outputs": [],
     "prompt_number": 5
    },
    {
     "cell_type": "heading",
     "level": 3,
     "metadata": {},
     "source": [
      "Fit ellipses of different sizes over the trajectories"
     ]
    },
    {
     "cell_type": "markdown",
     "metadata": {},
     "source": [
      "The sizes of the fitting windows are given in minutes and converted to\n",
      "number of frames"
     ]
    },
    {
     "cell_type": "code",
     "collapsed": false,
     "input": [
      "### Fits ellipses and detect rotations\n",
      "sizes = [15, 30, 45, 60, 75, 90]\n",
      "for size in sizes:\n",
      "    print('Computing for a window of {} min'.format(size))\n",
      "    cluster.compute_ellipticity(size)\n"
     ],
     "language": "python",
     "metadata": {},
     "outputs": [
      {
       "output_type": "stream",
       "stream": "stdout",
       "text": [
        "Computing for a window of 15 min\n",
        "Computing for a window of 30 min"
       ]
      },
      {
       "output_type": "stream",
       "stream": "stdout",
       "text": [
        "\n",
        "Computing for a window of 45 min\n",
        "Computing for a window of 60 min"
       ]
      },
      {
       "output_type": "stream",
       "stream": "stdout",
       "text": [
        "\n",
        "Computing for a window of 75 min\n",
        "Computing for a window of 90 min"
       ]
      },
      {
       "output_type": "stream",
       "stream": "stdout",
       "text": [
        "\n"
       ]
      }
     ],
     "prompt_number": 6
    },
    {
     "cell_type": "heading",
     "level": 3,
     "metadata": {},
     "source": [
      "Polar histogram"
     ]
    },
    {
     "cell_type": "code",
     "collapsed": false,
     "input": [
      "ax = ct.graphics.polar_histogram(cluster, ax=None, alpha=0.5)"
     ],
     "language": "python",
     "metadata": {},
     "outputs": [],
     "prompt_number": 11
    },
    {
     "cell_type": "heading",
     "level": 3,
     "metadata": {},
     "source": [
      "Detect rotations"
     ]
    },
    {
     "cell_type": "code",
     "collapsed": false,
     "input": [
      "ct.ui.ipy_widgets.set_ellipsis_limits()"
     ],
     "language": "python",
     "metadata": {},
     "outputs": [],
     "prompt_number": 8
    },
    {
     "cell_type": "heading",
     "level": 3,
     "metadata": {},
     "source": [
      "Rotation events"
     ]
    },
    {
     "cell_type": "code",
     "collapsed": false,
     "input": [
      "cluster.detect_rotations(ellipsis_cutoffs)\n",
      "ax, total_rot, n_detected = ct.graphics.plot_rotation_events(cluster, ax=None,\n",
      "                                                             show_segments=True)"
     ],
     "language": "python",
     "metadata": {},
     "outputs": [
      {
       "ename": "Exception",
       "evalue": "Data must be 1-dimensional",
       "output_type": "pyerr",
       "traceback": [
        "\u001b[1;31m---------------------------------------------------------------------------\u001b[0m\n\u001b[1;31mException\u001b[0m                                 Traceback (most recent call last)",
        "\u001b[1;32m<ipython-input-11-5a0f351ff43e>\u001b[0m in \u001b[0;36m<module>\u001b[1;34m()\u001b[0m\n\u001b[0;32m      1\u001b[0m \u001b[0mcluster\u001b[0m\u001b[1;33m.\u001b[0m\u001b[0mdetect_rotations\u001b[0m\u001b[1;33m(\u001b[0m\u001b[0mellipsis_cutoffs\u001b[0m\u001b[1;33m)\u001b[0m\u001b[1;33m\u001b[0m\u001b[0m\n\u001b[0;32m      2\u001b[0m ax, total_rot, n_detected = ct.graphics.plot_rotation_events(cluster, ax=None,\n\u001b[1;32m----> 3\u001b[1;33m                                                              show_segments=True)\n\u001b[0m",
        "\u001b[1;32m/home/guillaume/python3/lib/python3.3/site-packages/cell_tracker-0.1_dev-py3.3.egg/cell_tracker/graphics.py\u001b[0m in \u001b[0;36mplot_rotation_events\u001b[1;34m(cluster, ax, show_segments, **kwargs)\u001b[0m\n\u001b[0;32m    248\u001b[0m     n_detected =  pd.Series(\n\u001b[0;32m    249\u001b[0m         \u001b[0mnp\u001b[0m\u001b[1;33m.\u001b[0m\u001b[0mones_like\u001b[0m\u001b[1;33m(\u001b[0m\u001b[0mcluster\u001b[0m\u001b[1;33m.\u001b[0m\u001b[0mdetected_rotations\u001b[0m\u001b[1;33m)\u001b[0m\u001b[1;33m,\u001b[0m\u001b[1;33m\u001b[0m\u001b[0m\n\u001b[1;32m--> 250\u001b[1;33m         index=cluster.detected_rotations.index).sum(level='t_stamp').astype(np.float)\n\u001b[0m\u001b[0;32m    251\u001b[0m     \u001b[0mtotal_rot\u001b[0m \u001b[1;33m=\u001b[0m \u001b[0mcluster\u001b[0m\u001b[1;33m.\u001b[0m\u001b[0mdetected_rotations\u001b[0m\u001b[1;33m.\u001b[0m\u001b[0msum\u001b[0m\u001b[1;33m(\u001b[0m\u001b[0mlevel\u001b[0m\u001b[1;33m=\u001b[0m\u001b[1;34m't_stamp'\u001b[0m\u001b[1;33m)\u001b[0m \u001b[1;33m/\u001b[0m \u001b[0mn_detected\u001b[0m\u001b[1;33m\u001b[0m\u001b[0m\n\u001b[0;32m    252\u001b[0m \u001b[1;33m\u001b[0m\u001b[0m\n",
        "\u001b[1;32m/home/guillaume/python3/lib/python3.3/site-packages/pandas-0.13.1_648_gad1f47d-py3.3-linux-x86_64.egg/pandas/core/series.py\u001b[0m in \u001b[0;36m__init__\u001b[1;34m(self, data, index, dtype, name, copy, fastpath)\u001b[0m\n\u001b[0;32m    228\u001b[0m             \u001b[1;32melse\u001b[0m\u001b[1;33m:\u001b[0m\u001b[1;33m\u001b[0m\u001b[0m\n\u001b[0;32m    229\u001b[0m                 data = _sanitize_array(data, index, dtype, copy,\n\u001b[1;32m--> 230\u001b[1;33m                                        raise_cast_failure=True)\n\u001b[0m\u001b[0;32m    231\u001b[0m \u001b[1;33m\u001b[0m\u001b[0m\n\u001b[0;32m    232\u001b[0m                 \u001b[0mdata\u001b[0m \u001b[1;33m=\u001b[0m \u001b[0mSingleBlockManager\u001b[0m\u001b[1;33m(\u001b[0m\u001b[0mdata\u001b[0m\u001b[1;33m,\u001b[0m \u001b[0mindex\u001b[0m\u001b[1;33m,\u001b[0m \u001b[0mfastpath\u001b[0m\u001b[1;33m=\u001b[0m\u001b[1;32mTrue\u001b[0m\u001b[1;33m)\u001b[0m\u001b[1;33m\u001b[0m\u001b[0m\n",
        "\u001b[1;32m/home/guillaume/python3/lib/python3.3/site-packages/pandas-0.13.1_648_gad1f47d-py3.3-linux-x86_64.egg/pandas/core/series.py\u001b[0m in \u001b[0;36m_sanitize_array\u001b[1;34m(data, index, dtype, copy, raise_cast_failure)\u001b[0m\n\u001b[0;32m   2475\u001b[0m     \u001b[1;32melif\u001b[0m \u001b[0msubarr\u001b[0m\u001b[1;33m.\u001b[0m\u001b[0mndim\u001b[0m \u001b[1;33m>\u001b[0m \u001b[1;36m1\u001b[0m\u001b[1;33m:\u001b[0m\u001b[1;33m\u001b[0m\u001b[0m\n\u001b[0;32m   2476\u001b[0m         \u001b[1;32mif\u001b[0m \u001b[0misinstance\u001b[0m\u001b[1;33m(\u001b[0m\u001b[0mdata\u001b[0m\u001b[1;33m,\u001b[0m \u001b[0mpa\u001b[0m\u001b[1;33m.\u001b[0m\u001b[0mArray\u001b[0m\u001b[1;33m)\u001b[0m\u001b[1;33m:\u001b[0m\u001b[1;33m\u001b[0m\u001b[0m\n\u001b[1;32m-> 2477\u001b[1;33m             \u001b[1;32mraise\u001b[0m \u001b[0mException\u001b[0m\u001b[1;33m(\u001b[0m\u001b[1;34m'Data must be 1-dimensional'\u001b[0m\u001b[1;33m)\u001b[0m\u001b[1;33m\u001b[0m\u001b[0m\n\u001b[0m\u001b[0;32m   2478\u001b[0m         \u001b[1;32melse\u001b[0m\u001b[1;33m:\u001b[0m\u001b[1;33m\u001b[0m\u001b[0m\n\u001b[0;32m   2479\u001b[0m             \u001b[0msubarr\u001b[0m \u001b[1;33m=\u001b[0m \u001b[0m_asarray_tuplesafe\u001b[0m\u001b[1;33m(\u001b[0m\u001b[0mdata\u001b[0m\u001b[1;33m,\u001b[0m \u001b[0mdtype\u001b[0m\u001b[1;33m=\u001b[0m\u001b[0mdtype\u001b[0m\u001b[1;33m)\u001b[0m\u001b[1;33m\u001b[0m\u001b[0m\n",
        "\u001b[1;31mException\u001b[0m: Data must be 1-dimensional"
       ]
      }
     ],
     "prompt_number": 11
    },
    {
     "cell_type": "code",
     "collapsed": false,
     "input": [
      "axes, ax_3d = None, None\n",
      "colors = cluster.trajs.get_colors()\n",
      "coords = ['x', 'y', 'z']\n",
      "\n",
      "#for label in cluster.trajs.labels:\n",
      "axes, ax_3d = ct.graphics.show_4panel_ellipses(cluster, 3,\n",
      "                                               sizes,\n",
      "                                               ellipsis_cutoffs,\n",
      "                                               axes=axes, ax_3d=ax_3d)\n"
     ],
     "language": "python",
     "metadata": {},
     "outputs": [
      {
       "ename": "KeyError",
       "evalue": "45",
       "output_type": "pyerr",
       "traceback": [
        "\u001b[1;31m---------------------------------------------------------------------------\u001b[0m\n\u001b[1;31mKeyError\u001b[0m                                  Traceback (most recent call last)",
        "\u001b[1;32m<ipython-input-12-b7255d8b47a2>\u001b[0m in \u001b[0;36m<module>\u001b[1;34m()\u001b[0m\n\u001b[0;32m      7\u001b[0m                                                \u001b[0msizes\u001b[0m\u001b[1;33m,\u001b[0m\u001b[1;33m\u001b[0m\u001b[0m\n\u001b[0;32m      8\u001b[0m                                                \u001b[0mellipsis_cutoffs\u001b[0m\u001b[1;33m,\u001b[0m\u001b[1;33m\u001b[0m\u001b[0m\n\u001b[1;32m----> 9\u001b[1;33m                                                axes=axes, ax_3d=ax_3d)\n\u001b[0m",
        "\u001b[1;32m/home/guillaume/python3/lib/python3.3/site-packages/cell_tracker-0.1_dev-py3.3.egg/cell_tracker/graphics.py\u001b[0m in \u001b[0;36mshow_4panel_ellipses\u001b[1;34m(cluster, label, sizes, cutoffs, savefile, axes, ax_3d)\u001b[0m\n\u001b[0;32m    286\u001b[0m                                     \u001b[0mcoords\u001b[0m\u001b[1;33m=\u001b[0m\u001b[0mcoords\u001b[0m\u001b[1;33m,\u001b[0m\u001b[1;33m\u001b[0m\u001b[0m\n\u001b[0;32m    287\u001b[0m                                     \u001b[0maxes\u001b[0m\u001b[1;33m=\u001b[0m\u001b[0maxes\u001b[0m\u001b[1;33m,\u001b[0m \u001b[0max_3d\u001b[0m\u001b[1;33m=\u001b[0m\u001b[0max_3d\u001b[0m\u001b[1;33m,\u001b[0m\u001b[1;33m\u001b[0m\u001b[0m\n\u001b[1;32m--> 288\u001b[1;33m                                     alpha=1., lw=2., c='r')\n\u001b[0m\u001b[0;32m    289\u001b[0m \u001b[1;33m\u001b[0m\u001b[0m\n\u001b[0;32m    290\u001b[0m     \u001b[1;32mfor\u001b[0m \u001b[0max\u001b[0m \u001b[1;32min\u001b[0m \u001b[0maxes\u001b[0m\u001b[1;33m.\u001b[0m\u001b[0mflatten\u001b[0m\u001b[1;33m(\u001b[0m\u001b[1;33m)\u001b[0m\u001b[1;33m:\u001b[0m\u001b[1;33m\u001b[0m\u001b[0m\n",
        "\u001b[1;32m/home/guillaume/python3/lib/python3.3/site-packages/cell_tracker-0.1_dev-py3.3.egg/cell_tracker/graphics.py\u001b[0m in \u001b[0;36mshow_ellipses\u001b[1;34m(cluster, label, size, cutoffs, coords, axes, ax_3d, **plot_kwargs)\u001b[0m\n\u001b[0;32m    316\u001b[0m                             segment=cluster.interpolated.xs(label,\n\u001b[0;32m    317\u001b[0m                                                             level='label'),\n\u001b[1;32m--> 318\u001b[1;33m                             data=cluster.ellipses[size].xs(label,\n\u001b[0m\u001b[0;32m    319\u001b[0m                                                            level='label'),\n\u001b[0;32m    320\u001b[0m                             coords=list(coords))\n",
        "\u001b[1;31mKeyError\u001b[0m: 45"
       ]
      }
     ],
     "prompt_number": 12
    },
    {
     "cell_type": "code",
     "collapsed": false,
     "input": [
      "axes, ax_3d = None, None\n",
      "colors = cluster.trajs.get_colors()\n",
      "\n",
      "for label in [0, 2] : #cluster.trajs.labels:\n",
      "    segment = cluster.trajs.get_segments()[label]\n",
      "    scatter_kw = {'c':segment.t.astype(np.float),\n",
      "                  'cmap':'spectral',\n",
      "                  's':40,\n",
      "                  'alpha':0.8,\n",
      "                  'edgecolors':'none'}\n",
      "    line_kw = {'c':'gray',#tracker.label_colors[label],\n",
      "               'ls':'-',\n",
      "               'alpha':0.8, 'lw':0.75}\n",
      "    coords=['x_r', 'y_r', 'z_r']\n",
      "\n",
      "    axes, ax_3d = draw.show_4panels(cluster.trajs, label,\n",
      "                                    axes=axes, ax_3d=ax_3d,\n",
      "                                    scatter_kw=scatter_kw,\n",
      "                                    line_kw=line_kw,\n",
      "                                    coords=coords)\n"
     ],
     "language": "python",
     "metadata": {},
     "outputs": [],
     "prompt_number": 13
    },
    {
     "cell_type": "code",
     "collapsed": false,
     "input": [],
     "language": "python",
     "metadata": {},
     "outputs": []
    }
   ],
   "metadata": {}
  }
 ]
}