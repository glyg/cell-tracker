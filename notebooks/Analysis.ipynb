{
 "metadata": {
  "name": "",
  "signature": "sha256:9fa1be485accef8bc15cb880e47d488e5d61af702e4c484d13860852bfad9fcc"
 },
 "nbformat": 3,
 "nbformat_minor": 0,
 "worksheets": [
  {
   "cells": [
    {
     "cell_type": "markdown",
     "metadata": {},
     "source": [
      "**Github Issues** : https://github.com/bnoi/cell-tracker/issues/new"
     ]
    },
    {
     "cell_type": "heading",
     "level": 4,
     "metadata": {},
     "source": [
      "Initialize everything"
     ]
    },
    {
     "cell_type": "code",
     "collapsed": false,
     "input": [
      "### The library used for plotting\n",
      "%matplotlib qt4\n",
      "\n",
      "### This imports various dependencies\n",
      "%run nb_init.py\n",
      "\n",
      "#### \n",
      "import cell_tracker as ct\n"
     ],
     "language": "python",
     "metadata": {},
     "outputs": []
    },
    {
     "cell_type": "heading",
     "level": 1,
     "metadata": {},
     "source": [
      "1. Data loading and preparation"
     ]
    },
    {
     "cell_type": "heading",
     "level": 2,
     "metadata": {},
     "source": [
      "1.1 Pick the directory and get the relevant data"
     ]
    },
    {
     "cell_type": "markdown",
     "metadata": {},
     "source": [
      "Here you can pick either a TIFF or a `.h5` file or an excel file"
     ]
    },
    {
     "cell_type": "code",
     "collapsed": false,
     "input": [
      "## You can set this to the common path of all your data\n",
      "default_path = '.'\n",
      "cluster = ct.ui.get_cluster(default_path)"
     ],
     "language": "python",
     "metadata": {},
     "outputs": []
    },
    {
     "cell_type": "heading",
     "level": 4,
     "metadata": {},
     "source": [
      "Set metadata"
     ]
    },
    {
     "cell_type": "code",
     "collapsed": false,
     "input": [
      "smw = ct.ui.set_metadata(cluster.metadata)\n",
      "display.display(smw)"
     ],
     "language": "python",
     "metadata": {},
     "outputs": []
    },
    {
     "cell_type": "heading",
     "level": 2,
     "metadata": {},
     "source": [
      "1.2 Scaling and basic computations"
     ]
    },
    {
     "cell_type": "markdown",
     "metadata": {},
     "source": [
      "In the cell below, if you change `True` to `False`, the scale of the data will be changed form pixels to microns.\n",
      "\n",
      "**Change the value bellow ONLY if you haven't scaled the data before**"
     ]
    },
    {
     "cell_type": "code",
     "collapsed": false,
     "input": [
      "cluster.was_scaled = True ### Set this to False if you need to scale the data to physical size"
     ],
     "language": "python",
     "metadata": {},
     "outputs": []
    },
    {
     "cell_type": "heading",
     "level": 4,
     "metadata": {},
     "source": [
      "Basic computations"
     ]
    },
    {
     "cell_type": "code",
     "collapsed": false,
     "input": [
      "if not cluster.was_scaled:\n",
      "    cluster.scale_pix_to_physical()\n",
      "\n",
      "### Computes the position of the nuclei with respect to the cluster center\n",
      "cluster.get_center(smooth=10)\n",
      "    \n",
      "### Computes the angle of the nuclei with respect to the cluster center\n",
      "cluster.cumulative_angle()\n",
      "\n",
      "### Save the trajectories to the .h5 file\n",
      "cluster.save_trajs()\n",
      "print('''Trajectories for this experiment are stored in the file {}'''.format(cluster.oio.store_path))"
     ],
     "language": "python",
     "metadata": {},
     "outputs": []
    },
    {
     "cell_type": "heading",
     "level": 4,
     "metadata": {},
     "source": [
      "Each nucleus trajectory is represented by a segment"
     ]
    },
    {
     "cell_type": "code",
     "collapsed": false,
     "input": [
      "## This means that we go over all the segments\n",
      "## contained in the cluster trajectories\n",
      "colors = cluster.trajs.get_colors()\n",
      "\n",
      "for label, segment in cluster.trajs.iter_segments:\n",
      "    print('Segment with label {} has {} time points and has color code {}'\n",
      "          .format(label, segment.shape[0], colors[label]))"
     ],
     "language": "python",
     "metadata": {},
     "outputs": []
    },
    {
     "cell_type": "heading",
     "level": 1,
     "metadata": {},
     "source": [
      "2. Basic ploting functionalities"
     ]
    },
    {
     "cell_type": "heading",
     "level": 2,
     "metadata": {},
     "source": [
      "2.1 Plot the coordinates versus time"
     ]
    },
    {
     "cell_type": "code",
     "collapsed": false,
     "input": [
      "axes = draw.plot_stacked_coords(cluster.trajs, coords=['x', 'y', 'z'])"
     ],
     "language": "python",
     "metadata": {},
     "outputs": []
    },
    {
     "cell_type": "markdown",
     "metadata": {},
     "source": [
      "It is also possible to access a single segment"
     ]
    },
    {
     "cell_type": "heading",
     "level": 2,
     "metadata": {},
     "source": [
      "2.2 Plot a single segment (x versus y)"
     ]
    },
    {
     "cell_type": "code",
     "collapsed": false,
     "input": [
      "segments = cluster.trajs.get_segments() \n",
      "### We access a segment by giving it's label\n",
      "seg0 = segments[2]\n",
      "\n",
      "fig, ax = plt.subplots()\n",
      "ax.plot(seg0.x, seg0.y, 'k-');\n",
      "ax.set_xlabel('x position')\n",
      "ax.set_xlabel('y position')"
     ],
     "language": "python",
     "metadata": {},
     "outputs": []
    },
    {
     "cell_type": "heading",
     "level": 2,
     "metadata": {},
     "source": [
      "2.3 Positions against time relative to the cluster center"
     ]
    },
    {
     "cell_type": "markdown",
     "metadata": {},
     "source": [
      "When we computed the center position, we created new columns in the data\n",
      "the position of the center is given by `x_c, y_c, z_c`, and the positions\n",
      "of the nuclei relative to the center by `x_r, y_r, z_r`."
     ]
    },
    {
     "cell_type": "code",
     "collapsed": false,
     "input": [
      "axes = draw.plot_stacked_coords(cluster.trajs,\n",
      "                                coords=['x_r', 'y_r', 'z_r'])"
     ],
     "language": "python",
     "metadata": {},
     "outputs": []
    },
    {
     "cell_type": "heading",
     "level": 2,
     "metadata": {},
     "source": [
      "2.4 Positions in 3D (absolute positions)"
     ]
    },
    {
     "cell_type": "heading",
     "level": 4,
     "metadata": {},
     "source": [
      "All in the same graph"
     ]
    },
    {
     "cell_type": "code",
     "collapsed": false,
     "input": [
      "\n",
      "### The coordinates to plot\n",
      "coords=['x', 'y', 'z']\n",
      "\n",
      "### Get the colors of the different trajectories\n",
      "colors = cluster.trajs.get_colors()\n",
      "\n",
      "### Get all the segments\n",
      "segments = cluster.trajs.get_segments()\n",
      "\n",
      "### The code below puts a all the trajectories on the same graph\n",
      "axes, ax_3d = None, None\n",
      "for label in cluster.trajs.labels:\n",
      "    segment = segments[label]\n",
      "    scatter_kw = {'c':segment.t.astype(np.float),\n",
      "                  'cmap':'spectral',\n",
      "                  's':40,\n",
      "                  'alpha':0.8,\n",
      "                  'edgecolors':'none'}\n",
      "    line_kw = {'c':'gray',#tracker.label_colors[label],\n",
      "               'ls':'-',\n",
      "               'alpha':0.8, 'lw':0.75}\n",
      "\n",
      "    axes, ax_3d = draw.show_4panels(cluster.trajs, label,\n",
      "                                    axes=axes, ax_3d=ax_3d,\n",
      "                                    scatter_kw=scatter_kw,\n",
      "                                    line_kw=line_kw,\n",
      "                                    coords=coords)\n"
     ],
     "language": "python",
     "metadata": {},
     "outputs": []
    },
    {
     "cell_type": "heading",
     "level": 4,
     "metadata": {},
     "source": [
      "A single nucleus"
     ]
    },
    {
     "cell_type": "code",
     "collapsed": false,
     "input": [
      "### Choose the label\n",
      "label = 4\n",
      "\n",
      "### The coordinates to plot\n",
      "coords=['x', 'y', 'z']\n",
      "\n",
      "\n",
      "segment = segments[label]\n",
      "scatter_kw = {'c':segment.t.astype(np.float),\n",
      "              'cmap':'spectral',\n",
      "              's':40,\n",
      "              'alpha':0.8,\n",
      "              'edgecolors':'none'}\n",
      "line_kw = {'c':'gray',#tracker.label_colors[label],\n",
      "           'ls':'-',\n",
      "           'alpha':0.8, 'lw':0.75}\n",
      "\n",
      "\n",
      "axes, ax_3d = draw.show_4panels(cluster.trajs, label,\n",
      "                                axes=None, ax_3d=None,\n",
      "                                scatter_kw=scatter_kw,\n",
      "                                line_kw=line_kw,\n",
      "                                coords=coords)\n"
     ],
     "language": "python",
     "metadata": {},
     "outputs": []
    },
    {
     "cell_type": "heading",
     "level": 2,
     "metadata": {},
     "source": [
      "2.5 Positions in 3D relative to cluster center"
     ]
    },
    {
     "cell_type": "code",
     "collapsed": false,
     "input": [
      "### Choose the label\n",
      "label = 4\n",
      "\n",
      "### The coordinates to plot\n",
      "coords=['x_r', 'y_r', 'z_r']\n",
      "\n",
      "segment = segments[label]\n",
      "scatter_kw = {'c':segment.t.astype(np.float),\n",
      "              'cmap':'spectral',\n",
      "              's':40,\n",
      "              'alpha':0.8,\n",
      "              'edgecolors':'none'}\n",
      "line_kw = {'c':'gray',#tracker.label_colors[label],\n",
      "           'ls':'-',\n",
      "           'alpha':0.8, 'lw':0.75}\n",
      "\n",
      "\n",
      "axes, ax_3d = draw.show_4panels(cluster.trajs, label,\n",
      "                                axes=None, ax_3d=None,\n",
      "                                scatter_kw=scatter_kw,\n",
      "                                line_kw=line_kw,\n",
      "                                coords=coords)\n"
     ],
     "language": "python",
     "metadata": {},
     "outputs": []
    },
    {
     "cell_type": "heading",
     "level": 2,
     "metadata": {},
     "source": [
      "2.6 Polar histogram"
     ]
    },
    {
     "cell_type": "code",
     "collapsed": false,
     "input": [
      "ax = ct.graphics.polar_histogram(cluster, ax=None, alpha=0.5)"
     ],
     "language": "python",
     "metadata": {},
     "outputs": []
    },
    {
     "cell_type": "heading",
     "level": 1,
     "metadata": {},
     "source": [
      "3. Ellipses and rotation detection"
     ]
    },
    {
     "cell_type": "heading",
     "level": 2,
     "metadata": {},
     "source": [
      "3.1 Fit ellipses of different sizes over the trajectories"
     ]
    },
    {
     "cell_type": "heading",
     "level": 4,
     "metadata": {},
     "source": [
      "Define the sizes"
     ]
    },
    {
     "cell_type": "markdown",
     "metadata": {},
     "source": [
      "The sizes of the fitting windows are given in minutes"
     ]
    },
    {
     "cell_type": "code",
     "collapsed": false,
     "input": [
      "sizes = np.arange(24, 66, 12)"
     ],
     "language": "python",
     "metadata": {},
     "outputs": []
    },
    {
     "cell_type": "heading",
     "level": 4,
     "metadata": {},
     "source": [
      "Do the computation"
     ]
    },
    {
     "cell_type": "code",
     "collapsed": false,
     "input": [
      "detection_method = 'polar' ### This must be 'polar' or 'cartesian'\n",
      "\n",
      "### Fits ellipses and detect rotations\n",
      "### This might take some time\n",
      "for size in sizes:\n",
      "    print('Computing for a window of {} min'.format(size))\n",
      "    cluster.compute_ellipticity(size, method='polar')"
     ],
     "language": "python",
     "metadata": {},
     "outputs": []
    },
    {
     "cell_type": "heading",
     "level": 2,
     "metadata": {},
     "source": [
      "3.2 Rotation detection"
     ]
    },
    {
     "cell_type": "code",
     "collapsed": false,
     "input": [
      "display.SVG('ellipsis_detection.svg')"
     ],
     "language": "python",
     "metadata": {},
     "outputs": []
    },
    {
     "cell_type": "heading",
     "level": 3,
     "metadata": {},
     "source": [
      "3.2.1 Setting rotation detection cutoffs"
     ]
    },
    {
     "cell_type": "code",
     "collapsed": false,
     "input": [
      "### You can change the name of the file bellow if you're using other cutoffs\n",
      "settings_json = 'ellipsis_cutoffs.json'\n",
      "\n",
      "setter_widget = ct.ui.ipy_widgets.set_ellipsis_limits(jsonfile=settings_json)\n",
      "ellipsis_cutoffs = setter_widget.settings\n",
      "display.display(setter_widget)"
     ],
     "language": "python",
     "metadata": {},
     "outputs": []
    },
    {
     "cell_type": "heading",
     "level": 3,
     "metadata": {},
     "source": [
      "3.2.2 Detection (redo if you change the cutoffs)"
     ]
    },
    {
     "cell_type": "code",
     "collapsed": false,
     "input": [
      "cluster.detect_rotations(ellipsis_cutoffs, sizes, method='binary')"
     ],
     "language": "python",
     "metadata": {},
     "outputs": []
    },
    {
     "cell_type": "heading",
     "level": 3,
     "metadata": {},
     "source": [
      "3.2.3 Plot rotation events"
     ]
    },
    {
     "cell_type": "code",
     "collapsed": false,
     "input": [
      "#ct.graphics.show_ellipses_clusters(cluster, sizes, ellipsis_cutoffs)\n",
      "ax, total_rot, n_detected = ct.graphics.plot_rotation_events(cluster, ax=None,\n",
      "                                                             show_segments=True)"
     ],
     "language": "python",
     "metadata": {},
     "outputs": []
    },
    {
     "cell_type": "heading",
     "level": 3,
     "metadata": {},
     "source": [
      "3.2.4  Save the rotation index to a `csv` file"
     ]
    },
    {
     "cell_type": "code",
     "collapsed": false,
     "input": [
      "csv_fname = cluster.oio.store_path.replace('.h5', '_rotation_index.csv')\n",
      "total_rot.to_csv(csv_fname)\n",
      "print('Rotation index saved to {}'.format(csv_fname))"
     ],
     "language": "python",
     "metadata": {},
     "outputs": []
    },
    {
     "cell_type": "heading",
     "level": 3,
     "metadata": {},
     "source": [
      "3.2.3 Basic stats on the rotation index"
     ]
    },
    {
     "cell_type": "code",
     "collapsed": false,
     "input": [
      "### If you want to compute the rotation index average between\n",
      "### two stacks, set here the number of the first and last ones\n",
      "start_frame = 1\n",
      "end_frame = 7\n",
      "\n",
      "print('Average value of the rotation index between frame {} and {}:'.format(start_frame, end_frame))\n",
      "print('\\t {0:.3f}'.format(total_rot.loc[start_frame: end_frame].mean()))\n",
      "\n",
      "print('Global average of the rotation index: ')\n",
      "print('\\t {0:.3f}'.format(total_rot.mean()))"
     ],
     "language": "python",
     "metadata": {},
     "outputs": []
    },
    {
     "cell_type": "heading",
     "level": 2,
     "metadata": {},
     "source": [
      "3.3 Four panels views of the trajectories and the detected ellipses"
     ]
    },
    {
     "cell_type": "heading",
     "level": 4,
     "metadata": {},
     "source": [
      "Single segment"
     ]
    },
    {
     "cell_type": "code",
     "collapsed": false,
     "input": [
      "cluster.trajs.get_colors()"
     ],
     "language": "python",
     "metadata": {},
     "outputs": []
    },
    {
     "cell_type": "code",
     "collapsed": false,
     "input": [
      "### Get segments and their colors \n",
      "colors = cluster.trajs.get_colors()\n",
      "segments = cluster.trajs.get_segments()\n",
      "\n",
      "### Choose the label\n",
      "label = 3\n",
      "\n",
      "\n",
      "### Grab the corresponding segment\n",
      "segment = segments[label]\n",
      "\n",
      "## Paramters for the scatter plot (the bullets) \n",
      "scatter_kw = {'c':segment.t.astype(np.float),\n",
      "              'cmap':'spectral',\n",
      "              's':40,\n",
      "              'alpha':0.8,\n",
      "              'edgecolors':'none'}\n",
      "\n",
      "## Paramters for the line plot \n",
      "line_kw = {'c': 'gray',\n",
      "           'ls': '-',\n",
      "           'alpha': 0.8,\n",
      "           'lw': 0.75}\n",
      "\n",
      "## Parameters for the ellipses\n",
      "ellipsis_kw = {'c':'k', 'alpha':1., 'lw':0.2}\n",
      "\n",
      "axes, ax_3d = ct.graphics.show_4panel_ellipses(cluster,\n",
      "                                               label,\n",
      "                                               sizes,\n",
      "                                               ellipsis_cutoffs,\n",
      "                                               method=detection_method,\n",
      "                                               scatter_kw=scatter_kw,\n",
      "                                               line_kw=line_kw,\n",
      "                                               ellipsis_kw=ellipsis_kw,\n",
      "                                               axes=None, ax_3d=None)\n"
     ],
     "language": "python",
     "metadata": {},
     "outputs": []
    },
    {
     "cell_type": "code",
     "collapsed": false,
     "input": [
      "sizes, cluster.ellipses.keys()"
     ],
     "language": "python",
     "metadata": {},
     "outputs": []
    },
    {
     "cell_type": "code",
     "collapsed": false,
     "input": [
      "import logging\n",
      "log = logging.getLogger('cell_tracker.graphics')\n",
      "log.setLevel(logging.DEBUG)"
     ],
     "language": "python",
     "metadata": {},
     "outputs": []
    },
    {
     "cell_type": "code",
     "collapsed": false,
     "input": [
      "axes[0,0].lines"
     ],
     "language": "python",
     "metadata": {},
     "outputs": []
    },
    {
     "cell_type": "heading",
     "level": 4,
     "metadata": {},
     "source": [
      "All the segments at once"
     ]
    },
    {
     "cell_type": "code",
     "collapsed": false,
     "input": [
      "axes, ax_3d = None, None\n",
      "\n",
      "### Get segments and their colors \n",
      "colors = cluster.trajs.get_colors()\n",
      "segments = cluster.trajs.get_segments()\n",
      "\n",
      "### Choose the label\n",
      "label = 4\n",
      "\n",
      "for label in cluster.trajs.labels:\n",
      "\n",
      "    ### Grab the corresponding segment\n",
      "    segment = segments[label]\n",
      "\n",
      "\n",
      "    ## Paramters for the scatter plot (the bullets) \n",
      "    scatter_kw = {'c':segment.t.astype(np.float),\n",
      "                  'cmap':'spectral',\n",
      "                  's':40,\n",
      "                  'alpha':0.8,\n",
      "                  'edgecolors':'none'}\n",
      "\n",
      "    ## Paramters for the line plot \n",
      "    line_kw = {'c': 'gray',\n",
      "               'ls': '-',\n",
      "               'alpha': 0.8,\n",
      "               'lw': 0.75}\n",
      "\n",
      "    ## Parameters for the ellipses\n",
      "    ellipsis_kw = {'c':'r', 'alpha':0.5, 'lw':1}\n",
      "\n",
      "    axes, ax_3d = ct.graphics.show_4panel_ellipses(cluster,\n",
      "                                                   label,\n",
      "                                                   sizes,\n",
      "                                                   ellipsis_cutoffs,\n",
      "                                                   scatter_kw=scatter_kw,\n",
      "                                                   line_kw=line_kw,\n",
      "                                                   ellipsis_kw=ellipsis_kw,\n",
      "                                                   axes=axes, ax_3d=ax_3d)\n"
     ],
     "language": "python",
     "metadata": {},
     "outputs": []
    },
    {
     "cell_type": "heading",
     "level": 1,
     "metadata": {},
     "source": [
      "4. Translation detection\n"
     ]
    },
    {
     "cell_type": "heading",
     "level": 2,
     "metadata": {},
     "source": [
      "4.1 Definitions"
     ]
    },
    {
     "cell_type": "markdown",
     "metadata": {},
     "source": [
      "### Position\n",
      "Let $P(t) = \\left(x(t), y(t), z(t)\\right)$ be the position in space of a nuclei at time $t$\n",
      "\n",
      "### Apparent displacement\n",
      "\n",
      "We note $d(t, t+w)$ the **apparent displacement** between two time points, that is the distance between those two points, independently of the movement between them:\n",
      "\n",
      "$$\n",
      "d(t, t+w) = ||P(t+w) - P(t)||\n",
      "$$\n",
      "\n",
      "\n",
      "### Cumulated displacement\n",
      "\n",
      "For each nuclei, the **cumulated displacement**, between time $t$ and time $t + w$  noted $D(t, t+w)$ is the total distance traveled by a nucleus between $t$ and $t+w$.  It is the sum of the individual displacements between every time point and the next:\n",
      "\n",
      "$$\n",
      "D(t, t+w) = \\sum_{i=t+1}^{t+w} ||P(i) - P(i - 1)||\n",
      "$$\n",
      "\n",
      "### Processivity\n",
      "\n",
      "We call processivity the ratio of the apparent displacement with the cumulated displacement for a given window $w$:\n",
      "$$\n",
      "\\Pi(t, t+w) = d(t, t+w) / D(t, t+w)\n",
      "$$\n",
      "\n",
      "\n",
      "### Directionality\n",
      "\n",
      "The $x$ axis is defined as the principal axis of the displacement (defined by a principal component analysis computed on the original 3D positions for the whole trajectory).\n",
      "\n",
      "We define **directionality** as the ratio between the difference of position on the principal axis $x$ and the apparent displacement:\n",
      "\n",
      "$$\n",
      "\\mbox{dir}(t, t+w) = \\frac{x(t+w) - x(t)}{d(t, t+w)}\n",
      "$$\n",
      "\n",
      "### Cumulated directionality\n",
      "\n",
      "In this measure, instead of dividing the displacement along $x$ by the apparent displacement, we devide it by the cumulated displacement:\n",
      "\n",
      "$$\n",
      "\\mbox{dir}_c(t, t+w) = \\frac{x(t+w) - x(t)}{D(t, t+w)}\n",
      "$$\n",
      "\n"
     ]
    },
    {
     "cell_type": "heading",
     "level": 3,
     "metadata": {},
     "source": [
      "4.1.2 Do the computations"
     ]
    },
    {
     "cell_type": "code",
     "collapsed": false,
     "input": [
      "### Some initialisations\n",
      "cluster.do_pca()\n",
      "measures = {}"
     ],
     "language": "python",
     "metadata": {},
     "outputs": []
    },
    {
     "cell_type": "heading",
     "level": 4,
     "metadata": {},
     "source": [
      "For a window of a given size"
     ]
    },
    {
     "cell_type": "code",
     "collapsed": false,
     "input": [
      "### Set here the width of the window (in number of frames)\n",
      "window = 6\n",
      "\n",
      "\n",
      "processivity = ct.translation.processivity(cluster, window)\n",
      "directionality = ct.translation.directionality(cluster, window)\n",
      "cum_dir = ct.translation.cumulative_directionality(cluster, window)\n",
      "\n",
      "measures[('processivity', window)] = processivity\n",
      "measures[('directionality', window)] = directionality\n",
      "measures[('cumulated directionality', window)] = cum_dir"
     ],
     "language": "python",
     "metadata": {},
     "outputs": []
    },
    {
     "cell_type": "heading",
     "level": 4,
     "metadata": {},
     "source": [
      "Plotting the resulting curves"
     ]
    },
    {
     "cell_type": "code",
     "collapsed": false,
     "input": [
      "colors = {'processivity': 'r',\n",
      "          'directionality': 'b',\n",
      "          'cumulated directionality': 'g'}\n",
      "\n",
      "fig, ax = plt.subplots()\n",
      "for (name, w), measure in measures.items():\n",
      "    if w != window:\n",
      "        continue\n",
      "    label = '{} for a {} minutes window'.format(name, w * cluster.metadata['TimeIncrement'])\n",
      "    ct.graphics.show_measure(cluster, measure, ax=ax,\n",
      "                             errorbar=False,\n",
      "                             show_segments=False,\n",
      "                             c=colors[name],\n",
      "                             label=label, lw=2, alpha=0.6)\n",
      "ax.set_ylim(0, 1);\n",
      "ax.legend(loc='lower_left')\n"
     ],
     "language": "python",
     "metadata": {},
     "outputs": []
    },
    {
     "cell_type": "heading",
     "level": 4,
     "metadata": {},
     "source": [
      "Statistics"
     ]
    },
    {
     "cell_type": "code",
     "collapsed": false,
     "input": [
      "### If you want to compute the rotation index average between\n",
      "### two stacks, set here the number of the first and last ones\n",
      "start_frame = 1\n",
      "end_frame = 7\n",
      "\n",
      "for (name, w), measure in measures.items():\n",
      "    if w!= window:\n",
      "        continue\n",
      "    win_size = w * cluster.metadata['TimeIncrement']\n",
      "    print('Average value of {} between frame {} and {} for a {} minutes window:'\n",
      "          .format(name, start_frame, end_frame, win_size))\n",
      "    print('\\t {0:.3f}'.format(measure.data.loc[start_frame: end_frame].mean()))\n",
      "\n",
      "    print('Global average of {} for a {} minutes window: '.format(name, win_size))\n",
      "    print('\\t {0:.3f}'.format(measure.data.mean()))"
     ],
     "language": "python",
     "metadata": {},
     "outputs": []
    },
    {
     "cell_type": "heading",
     "level": 4,
     "metadata": {},
     "source": [
      "Automated computation for a range of window sizes"
     ]
    },
    {
     "cell_type": "code",
     "collapsed": false,
     "input": [
      "windows = [3, 4, 5, 6, 7]\n",
      "for window in windows:\n",
      "    processivity = ct.translation.processivity(cluster, window)\n",
      "    directionality = ct.translation.directionality(cluster, window)\n",
      "    cum_dir = ct.translation.cumulative_directionality(cluster, window)\n",
      "\n",
      "    measures[('processivity', window)] = processivity\n",
      "    measures[('directionality', window)] = directionality\n",
      "    measures[('cumulated directionality', window)] = cum_dir\n",
      "    "
     ],
     "language": "python",
     "metadata": {},
     "outputs": []
    },
    {
     "cell_type": "heading",
     "level": 4,
     "metadata": {},
     "source": [
      "Save the average data for each window to a `csv` file"
     ]
    },
    {
     "cell_type": "code",
     "collapsed": false,
     "input": [
      "measures_df = pd.DataFrame.from_dict({key: meas.data.mean(level='t_stamp') for key, meas in measures.items()})\n",
      "csv_name = cluster.oio.store_path.replace('.h5', 'translation_measures.csv')\n",
      "measures_df.to_csv(csv_name)\n",
      "print('Saved measures to ', csv_name)"
     ],
     "language": "python",
     "metadata": {},
     "outputs": []
    },
    {
     "cell_type": "heading",
     "level": 3,
     "metadata": {},
     "source": [
      "4.1.4 Mean Square Displacement"
     ]
    },
    {
     "cell_type": "markdown",
     "metadata": {},
     "source": [
      "The mean square displacement for a time difference $\\Delta t$ is computed as the squared distance between the position of the particle at time $t$ and its position at time $t + \\Delta t$ averaged over each successive time $t$:\n",
      "\n",
      "\n",
      "$$\n",
      "\\begin{aligned}\n",
      "\\mbox{MSD}(\\Delta t) &=  \\frac{\\sum_0^{T - \\Delta t} \\left(\\mathbf{r}(t + \\Delta t)  - \\mathbf{r}(t) \\right)^2}{(T - \\Delta t) / \\delta t}\n",
      "\\end{aligned}\n",
      "$$"
     ]
    },
    {
     "cell_type": "code",
     "collapsed": false,
     "input": [
      "MSD = ct.translation.get_MSD(cluster)"
     ],
     "language": "python",
     "metadata": {},
     "outputs": []
    },
    {
     "cell_type": "code",
     "collapsed": false,
     "input": [
      "fig, ax = plt.subplots()\n",
      "ax.set_title('Mean Square Displacement')\n",
      "ax.set_xlabel('Time (minutes)')\n",
      "ax.set_ylabel('MSD (\u00b5m\u00b2)')\n",
      "\n",
      "for label in cluster.trajs.labels:\n",
      "        seg_msd = MSD.xs(label, level='label')\n",
      "        ax.errorbar(seg_msd.Dt, seg_msd.MSD, yerr= seg_msd.MSD_std, alpha=0.4) \n",
      "\n",
      "ax.errorbar(MSD.Dt.mean(level='Dt_stamp'),\n",
      "            MSD.MSD.mean(level='Dt_stamp'), \n",
      "            yerr=MSD.MSD_std.mean(level='Dt_stamp'), fmt='k-', lw=2);"
     ],
     "language": "python",
     "metadata": {},
     "outputs": []
    },
    {
     "cell_type": "heading",
     "level": 4,
     "metadata": {},
     "source": [
      "Exponent of the MSD function"
     ]
    },
    {
     "cell_type": "markdown",
     "metadata": {},
     "source": [
      "For a purely linear movement, the mean square displacement is growing like $\\Delta t^2$, wheras for a purely random walk or Brownian motion, it is growing _linearly_ with time (and the slope of the linear function is proportional to the diffusion coefficient).\n",
      "\n",
      "Here we compute the exponent $\\alpha$ of the MSD function: $\\textrm{MSD}(\\Delta t) = \\Delta t^\\alpha$.\n",
      "\n",
      "It will be 2 for a purely processive motion, and 1 for a purely Brownian motion."
     ]
    },
    {
     "cell_type": "code",
     "collapsed": false,
     "input": [
      "log_t = np.log(MSD.Dt.mean(level='Dt_stamp'))\n",
      "log_msd = np.log(MSD.MSD.mean(level='Dt_stamp'))\n",
      "\n",
      "ps = np.polyfit(log_t[1:10], log_msd[1:10], deg=1,\n",
      "                w=1/MSD.Dt.mean(level='Dt_stamp').iloc[1:10])\n",
      "\n",
      "print('Estimated exponent of the mean square displacement:')\n",
      "print('\\t {0:.3f}'.format(ps[0]))\n"
     ],
     "language": "python",
     "metadata": {},
     "outputs": []
    },
    {
     "cell_type": "code",
     "collapsed": false,
     "input": [
      "cluster.save_trajs()\n"
     ],
     "language": "python",
     "metadata": {},
     "outputs": []
    },
    {
     "cell_type": "code",
     "collapsed": false,
     "input": [],
     "language": "python",
     "metadata": {},
     "outputs": []
    }
   ],
   "metadata": {}
  }
 ]
}