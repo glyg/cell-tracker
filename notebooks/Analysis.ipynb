{
 "metadata": {
  "name": "",
  "signature": "sha256:f0a28319a5b39bab6bd7393dbe937eb9e69efea252a286362bb1e1558498c39b"
 },
 "nbformat": 3,
 "nbformat_minor": 0,
 "worksheets": [
  {
   "cells": [
    {
     "cell_type": "code",
     "collapsed": false,
     "input": [
      "%load_ext autoreload\n",
      "%autoreload 2\n",
      "%matplotlib\n",
      "\n",
      "%run nb_init.py"
     ],
     "language": "python",
     "metadata": {},
     "outputs": [
      {
       "output_type": "stream",
       "stream": "stdout",
       "text": [
        "Using matplotlib backend: Qt4Agg\n"
       ]
      }
     ],
     "prompt_number": 1
    },
    {
     "cell_type": "heading",
     "level": 2,
     "metadata": {},
     "source": [
      "Pick the directory and get the relevant data"
     ]
    },
    {
     "cell_type": "markdown",
     "metadata": {},
     "source": [
      "It will only work if the movi has allready been analysed"
     ]
    },
    {
     "cell_type": "code",
     "collapsed": false,
     "input": [
      "cluster = ct.ui.get_from_excel('/media/data/xiaobo')"
     ],
     "language": "python",
     "metadata": {},
     "outputs": [
      {
       "output_type": "stream",
       "stream": "stdout",
       "text": [
        "No data loaded\n"
       ]
      }
     ],
     "prompt_number": 2
    },
    {
     "cell_type": "code",
     "collapsed": false,
     "input": [
      "default_path = '/media/data/xiaobo'\n",
      "\n",
      "cluster = ct.ui.get_cluster(default_path)"
     ],
     "language": "python",
     "metadata": {},
     "outputs": [
      {
       "output_type": "stream",
       "stream": "stdout",
       "text": [
        "Choosen data path: /media/data/xiaobo/confocal2/JNK inhib Ionomycin/DsRED\n"
       ]
      }
     ],
     "prompt_number": 2
    },
    {
     "cell_type": "heading",
     "level": 3,
     "metadata": {},
     "source": [
      "Run the analyses"
     ]
    },
    {
     "cell_type": "code",
     "collapsed": false,
     "input": [
      "cluster.center.head()"
     ],
     "language": "python",
     "metadata": {},
     "outputs": [
      {
       "html": [
        "<div style=\"max-height:1000px;max-width:1500px;overflow:auto;\">\n",
        "<table border=\"1\" class=\"dataframe\">\n",
        "  <thead>\n",
        "    <tr style=\"text-align: right;\">\n",
        "      <th></th>\n",
        "      <th>t</th>\n",
        "      <th>x</th>\n",
        "      <th>v_x</th>\n",
        "      <th>a_x</th>\n",
        "      <th>y</th>\n",
        "      <th>v_y</th>\n",
        "      <th>a_y</th>\n",
        "      <th>z</th>\n",
        "      <th>v_z</th>\n",
        "      <th>a_z</th>\n",
        "    </tr>\n",
        "    <tr>\n",
        "      <th>t_stamp</th>\n",
        "      <th></th>\n",
        "      <th></th>\n",
        "      <th></th>\n",
        "      <th></th>\n",
        "      <th></th>\n",
        "      <th></th>\n",
        "      <th></th>\n",
        "      <th></th>\n",
        "      <th></th>\n",
        "      <th></th>\n",
        "    </tr>\n",
        "  </thead>\n",
        "  <tbody>\n",
        "    <tr>\n",
        "      <th>0</th>\n",
        "      <td> 34.5</td>\n",
        "      <td> 86.612782</td>\n",
        "      <td> 0.062093</td>\n",
        "      <td> 0.064996</td>\n",
        "      <td> 101.007630</td>\n",
        "      <td> 0.336293</td>\n",
        "      <td>-0.020013</td>\n",
        "      <td> 26.181641</td>\n",
        "      <td>-0.019555</td>\n",
        "      <td> 0.000851</td>\n",
        "    </tr>\n",
        "    <tr>\n",
        "      <th>1</th>\n",
        "      <td> 37.5</td>\n",
        "      <td> 87.045901</td>\n",
        "      <td> 0.211440</td>\n",
        "      <td> 0.034569</td>\n",
        "      <td> 101.971822</td>\n",
        "      <td> 0.321624</td>\n",
        "      <td> 0.010233</td>\n",
        "      <td> 26.103676</td>\n",
        "      <td>-0.040133</td>\n",
        "      <td>-0.014570</td>\n",
        "    </tr>\n",
        "    <tr>\n",
        "      <th>2</th>\n",
        "      <td> 40.5</td>\n",
        "      <td> 87.790144</td>\n",
        "      <td> 0.269508</td>\n",
        "      <td> 0.004143</td>\n",
        "      <td> 103.028109</td>\n",
        "      <td> 0.397690</td>\n",
        "      <td> 0.040478</td>\n",
        "      <td> 25.894582</td>\n",
        "      <td>-0.106974</td>\n",
        "      <td>-0.029991</td>\n",
        "    </tr>\n",
        "    <tr>\n",
        "      <th>3</th>\n",
        "      <td> 43.5</td>\n",
        "      <td> 88.571672</td>\n",
        "      <td> 0.236297</td>\n",
        "      <td>-0.026284</td>\n",
        "      <td> 104.309602</td>\n",
        "      <td> 0.425395</td>\n",
        "      <td>-0.022009</td>\n",
        "      <td> 25.566505</td>\n",
        "      <td>-0.069141</td>\n",
        "      <td> 0.055213</td>\n",
        "    </tr>\n",
        "    <tr>\n",
        "      <th>4</th>\n",
        "      <td> 46.5</td>\n",
        "      <td> 89.203324</td>\n",
        "      <td> 0.198483</td>\n",
        "      <td> 0.001075</td>\n",
        "      <td> 105.393018</td>\n",
        "      <td> 0.265639</td>\n",
        "      <td>-0.084495</td>\n",
        "      <td> 25.457103</td>\n",
        "      <td>-0.053939</td>\n",
        "      <td>-0.045079</td>\n",
        "    </tr>\n",
        "  </tbody>\n",
        "</table>\n",
        "<p>5 rows \u00d7 10 columns</p>\n",
        "</div>"
       ],
       "metadata": {},
       "output_type": "pyout",
       "prompt_number": 23,
       "text": [
        "            t          x       v_x       a_x           y       v_y       a_y  \\\n",
        "t_stamp                                                                        \n",
        "0        34.5  86.612782  0.062093  0.064996  101.007630  0.336293 -0.020013   \n",
        "1        37.5  87.045901  0.211440  0.034569  101.971822  0.321624  0.010233   \n",
        "2        40.5  87.790144  0.269508  0.004143  103.028109  0.397690  0.040478   \n",
        "3        43.5  88.571672  0.236297 -0.026284  104.309602  0.425395 -0.022009   \n",
        "4        46.5  89.203324  0.198483  0.001075  105.393018  0.265639 -0.084495   \n",
        "\n",
        "                 z       v_z       a_z  \n",
        "t_stamp                                 \n",
        "0        26.181641 -0.019555  0.000851  \n",
        "1        26.103676 -0.040133 -0.014570  \n",
        "2        25.894582 -0.106974 -0.029991  \n",
        "3        25.566505 -0.069141  0.055213  \n",
        "4        25.457103 -0.053939 -0.045079  \n",
        "\n",
        "[5 rows x 10 columns]"
       ]
      }
     ],
     "prompt_number": 23
    },
    {
     "cell_type": "code",
     "collapsed": false,
     "input": [
      "### Computes the postition of the cluster center\n",
      "cluster.get_center(smooth=3)\n",
      "\n",
      "### Get the value of the angle w/r to the cluster center\n",
      "cluster.cumulative_angle()\n",
      "\n"
     ],
     "language": "python",
     "metadata": {},
     "outputs": [],
     "prompt_number": 24
    },
    {
     "cell_type": "code",
     "collapsed": false,
     "input": [
      "%pdb"
     ],
     "language": "python",
     "metadata": {},
     "outputs": [
      {
       "output_type": "stream",
       "stream": "stdout",
       "text": [
        "Automatic pdb calling has been turned ON\n"
       ]
      }
     ],
     "prompt_number": 20
    },
    {
     "cell_type": "code",
     "collapsed": false,
     "input": [
      "### Fits ellipses and detect rotations\n",
      "sizes = [8, 12, 16, 24, 28, 32]\n",
      "for size in sizes:\n",
      "    print(size)\n",
      "    cluster.compute_ellipticity(size)\n"
     ],
     "language": "python",
     "metadata": {},
     "outputs": [
      {
       "output_type": "stream",
       "stream": "stdout",
       "text": [
        "8\n",
        "12"
       ]
      },
      {
       "output_type": "stream",
       "stream": "stdout",
       "text": [
        "\n",
        "16"
       ]
      },
      {
       "output_type": "stream",
       "stream": "stdout",
       "text": [
        "\n",
        "24"
       ]
      },
      {
       "output_type": "stream",
       "stream": "stdout",
       "text": [
        "\n",
        "28"
       ]
      },
      {
       "output_type": "stream",
       "stream": "stdout",
       "text": [
        "\n",
        "32"
       ]
      },
      {
       "output_type": "stream",
       "stream": "stdout",
       "text": [
        "\n"
       ]
      }
     ],
     "prompt_number": 47
    },
    {
     "cell_type": "heading",
     "level": 3,
     "metadata": {},
     "source": [
      "Polar histogram"
     ]
    },
    {
     "cell_type": "code",
     "collapsed": false,
     "input": [
      "os.path.sep"
     ],
     "language": "python",
     "metadata": {},
     "outputs": [
      {
       "metadata": {},
       "output_type": "pyout",
       "prompt_number": 37,
       "text": [
        "'/'"
       ]
      }
     ],
     "prompt_number": 37
    },
    {
     "cell_type": "code",
     "collapsed": false,
     "input": [
      "ax = ct.graphics.polar_histogram(cluster, ax=None, alpha=0.5)"
     ],
     "language": "python",
     "metadata": {},
     "outputs": [],
     "prompt_number": 7
    },
    {
     "cell_type": "heading",
     "level": 3,
     "metadata": {},
     "source": [
      "Detect rotations"
     ]
    },
    {
     "cell_type": "code",
     "collapsed": false,
     "input": [
      "ellipsis_cutoffs = {'min_dtheta': np.pi / 4,\n",
      "                    'max_dtheta': 2 * np.pi,\n",
      "                    'min_radius': 3,\n",
      "                    'max_radius': 30,\n",
      "                    'max_ellipticity': 3,\n",
      "                    'min_gof': -1}"
     ],
     "language": "python",
     "metadata": {},
     "outputs": [],
     "prompt_number": 26
    },
    {
     "cell_type": "code",
     "collapsed": false,
     "input": [
      "%pdb"
     ],
     "language": "python",
     "metadata": {},
     "outputs": [
      {
       "output_type": "stream",
       "stream": "stdout",
       "text": [
        "Automatic pdb calling has been turned OFF\n"
       ]
      }
     ],
     "prompt_number": 60
    },
    {
     "cell_type": "code",
     "collapsed": false,
     "input": [
      "cluster.trajs.xs(4, level='t_stamp')"
     ],
     "language": "python",
     "metadata": {},
     "outputs": [
      {
       "html": [
        "<div style=\"max-height:1000px;max-width:1500px;overflow:auto;\">\n",
        "<table border=\"1\" class=\"dataframe\">\n",
        "  <thead>\n",
        "    <tr style=\"text-align: right;\">\n",
        "      <th></th>\n",
        "      <th>x</th>\n",
        "      <th>y</th>\n",
        "      <th>z</th>\n",
        "      <th>I</th>\n",
        "      <th>w</th>\n",
        "      <th>cluster_cells</th>\n",
        "      <th>t</th>\n",
        "      <th>x_c</th>\n",
        "      <th>y_c</th>\n",
        "      <th>z_c</th>\n",
        "      <th>x_r</th>\n",
        "      <th>y_r</th>\n",
        "      <th>z_r</th>\n",
        "      <th>x_c_pca</th>\n",
        "      <th>y_c_pca</th>\n",
        "      <th>z_c_pca</th>\n",
        "      <th>theta</th>\n",
        "      <th>rho</th>\n",
        "      <th>dtheta</th>\n",
        "      <th>x_r_pca</th>\n",
        "      <th></th>\n",
        "    </tr>\n",
        "    <tr>\n",
        "      <th>label</th>\n",
        "      <th></th>\n",
        "      <th></th>\n",
        "      <th></th>\n",
        "      <th></th>\n",
        "      <th></th>\n",
        "      <th></th>\n",
        "      <th></th>\n",
        "      <th></th>\n",
        "      <th></th>\n",
        "      <th></th>\n",
        "      <th></th>\n",
        "      <th></th>\n",
        "      <th></th>\n",
        "      <th></th>\n",
        "      <th></th>\n",
        "      <th></th>\n",
        "      <th></th>\n",
        "      <th></th>\n",
        "      <th></th>\n",
        "      <th></th>\n",
        "    </tr>\n",
        "  </thead>\n",
        "  <tbody>\n",
        "    <tr>\n",
        "      <th>0</th>\n",
        "      <td> 73.955922</td>\n",
        "      <td>  88.088217</td>\n",
        "      <td> 27.482138</td>\n",
        "      <td> 0.604695</td>\n",
        "      <td> 3.894694</td>\n",
        "      <td> 1</td>\n",
        "      <td> 12</td>\n",
        "      <td> 81.235694</td>\n",
        "      <td> 95.906469</td>\n",
        "      <td> 26.734678</td>\n",
        "      <td> -7.279772</td>\n",
        "      <td>-7.818253</td>\n",
        "      <td> 0.747459</td>\n",
        "      <td>-19.112045</td>\n",
        "      <td>-0.955982</td>\n",
        "      <td>-2.575075</td>\n",
        "      <td> 3.202220</td>\n",
        "      <td> 10.670563</td>\n",
        "      <td>-0.000254</td>\n",
        "      <td>-10.650958</td>\n",
        "      <td>...</td>\n",
        "    </tr>\n",
        "    <tr>\n",
        "      <th>1</th>\n",
        "      <td> 79.394196</td>\n",
        "      <td>  94.773275</td>\n",
        "      <td> 22.275677</td>\n",
        "      <td> 1.000000</td>\n",
        "      <td> 4.719248</td>\n",
        "      <td> 1</td>\n",
        "      <td> 12</td>\n",
        "      <td> 81.235694</td>\n",
        "      <td> 95.906469</td>\n",
        "      <td> 26.734678</td>\n",
        "      <td> -1.841499</td>\n",
        "      <td>-1.133195</td>\n",
        "      <td>-4.459002</td>\n",
        "      <td>-19.112045</td>\n",
        "      <td>-0.955982</td>\n",
        "      <td>-2.575075</td>\n",
        "      <td> 2.639995</td>\n",
        "      <td>  2.524263</td>\n",
        "      <td> 0.005012</td>\n",
        "      <td> -2.213313</td>\n",
        "      <td>...</td>\n",
        "    </tr>\n",
        "    <tr>\n",
        "      <th>2</th>\n",
        "      <td> 79.904382</td>\n",
        "      <td>  99.611312</td>\n",
        "      <td> 32.084287</td>\n",
        "      <td> 0.364933</td>\n",
        "      <td> 3.629432</td>\n",
        "      <td> 1</td>\n",
        "      <td> 12</td>\n",
        "      <td> 81.235694</td>\n",
        "      <td> 95.906469</td>\n",
        "      <td> 26.734678</td>\n",
        "      <td> -1.331312</td>\n",
        "      <td> 3.704842</td>\n",
        "      <td> 5.349609</td>\n",
        "      <td>-19.112045</td>\n",
        "      <td>-0.955982</td>\n",
        "      <td>-2.575075</td>\n",
        "      <td>-1.202537</td>\n",
        "      <td>  5.687713</td>\n",
        "      <td> 0.097512</td>\n",
        "      <td>  2.047533</td>\n",
        "      <td>...</td>\n",
        "    </tr>\n",
        "    <tr>\n",
        "      <th>4</th>\n",
        "      <td> 91.688276</td>\n",
        "      <td> 101.153074</td>\n",
        "      <td> 25.096612</td>\n",
        "      <td> 0.819610</td>\n",
        "      <td> 4.470690</td>\n",
        "      <td> 1</td>\n",
        "      <td> 12</td>\n",
        "      <td> 81.235694</td>\n",
        "      <td> 95.906469</td>\n",
        "      <td> 26.734678</td>\n",
        "      <td> 10.452582</td>\n",
        "      <td> 5.246605</td>\n",
        "      <td>-1.638067</td>\n",
        "      <td>-19.112045</td>\n",
        "      <td>-0.955982</td>\n",
        "      <td>-2.575075</td>\n",
        "      <td> 0.412943</td>\n",
        "      <td> 11.809390</td>\n",
        "      <td> 0.056750</td>\n",
        "      <td> 10.816738</td>\n",
        "      <td>...</td>\n",
        "    </tr>\n",
        "  </tbody>\n",
        "</table>\n",
        "<p>4 rows \u00d7 22 columns</p>\n",
        "</div>"
       ],
       "metadata": {},
       "output_type": "pyout",
       "prompt_number": 8,
       "text": [
        "               x           y          z         I         w  cluster_cells  \\\n",
        "label                                                                        \n",
        "0      73.955922   88.088217  27.482138  0.604695  3.894694              1   \n",
        "1      79.394196   94.773275  22.275677  1.000000  4.719248              1   \n",
        "2      79.904382   99.611312  32.084287  0.364933  3.629432              1   \n",
        "4      91.688276  101.153074  25.096612  0.819610  4.470690              1   \n",
        "\n",
        "        t        x_c        y_c        z_c        x_r       y_r       z_r  \\\n",
        "label                                                                       \n",
        "0      12  81.235694  95.906469  26.734678  -7.279772 -7.818253  0.747459   \n",
        "1      12  81.235694  95.906469  26.734678  -1.841499 -1.133195 -4.459002   \n",
        "2      12  81.235694  95.906469  26.734678  -1.331312  3.704842  5.349609   \n",
        "4      12  81.235694  95.906469  26.734678  10.452582  5.246605 -1.638067   \n",
        "\n",
        "         x_c_pca   y_c_pca   z_c_pca     theta        rho    dtheta  \\\n",
        "label                                                                 \n",
        "0     -19.112045 -0.955982 -2.575075  3.202220  10.670563 -0.000254   \n",
        "1     -19.112045 -0.955982 -2.575075  2.639995   2.524263  0.005012   \n",
        "2     -19.112045 -0.955982 -2.575075 -1.202537   5.687713  0.097512   \n",
        "4     -19.112045 -0.955982 -2.575075  0.412943  11.809390  0.056750   \n",
        "\n",
        "         x_r_pca      \n",
        "label                 \n",
        "0     -10.650958 ...  \n",
        "1      -2.213313 ...  \n",
        "2       2.047533 ...  \n",
        "4      10.816738 ...  \n",
        "\n",
        "[4 rows x 22 columns]"
       ]
      }
     ],
     "prompt_number": 8
    },
    {
     "cell_type": "heading",
     "level": 3,
     "metadata": {},
     "source": [
      "Rotation events"
     ]
    },
    {
     "cell_type": "code",
     "collapsed": false,
     "input": [
      "cluster.detect_rotations(ellipsis_cutoffs)\n",
      "ax, total_rot, n_detected = ct.graphics.plot_rotation_events(cluster, ax=None,\n",
      "                                                             show_segments=True)"
     ],
     "language": "python",
     "metadata": {},
     "outputs": [],
     "prompt_number": 71
    },
    {
     "cell_type": "code",
     "collapsed": false,
     "input": [
      "axes = draw.plot_stacked_coords(cluster.trajs, coords=['x_r', 'y_r', 'z_r'])"
     ],
     "language": "python",
     "metadata": {},
     "outputs": [],
     "prompt_number": 55
    },
    {
     "cell_type": "code",
     "collapsed": false,
     "input": [
      "for label, segment in cluster.trajs.iter_segments:\n",
      "    print(label, segment.shape)"
     ],
     "language": "python",
     "metadata": {},
     "outputs": [
      {
       "output_type": "stream",
       "stream": "stdout",
       "text": [
        "0 (61, 22)\n",
        "1 (5, 22)\n",
        "2 (57, 22)\n",
        "3 (42, 22)\n",
        "4 (6, 22)\n",
        "5 (40, 22)\n",
        "6 (38, 22)\n",
        "7 (6, 22)\n"
       ]
      }
     ],
     "prompt_number": 46
    },
    {
     "cell_type": "code",
     "collapsed": false,
     "input": [
      "sizes = [8, 12, 16, 24, 28, 32]"
     ],
     "language": "python",
     "metadata": {},
     "outputs": [],
     "prompt_number": 61
    },
    {
     "cell_type": "code",
     "collapsed": false,
     "input": [
      "axes, ax_3d = None, None\n",
      "colors = cluster.trajs.get_colors()\n",
      "coords = ['x', 'y', 'z']\n",
      "\n",
      "#for label in cluster.trajs.labels:\n",
      "axes, ax_3d = ct.graphics.show_4panel_ellipses(cluster, 3,\n",
      "                                               sizes,\n",
      "                                               ellipsis_cutoffs,\n",
      "                                               axes=axes, ax_3d=ax_3d)\n"
     ],
     "language": "python",
     "metadata": {},
     "outputs": [],
     "prompt_number": 72
    },
    {
     "cell_type": "code",
     "collapsed": false,
     "input": [
      "\n",
      "fig, ax = plt.subplots()\n",
      "for ell in cluster.ellipses.values():\n",
      "    ax.scatter(np.exp(ell.log_radius), ell.ellipticity, alpha=0.1)"
     ],
     "language": "python",
     "metadata": {},
     "outputs": [],
     "prompt_number": 69
    },
    {
     "cell_type": "code",
     "collapsed": false,
     "input": [
      "axes, ax_3d = None, None\n",
      "colors = cluster.trajs.get_colors()\n",
      "\n",
      "for label in [0, 2] : #cluster.trajs.labels:\n",
      "    segment = cluster.trajs.get_segments()[label]\n",
      "    scatter_kw = {'c':segment.t.astype(np.float),\n",
      "                  'cmap':'spectral',\n",
      "                  's':40,\n",
      "                  'alpha':0.8,\n",
      "                  'edgecolors':'none'}\n",
      "    line_kw = {'c':'gray',#tracker.label_colors[label],\n",
      "               'ls':'-',\n",
      "               'alpha':0.8, 'lw':0.75}\n",
      "    coords=['x_r', 'y_r', 'z_r']\n",
      "\n",
      "    axes, ax_3d = draw.show_4panels(cluster.trajs, label,\n",
      "                                    axes=axes, ax_3d=ax_3d,\n",
      "                                    scatter_kw=scatter_kw,\n",
      "                                    line_kw=line_kw,\n",
      "                                    coords=coords)\n"
     ],
     "language": "python",
     "metadata": {},
     "outputs": [],
     "prompt_number": 56
    },
    {
     "cell_type": "code",
     "collapsed": false,
     "input": [
      "def remove_shorts(trajs, min_length=3):\n",
      "    out_trajs = trajs.copy()\n",
      "    for lbl, segment in trajs.iter_segments:\n",
      "        if segment.shape[0] < min_length:\n",
      "            out_trajs = out_trajs.drop([lbl, ], level=1)\n",
      "\n",
      "    return Trajectories(out_trajs)"
     ],
     "language": "python",
     "metadata": {},
     "outputs": [],
     "prompt_number": 42
    },
    {
     "cell_type": "code",
     "collapsed": false,
     "input": [
      "cluster.trajs = remove_shorts(cluster.trajs, min_length=4)\n",
      "cluster.trajs = cluster.trajs.relabel_fromzero('label', inplace=True)"
     ],
     "language": "python",
     "metadata": {},
     "outputs": [],
     "prompt_number": 43
    },
    {
     "cell_type": "code",
     "collapsed": false,
     "input": [
      "### Plot the results\n",
      "axes = draw.plot_stacked_coords(cluster.trajs,\n",
      "                                text=False,\n",
      "                                alpha=0.5)\n",
      "title = axes[0].set_title('After correction')"
     ],
     "language": "python",
     "metadata": {},
     "outputs": [],
     "prompt_number": 54
    },
    {
     "cell_type": "code",
     "collapsed": false,
     "input": [],
     "language": "python",
     "metadata": {},
     "outputs": []
    }
   ],
   "metadata": {}
  }
 ]
}