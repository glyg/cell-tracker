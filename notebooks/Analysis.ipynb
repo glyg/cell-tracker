{
 "metadata": {
  "name": "",
  "signature": "sha256:bae36f4a05a26b3833dcbbd42db5e247c88563c1f9e467c0d33b3a122d3c7132"
 },
 "nbformat": 3,
 "nbformat_minor": 0,
 "worksheets": [
  {
   "cells": [
    {
     "cell_type": "heading",
     "level": 4,
     "metadata": {},
     "source": [
      "Initialize everything"
     ]
    },
    {
     "cell_type": "code",
     "collapsed": false,
     "input": [
      "### The library used for plotting\n",
      "%matplotlib qt4\n",
      "\n",
      "### This imports various dependencies module\n",
      "%run nb_init.py\n",
      "\n",
      "#### \n",
      "import cell_tracker as ct\n"
     ],
     "language": "python",
     "metadata": {},
     "outputs": [],
     "prompt_number": 1
    },
    {
     "cell_type": "heading",
     "level": 2,
     "metadata": {},
     "source": [
      "Pick the directory and get the relevant data"
     ]
    },
    {
     "cell_type": "markdown",
     "metadata": {},
     "source": [
      "Here you can pick either a TIFF or a `.h5` file or an excel file"
     ]
    },
    {
     "cell_type": "code",
     "collapsed": false,
     "input": [
      "default_path = ''\n",
      "\n",
      "cluster = ct.ui.get_cluster(default_path)"
     ],
     "language": "python",
     "metadata": {},
     "outputs": [
      {
       "output_type": "stream",
       "stream": "stdout",
       "text": [
        "Choosen data path: /home/guillaume/Projets/CellMigration/240812.xlsx\n"
       ]
      }
     ],
     "prompt_number": 2
    },
    {
     "cell_type": "code",
     "collapsed": false,
     "input": [
      "cluster.oio.metadata"
     ],
     "language": "python",
     "metadata": {},
     "outputs": [
      {
       "metadata": {},
       "output_type": "pyout",
       "prompt_number": 6,
       "text": [
        "{'PhysicalSizeZ': 1.5, 'Shape': (32, 7, 458, 406), 'PhysicalSizeX': 0.16125, 'PhysicalSizeY': 0.16125, 'SizeZ': 7, 'FileName': '/home/guillaume/Projets/CellMigration/20130724-240812WT', 'SizeX': 406, 'TimeIncrement': 3.0, 'SizeT': 32, 'SizeY': 458, 'DimensionOrder': 'TZYX'}"
       ]
      }
     ],
     "prompt_number": 6
    },
    {
     "cell_type": "code",
     "collapsed": false,
     "input": [
      "fname = '/home/guillaume/Projets/CellMigration/20130724-240812WT'\n",
      "import os\n",
      "os.path.split(fname)\n"
     ],
     "language": "python",
     "metadata": {},
     "outputs": [
      {
       "metadata": {},
       "output_type": "pyout",
       "prompt_number": 9,
       "text": [
        "('/home/guillaume/Projets/CellMigration', '20130724-240812WT')"
       ]
      }
     ],
     "prompt_number": 9
    },
    {
     "cell_type": "code",
     "collapsed": false,
     "input": [
      "ct.ui.set_metadata(cluster.metadata)"
     ],
     "language": "python",
     "metadata": {},
     "outputs": [],
     "prompt_number": 9
    },
    {
     "cell_type": "code",
     "collapsed": false,
     "input": [
      "def scale(trajs, pix_sizex, pix_sizey,\n",
      "          pix_sizez, inplace=False):\n",
      "    \n",
      "    out_trajs = trajs if inplace else trajs.copy()\n",
      "    if pix_sizey == None:\n",
      "        out_trajs[['x', 'y']] = trajs[['x', 'y']] * pix_sizex\n",
      "    else:\n",
      "        out_trajs['x'] = trajs['x'] * pix_sizex\n",
      "        out_trajs['y'] = trajs['y'] * pix_sizey\n",
      "    out_trajs['z'] = trajs['z'] * pix_sizez\n",
      "    return out_trajs\n",
      "\n"
     ],
     "language": "python",
     "metadata": {},
     "outputs": [],
     "prompt_number": 10
    },
    {
     "cell_type": "code",
     "collapsed": false,
     "input": [
      "cluster.trajs = scale(cluster.trajs, \n",
      "                      cluster.metadata['PhysicalSizeX'],\n",
      "                      cluster.metadata['PhysicalSizeY'],\n",
      "                      cluster.metadata['PhysicalSizeZ'],\n",
      "                      inplace=True)\n"
     ],
     "language": "python",
     "metadata": {},
     "outputs": [],
     "prompt_number": 11
    },
    {
     "cell_type": "heading",
     "level": 3,
     "metadata": {},
     "source": [
      "Plot the data"
     ]
    },
    {
     "cell_type": "code",
     "collapsed": false,
     "input": [
      "axes = draw.plot_stacked_coords(cluster.trajs, coords=['x', 'y', 'z'])"
     ],
     "language": "python",
     "metadata": {},
     "outputs": [],
     "prompt_number": 12
    },
    {
     "cell_type": "markdown",
     "metadata": {},
     "source": [
      "### A segment is a single (maybe partial) trajectory\n",
      "\n",
      "Each segment is labeled"
     ]
    },
    {
     "cell_type": "code",
     "collapsed": false,
     "input": [
      "## This means that we go over all the segments\n",
      "## contained in the cluster trajectories\n",
      "for label, segment in cluster.trajs.iter_segments:\n",
      "    print('Segment {} has {} time points'\n",
      "          .format(label, segment.shape[0]))"
     ],
     "language": "python",
     "metadata": {},
     "outputs": [
      {
       "output_type": "stream",
       "stream": "stdout",
       "text": [
        "Segment 1 has 35 time points\n",
        "Segment 2 has 35 time points\n",
        "Segment 3 has 35 time points\n",
        "Segment 4 has 35 time points\n",
        "Segment 5 has 35 time points\n"
       ]
      }
     ],
     "prompt_number": 13
    },
    {
     "cell_type": "markdown",
     "metadata": {},
     "source": [
      "It is also possible to access a single segment"
     ]
    },
    {
     "cell_type": "code",
     "collapsed": false,
     "input": [
      "segments = cluster.trajs.get_segments() \n",
      "seg0 = segments[1]\n",
      "\n",
      "fig, ax = plt.subplots()\n",
      "ax.plot(seg0.x, seg0.y, 'k-');"
     ],
     "language": "python",
     "metadata": {},
     "outputs": [],
     "prompt_number": 14
    },
    {
     "cell_type": "heading",
     "level": 2,
     "metadata": {},
     "source": [
      "Analyses"
     ]
    },
    {
     "cell_type": "heading",
     "level": 3,
     "metadata": {},
     "source": [
      "Postition of the cluster center\n"
     ]
    },
    {
     "cell_type": "code",
     "collapsed": false,
     "input": [
      "cluster.get_center(smooth=3)"
     ],
     "language": "python",
     "metadata": {},
     "outputs": [],
     "prompt_number": 15
    },
    {
     "cell_type": "markdown",
     "metadata": {},
     "source": [
      "When we compute the center position, we create new columns in the data\n",
      "the position of the center is given by `x_c, y_c, z_c`, and the positions\n",
      "of the nuclei relative to the center by `x_r, y_r, z_r`."
     ]
    },
    {
     "cell_type": "heading",
     "level": 3,
     "metadata": {},
     "source": [
      "Positions against time relative to the cluster center"
     ]
    },
    {
     "cell_type": "code",
     "collapsed": false,
     "input": [
      "axes = draw.plot_stacked_coords(cluster.trajs,\n",
      "                                coords=['x_r', 'y_r', 'z_r'])"
     ],
     "language": "python",
     "metadata": {},
     "outputs": [],
     "prompt_number": 16
    },
    {
     "cell_type": "heading",
     "level": 3,
     "metadata": {},
     "source": [
      "Positions in 3D (absolute positions)"
     ]
    },
    {
     "cell_type": "code",
     "collapsed": false,
     "input": [
      "for label in cluster.trajs.labels:\n",
      "    draw.show_4panels(cluster.trajs, label,\n",
      "                      coords=['x', 'y', 'z'])"
     ],
     "language": "python",
     "metadata": {},
     "outputs": [],
     "prompt_number": 17
    },
    {
     "cell_type": "heading",
     "level": 3,
     "metadata": {},
     "source": [
      "Positions in 3D relative to cluster center"
     ]
    },
    {
     "cell_type": "code",
     "collapsed": false,
     "input": [
      "for label in cluster.trajs.labels:\n",
      "    draw.show_4panels(cluster.trajs, label,\n",
      "                      coords=['x_r', 'y_r', 'z_r'])"
     ],
     "language": "python",
     "metadata": {},
     "outputs": [],
     "prompt_number": 18
    },
    {
     "cell_type": "heading",
     "level": 3,
     "metadata": {},
     "source": [
      "Value of the angle w/r to the cluster center"
     ]
    },
    {
     "cell_type": "code",
     "collapsed": false,
     "input": [
      "cluster.cumulative_angle()"
     ],
     "language": "python",
     "metadata": {},
     "outputs": [],
     "prompt_number": 19
    },
    {
     "cell_type": "heading",
     "level": 3,
     "metadata": {},
     "source": [
      "Polar histogram"
     ]
    },
    {
     "cell_type": "markdown",
     "metadata": {},
     "source": [
      "The sizes of the fitting windows are given in minutes"
     ]
    },
    {
     "cell_type": "code",
     "collapsed": false,
     "input": [
      "ax = ct.graphics.polar_histogram(cluster, ax=None, alpha=0.5)"
     ],
     "language": "python",
     "metadata": {},
     "outputs": [],
     "prompt_number": 20
    },
    {
     "cell_type": "heading",
     "level": 3,
     "metadata": {},
     "source": [
      "Fit ellipses of different sizes over the trajectories"
     ]
    },
    {
     "cell_type": "code",
     "collapsed": false,
     "input": [
      "### Fits ellipses and detect rotations\n",
      "### This might take some time\n",
      "sizes = [15, 30, 45, 60, 75, 90]\n",
      "for size in sizes:\n",
      "    print('Computing for a window of {} min'.format(size))\n",
      "    cluster.compute_ellipticity(size)\n"
     ],
     "language": "python",
     "metadata": {},
     "outputs": [
      {
       "output_type": "stream",
       "stream": "stdout",
       "text": [
        "Computing for a window of 15 min\n",
        "Computing for a window of 30 min"
       ]
      },
      {
       "output_type": "stream",
       "stream": "stdout",
       "text": [
        "\n",
        "Computing for a window of 45 min"
       ]
      },
      {
       "output_type": "stream",
       "stream": "stdout",
       "text": [
        "\n",
        "Computing for a window of 60 min"
       ]
      },
      {
       "output_type": "stream",
       "stream": "stdout",
       "text": [
        "\n",
        "Computing for a window of 75 min"
       ]
      },
      {
       "output_type": "stream",
       "stream": "stdout",
       "text": [
        "\n",
        "Computing for a window of 90 min"
       ]
      },
      {
       "output_type": "stream",
       "stream": "stdout",
       "text": [
        "\n"
       ]
      }
     ],
     "prompt_number": 21
    },
    {
     "cell_type": "heading",
     "level": 3,
     "metadata": {},
     "source": [
      "Detect rotations"
     ]
    },
    {
     "cell_type": "code",
     "collapsed": false,
     "input": [
      "display.SVG('ellipsis_detection.svg')"
     ],
     "language": "python",
     "metadata": {},
     "outputs": [
      {
       "metadata": {},
       "output_type": "pyout",
       "prompt_number": 22,
       "svg": [
        "<svg height=\"417.14081\" id=\"svg2\" inkscape:version=\"0.48.4 r9939\" sodipodi:docname=\"ellipsis_detection.svg\" version=\"1.1\" width=\"644.5921\" xmlns=\"http://www.w3.org/2000/svg\" xmlns:cc=\"http://creativecommons.org/ns#\" xmlns:dc=\"http://purl.org/dc/elements/1.1/\" xmlns:inkscape=\"http://www.inkscape.org/namespaces/inkscape\" xmlns:rdf=\"http://www.w3.org/1999/02/22-rdf-syntax-ns#\" xmlns:sodipodi=\"http://sodipodi.sourceforge.net/DTD/sodipodi-0.dtd\" xmlns:svg=\"http://www.w3.org/2000/svg\" xmlns:xlink=\"http://www.w3.org/1999/xlink\">\n",
        "  <defs id=\"defs4\" style=\"stroke-linecap:butt;stroke-linejoin:round\">\n",
        "    <marker id=\"Arrow1Lend\" inkscape:stockid=\"Arrow1Lend\" orient=\"auto\" refX=\"0\" refY=\"0\" style=\"stroke-linecap:butt;stroke-linejoin:round;overflow:visible\">\n",
        "      <path d=\"M 0,0 5,-5 -12.5,0 5,5 0,0 z\" id=\"path101973\" inkscape:connector-curvature=\"0\" style=\"fill-rule:evenodd;stroke:#000000;stroke-width:1pt;stroke-linecap:butt;stroke-linejoin:round\" transform=\"matrix(-0.8,0,0,-0.8,-10,0)\"/>\n",
        "    </marker>\n",
        "    <marker id=\"Arrow1Mend\" inkscape:stockid=\"Arrow1Mend\" orient=\"auto\" refX=\"0\" refY=\"0\" style=\"stroke-linecap:butt;stroke-linejoin:round;overflow:visible\">\n",
        "      <path d=\"M 0,0 5,-5 -12.5,0 5,5 0,0 z\" id=\"path101979\" inkscape:connector-curvature=\"0\" style=\"fill-rule:evenodd;stroke:#000000;stroke-width:1pt;stroke-linecap:butt;stroke-linejoin:round\" transform=\"matrix(-0.4,0,0,-0.4,-4,0)\"/>\n",
        "    </marker>\n",
        "    <marker id=\"Arrow1Mstart\" inkscape:stockid=\"Arrow1Mstart\" orient=\"auto\" refX=\"0\" refY=\"0\" style=\"overflow:visible\">\n",
        "      <path d=\"M 0,0 5,-5 -12.5,0 5,5 0,0 z\" id=\"path101976\" inkscape:connector-curvature=\"0\" style=\"fill-rule:evenodd;stroke:#000000;stroke-width:1pt;stroke-linecap:butt;stroke-linejoin:round\" transform=\"matrix(0.4,0,0,0.4,4,0)\"/>\n",
        "    </marker>\n",
        "    <clipPath id=\"p69c1cc7a4f\">\n",
        "      <rect height=\"334.39856\" id=\"rect10551\" width=\"497.72437\" x=\"56.831249\" y=\"382.71393\"/>\n",
        "    </clipPath>\n",
        "    <clipPath id=\"pfc597b25c1\">\n",
        "      <rect height=\"334.39856\" id=\"rect10548\" width=\"497.72437\" x=\"574.71564\" y=\"382.71393\"/>\n",
        "    </clipPath>\n",
        "    <clipPath id=\"p64bead7903\">\n",
        "      <rect height=\"334.39856\" id=\"rect10545\" width=\"497.72437\" x=\"56.831249\" y=\"18.741621\"/>\n",
        "    </clipPath>\n",
        "    <clipPath id=\"p8ef677df68\">\n",
        "      <rect height=\"334.39856\" id=\"rect10542\" width=\"497.72437\" x=\"574.71564\" y=\"18.741621\"/>\n",
        "    </clipPath>\n",
        "    <style id=\"style6794\" type=\"text/css\">\n",
        "*{stroke-linecap:butt;stroke-linejoin:round;}\n",
        "  </style>\n",
        "    <style id=\"style16441\" type=\"text/css\">\n",
        "*{stroke-linecap:butt;stroke-linejoin:round;}\n",
        "  </style>\n",
        "    <clipPath id=\"p4219eb7cb2\">\n",
        "      <rect height=\"334.58939\" id=\"rect18746\" style=\"stroke-linecap:butt;stroke-linejoin:round\" width=\"416.64749\" x=\"478.49249\" y=\"377.12314\"/>\n",
        "    </clipPath>\n",
        "    <clipPath id=\"p907e48cb16\">\n",
        "      <rect height=\"334.58939\" id=\"rect18749\" style=\"stroke-linecap:butt;stroke-linejoin:round\" width=\"416.64749\" x=\"478.49249\" y=\"12.96\"/>\n",
        "    </clipPath>\n",
        "    <clipPath id=\"pe0ed907c9d\">\n",
        "      <rect height=\"334.58939\" id=\"rect18752\" style=\"stroke-linecap:butt;stroke-linejoin:round\" width=\"416.64749\" x=\"48.884998\" y=\"377.12314\"/>\n",
        "    </clipPath>\n",
        "    <clipPath id=\"pcbb924fb54\">\n",
        "      <rect height=\"334.58939\" id=\"rect18755\" style=\"stroke-linecap:butt;stroke-linejoin:round\" width=\"416.64749\" x=\"48.884998\" y=\"12.96\"/>\n",
        "    </clipPath>\n",
        "    <style id=\"style54521\" type=\"text/css\">\n",
        "*{stroke-linecap:butt;stroke-linejoin:round;}\n",
        "  </style>\n",
        "    <clipPath id=\"p2c54c407b2\">\n",
        "      <rect height=\"290.93936\" id=\"rect56523\" style=\"stroke-linecap:butt;stroke-linejoin:round\" width=\"349.28668\" x=\"49.32\" y=\"12.96\"/>\n",
        "    </clipPath>\n",
        "    <clipPath id=\"p769b18af4b\">\n",
        "      <rect height=\"290.93936\" id=\"rect56526\" style=\"stroke-linecap:butt;stroke-linejoin:round\" width=\"349.28668\" x=\"414.45331\" y=\"333.47311\"/>\n",
        "    </clipPath>\n",
        "    <clipPath id=\"pe00d5f48e7\">\n",
        "      <rect height=\"290.93936\" id=\"rect56529\" style=\"stroke-linecap:butt;stroke-linejoin:round\" width=\"349.28668\" x=\"49.32\" y=\"333.47311\"/>\n",
        "    </clipPath>\n",
        "    <clipPath id=\"p001c192b9f\">\n",
        "      <rect height=\"290.93936\" id=\"rect56532\" style=\"stroke-linecap:butt;stroke-linejoin:round\" width=\"349.28668\" x=\"414.45331\" y=\"12.96\"/>\n",
        "    </clipPath>\n",
        "    <style id=\"style49654\" type=\"text/css\">\n",
        "*{stroke-linecap:butt;stroke-linejoin:round;}\n",
        "  </style>\n",
        "    <clipPath id=\"p5038960075\">\n",
        "      <rect height=\"318.38937\" id=\"rect51867\" style=\"stroke-linecap:butt;stroke-linejoin:round\" width=\"418.07437\" x=\"56.831249\" y=\"12.96\"/>\n",
        "    </clipPath>\n",
        "    <clipPath id=\"p8fe1474151\">\n",
        "      <rect height=\"318.38937\" id=\"rect51870\" style=\"stroke-linecap:butt;stroke-linejoin:round\" width=\"418.07437\" x=\"56.831249\" y=\"360.92313\"/>\n",
        "    </clipPath>\n",
        "    <clipPath id=\"p4910acfd80\">\n",
        "      <rect height=\"318.38937\" id=\"rect51873\" style=\"stroke-linecap:butt;stroke-linejoin:round\" width=\"418.07437\" x=\"487.86563\" y=\"12.96\"/>\n",
        "    </clipPath>\n",
        "    <clipPath id=\"pebdad752eb\">\n",
        "      <rect height=\"318.38937\" id=\"rect51876\" style=\"stroke-linecap:butt;stroke-linejoin:round\" width=\"418.07437\" x=\"487.86563\" y=\"360.92313\"/>\n",
        "    </clipPath>\n",
        "    <style id=\"style43223\" type=\"text/css\">\n",
        "*{stroke-linecap:butt;stroke-linejoin:round;}\n",
        "  </style>\n",
        "    <clipPath id=\"p75428f1daf\">\n",
        "      <rect height=\"304.88937\" id=\"rect45569\" style=\"stroke-linecap:butt;stroke-linejoin:round\" width=\"325.98001\" x=\"388.26001\" y=\"12.96\"/>\n",
        "    </clipPath>\n",
        "    <clipPath id=\"p26efd31ea8\">\n",
        "      <rect height=\"304.88937\" id=\"rect45572\" style=\"stroke-linecap:butt;stroke-linejoin:round\" width=\"325.98001\" x=\"388.26001\" y=\"347.42313\"/>\n",
        "    </clipPath>\n",
        "    <clipPath id=\"pe5b6a3f546\">\n",
        "      <rect height=\"304.88937\" id=\"rect45575\" style=\"stroke-linecap:butt;stroke-linejoin:round\" width=\"325.98001\" x=\"49.32\" y=\"347.42313\"/>\n",
        "    </clipPath>\n",
        "    <clipPath id=\"pab32517c29\">\n",
        "      <rect height=\"304.88937\" id=\"rect45578\" style=\"stroke-linecap:butt;stroke-linejoin:round\" width=\"325.98001\" x=\"49.32\" y=\"12.96\"/>\n",
        "    </clipPath>\n",
        "    <style id=\"style38513\" type=\"text/css\">\n",
        "*{stroke-linecap:butt;stroke-linejoin:round;}\n",
        "  </style>\n",
        "    <clipPath id=\"p2d0847d783\">\n",
        "      <rect height=\"284.63937\" id=\"rect40688\" style=\"stroke-linecap:butt;stroke-linejoin:round\" width=\"290.72437\" x=\"56.831249\" y=\"12.96\"/>\n",
        "    </clipPath>\n",
        "    <clipPath id=\"p8ca75097e2\">\n",
        "      <rect height=\"284.63937\" id=\"rect40691\" style=\"stroke-linecap:butt;stroke-linejoin:round\" width=\"290.72437\" x=\"360.51562\" y=\"12.96\"/>\n",
        "    </clipPath>\n",
        "    <clipPath id=\"p25f421be1b\">\n",
        "      <rect height=\"284.63937\" id=\"rect40694\" style=\"stroke-linecap:butt;stroke-linejoin:round\" width=\"290.72437\" x=\"56.831249\" y=\"327.17313\"/>\n",
        "    </clipPath>\n",
        "    <clipPath id=\"p5ddec70d5a\">\n",
        "      <rect height=\"284.63937\" id=\"rect40697\" style=\"stroke-linecap:butt;stroke-linejoin:round\" width=\"290.72437\" x=\"360.51562\" y=\"327.17313\"/>\n",
        "    </clipPath>\n",
        "    <style id=\"style31467\" type=\"text/css\">\n",
        "*{stroke-linecap:butt;stroke-linejoin:round;}\n",
        "  </style>\n",
        "    <clipPath id=\"pbd37f28c04\">\n",
        "      <rect height=\"318.83939\" id=\"rect33615\" style=\"stroke-linecap:butt;stroke-linejoin:round\" width=\"344.24438\" x=\"48.791248\" y=\"361.37314\"/>\n",
        "    </clipPath>\n",
        "    <clipPath id=\"p18a430608f\">\n",
        "      <rect height=\"318.83939\" id=\"rect33618\" style=\"stroke-linecap:butt;stroke-linejoin:round\" width=\"344.24438\" x=\"48.791248\" y=\"12.96\"/>\n",
        "    </clipPath>\n",
        "    <clipPath id=\"p4db847229d\">\n",
        "      <rect height=\"318.83939\" id=\"rect33621\" style=\"stroke-linecap:butt;stroke-linejoin:round\" width=\"344.24438\" x=\"405.99564\" y=\"12.96\"/>\n",
        "    </clipPath>\n",
        "    <clipPath id=\"pa3c0e8ba5d\">\n",
        "      <rect height=\"318.83939\" id=\"rect33624\" style=\"stroke-linecap:butt;stroke-linejoin:round\" width=\"344.24438\" x=\"405.99564\" y=\"361.37314\"/>\n",
        "    </clipPath>\n",
        "    <style id=\"style24330\" type=\"text/css\">\n",
        "*{stroke-linecap:butt;stroke-linejoin:round;}\n",
        "  </style>\n",
        "    <clipPath id=\"p70a1477c43\">\n",
        "      <rect height=\"252.68938\" id=\"rect26617\" style=\"stroke-linecap:butt;stroke-linejoin:round\" width=\"286.82999\" x=\"349.10999\" y=\"12.96\"/>\n",
        "    </clipPath>\n",
        "    <clipPath id=\"p2f369ebd9e\">\n",
        "      <rect height=\"252.68938\" id=\"rect26620\" style=\"stroke-linecap:butt;stroke-linejoin:round\" width=\"286.82999\" x=\"49.32\" y=\"295.22311\"/>\n",
        "    </clipPath>\n",
        "    <clipPath id=\"pc52674d6b8\">\n",
        "      <rect height=\"252.68938\" id=\"rect26623\" style=\"stroke-linecap:butt;stroke-linejoin:round\" width=\"286.82999\" x=\"349.10999\" y=\"295.22311\"/>\n",
        "    </clipPath>\n",
        "    <clipPath id=\"p72990397a8\">\n",
        "      <rect height=\"252.68938\" id=\"rect26626\" style=\"stroke-linecap:butt;stroke-linejoin:round\" width=\"286.82999\" x=\"49.32\" y=\"12.96\"/>\n",
        "    </clipPath>\n",
        "    <style id=\"style14174\" type=\"text/css\">\n",
        "*{stroke-linecap:butt;stroke-linejoin:round;}\n",
        "  </style>\n",
        "    <clipPath id=\"pe86011153b\">\n",
        "      <rect height=\"303.53937\" id=\"rect16426\" style=\"stroke-linecap:butt;stroke-linejoin:round\" width=\"394.38\" x=\"456.66\" y=\"12.96\"/>\n",
        "    </clipPath>\n",
        "    <clipPath id=\"p501e9cb373\">\n",
        "      <rect height=\"303.53937\" id=\"rect16429\" style=\"stroke-linecap:butt;stroke-linejoin:round\" width=\"394.38\" x=\"49.32\" y=\"346.07312\"/>\n",
        "    </clipPath>\n",
        "    <clipPath id=\"p063b47c935\">\n",
        "      <rect height=\"303.53937\" id=\"rect16432\" style=\"stroke-linecap:butt;stroke-linejoin:round\" width=\"394.38\" x=\"456.66\" y=\"346.07312\"/>\n",
        "    </clipPath>\n",
        "    <clipPath id=\"p79137038ec\">\n",
        "      <rect height=\"303.53937\" id=\"rect16435\" style=\"stroke-linecap:butt;stroke-linejoin:round\" width=\"394.38\" x=\"49.32\" y=\"12.96\"/>\n",
        "    </clipPath>\n",
        "    <style id=\"style2989\" type=\"text/css\">\n",
        "*{stroke-linecap:butt;stroke-linejoin:round;}\n",
        "  </style>\n",
        "    <clipPath id=\"p21eb643df2\">\n",
        "      <rect height=\"169.23593\" id=\"rect5315\" style=\"stroke-linecap:butt;stroke-linejoin:round\" width=\"178.38\" x=\"240.66\" y=\"217.57657\"/>\n",
        "    </clipPath>\n",
        "    <clipPath id=\"paec92990f6\">\n",
        "      <rect height=\"169.23593\" id=\"rect5318\" style=\"stroke-linecap:butt;stroke-linejoin:round\" width=\"178.38\" x=\"49.32\" y=\"217.57657\"/>\n",
        "    </clipPath>\n",
        "    <clipPath id=\"p7e3cdd4aa9\">\n",
        "      <rect height=\"169.23593\" id=\"rect5321\" style=\"stroke-linecap:butt;stroke-linejoin:round\" width=\"178.38\" x=\"240.66\" y=\"18.766874\"/>\n",
        "    </clipPath>\n",
        "    <clipPath id=\"p4bb20e0a95\">\n",
        "      <rect height=\"169.23593\" id=\"rect5324\" style=\"stroke-linecap:butt;stroke-linejoin:round\" width=\"178.38\" x=\"49.32\" y=\"18.766874\"/>\n",
        "    </clipPath>\n",
        "    <clipPath id=\"pbaa9ab6562\">\n",
        "      <rect height=\"386.78937\" id=\"rect97508\" style=\"stroke-linecap:butt;stroke-linejoin:round\" width=\"475.10812\" x=\"542.43188\" y=\"429.32312\"/>\n",
        "    </clipPath>\n",
        "    <clipPath id=\"p509ba47b41\">\n",
        "      <rect height=\"386.78937\" id=\"rect97505\" style=\"stroke-linecap:butt;stroke-linejoin:round\" width=\"475.10812\" x=\"54.36375\" y=\"429.32312\"/>\n",
        "    </clipPath>\n",
        "    <clipPath id=\"p88f29d8050\">\n",
        "      <rect height=\"386.78937\" id=\"rect97502\" style=\"stroke-linecap:butt;stroke-linejoin:round\" width=\"475.10812\" x=\"542.43188\" y=\"12.96\"/>\n",
        "    </clipPath>\n",
        "    <clipPath id=\"pf2e575ba20\">\n",
        "      <rect height=\"386.78937\" id=\"rect97499\" style=\"stroke-linecap:butt;stroke-linejoin:round\" width=\"475.10812\" x=\"54.36375\" y=\"12.96\"/>\n",
        "    </clipPath>\n",
        "    <style id=\"style95784\" type=\"text/css\">\n",
        "*{stroke-linecap:butt;stroke-linejoin:round;}\n",
        "  </style>\n",
        "    <clipPath id=\"p887e08e8d8\">\n",
        "      <rect height=\"178.29938\" id=\"rect123296\" style=\"stroke-linecap:butt;stroke-linejoin:round\" width=\"351.81375\" x=\"56.831249\" y=\"221.64\"/>\n",
        "    </clipPath>\n",
        "    <clipPath id=\"p2820ddb51f\">\n",
        "      <rect height=\"178.29938\" id=\"rect123293\" style=\"stroke-linecap:butt;stroke-linejoin:round\" width=\"351.81375\" x=\"56.831249\" y=\"424.51312\"/>\n",
        "    </clipPath>\n",
        "    <clipPath id=\"p6d715e6433\">\n",
        "      <rect height=\"178.29938\" id=\"rect123290\" style=\"stroke-linecap:butt;stroke-linejoin:round\" width=\"351.81375\" x=\"56.831249\" y=\"18.766874\"/>\n",
        "    </clipPath>\n",
        "    <style id=\"style120043\" type=\"text/css\">\n",
        "*{stroke-linecap:butt;stroke-linejoin:round;}\n",
        "  </style>\n",
        "    <defs id=\"defs120056\">\n",
        "      <path d=\"M 0,3 C 0.795609,3 1.55874,2.6839 2.12132,2.12132 2.6839,1.55874 3,0.795609 3,0 3,-0.795609 2.6839,-1.55874 2.12132,-2.12132 1.55874,-2.6839 0.795609,-3 0,-3 -0.795609,-3 -1.55874,-2.6839 -2.12132,-2.12132 -2.6839,-1.55874 -3,-0.795609 -3,0 -3,0.795609 -2.6839,1.55874 -2.12132,2.12132 -1.55874,2.6839 -0.795609,3 0,3 z\" id=\"md21b4ff0a3\" inkscape:connector-curvature=\"0\" style=\"stroke:#000000;stroke-width:0.5;stroke-linecap:butt;stroke-linejoin:round\"/>\n",
        "    </defs>\n",
        "  </defs>\n",
        "  <sodipodi:namedview bordercolor=\"#666666\" borderopacity=\"1.0\" fit-margin-bottom=\"10\" fit-margin-left=\"10\" fit-margin-right=\"10\" fit-margin-top=\"10\" id=\"base\" inkscape:current-layer=\"g141778\" inkscape:cx=\"509.67568\" inkscape:cy=\"175.32511\" inkscape:document-units=\"px\" inkscape:pageopacity=\"0.0\" inkscape:pageshadow=\"2\" inkscape:window-height=\"987\" inkscape:window-maximized=\"0\" inkscape:window-width=\"1349\" inkscape:window-x=\"565\" inkscape:window-y=\"21\" inkscape:zoom=\"0.93981333\" pagecolor=\"#ffffff\" showgrid=\"false\"/>\n",
        "  <metadata id=\"metadata7\">\n",
        "    <rdf:RDF>\n",
        "      <cc:Work rdf:about=\"\">\n",
        "        <dc:format>image/svg+xml</dc:format>\n",
        "        <dc:type rdf:resource=\"http://purl.org/dc/dcmitype/StillImage\"/>\n",
        "      </cc:Work>\n",
        "    </rdf:RDF>\n",
        "  </metadata>\n",
        "  <g id=\"layer1\" inkscape:groupmode=\"layer\" inkscape:label=\"Calque 1\" style=\"stroke-linecap:butt;stroke-linejoin:round\" transform=\"translate(-40.027853,-530.03754)\">\n",
        "    <g id=\"patch_2\" style=\"stroke-linecap:butt;stroke-linejoin:round\" transform=\"matrix(1.25,0,0,1.25,-151.22793,-74.026073)\"/>\n",
        "    <g id=\"patch_1\" style=\"stroke-linecap:butt;stroke-linejoin:round\" transform=\"matrix(1.25,0,0,1.25,-122.14285,-271.20925)\"/>\n",
        "    <g id=\"axes_4\" style=\"stroke-linecap:butt;stroke-linejoin:round\" transform=\"matrix(1.25,0,0,1.25,-151.22793,-74.026073)\"/>\n",
        "    <rect height=\"65.210442\" id=\"rect140783\" ry=\"2.5204077\" style=\"color:#000000;fill:none;stroke:#000000;stroke-width:2.16060352;stroke-linecap:square;stroke-linejoin:round;stroke-miterlimit:4;stroke-opacity:1;stroke-dasharray:none;stroke-dashoffset:0;marker:none;visibility:visible;display:inline;overflow:visible;enable-background:accumulate\" transform=\"matrix(0.87050251,0.49216398,-0.87050251,0.49216398,0,0)\" width=\"65.210442\" x=\"746.39307\" y=\"351.43716\"/>\n",
        "    <path d=\"m 404.52802,572.40654 76.50764,1e-5\" id=\"path140803\" inkscape:connector-curvature=\"0\" sodipodi:nodetypes=\"cc\" style=\"fill:none;stroke:#000000;stroke-width:1px;stroke-linecap:butt;stroke-linejoin:miter;stroke-opacity:1;marker-end:url(#Arrow1Lend)\"/>\n",
        "    <text id=\"text141363\" sodipodi:linespacing=\"122%\" style=\"font-size:14px;font-style:normal;font-variant:normal;font-weight:normal;font-stretch:normal;text-align:end;line-height:122.00000286%;letter-spacing:0px;word-spacing:0px;writing-mode:lr-tb;text-anchor:end;fill:#000000;fill-opacity:1;stroke:none;font-family:DejaVu Sans;-inkscape-font-specification:DejaVu Sans\" x=\"382.06616\" xml:space=\"preserve\" y=\"577.50275\"><tspan id=\"tspan141365\" sodipodi:role=\"line\" x=\"382.06616\" y=\"577.50275\">GOOD FIT?</tspan></text>\n",
        "    <path d=\"m 301.42285,577.08539 c 0,10.74352 -40.88138,19.45287 -91.31113,19.45287 -50.42974,0 -91.31112,-8.70935 -91.31112,-19.45287 0,-10.74352 40.88138,-19.45287 91.31112,-19.45287 50.42975,0 91.31113,8.70935 91.31113,19.45287 z\" id=\"path141439\" sodipodi:cx=\"210.11172\" sodipodi:cy=\"577.08539\" sodipodi:rx=\"91.311127\" sodipodi:ry=\"19.452869\" sodipodi:type=\"arc\" style=\"color:#000000;fill:#55d400;fill-opacity:0.54918033;fill-rule:nonzero;stroke:#000000;stroke-width:1;stroke-linecap:square;stroke-linejoin:round;stroke-miterlimit:4;stroke-opacity:1;stroke-dasharray:none;stroke-dashoffset:0;marker:none;visibility:visible;display:inline;overflow:visible;enable-background:accumulate\" transform=\"translate(372.69712,-4.678836)\"/>\n",
        "    <text id=\"text141367\" sodipodi:linespacing=\"122%\" style=\"font-size:14px;font-style:normal;font-variant:normal;font-weight:normal;font-stretch:normal;text-align:end;line-height:122.00000286%;letter-spacing:0px;word-spacing:0px;writing-mode:lr-tb;text-anchor:end;fill:#000000;fill-opacity:1;stroke:none;font-family:DejaVu Sans;-inkscape-font-specification:DejaVu Sans\" x=\"654.73737\" xml:space=\"preserve\" y=\"576.26044\"><tspan id=\"tspan141369\" sodipodi:role=\"line\" x=\"654.73737\" y=\"576.26044\">Rotation(t<tspan id=\"tspan141419\" style=\"font-size:65.00091553%;baseline-shift:sub\">0</tspan> ... t<tspan id=\"tspan141421\" style=\"font-size:65.00091553%;baseline-shift:sub\">1</tspan>) = 1</tspan></text>\n",
        "    <g id=\"g3599\" style=\"stroke-linecap:butt;stroke-linejoin:round\" transform=\"translate(-19.79899,38.183766)\">\n",
        "      <use height=\"1\" id=\"use137957\" style=\"stroke:#000000;stroke-width:0.5;stroke-linecap:butt;stroke-linejoin:round\" transform=\"matrix(1.1970616,0.35992158,-0.35992158,1.1970616,52.68568,344.99273)\" width=\"1\" x=\"103.73975\" xlink:href=\"#md21b4ff0a3\" y=\"159.46516\"/>\n",
        "      <use height=\"1\" id=\"use137959\" style=\"stroke:#000000;stroke-width:0.5;stroke-linecap:butt;stroke-linejoin:round\" transform=\"matrix(1.1970616,0.35992158,-0.35992158,1.1970616,52.30327,337.49397)\" width=\"1\" x=\"109.60331\" xlink:href=\"#md21b4ff0a3\" y=\"154.79056\"/>\n",
        "      <use height=\"1\" id=\"use137961\" style=\"stroke:#000000;stroke-width:0.5;stroke-linecap:butt;stroke-linejoin:round\" transform=\"matrix(1.1970616,0.35992158,-0.35992158,1.1970616,62.55871,338.46783)\" width=\"1\" x=\"115.46687\" xlink:href=\"#md21b4ff0a3\" y=\"153.91493\"/>\n",
        "      <use height=\"1\" id=\"use137963\" style=\"stroke:#000000;stroke-width:0.5;stroke-linecap:butt;stroke-linejoin:round\" transform=\"matrix(1.1970616,0.35992158,-0.35992158,1.1970616,68.80248,333.48879)\" width=\"1\" x=\"121.33044\" xlink:href=\"#md21b4ff0a3\" y=\"149.37953\"/>\n",
        "      <use height=\"1\" id=\"use137965\" style=\"stroke:#000000;stroke-width:0.5;stroke-linecap:butt;stroke-linejoin:round\" transform=\"matrix(1.1970616,0.35992158,-0.35992158,1.1970616,31.24508,360.17007)\" width=\"1\" x=\"127.194\" xlink:href=\"#md21b4ff0a3\" y=\"155.14859\"/>\n",
        "      <use height=\"1\" id=\"use137967\" style=\"stroke:#000000;stroke-width:0.5;stroke-linecap:butt;stroke-linejoin:round\" transform=\"matrix(1.1970616,0.35992158,-0.35992158,1.1970616,69.77309,328.5065)\" width=\"1\" x=\"133.05756\" xlink:href=\"#md21b4ff0a3\" y=\"149.6394\"/>\n",
        "      <use height=\"1\" id=\"use137969\" style=\"stroke:#000000;stroke-width:0.5;stroke-linecap:butt;stroke-linejoin:round\" transform=\"matrix(1.1970616,0.35992158,-0.35992158,1.1970616,65.16997,340.30779)\" width=\"1\" x=\"138.92113\" xlink:href=\"#md21b4ff0a3\" y=\"155.13899\"/>\n",
        "      <use height=\"1\" id=\"use137971\" style=\"stroke:#000000;stroke-width:0.5;stroke-linecap:butt;stroke-linejoin:round\" transform=\"matrix(1.1970616,0.35992158,-0.35992158,1.1970616,69.77309,328.5065)\" width=\"1\" x=\"144.78468\" xlink:href=\"#md21b4ff0a3\" y=\"152.99017\"/>\n",
        "      <use height=\"1\" id=\"use137973\" style=\"stroke:#000000;stroke-width:0.5;stroke-linecap:butt;stroke-linejoin:round\" transform=\"matrix(1.1970616,0.35992158,-0.35992158,1.1970616,62.12242,339.9189)\" width=\"1\" x=\"150.64825\" xlink:href=\"#md21b4ff0a3\" y=\"160.60689\"/>\n",
        "      <use height=\"1\" id=\"use137975\" style=\"stroke:#000000;stroke-width:0.5;stroke-linecap:butt;stroke-linejoin:round\" transform=\"matrix(1.1970616,0.35992158,-0.35992158,1.1970616,59.83969,354.52751)\" width=\"1\" x=\"156.51181\" xlink:href=\"#md21b4ff0a3\" y=\"160.88554\"/>\n",
        "      <use height=\"1\" id=\"use137977\" style=\"stroke:#000000;stroke-width:0.5;stroke-linecap:butt;stroke-linejoin:round\" transform=\"matrix(-0.91023203,0.85672501,-0.85672501,-0.91023203,481.10663,626.81896)\" width=\"1\" x=\"162.37538\" xlink:href=\"#md21b4ff0a3\" y=\"169.70523\"/>\n",
        "      <use height=\"1\" id=\"use137979\" style=\"stroke:#000000;stroke-width:0.5;stroke-linecap:butt;stroke-linejoin:round\" transform=\"matrix(-0.91023203,0.85672501,-0.85672501,-0.91023203,466.25008,638.10939)\" width=\"1\" x=\"168.23894\" xlink:href=\"#md21b4ff0a3\" y=\"163.40457\"/>\n",
        "      <use height=\"1\" id=\"use137981\" style=\"stroke:#000000;stroke-width:0.5;stroke-linecap:butt;stroke-linejoin:round\" transform=\"matrix(-0.91023203,0.85672501,-0.85672501,-0.91023203,489.71737,625.65048)\" width=\"1\" x=\"174.10249\" xlink:href=\"#md21b4ff0a3\" y=\"159.83852\"/>\n",
        "      <use height=\"1\" id=\"use137983\" style=\"stroke:#000000;stroke-width:0.5;stroke-linecap:butt;stroke-linejoin:round\" transform=\"matrix(-0.91023203,0.85672501,-0.85672501,-0.91023203,469.58527,634.45341)\" width=\"1\" x=\"179.96606\" xlink:href=\"#md21b4ff0a3\" y=\"156.47052\"/>\n",
        "      <path d=\"m 127.54681,592.50987 -10.82418,-20.13172 11.22371,-10.56393 16.80406,5.0525 15.76365,-10.32945 14.65927,-1.39392 15.42731,8.33042 -13.8912,11.11829 6.91054,12.09864 4.48887,16.64463 1.61212,9.16729 4.88986,15.51225 -21.54846,3.63514 -1.168,14.97152\" id=\"path137985\" inkscape:connector-curvature=\"0\" sodipodi:nodetypes=\"cccccccccccccc\" style=\"fill:none;stroke:#000000;stroke-width:1px;stroke-linecap:butt;stroke-linejoin:miter;stroke-opacity:1\"/>\n",
        "      <path d=\"m 97.23866,548.54898 0,111.11678 126.26907,0\" id=\"path138001\" inkscape:connector-curvature=\"0\" style=\"fill:none;stroke:#000000;stroke-width:1px;stroke-linecap:butt;stroke-linejoin:miter;stroke-opacity:1;marker-start:url(#Arrow1Mstart);marker-end:url(#Arrow1Mend)\"/>\n",
        "      <path d=\"m 420.49579,433.5373 c 9.66117,-23.83073 34.55708,-34.2826 55.60656,-23.34491 21.04949,10.93769 30.28154,39.12306 20.62036,62.95379 -6.2656,15.45505 -19.35387,25.93606 -34.31258,27.47732\" id=\"path140733\" sodipodi:cx=\"458.60925\" sodipodi:cy=\"453.34174\" sodipodi:end=\"7.7632224\" sodipodi:open=\"true\" sodipodi:rx=\"41.936195\" sodipodi:ry=\"47.477169\" sodipodi:start=\"3.5718845\" sodipodi:type=\"arc\" style=\"color:#000000;fill:none;stroke:#ff0000;stroke-width:2;stroke-linecap:square;stroke-linejoin:round;stroke-miterlimit:4;stroke-opacity:1;stroke-dasharray:none;stroke-dashoffset:0;marker:none;visibility:visible;display:inline;overflow:visible;enable-background:accumulate\" transform=\"translate(-304.91384,148.82091)\"/>\n",
        "      <text id=\"text140746\" sodipodi:linespacing=\"122%\" style=\"font-size:14px;font-style:normal;font-variant:normal;font-weight:normal;font-stretch:normal;text-align:start;line-height:122.00000286%;letter-spacing:0px;word-spacing:0px;writing-mode:lr-tb;text-anchor:start;fill:#000000;fill-opacity:1;stroke:none;font-family:DejaVu Sans;-inkscape-font-specification:DejaVu Sans\" x=\"112.78427\" xml:space=\"preserve\" y=\"516.59259\"><tspan id=\"tspan140750\" sodipodi:role=\"line\" x=\"112.78427\" y=\"516.59259\">Ellipsis fit</tspan></text>\n",
        "      <text id=\"text3519\" sodipodi:linespacing=\"122%\" style=\"font-size:14px;font-style:normal;font-variant:normal;font-weight:normal;font-stretch:normal;text-align:start;line-height:122.00000286%;letter-spacing:0px;word-spacing:0px;writing-mode:lr-tb;text-anchor:start;fill:#000000;fill-opacity:1;stroke:none;font-family:Arial;-inkscape-font-specification:Sans\" x=\"112.79719\" xml:space=\"preserve\" y=\"605.71576\"><tspan id=\"tspan3521\" sodipodi:role=\"line\" x=\"112.79719\" y=\"605.71576\">t<tspan id=\"tspan3533\" style=\"font-size:65.00091553%;baseline-shift:sub\">0</tspan></tspan></text>\n",
        "      <text id=\"text3525\" sodipodi:linespacing=\"122%\" style=\"font-size:14px;font-style:normal;font-variant:normal;font-weight:normal;font-stretch:normal;text-align:start;line-height:122.00000286%;letter-spacing:0px;word-spacing:0px;writing-mode:lr-tb;text-anchor:start;fill:#000000;fill-opacity:1;stroke:none;font-family:Arial;-inkscape-font-specification:Sans\" x=\"151.94797\" xml:space=\"preserve\" y=\"639.34137\"><tspan id=\"tspan3527\" sodipodi:role=\"line\" x=\"151.94797\" y=\"639.34137\">t<tspan id=\"tspan3535\" style=\"font-size:65.00091553%;baseline-shift:sub\">1</tspan></tspan></text>\n",
        "    </g>\n",
        "    <g id=\"g141443\" style=\"stroke-linecap:butt;stroke-linejoin:round\" transform=\"translate(231.24705,-55.898696)\">\n",
        "      <rect height=\"20.455589\" id=\"rect141375\" ry=\"0\" style=\"color:#000000;fill:#ffffff;stroke:#000000;stroke-width:1;stroke-linecap:square;stroke-linejoin:round;stroke-miterlimit:4;stroke-opacity:1;stroke-dasharray:none;stroke-dashoffset:0;marker:none;visibility:visible;display:inline;overflow:visible;enable-background:accumulate\" width=\"37.375645\" x=\"186.87398\" y=\"618.07745\"/>\n",
        "      <text id=\"text141371\" sodipodi:linespacing=\"122%\" style=\"font-size:14px;font-style:normal;font-variant:normal;font-weight:normal;font-stretch:normal;text-align:end;line-height:122.00000286%;letter-spacing:0px;word-spacing:0px;writing-mode:lr-tb;text-anchor:end;fill:#000000;fill-opacity:1;stroke:none;font-family:DejaVu Sans;-inkscape-font-specification:DejaVu Sans\" x=\"219.11746\" xml:space=\"preserve\" y=\"633.40143\"><tspan id=\"tspan141373\" sodipodi:role=\"line\" x=\"219.11746\" y=\"633.40143\">YES</tspan></text>\n",
        "    </g>\n",
        "    <path d=\"m 343.80884,608.88468 0,50.50763\" id=\"path141423\" inkscape:connector-curvature=\"0\" style=\"fill:none;stroke:#000000;stroke-width:1px;stroke-linecap:butt;stroke-linejoin:miter;stroke-opacity:1;marker-end:url(#Arrow1Lend)\"/>\n",
        "    <g id=\"g141448\" style=\"stroke-linecap:butt;stroke-linejoin:round\" transform=\"translate(138.24705,-113.89869)\">\n",
        "      <rect height=\"20.455589\" id=\"rect141425\" ry=\"0\" style=\"color:#000000;fill:#ffffff;stroke:#000000;stroke-width:1;stroke-linecap:square;stroke-linejoin:round;stroke-miterlimit:4;stroke-opacity:1;stroke-dasharray:none;stroke-dashoffset:0;marker:none;visibility:visible;display:inline;overflow:visible;enable-background:accumulate\" width=\"37.375645\" x=\"186.87398\" y=\"730.9455\"/>\n",
        "      <text id=\"text141427\" sodipodi:linespacing=\"122%\" style=\"font-size:14px;font-style:normal;font-variant:normal;font-weight:normal;font-stretch:normal;text-align:end;line-height:122.00000286%;letter-spacing:0px;word-spacing:0px;writing-mode:lr-tb;text-anchor:end;fill:#000000;fill-opacity:1;stroke:none;font-family:DejaVu Sans;-inkscape-font-specification:DejaVu Sans\" x=\"216.01395\" xml:space=\"preserve\" y=\"746.26947\"><tspan id=\"tspan141429\" sodipodi:role=\"line\" x=\"216.01395\" y=\"746.26947\">NO</tspan></text>\n",
        "    </g>\n",
        "    <path d=\"m 301.42285,577.08539 c 0,10.74352 -40.88138,19.45287 -91.31113,19.45287 -50.42974,0 -91.31112,-8.70935 -91.31112,-19.45287 0,-10.74352 40.88138,-19.45287 91.31112,-19.45287 50.42975,0 91.31113,8.70935 91.31113,19.45287 z\" id=\"path141441\" sodipodi:cx=\"210.11172\" sodipodi:cy=\"577.08539\" sodipodi:rx=\"91.311127\" sodipodi:ry=\"19.452869\" sodipodi:type=\"arc\" style=\"color:#000000;fill:#ff0000;fill-opacity:0.54918033;fill-rule:nonzero;stroke:#000000;stroke-width:1;stroke-linecap:square;stroke-linejoin:round;stroke-miterlimit:4;stroke-opacity:1;stroke-dasharray:none;stroke-dashoffset:0;marker:none;visibility:visible;display:inline;overflow:visible;enable-background:accumulate\" transform=\"translate(133.69711,109.03753)\"/>\n",
        "    <text id=\"text141431\" sodipodi:linespacing=\"122%\" style=\"font-size:14px;font-style:normal;font-variant:normal;font-weight:normal;font-stretch:normal;text-align:end;line-height:122.00000286%;letter-spacing:0px;word-spacing:0px;writing-mode:lr-tb;text-anchor:end;fill:#000000;fill-opacity:1;stroke:none;font-family:DejaVu Sans;-inkscape-font-specification:DejaVu Sans\" x=\"415.73734\" xml:space=\"preserve\" y=\"689.97687\"><tspan id=\"tspan141433\" sodipodi:role=\"line\" x=\"415.73734\" y=\"689.97687\">Rotation(t<tspan id=\"tspan141435\" style=\"font-size:65.00091553%;baseline-shift:sub\">0</tspan> ... t<tspan id=\"tspan141437\" style=\"font-size:65.00091553%;baseline-shift:sub\">1</tspan>) = 0</tspan></text>\n",
        "    <path d=\"m 233.53621,571.41472 38.50763,2e-5\" id=\"path141573\" inkscape:connector-curvature=\"0\" sodipodi:nodetypes=\"cc\" style=\"fill:none;stroke:#000000;stroke-width:1px;stroke-linecap:butt;stroke-linejoin:miter;stroke-opacity:1;marker-end:url(#Arrow1Lend)\"/>\n",
        "    <text id=\"text141575\" sodipodi:linespacing=\"122%\" style=\"font-size:14px;font-style:normal;font-variant:normal;font-weight:normal;font-stretch:normal;text-align:start;line-height:122.00000286%;letter-spacing:0px;word-spacing:0px;writing-mode:lr-tb;text-anchor:start;fill:#000000;fill-opacity:1;stroke:none;font-family:DejaVu Sans;-inkscape-font-specification:DejaVu Sans\" x=\"227.65533\" xml:space=\"preserve\" y=\"558.19055\"><tspan id=\"tspan141579\" sodipodi:role=\"line\" x=\"227.65533\" y=\"558.19055\">Fit data</tspan></text>\n",
        "    <g id=\"g141797\" style=\"stroke-linecap:butt;stroke-linejoin:round\" transform=\"translate(336.51419,-16.697772)\">\n",
        "      <rect height=\"23.614197\" id=\"rect141602\" ry=\"0\" style=\"color:#000000;fill:#ff0000;fill-opacity:0.54918033;fill-rule:nonzero;stroke:none;stroke-width:1;marker:none;visibility:visible;display:inline;overflow:visible;enable-background:accumulate\" width=\"67.59903\" x=\"129.87819\" y=\"770.83215\"/>\n",
        "      <rect height=\"23.614197\" id=\"rect141604\" ry=\"0\" style=\"color:#000000;fill:#55d400;fill-opacity:0.54918033;fill-rule:nonzero;stroke:none;stroke-width:1;marker:none;visibility:visible;display:inline;overflow:visible;enable-background:accumulate\" width=\"99.210976\" x=\"197.4846\" y=\"770.83215\"/>\n",
        "      <rect height=\"23.614197\" id=\"rect141606\" ry=\"0\" style=\"color:#000000;fill:#ff0000;fill-opacity:0.54918033;fill-rule:nonzero;stroke:none;stroke-width:1;marker:none;visibility:visible;display:inline;overflow:visible;enable-background:accumulate\" width=\"40.190205\" x=\"296.80063\" y=\"770.83215\"/>\n",
        "      <text id=\"text141625\" sodipodi:linespacing=\"122%\" style=\"font-size:14px;font-style:normal;font-variant:normal;font-weight:normal;font-stretch:normal;text-align:start;line-height:122.00000286%;letter-spacing:0px;word-spacing:0px;writing-mode:lr-tb;text-anchor:start;fill:#000000;fill-opacity:1;stroke:none;font-family:DejaVu Sans;-inkscape-font-specification:DejaVu Sans\" x=\"215.42831\" xml:space=\"preserve\" y=\"786.50153\"><tspan id=\"tspan141627\" sodipodi:role=\"line\" x=\"215.42831\" y=\"786.50153\">ellipticity</tspan></text>\n",
        "      <text id=\"text141629\" sodipodi:linespacing=\"122%\" style=\"font-size:14px;font-style:normal;font-variant:normal;font-weight:normal;font-stretch:normal;text-align:end;line-height:122.00000286%;letter-spacing:0px;word-spacing:0px;writing-mode:lr-tb;text-anchor:end;fill:#000000;fill-opacity:1;stroke:none;font-family:DejaVu Sans;-inkscape-font-specification:DejaVu Sans\" x=\"202.93468\" xml:space=\"preserve\" y=\"767.51569\"><tspan id=\"tspan141631\" sodipodi:role=\"line\" x=\"202.93468\" y=\"767.51569\">1</tspan></text>\n",
        "      <text id=\"text141633\" sodipodi:linespacing=\"122%\" style=\"font-size:14px;font-style:normal;font-variant:normal;font-weight:normal;font-stretch:normal;text-align:end;line-height:122.00000286%;letter-spacing:0px;word-spacing:0px;writing-mode:lr-tb;text-anchor:end;fill:#000000;fill-opacity:1;stroke:none;font-family:DejaVu Sans;-inkscape-font-specification:DejaVu Sans\" x=\"298.49844\" xml:space=\"preserve\" y=\"767.51569\"><tspan id=\"tspan141635\" sodipodi:role=\"line\" x=\"298.49844\" y=\"767.51569\">3</tspan></text>\n",
        "    </g>\n",
        "    <g id=\"g141789\" style=\"stroke-linecap:butt;stroke-linejoin:round\" transform=\"translate(336.51419,-18.454639)\">\n",
        "      <rect height=\"23.614197\" id=\"rect141645\" ry=\"0\" style=\"color:#000000;fill:#55d400;fill-opacity:0.54918033;fill-rule:nonzero;stroke:none;stroke-width:1;marker:none;visibility:visible;display:inline;overflow:visible;enable-background:accumulate\" width=\"141.06667\" x=\"196.74666\" y=\"824.46747\"/>\n",
        "      <text id=\"text141637\" sodipodi:linespacing=\"122%\" style=\"font-size:14px;font-style:normal;font-variant:normal;font-weight:normal;font-stretch:normal;text-align:start;line-height:122.00000286%;letter-spacing:0px;word-spacing:0px;writing-mode:lr-tb;text-anchor:start;fill:#000000;fill-opacity:1;stroke:none;font-family:DejaVu Sans;-inkscape-font-specification:DejaVu Sans\" x=\"215.42831\" xml:space=\"preserve\" y=\"840.13342\"><tspan id=\"tspan141641\" sodipodi:role=\"line\" x=\"215.42831\" y=\"840.13342\">- log(\u03c7\u00b2)</tspan></text>\n",
        "      <rect height=\"23.614197\" id=\"rect141643\" ry=\"0\" style=\"color:#000000;fill:#ff0000;fill-opacity:0.54918033;fill-rule:nonzero;stroke:none;stroke-width:1;marker:none;visibility:visible;display:inline;overflow:visible;enable-background:accumulate\" width=\"67.59903\" x=\"129.14024\" y=\"824.46747\"/>\n",
        "      <text id=\"text141691\" sodipodi:linespacing=\"122%\" style=\"font-size:14px;font-style:normal;font-variant:normal;font-weight:normal;font-stretch:normal;text-align:end;line-height:122.00000286%;letter-spacing:0px;word-spacing:0px;writing-mode:lr-tb;text-anchor:end;fill:#000000;fill-opacity:1;stroke:none;font-family:DejaVu Sans;-inkscape-font-specification:DejaVu Sans\" x=\"204.80634\" xml:space=\"preserve\" y=\"820.6806\"><tspan id=\"tspan141693\" sodipodi:role=\"line\" x=\"204.80634\" y=\"820.6806\">-3</tspan></text>\n",
        "    </g>\n",
        "    <g id=\"g141778\" style=\"stroke-linecap:butt;stroke-linejoin:round\" transform=\"translate(336.51419,-16.576206)\">\n",
        "      <rect height=\"23.614197\" id=\"rect141695\" ry=\"0\" style=\"color:#000000;fill:#55d400;fill-opacity:0.54918033;fill-rule:nonzero;stroke:none;stroke-width:1;marker:none;visibility:visible;display:inline;overflow:visible;enable-background:accumulate\" width=\"98.634872\" x=\"196.74666\" y=\"874.46747\"/>\n",
        "      <text id=\"text141697\" sodipodi:linespacing=\"122%\" style=\"font-size:14px;font-style:normal;font-variant:normal;font-weight:normal;font-stretch:normal;text-align:start;line-height:122.00000286%;letter-spacing:0px;word-spacing:0px;writing-mode:lr-tb;text-anchor:start;fill:#000000;fill-opacity:1;stroke:none;font-family:DejaVu Sans;-inkscape-font-specification:DejaVu Sans\" x=\"215.42831\" xml:space=\"preserve\" y=\"891.56897\"><tspan id=\"tspan141707\" sodipodi:role=\"line\" x=\"215.42831\" y=\"891.56897\">\u0394\u03b8</tspan></text>\n",
        "      <rect height=\"23.614197\" id=\"rect141701\" ry=\"0\" style=\"color:#000000;fill:#ff0000;fill-opacity:0.54918033;fill-rule:nonzero;stroke:none;stroke-width:1;marker:none;visibility:visible;display:inline;overflow:visible;enable-background:accumulate\" width=\"67.59903\" x=\"129.14024\" y=\"874.46747\"/>\n",
        "      <text id=\"text141703\" sodipodi:linespacing=\"122%\" style=\"font-size:14px;font-style:normal;font-variant:normal;font-weight:normal;font-stretch:normal;text-align:end;line-height:122.00000286%;letter-spacing:0px;word-spacing:0px;writing-mode:lr-tb;text-anchor:end;fill:#000000;fill-opacity:1;stroke:none;font-family:DejaVu Sans;-inkscape-font-specification:DejaVu Sans\" x=\"204.80634\" xml:space=\"preserve\" y=\"870.6806\"><tspan id=\"tspan141709\" sodipodi:role=\"line\" x=\"204.80634\" y=\"870.6806\">60\u00b0</tspan></text>\n",
        "      <rect height=\"23.614197\" id=\"rect141711\" ry=\"0\" style=\"color:#000000;fill:#ff0000;fill-opacity:0.54918033;fill-rule:nonzero;stroke:none;stroke-width:1;marker:none;visibility:visible;display:inline;overflow:visible;enable-background:accumulate\" width=\"40.190205\" x=\"295.3248\" y=\"874.46747\"/>\n",
        "      <text id=\"text141713\" sodipodi:linespacing=\"122%\" style=\"font-size:14px;font-style:normal;font-variant:normal;font-weight:normal;font-stretch:normal;text-align:end;line-height:122.00000286%;letter-spacing:0px;word-spacing:0px;writing-mode:lr-tb;text-anchor:end;fill:#000000;fill-opacity:1;stroke:none;font-family:DejaVu Sans;-inkscape-font-specification:DejaVu Sans\" x=\"304.80634\" xml:space=\"preserve\" y=\"870.6806\"><tspan id=\"tspan141715\" sodipodi:role=\"line\" x=\"304.80634\" y=\"870.6806\">720\u00b0</tspan></text>\n",
        "    </g>\n",
        "    <g id=\"g141767\" style=\"stroke-linecap:butt;stroke-linejoin:round\" transform=\"translate(336.51419,-16.697772)\">\n",
        "      <rect height=\"23.614197\" id=\"rect141717\" ry=\"0\" style=\"color:#000000;fill:#55d400;fill-opacity:0.54918033;fill-rule:nonzero;stroke:none;stroke-width:1;marker:none;visibility:visible;display:inline;overflow:visible;enable-background:accumulate\" width=\"98.634872\" x=\"196.74666\" y=\"926.46747\"/>\n",
        "      <rect height=\"23.614197\" id=\"rect141723\" ry=\"0\" style=\"color:#000000;fill:#ff0000;fill-opacity:0.54918033;fill-rule:nonzero;stroke:none;stroke-width:1;marker:none;visibility:visible;display:inline;overflow:visible;enable-background:accumulate\" width=\"67.59903\" x=\"129.14024\" y=\"926.46747\"/>\n",
        "      <text id=\"text141725\" sodipodi:linespacing=\"122%\" style=\"font-size:14px;font-style:normal;font-variant:normal;font-weight:normal;font-stretch:normal;text-align:end;line-height:122.00000286%;letter-spacing:0px;word-spacing:0px;writing-mode:lr-tb;text-anchor:end;fill:#000000;fill-opacity:1;stroke:none;font-family:DejaVu Sans;-inkscape-font-specification:DejaVu Sans\" x=\"214.80634\" xml:space=\"preserve\" y=\"922.6806\"><tspan id=\"tspan141727\" sodipodi:role=\"line\" x=\"214.80634\" y=\"922.6806\">3 \u00b5m</tspan></text>\n",
        "      <rect height=\"23.614197\" id=\"rect141729\" ry=\"0\" style=\"color:#000000;fill:#ff0000;fill-opacity:0.54918033;fill-rule:nonzero;stroke:none;stroke-width:1;marker:none;visibility:visible;display:inline;overflow:visible;enable-background:accumulate\" width=\"40.190205\" x=\"295.3248\" y=\"926.46747\"/>\n",
        "      <text id=\"text141747\" sodipodi:linespacing=\"122%\" style=\"font-size:14px;font-style:normal;font-variant:normal;font-weight:normal;font-stretch:normal;text-align:end;line-height:122.00000286%;letter-spacing:0px;word-spacing:0px;writing-mode:lr-tb;text-anchor:end;fill:#000000;fill-opacity:1;stroke:none;font-family:DejaVu Sans;-inkscape-font-specification:DejaVu Sans\" x=\"260.02744\" xml:space=\"preserve\" y=\"942.26123\"><tspan id=\"tspan141749\" sodipodi:role=\"line\" x=\"260.02744\" y=\"942.26123\">radius</tspan></text>\n",
        "      <text id=\"text141751\" sodipodi:linespacing=\"122%\" style=\"font-size:14px;font-style:normal;font-variant:normal;font-weight:normal;font-stretch:normal;text-align:end;line-height:122.00000286%;letter-spacing:0px;word-spacing:0px;writing-mode:lr-tb;text-anchor:end;fill:#000000;fill-opacity:1;stroke:none;font-family:DejaVu Sans;-inkscape-font-specification:DejaVu Sans\" x=\"318.80634\" xml:space=\"preserve\" y=\"922.6806\"><tspan id=\"tspan141753\" sodipodi:role=\"line\" x=\"318.80634\" y=\"922.6806\">30 \u00b5m</tspan></text>\n",
        "    </g>\n",
        "    <text id=\"text142431\" sodipodi:linespacing=\"122%\" style=\"font-size:14px;font-style:normal;font-variant:normal;font-weight:normal;font-stretch:normal;text-align:start;line-height:122.00000286%;letter-spacing:0px;word-spacing:0px;writing-mode:lr-tb;text-anchor:start;fill:#000000;fill-opacity:1;stroke:none;font-family:DejaVu Sans;-inkscape-font-specification:DejaVu Sans\" x=\"264.55884\" xml:space=\"preserve\" y=\"760.97113\"><tspan id=\"tspan142433\" sodipodi:role=\"line\" x=\"264.55884\" y=\"760.97113\">ellipticity = b/a</tspan></text>\n",
        "    <text id=\"text142435\" sodipodi:linespacing=\"122%\" style=\"font-size:14px;font-style:normal;font-variant:normal;font-weight:normal;font-stretch:normal;text-align:end;line-height:122.00000286%;letter-spacing:0px;word-spacing:0px;writing-mode:lr-tb;text-anchor:end;fill:#000000;fill-opacity:1;stroke:none;font-family:DejaVu Sans;-inkscape-font-specification:DejaVu Sans\" x=\"426.83682\" xml:space=\"preserve\" y=\"795.63391\"><tspan id=\"tspan142437\" sodipodi:role=\"line\" x=\"426.83682\" y=\"795.63391\"/></text>\n",
        "    <text id=\"text142439\" sodipodi:linespacing=\"122%\" style=\"font-size:14px;font-style:normal;font-variant:normal;font-weight:normal;font-stretch:normal;text-align:start;line-height:122.00000286%;letter-spacing:0px;word-spacing:0px;writing-mode:lr-tb;text-anchor:start;fill:#000000;fill-opacity:1;stroke:none;font-family:DejaVu Sans;-inkscape-font-specification:DejaVu Sans\" x=\"264.05981\" xml:space=\"preserve\" y=\"802.91296\"><tspan id=\"tspan142441\" sodipodi:role=\"line\" x=\"264.05981\" y=\"802.91296\">radius = (b + a) / 2</tspan></text>\n",
        "    <g id=\"g142518\" style=\"stroke-linecap:butt;stroke-linejoin:round\" transform=\"matrix(1.7600222,0,0,1.7600222,-505.85034,-577.8401)\">\n",
        "      <use height=\"1\" id=\"use142455\" style=\"stroke:#000000;stroke-width:0.5;stroke-linecap:butt;stroke-linejoin:round\" transform=\"matrix(-0.91023203,0.85672501,-0.85672501,-0.91023203,720.12336,838.09872)\" width=\"1\" x=\"174.10249\" xlink:href=\"#md21b4ff0a3\" y=\"159.83852\"/>\n",
        "      <use height=\"1\" id=\"use142457\" style=\"stroke:#000000;stroke-width:0.5;stroke-linecap:butt;stroke-linejoin:round\" transform=\"matrix(-0.91023203,0.85672501,-0.85672501,-0.91023203,688.29606,823.04169)\" width=\"1\" x=\"179.96606\" xlink:href=\"#md21b4ff0a3\" y=\"156.47052\"/>\n",
        "      <path d=\"m 420.49579,433.5373 c 9.66117,-23.83073 34.55708,-34.2826 55.60656,-23.34491 21.04949,10.93769 30.28154,39.12306 20.62036,62.95379 -6.2656,15.45505 -19.35387,25.93606 -34.31258,27.47732\" id=\"path140733-6\" sodipodi:cx=\"458.60925\" sodipodi:cy=\"453.34174\" sodipodi:end=\"7.7632224\" sodipodi:open=\"true\" sodipodi:rx=\"41.936195\" sodipodi:ry=\"47.477169\" sodipodi:start=\"3.5718845\" sodipodi:type=\"arc\" style=\"color:#000000;fill:none;stroke:#ff0000;stroke-width:2;stroke-linecap:square;stroke-linejoin:round;stroke-miterlimit:4;stroke-opacity:1;stroke-dasharray:none;stroke-dashoffset:0;marker:none;visibility:visible;display:inline;overflow:visible;enable-background:accumulate\" transform=\"translate(-80.13594,344.33454)\"/>\n",
        "      <path d=\"m 419.00337,798.61643 -40.17902,0 0,-49.04971\" id=\"path141826\" inkscape:connector-curvature=\"0\" style=\"fill:none;stroke:#000000;stroke-width:1px;stroke-linecap:butt;stroke-linejoin:miter;stroke-opacity:1\"/>\n",
        "      <text id=\"text141828\" sodipodi:linespacing=\"122%\" style=\"font-size:14px;font-style:normal;font-variant:normal;font-weight:normal;font-stretch:normal;text-align:end;line-height:122.00000286%;letter-spacing:0px;word-spacing:0px;writing-mode:lr-tb;text-anchor:end;fill:#000000;fill-opacity:1;stroke:none;font-family:DejaVu Sans;-inkscape-font-specification:DejaVu Sans\" x=\"407.26273\" xml:space=\"preserve\" y=\"808.79163\"><tspan id=\"tspan141830\" sodipodi:role=\"line\" x=\"407.26273\" y=\"808.79163\">a</tspan></text>\n",
        "      <text id=\"text141832\" sodipodi:linespacing=\"122%\" style=\"font-size:14px;font-style:normal;font-variant:normal;font-weight:normal;font-stretch:normal;text-align:end;line-height:122.00000286%;letter-spacing:0px;word-spacing:0px;writing-mode:lr-tb;text-anchor:end;fill:#000000;fill-opacity:1;stroke:none;font-family:DejaVu Sans;-inkscape-font-specification:DejaVu Sans\" x=\"376.2153\" xml:space=\"preserve\" y=\"774.87433\"><tspan id=\"tspan141834\" sodipodi:role=\"line\" x=\"376.2153\" y=\"774.87433\">b</tspan></text>\n",
        "      <path d=\"m 339.80347,778.05856 38.92656,20.57019 2.5828,46.58273\" id=\"path141836\" inkscape:connector-curvature=\"0\" sodipodi:nodetypes=\"ccc\" style=\"fill:none;stroke:#b3b3b3;stroke-width:1px;stroke-linecap:butt;stroke-linejoin:miter;stroke-opacity:1\"/>\n",
        "      <path d=\"m 420.49579,433.5373 c 9.66117,-23.83073 34.55708,-34.2826 55.60656,-23.34491 21.04949,10.93769 30.28154,39.12306 20.62036,62.95379 -6.2656,15.45505 -19.35387,25.93606 -34.31258,27.47732\" id=\"path141838\" sodipodi:cx=\"458.60925\" sodipodi:cy=\"453.34174\" sodipodi:end=\"7.7632224\" sodipodi:open=\"true\" sodipodi:rx=\"41.936195\" sodipodi:ry=\"47.477169\" sodipodi:start=\"3.5718845\" sodipodi:type=\"arc\" style=\"color:#000000;fill:none;stroke:#000000;stroke-width:4.03286505;stroke-linecap:square;stroke-linejoin:round;stroke-miterlimit:4;stroke-opacity:1;stroke-dasharray:none;stroke-dashoffset:0;marker:none;marker-start:url(#Arrow1Mstart);visibility:visible;display:inline;overflow:visible;enable-background:accumulate\" transform=\"matrix(0.24796267,0,0,0.24796267,266.19658,685.18665)\"/>\n",
        "      <text id=\"text141697-0\" sodipodi:linespacing=\"122%\" style=\"font-size:14px;font-style:normal;font-variant:normal;font-weight:normal;font-stretch:normal;text-align:start;line-height:122.00000286%;letter-spacing:0px;word-spacing:0px;writing-mode:lr-tb;text-anchor:start;fill:#000000;fill-opacity:1;stroke:none;font-family:DejaVu Sans;-inkscape-font-specification:DejaVu Sans\" x=\"387.62259\" xml:space=\"preserve\" y=\"787.55585\"><tspan id=\"tspan141707-1\" sodipodi:role=\"line\" x=\"387.62259\" y=\"787.55585\">\u0394\u03b8</tspan></text>\n",
        "      <path d=\"m 408.77374,830.43345 15.22976,11.12666\" id=\"path142459\" inkscape:connector-curvature=\"0\" sodipodi:nodetypes=\"cc\" style=\"fill:none;stroke:#000000;stroke-width:1px;stroke-linecap:butt;stroke-linejoin:miter;stroke-opacity:1\"/>\n",
        "      <text id=\"text142461\" sodipodi:linespacing=\"122%\" style=\"font-size:14px;font-style:normal;font-variant:normal;font-weight:normal;font-stretch:normal;text-align:start;line-height:122.00000286%;letter-spacing:0px;word-spacing:0px;writing-mode:lr-tb;text-anchor:start;fill:#000000;fill-opacity:1;stroke:none;font-family:DejaVu Sans;-inkscape-font-specification:DejaVu Sans\" x=\"416.93042\" xml:space=\"preserve\" y=\"830.57159\"><tspan id=\"tspan142465\" sodipodi:role=\"line\" x=\"416.93042\" y=\"830.57159\">\u03b5<tspan id=\"tspan142473\" style=\"font-size:65.00091553%;baseline-shift:sub\">i</tspan></tspan></text>\n",
        "      <path d=\"m 389.78287,835.99041 2.51741,7.25245\" id=\"path142467\" inkscape:connector-curvature=\"0\" sodipodi:nodetypes=\"cc\" style=\"fill:none;stroke:#000000;stroke-width:1px;stroke-linecap:butt;stroke-linejoin:miter;stroke-opacity:1\"/>\n",
        "      <text id=\"text142469\" sodipodi:linespacing=\"122%\" style=\"font-size:14px;font-style:normal;font-variant:normal;font-weight:normal;font-stretch:normal;text-align:start;line-height:122.00000286%;letter-spacing:0px;word-spacing:0px;writing-mode:lr-tb;text-anchor:start;fill:#000000;fill-opacity:1;stroke:none;font-family:DejaVu Sans;-inkscape-font-specification:DejaVu Sans\" x=\"396.0582\" xml:space=\"preserve\" y=\"850.66113\"><tspan id=\"tspan142471\" sodipodi:role=\"line\" x=\"396.0582\" y=\"850.66113\">\u03b5<tspan id=\"tspan142475\" style=\"font-size:65.00091553%;baseline-shift:sub\">j</tspan></tspan></text>\n",
        "    </g>\n",
        "    <text id=\"text142477\" sodipodi:linespacing=\"122%\" style=\"font-size:14px;font-style:normal;font-variant:normal;font-weight:normal;font-stretch:normal;text-align:start;line-height:122.00000286%;letter-spacing:0px;word-spacing:0px;writing-mode:lr-tb;text-anchor:start;fill:#000000;fill-opacity:1;stroke:none;font-family:DejaVu Sans;-inkscape-font-specification:DejaVu Sans\" x=\"264.92798\" xml:space=\"preserve\" y=\"844.85486\"><tspan id=\"tspan142483\" sodipodi:role=\"line\" x=\"264.92798\" y=\"844.85486\">\u03c7\u00b2 = \u03a3\u03b5<tspan id=\"tspan3515\" style=\"font-size:14px;baseline-shift:sub\">k</tspan><tspan id=\"tspan3517\" style=\"font-size:14px;baseline-shift:super\">2</tspan></tspan></text>\n",
        "  </g>\n",
        "</svg>"
       ],
       "text": [
        "<IPython.core.display.SVG at 0x7f823e928b50>"
       ]
      }
     ],
     "prompt_number": 22
    },
    {
     "cell_type": "code",
     "collapsed": false,
     "input": [
      "ellipsis_cutoffs = ct.defaults['ellipsis_cutoffs']\n",
      "ct.ui.ipy_widgets.set_ellipsis_limits(ellipsis_cutoffs)"
     ],
     "language": "python",
     "metadata": {},
     "outputs": [],
     "prompt_number": 42
    },
    {
     "cell_type": "heading",
     "level": 3,
     "metadata": {},
     "source": [
      "Rotation events"
     ]
    },
    {
     "cell_type": "code",
     "collapsed": false,
     "input": [
      "%pdb"
     ],
     "language": "python",
     "metadata": {},
     "outputs": [
      {
       "output_type": "stream",
       "stream": "stdout",
       "text": [
        "Automatic pdb calling has been turned ON\n"
       ]
      }
     ],
     "prompt_number": 43
    },
    {
     "cell_type": "code",
     "collapsed": false,
     "input": [
      "\n",
      "cluster.detect_rotations(ellipsis_cutoffs)\n",
      "ellipsis_cutoffs"
     ],
     "language": "python",
     "metadata": {},
     "outputs": [
      {
       "metadata": {},
       "output_type": "pyout",
       "prompt_number": 44,
       "text": [
        "{'min_radius': 5.0,\n",
        " 'min_gof': 1.0,\n",
        " 'min_dtheta': 30.0,\n",
        " 'max_dtheta': 720.0,\n",
        " 'max_radius': 60.0,\n",
        " 'max_ellipticity': 3.0}"
       ]
      }
     ],
     "prompt_number": 44
    },
    {
     "cell_type": "code",
     "collapsed": false,
     "input": [
      "for c in cluster.ellipses[15].columns:\n",
      "    print(c, end=' | ')"
     ],
     "language": "python",
     "metadata": {},
     "outputs": [
      {
       "output_type": "stream",
       "stream": "stdout",
       "text": [
        "ellipticity | chi2 | r0_x | r0_y | r0_z | r1_x | r1_y | r1_z | a | b | omega | phi_x | phi_y | x0 | y0 | gof | log_radius | dtheta | good | size | "
       ]
      }
     ],
     "prompt_number": 35
    },
    {
     "cell_type": "code",
     "collapsed": false,
     "input": [
      "ell = cluster.ellipses[15]\n",
      "\n",
      "fig, axes = plt.subplots(2, 2, figsize=(8, 8))\n",
      "ax_ge, ax_ae, ax_gr, ax_ar = axes.ravel()\n",
      "\n",
      "ax_ge.scatter(ell.gof.values, ell.ellipticity.values)\n",
      "ax_ge.plot(ellipsis_cutoffs[]\n",
      "\n",
      "\n"
     ],
     "language": "python",
     "metadata": {},
     "outputs": [],
     "prompt_number": 38
    },
    {
     "cell_type": "code",
     "collapsed": false,
     "input": [
      "ax, total_rot, n_detected = ct.graphics.plot_rotation_events(cluster, ax=None,\n",
      "                                                             show_segments=True)"
     ],
     "language": "python",
     "metadata": {},
     "outputs": [],
     "prompt_number": 16
    },
    {
     "cell_type": "code",
     "collapsed": false,
     "input": [
      "axes, ax_3d = None, None\n",
      "colors = cluster.trajs.get_colors()\n",
      "coords = ['x', 'y', 'z']\n",
      "\n",
      "#for label in cluster.trajs.labels:\n",
      "axes, ax_3d = ct.graphics.show_4panel_ellipses(cluster, 1,\n",
      "                                               sizes,\n",
      "                                               ellipsis_cutoffs,\n",
      "                                               axes=axes, ax_3d=ax_3d)\n"
     ],
     "language": "python",
     "metadata": {},
     "outputs": [],
     "prompt_number": 22
    },
    {
     "cell_type": "code",
     "collapsed": false,
     "input": [
      "axes, ax_3d = None, None\n",
      "colors = cluster.trajs.get_colors()\n",
      "\n",
      "for label in cluster.trajs.labels:\n",
      "    segment = cluster.trajs.get_segments()[label]\n",
      "    scatter_kw = {'c':segment.t.astype(np.float),\n",
      "                  'cmap':'spectral',\n",
      "                  's':40,\n",
      "                  'alpha':0.8,\n",
      "                  'edgecolors':'none'}\n",
      "    line_kw = {'c':'gray',#tracker.label_colors[label],\n",
      "               'ls':'-',\n",
      "               'alpha':0.8, 'lw':0.75}\n",
      "    \n",
      "    coords=['x_r', 'y_r', 'z_r']\n",
      "\n",
      "    axes, ax_3d = draw.show_4panels(cluster.trajs, label,\n",
      "                                    axes=axes, ax_3d=ax_3d,\n",
      "                                    scatter_kw=scatter_kw,\n",
      "                                    line_kw=line_kw,\n",
      "                                    coords=coords)\n"
     ],
     "language": "python",
     "metadata": {},
     "outputs": [],
     "prompt_number": 25
    },
    {
     "cell_type": "code",
     "collapsed": false,
     "input": [],
     "language": "python",
     "metadata": {},
     "outputs": []
    }
   ],
   "metadata": {}
  }
 ]
}