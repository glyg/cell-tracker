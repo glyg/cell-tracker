{
 "metadata": {
  "name": "",
  "signature": "sha256:9b758d0966314c2b3edec2543d57239ae66337ce6b00765c1f6ed75db591066b"
 },
 "nbformat": 3,
 "nbformat_minor": 0,
 "worksheets": [
  {
   "cells": [
    {
     "cell_type": "heading",
     "level": 4,
     "metadata": {},
     "source": [
      "Initialize everything"
     ]
    },
    {
     "cell_type": "code",
     "collapsed": false,
     "input": [
      "%load_ext autoreload\n",
      "%autoreload 2\n",
      "%matplotlib\n",
      "\n",
      "%run nb_init.py"
     ],
     "language": "python",
     "metadata": {},
     "outputs": [
      {
       "output_type": "stream",
       "stream": "stdout",
       "text": [
        "Using matplotlib backend: Qt4Agg\n"
       ]
      }
     ],
     "prompt_number": 1
    },
    {
     "cell_type": "heading",
     "level": 2,
     "metadata": {},
     "source": [
      "Pick the directory and get the relevant data"
     ]
    },
    {
     "cell_type": "markdown",
     "metadata": {},
     "source": [
      "Here you can pick either a TIFF or a `.h5` file or an excel file"
     ]
    },
    {
     "cell_type": "code",
     "collapsed": false,
     "input": [
      "default_path = '/media/data/xiaobo'\n",
      "\n",
      "cluster = ct.ui.get_cluster(default_path)"
     ],
     "language": "python",
     "metadata": {},
     "outputs": [
      {
       "output_type": "stream",
       "stream": "stdout",
       "text": [
        "Choosen data path: /media/data/xiaobo/WT-IONOM-confocal_080613/dsRed/border_cell_dsRed-WTionomycin_080613-sample1__t000.h5\n"
       ]
      }
     ],
     "prompt_number": 2
    },
    {
     "cell_type": "heading",
     "level": 3,
     "metadata": {},
     "source": [
      "Run the analyses"
     ]
    },
    {
     "cell_type": "code",
     "collapsed": false,
     "input": [
      "### Computes the postition of the cluster center\n",
      "cluster.get_center(smooth=3)"
     ],
     "language": "python",
     "metadata": {},
     "outputs": [],
     "prompt_number": 4
    },
    {
     "cell_type": "code",
     "collapsed": false,
     "input": [
      "### Get the value of the angle w/r to the cluster center\n",
      "cluster.cumulative_angle()"
     ],
     "language": "python",
     "metadata": {},
     "outputs": [],
     "prompt_number": 8
    },
    {
     "cell_type": "code",
     "collapsed": false,
     "input": [
      "### Fits ellipses and detect rotations\n",
      "sizes = [8, 12, 16, 24, 28, 32]\n",
      "for size in sizes:\n",
      "    print(size)\n",
      "    cluster.compute_ellipticity(size)\n"
     ],
     "language": "python",
     "metadata": {},
     "outputs": [
      {
       "output_type": "stream",
       "stream": "stdout",
       "text": [
        "8\n",
        "12"
       ]
      },
      {
       "output_type": "stream",
       "stream": "stdout",
       "text": [
        "\n",
        "16"
       ]
      },
      {
       "output_type": "stream",
       "stream": "stdout",
       "text": [
        "\n",
        "24"
       ]
      },
      {
       "output_type": "stream",
       "stream": "stdout",
       "text": [
        "\n",
        "28"
       ]
      },
      {
       "output_type": "stream",
       "stream": "stdout",
       "text": [
        "\n",
        "32"
       ]
      },
      {
       "output_type": "stream",
       "stream": "stdout",
       "text": [
        "\n"
       ]
      }
     ],
     "prompt_number": 5
    },
    {
     "cell_type": "heading",
     "level": 3,
     "metadata": {},
     "source": [
      "Polar histogram"
     ]
    },
    {
     "cell_type": "code",
     "collapsed": false,
     "input": [
      "ax = ct.graphics.polar_histogram(cluster, ax=None, alpha=0.5)"
     ],
     "language": "python",
     "metadata": {},
     "outputs": [],
     "prompt_number": 9
    },
    {
     "cell_type": "heading",
     "level": 3,
     "metadata": {},
     "source": [
      "Detect rotations"
     ]
    },
    {
     "cell_type": "code",
     "collapsed": false,
     "input": [
      "ellipsis_cutoffs = {'min_dtheta': np.pi / 4,\n",
      "                    'max_dtheta': 2 * np.pi,\n",
      "                    'min_radius': 3,\n",
      "                    'max_radius': 30,\n",
      "                    'max_ellipticity': 3,\n",
      "                    'min_gof': -1}"
     ],
     "language": "python",
     "metadata": {},
     "outputs": [],
     "prompt_number": 26
    },
    {
     "cell_type": "heading",
     "level": 3,
     "metadata": {},
     "source": [
      "Rotation events"
     ]
    },
    {
     "cell_type": "code",
     "collapsed": false,
     "input": [
      "cluster.detect_rotations(ellipsis_cutoffs)\n",
      "ax, total_rot, n_detected = ct.graphics.plot_rotation_events(cluster, ax=None,\n",
      "                                                             show_segments=True)"
     ],
     "language": "python",
     "metadata": {},
     "outputs": [],
     "prompt_number": 71
    },
    {
     "cell_type": "code",
     "collapsed": false,
     "input": [
      "axes = draw.plot_stacked_coords(cluster.trajs, coords=['x_r', 'y_r', 'z_r'])"
     ],
     "language": "python",
     "metadata": {},
     "outputs": [],
     "prompt_number": 55
    },
    {
     "cell_type": "code",
     "collapsed": false,
     "input": [
      "for label, segment in cluster.trajs.iter_segments:\n",
      "    print(label, segment.shape)"
     ],
     "language": "python",
     "metadata": {},
     "outputs": [
      {
       "output_type": "stream",
       "stream": "stdout",
       "text": [
        "0 (61, 22)\n",
        "1 (5, 22)\n",
        "2 (57, 22)\n",
        "3 (42, 22)\n",
        "4 (6, 22)\n",
        "5 (40, 22)\n",
        "6 (38, 22)\n",
        "7 (6, 22)\n"
       ]
      }
     ],
     "prompt_number": 46
    },
    {
     "cell_type": "code",
     "collapsed": false,
     "input": [
      "axes, ax_3d = None, None\n",
      "colors = cluster.trajs.get_colors()\n",
      "coords = ['x', 'y', 'z']\n",
      "\n",
      "#for label in cluster.trajs.labels:\n",
      "axes, ax_3d = ct.graphics.show_4panel_ellipses(cluster, 3,\n",
      "                                               sizes,\n",
      "                                               ellipsis_cutoffs,\n",
      "                                               axes=axes, ax_3d=ax_3d)\n"
     ],
     "language": "python",
     "metadata": {},
     "outputs": [],
     "prompt_number": 72
    },
    {
     "cell_type": "code",
     "collapsed": false,
     "input": [
      "axes, ax_3d = None, None\n",
      "colors = cluster.trajs.get_colors()\n",
      "\n",
      "for label in [0, 2] : #cluster.trajs.labels:\n",
      "    segment = cluster.trajs.get_segments()[label]\n",
      "    scatter_kw = {'c':segment.t.astype(np.float),\n",
      "                  'cmap':'spectral',\n",
      "                  's':40,\n",
      "                  'alpha':0.8,\n",
      "                  'edgecolors':'none'}\n",
      "    line_kw = {'c':'gray',#tracker.label_colors[label],\n",
      "               'ls':'-',\n",
      "               'alpha':0.8, 'lw':0.75}\n",
      "    coords=['x_r', 'y_r', 'z_r']\n",
      "\n",
      "    axes, ax_3d = draw.show_4panels(cluster.trajs, label,\n",
      "                                    axes=axes, ax_3d=ax_3d,\n",
      "                                    scatter_kw=scatter_kw,\n",
      "                                    line_kw=line_kw,\n",
      "                                    coords=coords)\n"
     ],
     "language": "python",
     "metadata": {},
     "outputs": [],
     "prompt_number": 56
    },
    {
     "cell_type": "code",
     "collapsed": false,
     "input": [],
     "language": "python",
     "metadata": {},
     "outputs": []
    }
   ],
   "metadata": {}
  }
 ]
}